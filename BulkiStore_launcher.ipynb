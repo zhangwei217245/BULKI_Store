{
   "cells": [
      {
         "cell_type": "code",
         "execution_count": 1,
         "id": "4ccdd115-3cfb-40dc-8ea6-4b5a50d96067",
         "metadata": {
            "execution": {
               "iopub.execute_input": "2025-02-28T18:52:57.115491Z",
               "iopub.status.busy": "2025-02-28T18:52:57.115109Z",
               "iopub.status.idle": "2025-02-28T18:53:40.682974Z",
               "shell.execute_reply": "2025-02-28T18:53:40.682494Z",
               "shell.execute_reply.started": "2025-02-28T18:52:57.115454Z"
            }
         },
         "outputs": [
            {
               "name": "stdout",
               "output_type": "stream",
               "text": [
                  "[proxy:0@Mac.attlocal.net] HYDU_create_process (lib/utils/launch.c:73): execvp error on file target/debug/bulkistore-server (No such file or directory)\n",
                  "[proxy:0@Mac.attlocal.net] HYDU_create_process (lib/utils/launch.c:73): execvp error on file target/debug/bulkistore-server (No such file or directory)\n",
                  "[proxy:0@Mac.attlocal.net] HYDU_create_process (lib/utils/launch.c:73): execvp error on file target/debug/bulkistore-server (No such file or directory)\n",
                  "[proxy:0@Mac.attlocal.net] HYDU_create_process (lib/utils/launch.c:73): execvp error on file target/debug/bulkistore-server (No such file or directory)\n"
               ]
            }
         ],
         "source": [
            "!RUST_LOG=debug mpirun -np 4 target/debug/bulkistore-server"
         ]
      }
   ],
   "metadata": {
      "kernelspec": {
         "display_name": "Python (base)",
         "language": "python",
         "name": "base"
      },
      "language_info": {
         "codemirror_mode": {
            "name": "ipython",
            "version": 3
         },
         "file_extension": ".py",
         "mimetype": "text/x-python",
         "name": "python",
         "nbconvert_exporter": "python",
         "pygments_lexer": "ipython3",
         "version": "3.12.2"
      }
   },
   "nbformat": 4,
   "nbformat_minor": 5
}
