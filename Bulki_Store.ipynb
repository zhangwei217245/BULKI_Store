{
      "cells": [
            {
                  "cell_type": "markdown",
                  "id": "0affd900-afe5-4c0e-95a5-6bee49e10a28",
                  "metadata": {},
                  "source": [
                        "# BULKI_Store Demo"
                  ]
            },
            {
                  "cell_type": "markdown",
                  "id": "8018064e-9b27-4a40-88fd-c61c86dd232a",
                  "metadata": {},
                  "source": [
                        "## Starting Server"
                  ]
            },
            {
                  "cell_type": "code",
                  "execution_count": 1,
                  "id": "bb352f7a-d9a5-477b-9882-7b9cf31b301f",
                  "metadata": {
                        "execution": {
                              "iopub.execute_input": "2025-02-28T05:41:39.254010Z",
                              "iopub.status.busy": "2025-02-28T05:41:39.253811Z",
                              "iopub.status.idle": "2025-02-28T05:41:39.258481Z",
                              "shell.execute_reply": "2025-02-28T05:41:39.257538Z",
                              "shell.execute_reply.started": "2025-02-28T05:41:39.253987Z"
                        }
                  },
                  "outputs": [
                        {
                              "name": "stdout",
                              "output_type": "stream",
                              "text": [
                                    "Let's start\n"
                              ]
                        }
                  ],
                  "source": [
                        "print(\"Let's start\")"
                  ]
            },
            {
                  "cell_type": "code",
                  "execution_count": 2,
                  "id": "ad28327e-746d-47cf-9e47-e0865bf76b4e",
                  "metadata": {
                        "execution": {
                              "iopub.execute_input": "2025-02-28T05:41:39.261040Z",
                              "iopub.status.busy": "2025-02-28T05:41:39.260843Z",
                              "iopub.status.idle": "2025-02-28T05:41:39.265728Z",
                              "shell.execute_reply": "2025-02-28T05:41:39.265114Z",
                              "shell.execute_reply.started": "2025-02-28T05:41:39.261017Z"
                        }
                  },
                  "outputs": [],
                  "source": [
                        "# import subprocess\n",
                        "\n",
                        "# # Start the server as a background process\n",
                        "# server_process = subprocess.Popen(\n",
                        "#     ['/opt/homebrew/bin/mpirun', '-np', '4', 'target/debug/bulkistore-server'],\n",
                        "#     env={'RUST_LOG': 'debug'},\n",
                        "#     stdout=subprocess.PIPE,\n",
                        "#     stderr=subprocess.PIPE\n",
                        "# )\n",
                        "\n",
                        "# print(\"Server started with PID:\", server_process.pid)"
                  ]
            },
            {
                  "cell_type": "markdown",
                  "id": "02b86998-32fc-4342-ab51-07bcc276f28a",
                  "metadata": {},
                  "source": [
                        "## Creating Arrays"
                  ]
            },
            {
                  "cell_type": "code",
                  "execution_count": 22,
                  "id": "e1c65e4b-9eeb-4c4d-a85a-12c7f03a28a0",
                  "metadata": {
                        "execution": {
                              "iopub.execute_input": "2025-02-28T17:28:28.971028Z",
                              "iopub.status.busy": "2025-02-28T17:28:28.970655Z",
                              "iopub.status.idle": "2025-02-28T17:28:28.983982Z",
                              "shell.execute_reply": "2025-02-28T17:28:28.983587Z",
                              "shell.execute_reply.started": "2025-02-28T17:28:28.970995Z"
                        }
                  },
                  "outputs": [
                        {
                              "name": "stdout",
                              "output_type": "stream",
                              "text": [
                                    "5D array size = 759375 elements\n",
                                    "rd1.shape= (15, 15, 15, 15, 15)\n",
                                    "rd1 last 2 dim preview:\n",
                                    "[[[[[0.19421397 0.69789637 0.10966411 0.11385342 0.325672   0.72353511\n",
                                    "     0.89836467 0.91740844 0.72086002 0.68429284 0.9840494  0.08726599\n",
                                    "     0.86159451 0.05301107 0.88849715]\n",
                                    "    [0.04807389 0.67209275 0.46624541 0.85273968 0.25990564 0.63480477\n",
                                    "     0.4777737  0.36109853 0.9255911  0.97866321 0.44021564 0.42244463\n",
                                    "     0.17412648 0.81287561 0.90278257]]]]]\n",
                                    "rd2.shape= (15, 15, 15, 15, 15)\n",
                                    "rd2 last 2 dim preview:\n",
                                    "[[[[[0.22743205 0.7502629  0.93754821 0.38908088 0.97306404 0.06111973\n",
                                    "     0.17668346 0.10216342 0.51458001 0.422307   0.74601993 0.59682183\n",
                                    "     0.8778275  0.7657386  0.35193335]\n",
                                    "    [0.11514713 0.61462531 0.3142041  0.08678491 0.78210466 0.1935421\n",
                                    "     0.2457816  0.33052    0.90374434 0.59914413 0.08134098 0.31124651\n",
                                    "     0.37365959 0.68539548 0.85094749]]]]]\n",
                                    "arr3.shape= (15, 15, 15)\n",
                                    "arr3 last 2 dim preview:\n",
                                    "[[[0.49546214 0.01325358 0.73683745 0.85506341 0.61951003 0.43287758\n",
                                    "   0.24994253 0.22912937 0.82186045 0.36686383 0.87882654 0.68145035\n",
                                    "   0.97306554 0.75164362 0.4805344 ]\n",
                                    "  [0.47891597 0.3426265  0.14699575 0.50355502 0.89720199 0.9988928\n",
                                    "   0.34921653 0.17747392 0.9737688  0.18904177 0.08984914 0.20776832\n",
                                    "   0.85695836 0.78118013 0.84977618]]]\n"
                              ]
                        }
                  ],
                  "source": [
                        "import bkstore_client as bkc\n",
                        "import numpy as np\n",
                        "import time\n",
                        "from pprint import pprint\n",
                        "\n",
                        "\n",
                        "bkc.init()\n",
                        "dim_size = 15\n",
                        "\n",
                        "print(\"5D array size = {} elements\".format(dim_size**5))\n",
                        "\n",
                        "# dim_size = 10\n",
                        "rd1 = np.random.rand(dim_size, dim_size, dim_size, dim_size, dim_size)\n",
                        "rd2 = np.random.rand(dim_size, dim_size, dim_size, dim_size, dim_size)\n",
                        "\n",
                        "print(\"rd1.shape=\", rd1.shape)\n",
                        "print(\"rd1 last 2 dim preview:\")\n",
                        "print(rd1[0:1, 0:1, 0:1, 0:2, 0:])\n",
                        "\n",
                        "print(\"rd2.shape=\", rd2.shape)\n",
                        "print(\"rd2 last 2 dim preview:\")\n",
                        "print(rd2[0:1, 0:1, 0:1, 0:2, 0:])\n",
                        "\n",
                        "arr3 = np.random.rand(dim_size, dim_size, dim_size)\n",
                        "print(\"arr3.shape=\", arr3.shape)\n",
                        "print(\"arr3 last 2 dim preview:\")\n",
                        "print(arr3[0:1, 0:2, 0:])"
                  ]
            },
            {
                  "cell_type": "markdown",
                  "id": "9c99005b-814f-49d9-a353-cf13f41e7766",
                  "metadata": {},
                  "source": [
                        "## Client-Side NDArray Arithmetic Operation"
                  ]
            },
            {
                  "cell_type": "code",
                  "execution_count": 23,
                  "id": "e8f78089-b1d0-4221-9154-6290abe5bac1",
                  "metadata": {
                        "execution": {
                              "iopub.execute_input": "2025-02-28T17:30:08.380322Z",
                              "iopub.status.busy": "2025-02-28T17:30:08.379953Z",
                              "iopub.status.idle": "2025-02-28T17:30:08.418732Z",
                              "shell.execute_reply": "2025-02-28T17:30:08.418240Z",
                              "shell.execute_reply.started": "2025-02-28T17:30:08.380279Z"
                        }
                  },
                  "outputs": [
                        {
                              "name": "stdout",
                              "output_type": "stream",
                              "text": [
                                    "arr4.shape= (15, 15, 15, 15, 15)\n",
                                    "arr4 last 2 dim preview:\n",
                                    "[[[[[0.42164602 1.44815927 1.04721231 0.5029343  1.29873604 0.78465484\n",
                                    "     1.07504813 1.01957186 1.23544003 1.10659984 1.73006933 0.68408782\n",
                                    "     1.73942201 0.81874968 1.24043049]\n",
                                    "    [0.16322102 1.28671806 0.7804495  0.93952459 1.0420103  0.82834687\n",
                                    "     0.7235553  0.69161853 1.82933544 1.57780734 0.52155662 0.73369114\n",
                                    "     0.54778607 1.49827109 1.75373005]]]]]\n"
                              ]
                        }
                  ],
                  "source": [
                        "arr4 = bkc.polymorphic_add(rd1, rd2)\n",
                        "\n",
                        "print(\"arr4.shape=\", arr4.shape)\n",
                        "print(\"arr4 last 2 dim preview:\")\n",
                        "print(arr4[0:1, 0:1, 0:1, 0:2, 0:])"
                  ]
            },
            {
                  "cell_type": "markdown",
                  "id": "23e46f92-f17f-424f-a17a-541501d73ce4",
                  "metadata": {},
                  "source": [
                        "## Remote Array Slicing"
                  ]
            },
            {
                  "cell_type": "code",
                  "execution_count": 24,
                  "id": "4b65e224-b51a-453f-8f53-53f71b99670a",
                  "metadata": {
                        "execution": {
                              "iopub.execute_input": "2025-02-28T17:30:11.992171Z",
                              "iopub.status.busy": "2025-02-28T17:30:11.991774Z",
                              "iopub.status.idle": "2025-02-28T17:30:11.997090Z",
                              "shell.execute_reply": "2025-02-28T17:30:11.996558Z",
                              "shell.execute_reply.started": "2025-02-28T17:30:11.992138Z"
                        }
                  },
                  "outputs": [
                        {
                              "name": "stdout",
                              "output_type": "stream",
                              "text": [
                                    "arr5.shape= (1, 1, 1, 2, 5)\n",
                                    "arr5 last 2 dim preview:\n",
                                    "[[[[[1.10659984 1.01957186 0.78465484 0.5029343  1.44815927]\n",
                                    "    [1.57780734 0.69161853 0.82834687 0.93952459 1.28671806]]]]]\n"
                              ]
                        }
                  ],
                  "source": [
                        "arr5 = bkc.array_slicing(\n",
                        "    arr4, [slice(0, 1), slice(0, 1), slice(0, 1), slice(0, 2), slice(0, 10, -2)]\n",
                        ")\n",
                        "\n",
                        "print(\"arr5.shape=\", arr5.shape)\n",
                        "print(\"arr5 last 2 dim preview:\")\n",
                        "print(arr5[0:1, 0:1, 0:1, 0:2, 0:])"
                  ]
            },
            {
                  "cell_type": "markdown",
                  "id": "927e1606-6fe9-4ce5-bff7-d2abb03ab922",
                  "metadata": {},
                  "source": [
                        "## Remote Array Arithmetic Operation"
                  ]
            },
            {
                  "cell_type": "code",
                  "execution_count": 25,
                  "id": "90ce6f0b-cbd1-43ef-b84e-23e8716225af",
                  "metadata": {
                        "execution": {
                              "iopub.execute_input": "2025-02-28T17:30:26.198069Z",
                              "iopub.status.busy": "2025-02-28T17:30:26.197595Z",
                              "iopub.status.idle": "2025-02-28T17:30:26.209466Z",
                              "shell.execute_reply": "2025-02-28T17:30:26.209081Z",
                              "shell.execute_reply.started": "2025-02-28T17:30:26.198037Z"
                        }
                  },
                  "outputs": [
                        {
                              "name": "stdout",
                              "output_type": "stream",
                              "text": [
                                    "arr6.shape= (1, 1, 1, 2, 5)\n",
                                    "arr6:\n",
                                    "[[[[[2.21319968 2.03914371 1.56930968 1.0058686  2.89631853]\n",
                                    "    [3.15561468 1.38323706 1.65669373 1.87904918 2.57343611]]]]]\n"
                              ]
                        }
                  ],
                  "source": [
                        "arr6 = bkc.times_two(arr5)\n",
                        "\n",
                        "print(\"arr6.shape=\", arr6.shape)\n",
                        "print(\"arr6:\")\n",
                        "print(arr6)"
                  ]
            },
            {
                  "cell_type": "markdown",
                  "id": "10a687f2-e5f3-47fb-b8c0-a2f1a0bc3413",
                  "metadata": {},
                  "source": [
                        "## Creating Object with Multiple NDArrays\n",
                        "\n",
                        "1. You can attach a series of metadata attributes directly to the object you are creating\n",
                        "2. You can attach a series of NDArrays directly to the object you are creating along with the metadata attributes of these NDArrays.\n",
                        "3. Each of these NDArrays will become a sub-object of the main object you are creating."
                  ]
            },
            {
                  "cell_type": "code",
                  "execution_count": 14,
                  "id": "f5fe543f-9a9e-4688-96aa-1201d570ac7f",
                  "metadata": {
                        "execution": {
                              "iopub.execute_input": "2025-02-28T17:32:13.125162Z",
                              "iopub.status.busy": "2025-02-28T17:32:13.124843Z",
                              "iopub.status.idle": "2025-02-28T17:32:21.843102Z",
                              "shell.execute_reply": "2025-02-28T17:32:21.842802Z",
                              "shell.execute_reply.started": "2025-02-28T17:32:13.125135Z"
                        }
                  },
                  "outputs": [
                        {
                              "name": "stdout",
                              "output_type": "stream",
                              "text": [
                                    "[32118621127974698121572547276833259, 32118621127974845695525141248213483, 32118621127975177736918472315109867, 32118621127975417544591434834248171, 32118621127984087514306082618474987, 32118621127984290428490897718510059, 32118621127986633164988263126532587]\n"
                              ]
                        }
                  ],
                  "source": [
                        "# Create an 3D array\n",
                        "\n",
                        "name_id = str(np.random.rand(1)[0] * 1000000)[0:6]\n",
                        "\n",
                        "gnn_arr1 = np.random.rand(100000, 2)\n",
                        "gnn_arr2 = np.random.rand(1, 100000)\n",
                        "\n",
                        "obj_ids = bkc.create_objects(\n",
                        "    obj_name_key=\"name\",\n",
                        "    parent_id=None,\n",
                        "    metadata={\n",
                        "        \"name\": \"{}\".format(name_id),\n",
                        "        \"type\": \"container\",\n",
                        "        \"keys\": [\n",
                        "            \"{}/arr6\".format(name_id),\n",
                        "            \"{}/arr5\".format(name_id),\n",
                        "            \"{}/arr4\".format(name_id),\n",
                        "            \"{}/arr3\".format(name_id),\n",
                        "            \"{}/gnn_arr1\".format(name_id),\n",
                        "            \"{}/gnn_arr2\".format(name_id),\n",
                        "        ],\n",
                        "        \"ranges\": [(1, 100), (100, 200)],\n",
                        "        \"part_num\": 1,\n",
                        "        \"part_size\": 100,\n",
                        "    },\n",
                        "    data=arr3,\n",
                        "    array_meta_list=[\n",
                        "        {\n",
                        "            \"name\": \"{}/arr6\".format(name_id),\n",
                        "            \"type\": \"array\",\n",
                        "            \"shape\": arr6.shape,\n",
                        "            \"vcount\": 100,\n",
                        "            \"voffset\": 0,\n",
                        "            \"vdim\": 0,\n",
                        "        },\n",
                        "        {\n",
                        "            \"name\": \"{}/arr5\".format(name_id),\n",
                        "            \"type\": \"array\",\n",
                        "            \"shape\": arr6.shape,\n",
                        "            \"vcount\": 100,\n",
                        "            \"voffset\": 0,\n",
                        "            \"vdim\": 0,\n",
                        "        },\n",
                        "        {\n",
                        "            \"name\": \"{}/arr4\".format(name_id),\n",
                        "            \"type\": \"array\",\n",
                        "            \"shape\": arr4.shape,\n",
                        "            \"vcount\": 100,\n",
                        "            \"voffset\": 0,\n",
                        "            \"vdim\": 0,\n",
                        "        },\n",
                        "        {\n",
                        "            \"name\": \"{}/arr3\".format(name_id),\n",
                        "            \"type\": \"array\",\n",
                        "            \"shape\": arr3.shape,\n",
                        "            \"vcount\": 100,\n",
                        "            \"voffset\": 0,\n",
                        "            \"vdim\": 0,\n",
                        "        },\n",
                        "        {\n",
                        "            \"name\": \"{}/gnn_arr1\".format(name_id),\n",
                        "            \"type\": \"array\",\n",
                        "            \"shape\": gnn_arr1.shape,\n",
                        "            \"vcount\": 100,\n",
                        "            \"voffset\": 0,\n",
                        "            \"vdim\": 0,\n",
                        "        },\n",
                        "        {\n",
                        "            \"name\": \"{}/gnn_arr2\".format(name_id),\n",
                        "            \"type\": \"array\",\n",
                        "            \"shape\": gnn_arr2.shape,\n",
                        "            \"vcount\": 100,\n",
                        "            \"voffset\": 0,\n",
                        "            \"vdim\": 0,\n",
                        "        },\n",
                        "    ],\n",
                        "    array_data_list=[arr6, arr5, arr4, arr3, gnn_arr1, gnn_arr2],\n",
                        ")\n",
                        "print(obj_ids)"
                  ]
            },
            {
                  "cell_type": "code",
                  "execution_count": 27,
                  "id": "55bfc47e",
                  "metadata": {},
                  "outputs": [
                        {
                              "name": "stdout",
                              "output_type": "stream",
                              "text": [
                                    "[32118639584656936754091162049787809]\n"
                              ]
                        }
                  ],
                  "source": [
                        "name_id = str(np.random.rand(1)[0] * 1000000)[0:6]\n",
                        "\n",
                        "gnn_arr1 = np.random.rand(100000, 2)\n",
                        "gnn_arr2 = np.random.rand(1, 100000)\n",
                        "\n",
                        "obj_ids = bkc.create_objects(\n",
                        "    obj_name_key=\"name\",\n",
                        "    parent_id=None,\n",
                        "    metadata={\n",
                        "        \"name\": \"{}\".format(name_id),\n",
                        "        \"type\": \"container\",\n",
                        "        \"keys\": [\n",
                        "            \"{}/arr6\".format(name_id),\n",
                        "            \"{}/arr5\".format(name_id),\n",
                        "            \"{}/arr4\".format(name_id),\n",
                        "            \"{}/arr3\".format(name_id),\n",
                        "            \"{}/gnn_arr1\".format(name_id),\n",
                        "            \"{}/gnn_arr2\".format(name_id),\n",
                        "        ],\n",
                        "        \"ranges\": [(1, 100), (100, 200)],\n",
                        "        \"part_num\": 1,\n",
                        "        \"part_size\": 100,\n",
                        "    },\n",
                        "    data=arr3,\n",
                        ")\n",
                        "print(obj_ids)"
                  ]
            },
            {
                  "cell_type": "markdown",
                  "id": "9c85aad5-fc35-406a-9a76-d8635eecf9a3",
                  "metadata": {},
                  "source": [
                        "## Retrieve Metadata"
                  ]
            },
            {
                  "cell_type": "markdown",
                  "id": "16c77e70-32c0-472e-90c9-a44bd51d2f19",
                  "metadata": {},
                  "source": [
                        "### Retrieve a single metadata attributes from a single object\n",
                        "\n",
                        "\n",
                        "In HydraGNN, we need to retrieve a series of metadata attributes from a container. \n",
                        "\n",
                        "If every single metadata retrieval requires a single request, that would be too much overhead.\n",
                        "\n",
                        "MetaPS is a new metric we designed to calculate the number of metadata attributes we can retrieve from one object within a second.\n"
                  ]
            },
            {
                  "cell_type": "code",
                  "execution_count": 20,
                  "id": "d325e370-6cc5-4ab0-ba22-55591a8ed391",
                  "metadata": {
                        "execution": {
                              "iopub.execute_input": "2025-02-28T17:33:11.141541Z",
                              "iopub.status.busy": "2025-02-28T17:33:11.141143Z",
                              "iopub.status.idle": "2025-02-28T17:33:11.998396Z",
                              "shell.execute_reply": "2025-02-28T17:33:11.998045Z",
                              "shell.execute_reply.started": "2025-02-28T17:33:11.141506Z"
                        }
                  },
                  "outputs": [
                        {
                              "name": "stdout",
                              "output_type": "stream",
                              "text": [
                                    "{'obj_id': 32118626635353000372514221056818744, 'metadata': {}, 'sub_obj_metadata': None}\n",
                                    "{'obj_id': 32118626635353000372514221056818744, 'metadata': {}, 'sub_obj_metadata': None}\n",
                                    "{'obj_id': 32118626635353000372514221056818744, 'metadata': {}, 'sub_obj_metadata': None}\n",
                                    "{'obj_id': 32118626635353000372514221056818744, 'metadata': {'name': '224591'}, 'sub_obj_metadata': None}\n",
                                    "{'obj_id': 32118626635353000372514221056818744, 'metadata': {}, 'sub_obj_metadata': None}\n",
                                    "{'obj_id': 32118626635353000372514221056818744, 'metadata': {}, 'sub_obj_metadata': None}\n",
                                    "{'obj_id': 32118626635353000372514221056818744, 'metadata': {}, 'sub_obj_metadata': None}\n",
                                    "Single Metadata retrieval of single object : TPS = 1239.7427882732497 MetaPS: 1239.7413225136254\n"
                              ]
                        }
                  ],
                  "source": [
                        "meta_keys = [\"type\", \"keys\", \"ranges\", \"name\", \"part_num\", \"part_size\", \"title\"]\n",
                        "\n",
                        "start = time.time()\n",
                        "for i in range(1000):\n",
                        "    k = i % len(meta_keys)\n",
                        "    result = bkc.get_object_metadata(\n",
                        "        obj_ids[0],\n",
                        "        meta_keys=[meta_keys[k]],  # retreiving SINGLE!!!\n",
                        "    )\n",
                        "    if i < len(meta_keys):\n",
                        "        print(result)\n",
                        "\n",
                        "print(\n",
                        "    \"Single Metadata retrieval of single object : TPS = {} MetaPS: {}\".format(\n",
                        "        1000 / (time.time() - start), 1000 / (time.time() - start)\n",
                        "    )\n",
                        ")"
                  ]
            },
            {
                  "cell_type": "markdown",
                  "id": "69da6ac0-2c99-4151-96eb-3c45862756ff",
                  "metadata": {},
                  "source": [
                        "### Retrieving multiple metadata attributes from a single object\n",
                        "\n",
                        "Now we can combine the metadata retrieval of a single container into one single request. \n",
                        "\n",
                        "MetaPS is a new metric we designed to calculate the number of metadata attributes we can retrieve from one object within a second.\n",
                        "\n",
                        "Slight drop on TPS but MEGA IMPROVEMENT for MetaPS"
                  ]
            },
            {
                  "cell_type": "code",
                  "execution_count": 21,
                  "id": "b53c2db0-d736-4798-9b27-f01c2a6cb7c5",
                  "metadata": {
                        "execution": {
                              "iopub.execute_input": "2025-02-28T17:34:05.716855Z",
                              "iopub.status.busy": "2025-02-28T17:34:05.716532Z",
                              "iopub.status.idle": "2025-02-28T17:34:06.677678Z",
                              "shell.execute_reply": "2025-02-28T17:34:06.677208Z",
                              "shell.execute_reply.started": "2025-02-28T17:34:05.716829Z"
                        }
                  },
                  "outputs": [
                        {
                              "name": "stdout",
                              "output_type": "stream",
                              "text": [
                                    "{'metadata': {'name': '224591'},\n",
                                    " 'obj_id': 32118626635353000372514221056818744,\n",
                                    " 'sub_obj_metadata': None}\n",
                                    "\n",
                                    " Multiple Metadata retrieval of single object : TPS=1101.7876614504978, MetaPS: 6610.705130175272 \n"
                              ]
                        }
                  ],
                  "source": [
                        "meta_keys = [\"type\", \"keys\", \"ranges\", \"name\", \"part_num\", \"part_size\"]\n",
                        "\n",
                        "start = time.time()\n",
                        "for i in range(1000):\n",
                        "    result = bkc.get_object_metadata(\n",
                        "        obj_ids[0],\n",
                        "        meta_keys=meta_keys,  # retrieving MULTIPLE!!!\n",
                        "    )\n",
                        "pprint(result)\n",
                        "print(\n",
                        "    \"\\n Multiple Metadata retrieval of single object : TPS={}, MetaPS: {} \".format(\n",
                        "        1000 / (time.time() - start), 1000 * len(meta_keys) / (time.time() - start)\n",
                        "    )\n",
                        ")"
                  ]
            },
            {
                  "cell_type": "markdown",
                  "id": "57075ab8-80e7-4eca-8a15-d0fb94ea83ad",
                  "metadata": {},
                  "source": [
                        "### Retrieving single attributes from a single sub-object"
                  ]
            },
            {
                  "cell_type": "code",
                  "execution_count": 10,
                  "id": "8d111feb-792d-48a9-9c7b-9919d6322eb2",
                  "metadata": {
                        "execution": {
                              "iopub.execute_input": "2025-02-28T17:34:54.022362Z",
                              "iopub.status.busy": "2025-02-28T17:34:54.021993Z",
                              "iopub.status.idle": "2025-02-28T17:34:54.871747Z",
                              "shell.execute_reply": "2025-02-28T17:34:54.871383Z",
                              "shell.execute_reply.started": "2025-02-28T17:34:54.022301Z"
                        }
                  },
                  "outputs": [
                        {
                              "name": "stdout",
                              "output_type": "stream",
                              "text": [
                                    "{'obj_id': 32111518807538522445086984615500166, 'metadata': {'name': '980579/arr6'}, 'sub_obj_metadata': None}\n",
                                    "{'obj_id': 32111518807538522445086984615500166, 'metadata': {'type': 'array'}, 'sub_obj_metadata': None}\n",
                                    "{'obj_id': 32111518807538522445086984615500166, 'metadata': {'shape': [1, 1, 1, 2, 5]}, 'sub_obj_metadata': None}\n",
                                    "{'obj_id': 32111518807538522445086984615500166, 'metadata': {'vcount': 100}, 'sub_obj_metadata': None}\n",
                                    "{'obj_id': 32111518807538522445086984615500166, 'metadata': {'voffset': 0}, 'sub_obj_metadata': None}\n",
                                    "{'obj_id': 32111518807538522445086984615500166, 'metadata': {'vdim': 0}, 'sub_obj_metadata': None}\n",
                                    "Single Metadata retrieval of a single sub-object : TPS=1393.3865776168705, MetaPS: 1393.3847260357024\n"
                              ]
                        }
                  ],
                  "source": [
                        "meta_keys = [\"name\", \"type\", \"shape\", \"vcount\", \"voffset\", \"vdim\"]\n",
                        "\n",
                        "start = time.time()\n",
                        "for i in range(1000):\n",
                        "    k = i % len(meta_keys)\n",
                        "    result = bkc.get_object_metadata(\n",
                        "        obj_ids[1],\n",
                        "        meta_keys=[meta_keys[k]],  # retreiving SINGLE!!!\n",
                        "    )\n",
                        "    if i < len(meta_keys):\n",
                        "        print(result)\n",
                        "\n",
                        "print(\n",
                        "    \"Single Metadata retrieval of a single sub-object : TPS={}, MetaPS: {}\".format(\n",
                        "        1000 / (time.time() - start), 1000 / (time.time() - start)\n",
                        "    )\n",
                        ")"
                  ]
            },
            {
                  "cell_type": "markdown",
                  "id": "918cd7d4-7f43-4770-8e16-5e8926f354e6",
                  "metadata": {},
                  "source": [
                        "### Retrieving multiple attributes from single sub-objects"
                  ]
            },
            {
                  "cell_type": "code",
                  "execution_count": 11,
                  "id": "ada9cdc5-c928-4052-82d2-b74b4ef6ff55",
                  "metadata": {
                        "execution": {
                              "iopub.execute_input": "2025-02-28T17:35:00.569728Z",
                              "iopub.status.busy": "2025-02-28T17:35:00.569391Z",
                              "iopub.status.idle": "2025-02-28T17:35:01.476518Z",
                              "shell.execute_reply": "2025-02-28T17:35:01.476058Z",
                              "shell.execute_reply.started": "2025-02-28T17:35:00.569697Z"
                        }
                  },
                  "outputs": [
                        {
                              "name": "stdout",
                              "output_type": "stream",
                              "text": [
                                    "{'metadata': {'name': '980579/arr6',\n",
                                    "              'shape': [1, 1, 1, 2, 5],\n",
                                    "              'type': 'array',\n",
                                    "              'vcount': 100,\n",
                                    "              'vdim': 0,\n",
                                    "              'voffset': 0},\n",
                                    " 'obj_id': 32111518807538522445086984615500166,\n",
                                    " 'sub_obj_metadata': None}\n",
                                    "\n",
                                    " Multiple Metadata retrieval of a single sub-object : TPS=1227.9586564517904, MetaPS: 7367.741153510709\n"
                              ]
                        }
                  ],
                  "source": [
                        "meta_keys = [\"name\", \"type\", \"shape\", \"vcount\", \"voffset\", \"vdim\"]\n",
                        "\n",
                        "start = time.time()\n",
                        "for i in range(1000):\n",
                        "    result = bkc.get_object_metadata(\n",
                        "        obj_ids[1],\n",
                        "        meta_keys=meta_keys,  # retreiving SINGLE!!!\n",
                        "    )\n",
                        "\n",
                        "pprint(result)\n",
                        "print(\n",
                        "    \"\\n Multiple Metadata retrieval of a single sub-object : TPS={}, MetaPS: {}\".format(\n",
                        "        1000 / (time.time() - start), 1000 * len(meta_keys) / (time.time() - start)\n",
                        "    )\n",
                        ")"
                  ]
            },
            {
                  "cell_type": "markdown",
                  "id": "9650adfc-e1d8-4004-9ea1-82b88722888f",
                  "metadata": {},
                  "source": [
                        "### Retrieving multiple attributes from multiple sub-objects"
                  ]
            },
            {
                  "cell_type": "code",
                  "execution_count": 12,
                  "id": "c487bb76-44b8-48e4-a96e-6e7f1eccdfcf",
                  "metadata": {
                        "execution": {
                              "iopub.execute_input": "2025-02-28T17:35:48.879748Z",
                              "iopub.status.busy": "2025-02-28T17:35:48.879363Z",
                              "iopub.status.idle": "2025-02-28T17:35:50.123068Z",
                              "shell.execute_reply": "2025-02-28T17:35:50.122756Z",
                              "shell.execute_reply.started": "2025-02-28T17:35:48.879718Z"
                        }
                  },
                  "outputs": [
                        {
                              "name": "stdout",
                              "output_type": "stream",
                              "text": [
                                    "{'metadata': {},\n",
                                    " 'obj_id': 32111518807537600107883294842952070,\n",
                                    " 'sub_obj_metadata': [{'metadata': {'name': '980579/arr3',\n",
                                    "                                    'shape': [15, 15, 15],\n",
                                    "                                    'type': 'array',\n",
                                    "                                    'vcount': 100,\n",
                                    "                                    'vdim': 0,\n",
                                    "                                    'voffset': 0},\n",
                                    "                       'name': '980579/arr3',\n",
                                    "                       'obj_id': 32111518807549904086180476293749126},\n",
                                    "                      {'metadata': {'name': '980579/arr6',\n",
                                    "                                    'shape': [1, 1, 1, 2, 5],\n",
                                    "                                    'type': 'array',\n",
                                    "                                    'vcount': 100,\n",
                                    "                                    'vdim': 0,\n",
                                    "                                    'voffset': 0},\n",
                                    "                       'name': '980579/arr6',\n",
                                    "                       'obj_id': 32111518807538522445086984615500166},\n",
                                    "                      {'metadata': {'name': '980579/gnn_arr1',\n",
                                    "                                    'shape': [100000, 2],\n",
                                    "                                    'type': 'array',\n",
                                    "                                    'vcount': 100,\n",
                                    "                                    'vdim': 0,\n",
                                    "                                    'voffset': 0},\n",
                                    "                       'name': '980579/gnn_arr1',\n",
                                    "                       'obj_id': 32111518807550125447109365103335814},\n",
                                    "                      {'metadata': {'name': '980579/arr4',\n",
                                    "                                    'shape': [15, 15, 15, 15, 15],\n",
                                    "                                    'type': 'array',\n",
                                    "                                    'vcount': 100,\n",
                                    "                                    'vdim': 0,\n",
                                    "                                    'voffset': 0},\n",
                                    "                       'name': '980579/arr4',\n",
                                    "                       'obj_id': 32111518807538909826712541106018694},\n",
                                    "                      {'metadata': {'name': '980579/arr5',\n",
                                    "                                    'shape': [1, 1, 1, 2, 5],\n",
                                    "                                    'type': 'array',\n",
                                    "                                    'vcount': 100,\n",
                                    "                                    'vdim': 0,\n",
                                    "                                    'voffset': 0},\n",
                                    "                       'name': '980579/arr5',\n",
                                    "                       'obj_id': 32111518807538762252759947134638470},\n",
                                    "                      {'metadata': {'name': '980579/gnn_arr2',\n",
                                    "                                    'shape': [1, 100000],\n",
                                    "                                    'type': 'array',\n",
                                    "                                    'vcount': 100,\n",
                                    "                                    'vdim': 0,\n",
                                    "                                    'voffset': 0},\n",
                                    "                       'name': '980579/gnn_arr2',\n",
                                    "                       'obj_id': 32111518807552874011976352121493894}]}\n",
                                    "Multiple Metadata retrieval of a single sub-object : TPS=915.9806954790216, MetaPS: 16487.620112512668\n"
                              ]
                        }
                  ],
                  "source": [
                        "meta_keys = [\"name\", \"type\", \"shape\", \"vcount\", \"voffset\", \"vdim\"]\n",
                        "\n",
                        "start = time.time()\n",
                        "for i in range(1000):\n",
                        "    result = bkc.get_object_metadata(\n",
                        "        obj_ids[0],\n",
                        "        sub_meta_keys=meta_keys,  # retreiving MULTIPLE for every sub-object!!!\n",
                        "    )\n",
                        "\n",
                        "pprint(result)\n",
                        "print(\n",
                        "    \"Multiple Metadata retrieval of a single sub-object : TPS={}, MetaPS: {}\".format(\n",
                        "        1000 / (time.time() - start), 1000 * len(meta_keys) * 3 / (time.time() - start)\n",
                        "    )\n",
                        ")"
                  ]
            },
            {
                  "cell_type": "markdown",
                  "id": "75c83814-e126-4bfd-9adf-e014299ea3f5",
                  "metadata": {},
                  "source": [
                        "### Retrieving different set of attributes from multiple sub-objects"
                  ]
            },
            {
                  "cell_type": "code",
                  "execution_count": 13,
                  "id": "c460b192-f50f-41db-b293-11f505f07d94",
                  "metadata": {
                        "execution": {
                              "iopub.execute_input": "2025-02-28T18:49:37.465235Z",
                              "iopub.status.busy": "2025-02-28T18:49:37.464773Z",
                              "iopub.status.idle": "2025-02-28T18:49:38.297260Z",
                              "shell.execute_reply": "2025-02-28T18:49:38.296976Z",
                              "shell.execute_reply.started": "2025-02-28T18:49:37.465197Z"
                        }
                  },
                  "outputs": [
                        {
                              "name": "stdout",
                              "output_type": "stream",
                              "text": [
                                    "{'metadata': {},\n",
                                    " 'obj_id': 32111518807537600107883294842952070,\n",
                                    " 'sub_obj_metadata': [{'metadata': {'name': '980579/arr5',\n",
                                    "                                    'type': 'array',\n",
                                    "                                    'voffset': 0},\n",
                                    "                       'name': '980579/arr5',\n",
                                    "                       'obj_id': 32111518807538762252759947134638470},\n",
                                    "                      {'metadata': {'type': 'array', 'vcount': 100},\n",
                                    "                       'name': '980579/arr4',\n",
                                    "                       'obj_id': 32111518807538909826712541106018694}]}\n",
                                    "\n",
                                    " Multiple Metadata retrieval of a single sub-object : TPS=1190.0183029367263, MetaPS: 5950.064504011392\n"
                              ]
                        }
                  ],
                  "source": [
                        "# meta_keys=[\"name\",\n",
                        "#             \"type\",\n",
                        "#             \"shape\",\n",
                        "#             \"vcount\",\n",
                        "#             \"voffset\",\n",
                        "#             \"vdim\"]\n",
                        "\n",
                        "start = time.time()\n",
                        "for i in range(1000):\n",
                        "    result = bkc.get_object_metadata(\n",
                        "        obj_ids[0],\n",
                        "        sub_meta_keys={\n",
                        "            \"{}/arr5\".format(name_id): [\"name\", \"type\", \"voffset\"],\n",
                        "            \"{}/arr4\".format(name_id): [\"type\", \"vcount\"],\n",
                        "        },  # retrieving different set of metadata for different sub-objects\n",
                        "    )\n",
                        "\n",
                        "pprint(result)\n",
                        "print(\n",
                        "    \"\\n Multiple Metadata retrieval of a single sub-object : TPS={}, MetaPS: {}\".format(\n",
                        "        1000 / (time.time() - start), 1000 * 5 / (time.time() - start)\n",
                        "    )\n",
                        ")"
                  ]
            },
            {
                  "cell_type": "markdown",
                  "id": "baebe3e4-1d92-4b2b-95f7-138ebe60ef16",
                  "metadata": {},
                  "source": [
                        "### Retrieving array of a single object"
                  ]
            },
            {
                  "cell_type": "code",
                  "execution_count": 14,
                  "id": "86e6c89c-235f-4ac4-bc92-60262a7e4300",
                  "metadata": {
                        "execution": {
                              "iopub.execute_input": "2025-02-28T18:49:42.632784Z",
                              "iopub.status.busy": "2025-02-28T18:49:42.632169Z",
                              "iopub.status.idle": "2025-02-28T18:49:43.493597Z",
                              "shell.execute_reply": "2025-02-28T18:49:43.493244Z",
                              "shell.execute_reply.started": "2025-02-28T18:49:42.632744Z"
                        }
                  },
                  "outputs": [
                        {
                              "name": "stdout",
                              "output_type": "stream",
                              "text": [
                                    "{'array_slice': array([[[0.06581965, 0.14443375]]]), 'sub_obj_slices': []}\n",
                                    "\n",
                                    " retrieving array slice of a single 3D array, TPS=1127.922226874497, Sample/s = 187.98678504762702\n"
                              ]
                        }
                  ],
                  "source": [
                        "start = time.time()\n",
                        "for i in range(1000):\n",
                        "    result = bkc.get_object_data(\n",
                        "        obj_ids[0],\n",
                        "        region=[slice(0, 1), slice(0, 1), slice(0, 2, -1)],\n",
                        "    )\n",
                        "pprint(result)\n",
                        "print(\n",
                        "    \"\\n retrieving array slice of a single 3D array, TPS={}, Sample/s = {}\".format(\n",
                        "        1000 / (time.time() - start), (1000 / 6) / (time.time() - start)\n",
                        "    )\n",
                        ")"
                  ]
            },
            {
                  "cell_type": "markdown",
                  "id": "1a5018d9-e2c1-4662-ac5e-76eeb82543c7",
                  "metadata": {},
                  "source": [
                        "### Retrieving array slices of multiple sub-objects (Large subarray included)"
                  ]
            },
            {
                  "cell_type": "code",
                  "execution_count": 15,
                  "id": "047c806e-0851-4f76-8d50-e11516176639",
                  "metadata": {
                        "execution": {
                              "iopub.execute_input": "2025-02-28T18:51:31.199303Z",
                              "iopub.status.busy": "2025-02-28T18:51:31.198773Z",
                              "iopub.status.idle": "2025-02-28T18:51:31.223875Z",
                              "shell.execute_reply": "2025-02-28T18:51:31.223029Z",
                              "shell.execute_reply.started": "2025-02-28T18:51:31.199269Z"
                        }
                  },
                  "outputs": [
                        {
                              "name": "stdout",
                              "output_type": "stream",
                              "text": [
                                    "{'array_slice': array([[[0.06581965, 0.14443375],\n",
                                    "        [0.47286405, 0.54217128]]]),\n",
                                    " 'sub_obj_slices': [{'array': array([[[[[0.99800681, 1.50862712],\n",
                                    "          [0.72772797, 0.80912739]]]]]),\n",
                                    "                     'id': 32111518807538762252759947134638470,\n",
                                    "                     'name': '980579/arr5'},\n",
                                    "                    {'array': array([[[[[0.71853013, 0.5677142 ]]]],\n",
                                    "\n",
                                    "\n",
                                    "\n",
                                    "       [[[[0.85894364, 1.49865614]]]]]),\n",
                                    "                     'id': 32111518807538909826712541106018694,\n",
                                    "                     'name': '980579/arr4'},\n",
                                    "                    {'array': array([[[0.60643314, 0.86787323, 0.11887073, 0.32200975, 0.06581965],\n",
                                    "        [0.54241194, 0.61326484, 0.10442969, 0.08650344, 0.47286405]]]),\n",
                                    "                     'id': 32111518807549904086180476293749126,\n",
                                    "                     'name': '980579/arr3'},\n",
                                    "                    {'array': array([[[[[1.99601363, 3.01725424],\n",
                                    "          [1.45545594, 1.61825478]]]]]),\n",
                                    "                     'id': 32111518807538522445086984615500166,\n",
                                    "                     'name': '980579/arr6'}]}\n",
                                    "\n",
                                    " retrieving array slice of a single 3D array, TPS=304.0146670284039, Sample/s=456.02186832773873\n"
                              ]
                        }
                  ],
                  "source": [
                        "start = time.time()\n",
                        "for i in range(1000):\n",
                        "    result = bkc.get_object_data(\n",
                        "        obj_ids[0],\n",
                        "        region=[slice(0, 1), slice(0, 2), slice(0, 2, -1)],\n",
                        "        sub_obj_regions=[\n",
                        "            (\n",
                        "                \"{}/arr5\".format(name_id),\n",
                        "                [slice(0, 1), slice(0, 1), slice(0, 1), slice(0, 2), slice(0, 2, -1)],\n",
                        "            ),\n",
                        "            (\n",
                        "                \"{}/arr4\".format(name_id),\n",
                        "                [\n",
                        "                    slice(0, 2, -1),\n",
                        "                    slice(0, 1),\n",
                        "                    slice(0, 1),\n",
                        "                    slice(0, 1),\n",
                        "                    slice(0, 2, -1),\n",
                        "                ],\n",
                        "            ),\n",
                        "            (\n",
                        "                \"{}/arr3\".format(name_id),\n",
                        "                [slice(0, 1), slice(0, 2), slice(0, 10, -2)],\n",
                        "            ),\n",
                        "            (\n",
                        "                \"{}/arr6\".format(name_id),\n",
                        "                [slice(0, 1), slice(0, 1), slice(0, 1), slice(0, 2), slice(0, 2, -1)],\n",
                        "            ),\n",
                        "        ],\n",
                        "    )\n",
                        "pprint(result)\n",
                        "print(\n",
                        "    \"\\n retrieving array slice of a single 3D array, TPS={}, Sample/s={}\".format(\n",
                        "        1000 / (time.time() - start), (1000 / (4 / 6)) / (time.time() - start)\n",
                        "    )\n",
                        ")"
                  ]
            },
            {
                  "cell_type": "markdown",
                  "id": "6eb6151e-4cdf-433a-a19c-e557a7f5bb4e",
                  "metadata": {},
                  "source": [
                        "### Retrieving slices of multiple objects (only GNN arrays)"
                  ]
            },
            {
                  "cell_type": "code",
                  "execution_count": 19,
                  "id": "9b9d4283-2046-4a1a-aae4-7256368a7d7d",
                  "metadata": {
                        "execution": {
                              "iopub.execute_input": "2025-02-28T18:51:24.146014Z",
                              "iopub.status.busy": "2025-02-28T18:51:24.145462Z",
                              "iopub.status.idle": "2025-02-28T18:51:24.169561Z",
                              "shell.execute_reply": "2025-02-28T18:51:24.168797Z",
                              "shell.execute_reply.started": "2025-02-28T18:51:24.145975Z"
                        }
                  },
                  "outputs": [
                        {
                              "name": "stdout",
                              "output_type": "stream",
                              "text": [
                                    "{'array_slice': None,\n",
                                    " 'sub_obj_slices': [{'array': array([[0.57183413],\n",
                                    "       [0.67904876],\n",
                                    "       [0.0145189 ],\n",
                                    "       [0.29555364],\n",
                                    "       [0.87452062],\n",
                                    "       [0.44289371],\n",
                                    "       [0.80648223],\n",
                                    "       [0.91476421],\n",
                                    "       [0.61382033],\n",
                                    "       [0.18692719],\n",
                                    "       [0.47040631],\n",
                                    "       [0.76709546],\n",
                                    "       [0.74777212],\n",
                                    "       [0.12612044],\n",
                                    "       [0.60623725],\n",
                                    "       [0.73786713],\n",
                                    "       [0.20566671],\n",
                                    "       [0.96760431],\n",
                                    "       [0.71751814],\n",
                                    "       [0.27630647]]),\n",
                                    "                     'id': 32111518807550125447109365103335814,\n",
                                    "                     'name': '980579/gnn_arr1'},\n",
                                    "                    {'array': array([[0.18692719],\n",
                                    "       [0.61382033],\n",
                                    "       [0.91476421],\n",
                                    "       [0.80648223],\n",
                                    "       [0.44289371],\n",
                                    "       [0.87452062],\n",
                                    "       [0.29555364],\n",
                                    "       [0.0145189 ],\n",
                                    "       [0.67904876],\n",
                                    "       [0.57183413]]),\n",
                                    "                     'id': 32111518807550125447109365103335814,\n",
                                    "                     'name': '980579/gnn_arr1'},\n",
                                    "                    {'array': array([[0.60623725, 0.77174442],\n",
                                    "       [0.12612044, 0.05696776],\n",
                                    "       [0.74777212, 0.53034602],\n",
                                    "       [0.76709546, 0.57533297],\n",
                                    "       [0.47040631, 0.52452605],\n",
                                    "       [0.18692719, 0.81176669],\n",
                                    "       [0.61382033, 0.8754024 ],\n",
                                    "       [0.91476421, 0.50762617],\n",
                                    "       [0.80648223, 0.83453807],\n",
                                    "       [0.44289371, 0.54418601],\n",
                                    "       [0.87452062, 0.14258706],\n",
                                    "       [0.29555364, 0.59878355],\n",
                                    "       [0.0145189 , 0.44628073],\n",
                                    "       [0.67904876, 0.23194098],\n",
                                    "       [0.57183413, 0.45731457]]),\n",
                                    "                     'id': 32111518807550125447109365103335814,\n",
                                    "                     'name': '980579/gnn_arr1'},\n",
                                    "                    {'array': array([[0.22122565, 0.55861216, 0.68267676, 0.53099358, 0.82748063,\n",
                                    "        0.44868658, 0.5638577 , 0.23626365, 0.527278  , 0.77480861,\n",
                                    "        0.31592372, 0.83974219, 0.9181182 , 0.27343675, 0.66550927,\n",
                                    "        0.5531749 , 0.12398567, 0.43349474, 0.57283433, 0.01425309]]),\n",
                                    "                     'id': 32111518807552874011976352121493894,\n",
                                    "                     'name': '980579/gnn_arr2'},\n",
                                    "                    {'array': array([[0.22122565, 0.55861216, 0.68267676, 0.53099358, 0.82748063,\n",
                                    "        0.44868658, 0.5638577 , 0.23626365, 0.527278  , 0.77480861,\n",
                                    "        0.31592372, 0.83974219, 0.9181182 , 0.27343675, 0.66550927,\n",
                                    "        0.5531749 , 0.12398567, 0.43349474, 0.57283433, 0.01425309]]),\n",
                                    "                     'id': 32111518807552874011976352121493894,\n",
                                    "                     'name': '980579/gnn_arr2'},\n",
                                    "                    {'array': array([[0.22122565, 0.55861216, 0.68267676, 0.53099358, 0.82748063,\n",
                                    "        0.44868658, 0.5638577 , 0.23626365, 0.527278  , 0.77480861,\n",
                                    "        0.31592372, 0.83974219, 0.9181182 , 0.27343675, 0.66550927,\n",
                                    "        0.5531749 , 0.12398567, 0.43349474, 0.57283433, 0.01425309]]),\n",
                                    "                     'id': 32111518807552874011976352121493894,\n",
                                    "                     'name': '980579/gnn_arr2'}]}\n",
                                    "\n",
                                    " retrieving array slice of a single 3D array, TPS=275.4917473410142, Sample/s=275.4916749612507\n"
                              ]
                        }
                  ],
                  "source": [
                        "start = time.time()\n",
                        "for i in range(1000):\n",
                        "    result = bkc.get_object_data(\n",
                        "        obj_ids[0],\n",
                        "        region=None,\n",
                        "        sub_obj_regions=[\n",
                        "            (\n",
                        "                \"{}/gnn_arr1\".format(name_id),\n",
                        "                [slice(0, 20), slice(0, 1)],\n",
                        "            ),\n",
                        "            (\n",
                        "                \"{}/gnn_arr1\".format(name_id),\n",
                        "                [\n",
                        "                    slice(0, 10, -1),\n",
                        "                    slice(0, 1),\n",
                        "                ],\n",
                        "            ),\n",
                        "            (\n",
                        "                \"{}/gnn_arr1\".format(name_id),\n",
                        "                [\n",
                        "                    slice(0, 15, -1),\n",
                        "                    slice(0, 2),\n",
                        "                ],\n",
                        "            ),\n",
                        "            (\n",
                        "                \"{}/gnn_arr2\".format(name_id),\n",
                        "                [\n",
                        "                    slice(0, 1),\n",
                        "                    slice(0, 20, -1),\n",
                        "                ],\n",
                        "            ),\n",
                        "            (\n",
                        "                \"{}/gnn_arr2\".format(name_id),\n",
                        "                [\n",
                        "                    slice(0, 1),\n",
                        "                    slice(0, 20, -1),\n",
                        "                ],\n",
                        "            ),\n",
                        "            (\n",
                        "                \"{}/gnn_arr2\".format(name_id),\n",
                        "                [\n",
                        "                    slice(0, 1),\n",
                        "                    slice(0, 20, -1),\n",
                        "                ],\n",
                        "            ),\n",
                        "        ],\n",
                        "    )\n",
                        "pprint(result)\n",
                        "print(\n",
                        "    \"\\n retrieving array slice of a single 3D array, TPS={}, Sample/s={}\".format(\n",
                        "        1000 / (time.time() - start), (1000) / (time.time() - start)\n",
                        "    )\n",
                        ")"
                  ]
            },
            {
                  "cell_type": "code",
                  "execution_count": null,
                  "id": "8c55f852-6d95-4cb4-92e9-49440cb8e013",
                  "metadata": {},
                  "outputs": [],
                  "source": []
            },
            {
                  "cell_type": "markdown",
                  "id": "4a5b5176-c08f-497f-9069-f1a79bfa0925",
                  "metadata": {},
                  "source": [
                        "## Closing the Store"
                  ]
            },
            {
                  "cell_type": "code",
                  "execution_count": 17,
                  "id": "271fefa9-b496-4eef-84ab-d8c23ac94362",
                  "metadata": {
                        "execution": {
                              "iopub.execute_input": "2025-02-28T05:41:57.714524Z",
                              "iopub.status.busy": "2025-02-28T05:41:57.714414Z",
                              "iopub.status.idle": "2025-02-28T05:41:57.716271Z",
                              "shell.execute_reply": "2025-02-28T05:41:57.715950Z",
                              "shell.execute_reply.started": "2025-02-28T05:41:57.714510Z"
                        }
                  },
                  "outputs": [],
                  "source": [
                        "# server_process.terminate()\n",
                        "# server_process.wait()\n",
                        "# print(\"Server process terminated.\")"
                  ]
            },
            {
                  "cell_type": "code",
                  "execution_count": null,
                  "id": "b843f7a2-0403-41e4-bc38-1abbbac90df5",
                  "metadata": {},
                  "outputs": [],
                  "source": []
            }
      ],
      "metadata": {
            "kernelspec": {
                  "display_name": "Python (base)",
                  "language": "python",
                  "name": "base"
            },
            "language_info": {
                  "codemirror_mode": {
                        "name": "ipython",
                        "version": 3
                  },
                  "file_extension": ".py",
                  "mimetype": "text/x-python",
                  "name": "python",
                  "nbconvert_exporter": "python",
                  "pygments_lexer": "ipython3",
                  "version": "3.12.2"
            }
      },
      "nbformat": 4,
      "nbformat_minor": 5
}
