{
    "cells": [
        {
            "cell_type": "markdown",
            "id": "0affd900-afe5-4c0e-95a5-6bee49e10a28",
            "metadata": {},
            "source": [
                "# BULKI_Store Demo"
            ]
        },
        {
            "cell_type": "markdown",
            "id": "8018064e-9b27-4a40-88fd-c61c86dd232a",
            "metadata": {},
            "source": [
                "## Starting Server"
            ]
        },
        {
            "cell_type": "code",
            "execution_count": 70,
            "id": "bb352f7a-d9a5-477b-9882-7b9cf31b301f",
            "metadata": {
                "execution": {
                    "iopub.execute_input": "2025-02-28T05:41:39.254010Z",
                    "iopub.status.busy": "2025-02-28T05:41:39.253811Z",
                    "iopub.status.idle": "2025-02-28T05:41:39.258481Z",
                    "shell.execute_reply": "2025-02-28T05:41:39.257538Z",
                    "shell.execute_reply.started": "2025-02-28T05:41:39.253987Z"
                }
            },
            "outputs": [
                {
                    "name": "stdout",
                    "output_type": "stream",
                    "text": [
                        "env: RUST_LOG=debug\n",
                        "env: RUST_LOG=debug\n",
                        "Let's start\n"
                    ]
                }
            ],
            "source": [
                "%env RUST_LOG=debug\n",
                "print(\"Let's start\")"
            ]
        },
        {
            "cell_type": "code",
            "execution_count": 71,
            "id": "ad28327e-746d-47cf-9e47-e0865bf76b4e",
            "metadata": {
                "execution": {
                    "iopub.execute_input": "2025-02-28T05:41:39.261040Z",
                    "iopub.status.busy": "2025-02-28T05:41:39.260843Z",
                    "iopub.status.idle": "2025-02-28T05:41:39.265728Z",
                    "shell.execute_reply": "2025-02-28T05:41:39.265114Z",
                    "shell.execute_reply.started": "2025-02-28T05:41:39.261017Z"
                }
            },
            "outputs": [],
            "source": [
                "# import subprocess\n",
                "\n",
                "# # Start the server as a background process\n",
                "# server_process = subprocess.Popen(\n",
                "#     ['/opt/homebrew/bin/mpirun', '-np', '4', 'target/debug/bulkistore-server'],\n",
                "#     env={'RUST_LOG': 'debug'},\n",
                "#     stdout=subprocess.PIPE,\n",
                "#     stderr=subprocess.PIPE\n",
                "# )\n",
                "\n",
                "# print(\"Server started with PID:\", server_process.pid)"
            ]
        },
        {
            "cell_type": "markdown",
            "id": "02b86998-32fc-4342-ab51-07bcc276f28a",
            "metadata": {},
            "source": [
                "## Creating Arrays"
            ]
        },
        {
            "cell_type": "code",
            "execution_count": 1,
            "id": "e1c65e4b-9eeb-4c4d-a85a-12c7f03a28a0",
            "metadata": {
                "execution": {
                    "iopub.execute_input": "2025-02-28T17:28:28.971028Z",
                    "iopub.status.busy": "2025-02-28T17:28:28.970655Z",
                    "iopub.status.idle": "2025-02-28T17:28:28.983982Z",
                    "shell.execute_reply": "2025-02-28T17:28:28.983587Z",
                    "shell.execute_reply.started": "2025-02-28T17:28:28.970995Z"
                }
            },
            "outputs": [
                {
                    "name": "stdout",
                    "output_type": "stream",
                    "text": [
                        "5D array size = 759375 elements\n",
                        "rd1.shape= (15, 15, 15, 15, 15)\n",
                        "rd1 last 2 dim preview:\n",
                        "[[[[[0.52247269 0.77778029 0.15351166 0.89299104 0.1023923  0.52751194\n",
                        "     0.85338196 0.95815383 0.49929548 0.61646084 0.82078631 0.15420129\n",
                        "     0.89174536 0.14580323 0.91852354]\n",
                        "    [0.94034599 0.83270734 0.15984929 0.50767306 0.22507279 0.82199182\n",
                        "     0.38865491 0.10077313 0.56038047 0.00373694 0.96652496 0.91124554\n",
                        "     0.51997611 0.44493788 0.67523469]]]]]\n",
                        "rd2.shape= (15, 15, 15, 15, 15)\n",
                        "rd2 last 2 dim preview:\n",
                        "[[[[[0.99874613 0.53077038 0.02678497 0.04152164 0.64095635 0.3746379\n",
                        "     0.44449203 0.79953359 0.73165791 0.60451205 0.78808039 0.06174522\n",
                        "     0.9382103  0.54597625 0.97281119]\n",
                        "    [0.80957214 0.63637043 0.00824206 0.12996641 0.55501843 0.78909795\n",
                        "     0.56508667 0.68657011 0.35606286 0.7292414  0.76355382 0.97528064\n",
                        "     0.08803698 0.47605655 0.27814141]]]]]\n",
                        "arr3.shape= (15, 15, 15)\n",
                        "arr3 last 2 dim preview:\n",
                        "[[[0.99487847 0.05262452 0.85029812 0.15565602 0.14166324 0.16234166\n",
                        "   0.28400092 0.0232702  0.51866666 0.86156386 0.41332268 0.94148486\n",
                        "   0.17559675 0.97951168 0.76847292]\n",
                        "  [0.80914095 0.34973204 0.20746743 0.25062981 0.24565972 0.40359868\n",
                        "   0.5001859  0.99246459 0.32572316 0.99027278 0.53684056 0.16078258\n",
                        "   0.00591928 0.58701345 0.88444142]]]\n"
                    ]
                }
            ],
            "source": [
                "import bkstore_client as bkc\n",
                "import numpy as np\n",
                "import time\n",
                "from pprint import pprint\n",
                "\n",
                "\n",
                "bkc.init()\n",
                "dim_size = 15\n",
                "\n",
                "print(\"5D array size = {} elements\".format(dim_size**5))\n",
                "\n",
                "# dim_size = 10\n",
                "rd1 = np.random.rand(dim_size, dim_size, dim_size, dim_size, dim_size)\n",
                "rd2 = np.random.rand(dim_size, dim_size, dim_size, dim_size, dim_size)\n",
                "\n",
                "print(\"rd1.shape=\", rd1.shape)\n",
                "print(\"rd1 last 2 dim preview:\")\n",
                "print(rd1[0:1, 0:1, 0:1, 0:2, 0:])\n",
                "\n",
                "print(\"rd2.shape=\", rd2.shape)\n",
                "print(\"rd2 last 2 dim preview:\")\n",
                "print(rd2[0:1, 0:1, 0:1, 0:2, 0:])\n",
                "\n",
                "arr3 = np.random.rand(dim_size, dim_size, dim_size)\n",
                "print(\"arr3.shape=\", arr3.shape)\n",
                "print(\"arr3 last 2 dim preview:\")\n",
                "print(arr3[0:1, 0:2, 0:])"
            ]
        },
        {
            "cell_type": "markdown",
            "id": "9c99005b-814f-49d9-a353-cf13f41e7766",
            "metadata": {},
            "source": [
                "## Client-Side NDArray Arithmetic Operation"
            ]
        },
        {
            "cell_type": "code",
            "execution_count": 2,
            "id": "e8f78089-b1d0-4221-9154-6290abe5bac1",
            "metadata": {
                "execution": {
                    "iopub.execute_input": "2025-02-28T17:30:08.380322Z",
                    "iopub.status.busy": "2025-02-28T17:30:08.379953Z",
                    "iopub.status.idle": "2025-02-28T17:30:08.418732Z",
                    "shell.execute_reply": "2025-02-28T17:30:08.418240Z",
                    "shell.execute_reply.started": "2025-02-28T17:30:08.380279Z"
                }
            },
            "outputs": [
                {
                    "name": "stdout",
                    "output_type": "stream",
                    "text": [
                        "arr4.shape= (15, 15, 15, 15, 15)\n",
                        "arr4 last 2 dim preview:\n",
                        "[[[[[1.52121883 1.30855066 0.18029662 0.93451268 0.74334865 0.90214984\n",
                        "     1.29787399 1.75768742 1.2309534  1.22097289 1.60886669 0.21594651\n",
                        "     1.82995566 0.69177948 1.89133473]\n",
                        "    [1.74991813 1.46907776 0.16809135 0.63763947 0.78009122 1.61108977\n",
                        "     0.95374158 0.78734324 0.91644333 0.73297834 1.73007879 1.88652617\n",
                        "     0.60801309 0.92099444 0.95337609]]]]]\n"
                    ]
                }
            ],
            "source": [
                "arr4 = bkc.polymorphic_add(rd1, rd2)\n",
                "\n",
                "print(\"arr4.shape=\", arr4.shape)\n",
                "print(\"arr4 last 2 dim preview:\")\n",
                "print(arr4[0:1, 0:1, 0:1, 0:2, 0:])"
            ]
        },
        {
            "cell_type": "markdown",
            "id": "23e46f92-f17f-424f-a17a-541501d73ce4",
            "metadata": {},
            "source": [
                "## Remote Array Slicing"
            ]
        },
        {
            "cell_type": "code",
            "execution_count": 3,
            "id": "4b65e224-b51a-453f-8f53-53f71b99670a",
            "metadata": {
                "execution": {
                    "iopub.execute_input": "2025-02-28T17:30:11.992171Z",
                    "iopub.status.busy": "2025-02-28T17:30:11.991774Z",
                    "iopub.status.idle": "2025-02-28T17:30:11.997090Z",
                    "shell.execute_reply": "2025-02-28T17:30:11.996558Z",
                    "shell.execute_reply.started": "2025-02-28T17:30:11.992138Z"
                }
            },
            "outputs": [
                {
                    "name": "stdout",
                    "output_type": "stream",
                    "text": [
                        "arr5.shape= (1, 1, 1, 2, 5)\n",
                        "arr5 last 2 dim preview:\n",
                        "[[[[[1.22097289 1.75768742 0.90214984 0.93451268 1.30855066]\n",
                        "    [0.73297834 0.78734324 1.61108977 0.63763947 1.46907776]]]]]\n"
                    ]
                }
            ],
            "source": [
                "arr5 = bkc.array_slicing(\n",
                "    arr4, [slice(0, 1), slice(0, 1), slice(0, 1), slice(0, 2), slice(0, 10, -2)]\n",
                ")\n",
                "\n",
                "print(\"arr5.shape=\", arr5.shape)\n",
                "print(\"arr5 last 2 dim preview:\")\n",
                "print(arr5[0:1, 0:1, 0:1, 0:2, 0:])"
            ]
        },
        {
            "cell_type": "markdown",
            "id": "927e1606-6fe9-4ce5-bff7-d2abb03ab922",
            "metadata": {},
            "source": [
                "## Remote Array Arithmetic Operation"
            ]
        },
        {
            "cell_type": "code",
            "execution_count": 4,
            "id": "90ce6f0b-cbd1-43ef-b84e-23e8716225af",
            "metadata": {
                "execution": {
                    "iopub.execute_input": "2025-02-28T17:30:26.198069Z",
                    "iopub.status.busy": "2025-02-28T17:30:26.197595Z",
                    "iopub.status.idle": "2025-02-28T17:30:26.209466Z",
                    "shell.execute_reply": "2025-02-28T17:30:26.209081Z",
                    "shell.execute_reply.started": "2025-02-28T17:30:26.198037Z"
                }
            },
            "outputs": [
                {
                    "name": "stdout",
                    "output_type": "stream",
                    "text": [
                        "arr6.shape= (1, 1, 1, 2, 5)\n",
                        "arr6:\n",
                        "[[[[[2.44194578 3.51537485 1.80429968 1.86902536 2.61710132]\n",
                        "    [1.46595668 1.57468647 3.22217954 1.27527895 2.93815552]]]]]\n"
                    ]
                }
            ],
            "source": [
                "arr6 = bkc.times_two(arr5)\n",
                "\n",
                "print(\"arr6.shape=\", arr6.shape)\n",
                "print(\"arr6:\")\n",
                "print(arr6)"
            ]
        },
        {
            "cell_type": "markdown",
            "id": "10a687f2-e5f3-47fb-b8c0-a2f1a0bc3413",
            "metadata": {},
            "source": [
                "## Creating Object with Multiple NDArrays\n",
                "\n",
                "1. You can attach a series of metadata attributes directly to the object you are creating\n",
                "2. You can attach a series of NDArrays directly to the object you are creating along with the metadata attributes of these NDArrays.\n",
                "3. Each of these NDArrays will become a sub-object of the main object you are creating."
            ]
        },
        {
            "cell_type": "code",
            "execution_count": 5,
            "id": "f5fe543f-9a9e-4688-96aa-1201d570ac7f",
            "metadata": {
                "execution": {
                    "iopub.execute_input": "2025-02-28T17:32:13.125162Z",
                    "iopub.status.busy": "2025-02-28T17:32:13.124843Z",
                    "iopub.status.idle": "2025-02-28T17:32:21.843102Z",
                    "shell.execute_reply": "2025-02-28T17:32:21.842802Z",
                    "shell.execute_reply.started": "2025-02-28T17:32:13.125135Z"
                }
            },
            "outputs": [
                {
                    "name": "stdout",
                    "output_type": "stream",
                    "text": [
                        "[32126597793653240402443980249552359, 32126597793656929751258726454842855, 32126597793657261792652057521739239, 32126597793657483153580946331325927, 32126597793670488108152915860182503, 32126597793670746362569952088872423, 32126597793674214350455813779543527]\n"
                    ]
                }
            ],
            "source": [
                "# Create an 3D array\n",
                "\n",
                "name_id = str(np.random.rand(1)[0] * 1000000)[0:6]\n",
                "\n",
                "gnn_arr1 = np.random.rand(100000, 2)\n",
                "gnn_arr2 = np.random.rand(1, 100000)\n",
                "\n",
                "obj_ids = bkc.create_objects(\n",
                "    obj_name_key=\"name\",\n",
                "    parent_id=None,\n",
                "    metadata={\n",
                "        \"name\": f\"container{name_id}\",\n",
                "        \"type\": \"container\",\n",
                "        \"keys\": [\n",
                "            \"{}/arr6\".format(name_id),\n",
                "            \"{}/arr5\".format(name_id),\n",
                "            \"{}/arr4\".format(name_id),\n",
                "            \"{}/arr3\".format(name_id),\n",
                "            \"{}/gnn_arr1\".format(name_id),\n",
                "            \"{}/gnn_arr2\".format(name_id),\n",
                "        ],\n",
                "        \"ranges\": [(1, 100), (100, 200)],\n",
                "        \"part_num\": 1,\n",
                "        \"part_size\": 100,\n",
                "    },\n",
                "    data=arr3,\n",
                "    array_meta_list=[\n",
                "        {\n",
                "            \"name\": \"{}/arr6\".format(name_id),\n",
                "            \"type\": \"array\",\n",
                "            \"shape\": arr6.shape,\n",
                "            \"vcount\": 100,\n",
                "            \"voffset\": 0,\n",
                "            \"vdim\": 0,\n",
                "        },\n",
                "        {\n",
                "            \"name\": \"{}/arr5\".format(name_id),\n",
                "            \"type\": \"array\",\n",
                "            \"shape\": arr6.shape,\n",
                "            \"vcount\": 100,\n",
                "            \"voffset\": 0,\n",
                "            \"vdim\": 0,\n",
                "        },\n",
                "        {\n",
                "            \"name\": \"{}/arr4\".format(name_id),\n",
                "            \"type\": \"array\",\n",
                "            \"shape\": arr4.shape,\n",
                "            \"vcount\": 100,\n",
                "            \"voffset\": 0,\n",
                "            \"vdim\": 0,\n",
                "        },\n",
                "        {\n",
                "            \"name\": \"{}/arr3\".format(name_id),\n",
                "            \"type\": \"array\",\n",
                "            \"shape\": arr3.shape,\n",
                "            \"vcount\": 100,\n",
                "            \"voffset\": 0,\n",
                "            \"vdim\": 0,\n",
                "        },\n",
                "        {\n",
                "            \"name\": \"{}/gnn_arr1\".format(name_id),\n",
                "            \"type\": \"array\",\n",
                "            \"shape\": gnn_arr1.shape,\n",
                "            \"vcount\": 100,\n",
                "            \"voffset\": 0,\n",
                "            \"vdim\": 0,\n",
                "        },\n",
                "        {\n",
                "            \"name\": \"{}/gnn_arr2\".format(name_id),\n",
                "            \"type\": \"array\",\n",
                "            \"shape\": gnn_arr2.shape,\n",
                "            \"vcount\": 100,\n",
                "            \"voffset\": 0,\n",
                "            \"vdim\": 0,\n",
                "        },\n",
                "    ],\n",
                "    array_data_list=[arr6, arr5, arr4, arr3, gnn_arr1, gnn_arr2],\n",
                ")\n",
                "print(obj_ids)"
            ]
        },
        {
            "cell_type": "code",
            "execution_count": 6,
            "id": "55bfc47e",
            "metadata": {},
            "outputs": [
                {
                    "name": "stdout",
                    "output_type": "stream",
                    "text": [
                        "478702\n"
                    ]
                }
            ],
            "source": [
                "print(f\"{name_id}\")"
            ]
        },
        {
            "cell_type": "markdown",
            "id": "9c85aad5-fc35-406a-9a76-d8635eecf9a3",
            "metadata": {},
            "source": [
                "## Retrieve Metadata"
            ]
        },
        {
            "cell_type": "markdown",
            "id": "16c77e70-32c0-472e-90c9-a44bd51d2f19",
            "metadata": {},
            "source": [
                "### Retrieve a single metadata attributes from a single object\n",
                "\n",
                "\n",
                "In HydraGNN, we need to retrieve a series of metadata attributes from a container. \n",
                "\n",
                "If every single metadata retrieval requires a single request, that would be too much overhead.\n",
                "\n",
                "MetaPS is a new metric we designed to calculate the number of metadata attributes we can retrieve from one object within a second.\n"
            ]
        },
        {
            "cell_type": "code",
            "execution_count": 7,
            "id": "d325e370-6cc5-4ab0-ba22-55591a8ed391",
            "metadata": {
                "execution": {
                    "iopub.execute_input": "2025-02-28T17:33:11.141541Z",
                    "iopub.status.busy": "2025-02-28T17:33:11.141143Z",
                    "iopub.status.idle": "2025-02-28T17:33:11.998396Z",
                    "shell.execute_reply": "2025-02-28T17:33:11.998045Z",
                    "shell.execute_reply.started": "2025-02-28T17:33:11.141506Z"
                }
            },
            "outputs": [
                {
                    "name": "stdout",
                    "output_type": "stream",
                    "text": [
                        "{'obj_id': 32126597793653240402443980249552359, 'metadata': {'type': 'container'}, 'sub_obj_metadata': None}\n",
                        "{'obj_id': 32126597793653240402443980249552359, 'metadata': {'keys': ['478702/arr6', '478702/arr5', '478702/arr4', '478702/arr3', '478702/gnn_arr1', '478702/gnn_arr2']}, 'sub_obj_metadata': None}\n",
                        "{'obj_id': 32126597793653240402443980249552359, 'metadata': {'ranges': [(1, 100), (100, 200)]}, 'sub_obj_metadata': None}\n",
                        "{'obj_id': 32126597793653240402443980249552359, 'metadata': {'name': 'container478702'}, 'sub_obj_metadata': None}\n",
                        "{'obj_id': 32126597793653240402443980249552359, 'metadata': {'part_num': 1}, 'sub_obj_metadata': None}\n",
                        "{'obj_id': 32126597793653240402443980249552359, 'metadata': {'part_size': 100}, 'sub_obj_metadata': None}\n",
                        "{'obj_id': 32126597793653240402443980249552359, 'metadata': {}, 'sub_obj_metadata': None}\n",
                        "Single Metadata retrieval of single object : TPS = 1127.8291158880083 MetaPS: 1127.827902816999\n"
                    ]
                }
            ],
            "source": [
                "meta_keys = [\"type\", \"keys\", \"ranges\", \"name\", \"part_num\", \"part_size\", \"title\"]\n",
                "\n",
                "start = time.time()\n",
                "for i in range(1000):\n",
                "    k = i % len(meta_keys)\n",
                "    result = bkc.get_object_metadata(\n",
                "        obj_ids[0],\n",
                "        meta_keys=[meta_keys[k]],  # retreiving SINGLE!!!\n",
                "    )\n",
                "    if i < len(meta_keys):\n",
                "        print(result)\n",
                "\n",
                "print(\n",
                "    \"Single Metadata retrieval of single object : TPS = {} MetaPS: {}\".format(\n",
                "        1000 / (time.time() - start), 1000 / (time.time() - start)\n",
                "    )\n",
                ")"
            ]
        },
        {
            "cell_type": "code",
            "execution_count": 8,
            "id": "f92537e2",
            "metadata": {},
            "outputs": [
                {
                    "name": "stdout",
                    "output_type": "stream",
                    "text": [
                        "{'obj_id': 32126597793653240402443980249552359, 'metadata': {'type': 'container'}, 'sub_obj_metadata': None}\n",
                        "{'obj_id': 32126597793653240402443980249552359, 'metadata': {'keys': ['478702/arr6', '478702/arr5', '478702/arr4', '478702/arr3', '478702/gnn_arr1', '478702/gnn_arr2']}, 'sub_obj_metadata': None}\n",
                        "{'obj_id': 32126597793653240402443980249552359, 'metadata': {'ranges': [(1, 100), (100, 200)]}, 'sub_obj_metadata': None}\n",
                        "{'obj_id': 32126597793653240402443980249552359, 'metadata': {'name': 'container478702'}, 'sub_obj_metadata': None}\n",
                        "{'obj_id': 32126597793653240402443980249552359, 'metadata': {'part_num': 1}, 'sub_obj_metadata': None}\n",
                        "{'obj_id': 32126597793653240402443980249552359, 'metadata': {'part_size': 100}, 'sub_obj_metadata': None}\n",
                        "{'obj_id': 32126597793653240402443980249552359, 'metadata': {}, 'sub_obj_metadata': None}\n",
                        "Single Metadata retrieval of single object : TPS = 1106.8756963654146 MetaPS: 1106.8742358463503\n"
                    ]
                }
            ],
            "source": [
                "meta_keys = [\"type\", \"keys\", \"ranges\", \"name\", \"part_num\", \"part_size\", \"title\"]\n",
                "\n",
                "start = time.time()\n",
                "for i in range(1000):\n",
                "    k = i % len(meta_keys)\n",
                "    result = bkc.get_object_metadata(\n",
                "        obj_id=f\"container{name_id}\",\n",
                "        meta_keys=[meta_keys[k]],  # retreiving SINGLE!!!\n",
                "    )\n",
                "    if i < len(meta_keys):\n",
                "        print(result)\n",
                "\n",
                "print(\n",
                "    \"Single Metadata retrieval of single object : TPS = {} MetaPS: {}\".format(\n",
                "        1000 / (time.time() - start), 1000 / (time.time() - start)\n",
                "    )\n",
                ")"
            ]
        },
        {
            "cell_type": "markdown",
            "id": "69da6ac0-2c99-4151-96eb-3c45862756ff",
            "metadata": {},
            "source": [
                "### Retrieving multiple metadata attributes from a single object\n",
                "\n",
                "Now we can combine the metadata retrieval of a single container into one single request. \n",
                "\n",
                "MetaPS is a new metric we designed to calculate the number of metadata attributes we can retrieve from one object within a second.\n",
                "\n",
                "Slight drop on TPS but MEGA IMPROVEMENT for MetaPS"
            ]
        },
        {
            "cell_type": "code",
            "execution_count": 9,
            "id": "b53c2db0-d736-4798-9b27-f01c2a6cb7c5",
            "metadata": {
                "execution": {
                    "iopub.execute_input": "2025-02-28T17:34:05.716855Z",
                    "iopub.status.busy": "2025-02-28T17:34:05.716532Z",
                    "iopub.status.idle": "2025-02-28T17:34:06.677678Z",
                    "shell.execute_reply": "2025-02-28T17:34:06.677208Z",
                    "shell.execute_reply.started": "2025-02-28T17:34:05.716829Z"
                }
            },
            "outputs": [
                {
                    "name": "stdout",
                    "output_type": "stream",
                    "text": [
                        "{'metadata': {'keys': ['478702/arr6',\n",
                        "                       '478702/arr5',\n",
                        "                       '478702/arr4',\n",
                        "                       '478702/arr3',\n",
                        "                       '478702/gnn_arr1',\n",
                        "                       '478702/gnn_arr2'],\n",
                        "              'name': 'container478702',\n",
                        "              'part_num': 1,\n",
                        "              'part_size': 100,\n",
                        "              'ranges': [(1, 100), (100, 200)],\n",
                        "              'type': 'container'},\n",
                        " 'obj_id': 32126597793653240402443980249552359,\n",
                        " 'sub_obj_metadata': None}\n",
                        "\n",
                        " Multiple Metadata retrieval of single object : TPS=977.1980353079815, MetaPS: 5863.175917709007 \n"
                    ]
                }
            ],
            "source": [
                "meta_keys = [\"type\", \"keys\", \"ranges\", \"name\", \"part_num\", \"part_size\"]\n",
                "\n",
                "start = time.time()\n",
                "for i in range(1000):\n",
                "    result = bkc.get_object_metadata(\n",
                "        obj_ids[0],\n",
                "        meta_keys=meta_keys,  # retrieving MULTIPLE!!!\n",
                "    )\n",
                "pprint(result)\n",
                "print(\n",
                "    \"\\n Multiple Metadata retrieval of single object : TPS={}, MetaPS: {} \".format(\n",
                "        1000 / (time.time() - start), 1000 * len(meta_keys) / (time.time() - start)\n",
                "    )\n",
                ")"
            ]
        },
        {
            "cell_type": "markdown",
            "id": "57075ab8-80e7-4eca-8a15-d0fb94ea83ad",
            "metadata": {},
            "source": [
                "### Retrieving single attributes from a single sub-object"
            ]
        },
        {
            "cell_type": "code",
            "execution_count": 11,
            "id": "8d111feb-792d-48a9-9c7b-9919d6322eb2",
            "metadata": {
                "execution": {
                    "iopub.execute_input": "2025-02-28T17:34:54.022362Z",
                    "iopub.status.busy": "2025-02-28T17:34:54.021993Z",
                    "iopub.status.idle": "2025-02-28T17:34:54.871747Z",
                    "shell.execute_reply": "2025-02-28T17:34:54.871383Z",
                    "shell.execute_reply.started": "2025-02-28T17:34:54.022301Z"
                }
            },
            "outputs": [
                {
                    "name": "stdout",
                    "output_type": "stream",
                    "text": [
                        "{'obj_id': 32126597793656929751258726454842855, 'metadata': {'name': '478702/arr6'}, 'sub_obj_metadata': None}\n",
                        "{'obj_id': 32126597793656929751258726454842855, 'metadata': {'type': 'array'}, 'sub_obj_metadata': None}\n",
                        "{'obj_id': 32126597793656929751258726454842855, 'metadata': {'shape': [1, 1, 1, 2, 5]}, 'sub_obj_metadata': None}\n",
                        "{'obj_id': 32126597793656929751258726454842855, 'metadata': {'vcount': 100}, 'sub_obj_metadata': None}\n",
                        "{'obj_id': 32126597793656929751258726454842855, 'metadata': {'voffset': 0}, 'sub_obj_metadata': None}\n",
                        "{'obj_id': 32126597793656929751258726454842855, 'metadata': {'vdim': 0}, 'sub_obj_metadata': None}\n",
                        "Single Metadata retrieval of a single sub-object : TPS=1085.5489842415282, MetaPS: 1085.5475794612928\n"
                    ]
                }
            ],
            "source": [
                "meta_keys = [\"name\", \"type\", \"shape\", \"vcount\", \"voffset\", \"vdim\"]\n",
                "\n",
                "start = time.time()\n",
                "for i in range(1000):\n",
                "    k = i % len(meta_keys)\n",
                "    result = bkc.get_object_metadata(\n",
                "        obj_id=obj_ids[1],\n",
                "        meta_keys=[meta_keys[k]],  # retreiving SINGLE!!!\n",
                "    )\n",
                "    if i < len(meta_keys):\n",
                "        print(result)\n",
                "\n",
                "print(\n",
                "    \"Single Metadata retrieval of a single sub-object : TPS={}, MetaPS: {}\".format(\n",
                "        1000 / (time.time() - start), 1000 / (time.time() - start)\n",
                "    )\n",
                ")"
            ]
        },
        {
            "cell_type": "markdown",
            "id": "918cd7d4-7f43-4770-8e16-5e8926f354e6",
            "metadata": {},
            "source": [
                "### Retrieving multiple attributes from single sub-objects"
            ]
        },
        {
            "cell_type": "code",
            "execution_count": 12,
            "id": "ada9cdc5-c928-4052-82d2-b74b4ef6ff55",
            "metadata": {
                "execution": {
                    "iopub.execute_input": "2025-02-28T17:35:00.569728Z",
                    "iopub.status.busy": "2025-02-28T17:35:00.569391Z",
                    "iopub.status.idle": "2025-02-28T17:35:01.476518Z",
                    "shell.execute_reply": "2025-02-28T17:35:01.476058Z",
                    "shell.execute_reply.started": "2025-02-28T17:35:00.569697Z"
                }
            },
            "outputs": [
                {
                    "name": "stdout",
                    "output_type": "stream",
                    "text": [
                        "{'metadata': {'name': '478702/arr6',\n",
                        "              'shape': [1, 1, 1, 2, 5],\n",
                        "              'type': 'array',\n",
                        "              'vcount': 100,\n",
                        "              'vdim': 0,\n",
                        "              'voffset': 0},\n",
                        " 'obj_id': 32126597793656929751258726454842855,\n",
                        " 'sub_obj_metadata': None}\n",
                        "\n",
                        " Multiple Metadata retrieval of a single sub-object : TPS=1019.2867939751247, MetaPS: 6115.708874085408\n"
                    ]
                }
            ],
            "source": [
                "meta_keys = [\"name\", \"type\", \"shape\", \"vcount\", \"voffset\", \"vdim\"]\n",
                "\n",
                "start = time.time()\n",
                "for i in range(1000):\n",
                "    result = bkc.get_object_metadata(\n",
                "        obj_ids[1],\n",
                "        meta_keys=meta_keys,  # retreiving SINGLE!!!\n",
                "    )\n",
                "\n",
                "pprint(result)\n",
                "print(\n",
                "    \"\\n Multiple Metadata retrieval of a single sub-object : TPS={}, MetaPS: {}\".format(\n",
                "        1000 / (time.time() - start), 1000 * len(meta_keys) / (time.time() - start)\n",
                "    )\n",
                ")"
            ]
        },
        {
            "cell_type": "markdown",
            "id": "9650adfc-e1d8-4004-9ea1-82b88722888f",
            "metadata": {},
            "source": [
                "### Retrieving multiple attributes from multiple sub-objects"
            ]
        },
        {
            "cell_type": "code",
            "execution_count": 13,
            "id": "c487bb76-44b8-48e4-a96e-6e7f1eccdfcf",
            "metadata": {
                "execution": {
                    "iopub.execute_input": "2025-02-28T17:35:48.879748Z",
                    "iopub.status.busy": "2025-02-28T17:35:48.879363Z",
                    "iopub.status.idle": "2025-02-28T17:35:50.123068Z",
                    "shell.execute_reply": "2025-02-28T17:35:50.122756Z",
                    "shell.execute_reply.started": "2025-02-28T17:35:48.879718Z"
                }
            },
            "outputs": [
                {
                    "name": "stdout",
                    "output_type": "stream",
                    "text": [
                        "{'metadata': {},\n",
                        " 'obj_id': 32126597793653240402443980249552359,\n",
                        " 'sub_obj_metadata': [{'metadata': {'name': '478702/arr5',\n",
                        "                                    'shape': [1, 1, 1, 2, 5],\n",
                        "                                    'type': 'array',\n",
                        "                                    'vcount': 100,\n",
                        "                                    'vdim': 0,\n",
                        "                                    'voffset': 0},\n",
                        "                       'name': '478702/arr5',\n",
                        "                       'obj_id': 32126597793657261792652057521739239},\n",
                        "                      {'metadata': {'name': '478702/arr4',\n",
                        "                                    'shape': [15, 15, 15, 15, 15],\n",
                        "                                    'type': 'array',\n",
                        "                                    'vcount': 100,\n",
                        "                                    'vdim': 0,\n",
                        "                                    'voffset': 0},\n",
                        "                       'name': '478702/arr4',\n",
                        "                       'obj_id': 32126597793657483153580946331325927},\n",
                        "                      {'metadata': {'name': '478702/gnn_arr2',\n",
                        "                                    'shape': [1, 100000],\n",
                        "                                    'type': 'array',\n",
                        "                                    'vcount': 100,\n",
                        "                                    'vdim': 0,\n",
                        "                                    'voffset': 0},\n",
                        "                       'name': '478702/gnn_arr2',\n",
                        "                       'obj_id': 32126597793674214350455813779543527},\n",
                        "                      {'metadata': {'name': '478702/arr6',\n",
                        "                                    'shape': [1, 1, 1, 2, 5],\n",
                        "                                    'type': 'array',\n",
                        "                                    'vcount': 100,\n",
                        "                                    'vdim': 0,\n",
                        "                                    'voffset': 0},\n",
                        "                       'name': '478702/arr6',\n",
                        "                       'obj_id': 32126597793656929751258726454842855},\n",
                        "                      {'metadata': {'name': '478702/gnn_arr1',\n",
                        "                                    'shape': [100000, 2],\n",
                        "                                    'type': 'array',\n",
                        "                                    'vcount': 100,\n",
                        "                                    'vdim': 0,\n",
                        "                                    'voffset': 0},\n",
                        "                       'name': '478702/gnn_arr1',\n",
                        "                       'obj_id': 32126597793670746362569952088872423},\n",
                        "                      {'metadata': {'name': '478702/arr3',\n",
                        "                                    'shape': [15, 15, 15],\n",
                        "                                    'type': 'array',\n",
                        "                                    'vcount': 100,\n",
                        "                                    'vdim': 0,\n",
                        "                                    'voffset': 0},\n",
                        "                       'name': '478702/arr3',\n",
                        "                       'obj_id': 32126597793670488108152915860182503}]}\n",
                        "Multiple Metadata retrieval of a single sub-object : TPS=764.1597521051585, MetaPS: 13754.865513903538\n"
                    ]
                }
            ],
            "source": [
                "meta_keys = [\"name\", \"type\", \"shape\", \"vcount\", \"voffset\", \"vdim\"]\n",
                "\n",
                "start = time.time()\n",
                "for i in range(1000):\n",
                "    result = bkc.get_object_metadata(\n",
                "        obj_ids[0],\n",
                "        sub_meta_keys=meta_keys,  # retreiving MULTIPLE for every sub-object!!!\n",
                "    )\n",
                "\n",
                "pprint(result)\n",
                "print(\n",
                "    \"Multiple Metadata retrieval of a single sub-object : TPS={}, MetaPS: {}\".format(\n",
                "        1000 / (time.time() - start), 1000 * len(meta_keys) * 3 / (time.time() - start)\n",
                "    )\n",
                ")"
            ]
        },
        {
            "cell_type": "markdown",
            "id": "75c83814-e126-4bfd-9adf-e014299ea3f5",
            "metadata": {},
            "source": [
                "### Retrieving different set of attributes from multiple sub-objects"
            ]
        },
        {
            "cell_type": "code",
            "execution_count": 14,
            "id": "c460b192-f50f-41db-b293-11f505f07d94",
            "metadata": {
                "execution": {
                    "iopub.execute_input": "2025-02-28T18:49:37.465235Z",
                    "iopub.status.busy": "2025-02-28T18:49:37.464773Z",
                    "iopub.status.idle": "2025-02-28T18:49:38.297260Z",
                    "shell.execute_reply": "2025-02-28T18:49:38.296976Z",
                    "shell.execute_reply.started": "2025-02-28T18:49:37.465197Z"
                }
            },
            "outputs": [
                {
                    "name": "stdout",
                    "output_type": "stream",
                    "text": [
                        "{'metadata': {},\n",
                        " 'obj_id': 32126597793653240402443980249552359,\n",
                        " 'sub_obj_metadata': [{'metadata': {'name': '478702/arr5',\n",
                        "                                    'type': 'array',\n",
                        "                                    'voffset': 0},\n",
                        "                       'name': '478702/arr5',\n",
                        "                       'obj_id': 32126597793657261792652057521739239},\n",
                        "                      {'metadata': {'type': 'array', 'vcount': 100},\n",
                        "                       'name': '478702/arr4',\n",
                        "                       'obj_id': 32126597793657483153580946331325927}]}\n",
                        "\n",
                        " Multiple Metadata retrieval of a single sub-object : TPS=934.9972134911612, MetaPS: 4674.981898854724\n"
                    ]
                }
            ],
            "source": [
                "# meta_keys=[\"name\",\n",
                "#             \"type\",\n",
                "#             \"shape\",\n",
                "#             \"vcount\",\n",
                "#             \"voffset\",\n",
                "#             \"vdim\"]\n",
                "\n",
                "start = time.time()\n",
                "for i in range(1000):\n",
                "    result = bkc.get_object_metadata(\n",
                "        obj_ids[0],\n",
                "        sub_meta_keys={\n",
                "            \"{}/arr5\".format(name_id): [\"name\", \"type\", \"voffset\"],\n",
                "            \"{}/arr4\".format(name_id): [\"type\", \"vcount\"],\n",
                "        },  # retrieving different set of metadata for different sub-objects\n",
                "    )\n",
                "\n",
                "pprint(result)\n",
                "print(\n",
                "    \"\\n Multiple Metadata retrieval of a single sub-object : TPS={}, MetaPS: {}\".format(\n",
                "        1000 / (time.time() - start), 1000 * 5 / (time.time() - start)\n",
                "    )\n",
                ")"
            ]
        },
        {
            "cell_type": "markdown",
            "id": "baebe3e4-1d92-4b2b-95f7-138ebe60ef16",
            "metadata": {},
            "source": [
                "### Retrieving array of a single object"
            ]
        },
        {
            "cell_type": "code",
            "execution_count": 15,
            "id": "86e6c89c-235f-4ac4-bc92-60262a7e4300",
            "metadata": {
                "execution": {
                    "iopub.execute_input": "2025-02-28T18:49:42.632784Z",
                    "iopub.status.busy": "2025-02-28T18:49:42.632169Z",
                    "iopub.status.idle": "2025-02-28T18:49:43.493597Z",
                    "shell.execute_reply": "2025-02-28T18:49:43.493244Z",
                    "shell.execute_reply.started": "2025-02-28T18:49:42.632744Z"
                }
            },
            "outputs": [
                {
                    "name": "stdout",
                    "output_type": "stream",
                    "text": [
                        "{'array_slice': array([[[0.05262452, 0.99487847]]]), 'sub_obj_slices': []}\n",
                        "\n",
                        " retrieving array slice of a single 3D array, TPS=1021.222056602864, Sample/s = 170.2033031331613\n"
                    ]
                }
            ],
            "source": [
                "start = time.time()\n",
                "for i in range(1000):\n",
                "    result = bkc.get_object_data(\n",
                "        obj_ids[0],\n",
                "        region=[slice(0, 1), slice(0, 1), slice(0, 2, -1)],\n",
                "    )\n",
                "pprint(result)\n",
                "print(\n",
                "    \"\\n retrieving array slice of a single 3D array, TPS={}, Sample/s = {}\".format(\n",
                "        1000 / (time.time() - start), (1000 / 6) / (time.time() - start)\n",
                "    )\n",
                ")"
            ]
        },
        {
            "cell_type": "code",
            "execution_count": 16,
            "id": "898c8bf4",
            "metadata": {},
            "outputs": [
                {
                    "name": "stdout",
                    "output_type": "stream",
                    "text": [
                        "{'array_slice': array([[[0.73453096, 0.49581507, 0.49099952, 0.60325526, 0.98618851,\n",
                        "         0.22849824, 0.5369206 , 0.28975978, 0.70019963, 0.80884148,\n",
                        "         0.75349571, 0.41469711, 0.71519392, 0.42129945, 0.10149537],\n",
                        "        [0.26944786, 0.10163012, 0.86232499, 0.52206205, 0.51166273,\n",
                        "         0.67984511, 0.78207069, 0.03079485, 0.3524176 , 0.46469743,\n",
                        "         0.05586642, 0.13796977, 0.99987251, 0.0182884 , 0.87519502],\n",
                        "        [0.45098876, 0.76757477, 0.61886736, 0.58086595, 0.86339937,\n",
                        "         0.81208596, 0.00588362, 0.47605789, 0.64390782, 0.10896188,\n",
                        "         0.28704601, 0.17008067, 0.20378963, 0.05398073, 0.40485594],\n",
                        "        [0.24175825, 0.72900987, 0.63238041, 0.22752917, 0.92276958,\n",
                        "         0.36885422, 0.50844638, 0.08893148, 0.39682884, 0.68685677,\n",
                        "         0.75789392, 0.71933951, 0.25980483, 0.18086439, 0.26584329],\n",
                        "        [0.95620973, 0.51787195, 0.10877435, 0.01425939, 0.80520905,\n",
                        "         0.15861455, 0.8612252 , 0.9625342 , 0.54989099, 0.87276975,\n",
                        "         0.05302235, 0.83546413, 0.81241022, 0.19367678, 0.04211337],\n",
                        "        [0.59560204, 0.58227267, 0.49549798, 0.81448333, 0.98132538,\n",
                        "         0.04005215, 0.01697697, 0.5495235 , 0.8632165 , 0.93843039,\n",
                        "         0.33985622, 0.49734955, 0.45637068, 0.49416558, 0.28594497],\n",
                        "        [0.25358749, 0.37507683, 0.55673722, 0.01669918, 0.53129833,\n",
                        "         0.03421897, 0.514501  , 0.52365063, 0.25603789, 0.77831847,\n",
                        "         0.12572873, 0.1341061 , 0.02959049, 0.93887163, 0.53264924],\n",
                        "        [0.5322991 , 0.98165396, 0.72352764, 0.22475867, 0.10288081,\n",
                        "         0.28009456, 0.68743692, 0.79923291, 0.60441767, 0.67006324,\n",
                        "         0.76904702, 0.44399461, 0.8136542 , 0.2175638 , 0.02838085],\n",
                        "        [0.5396904 , 0.21064258, 0.87159189, 0.0432584 , 0.93434992,\n",
                        "         0.20416461, 0.3069332 , 0.1379543 , 0.40737715, 0.2494179 ,\n",
                        "         0.74790402, 0.35449573, 0.34483289, 0.23765095, 0.0095143 ],\n",
                        "        [0.64091651, 0.40667761, 0.8254338 , 0.14705619, 0.91615279,\n",
                        "         0.65383596, 0.19097018, 0.83461923, 0.60278275, 0.3429625 ,\n",
                        "         0.05731815, 0.28321036, 0.64266005, 0.92040751, 0.99066396],\n",
                        "        [0.74535373, 0.57716875, 0.62149228, 0.7781615 , 0.62623815,\n",
                        "         0.80739938, 0.61859078, 0.75384602, 0.94560931, 0.21691261,\n",
                        "         0.10026593, 0.31846668, 0.26626462, 0.08648333, 0.41170302],\n",
                        "        [0.72846569, 0.392282  , 0.47562082, 0.85920048, 0.86562848,\n",
                        "         0.26975278, 0.47080996, 0.05277273, 0.8992399 , 0.40840106,\n",
                        "         0.26166454, 0.35071128, 0.96518525, 0.46780989, 0.44435894],\n",
                        "        [0.70147024, 0.27092946, 0.00760812, 0.07815426, 0.13745553,\n",
                        "         0.49870407, 0.46976562, 0.46578028, 0.09591263, 0.43978882,\n",
                        "         0.45072499, 0.52778488, 0.72900174, 0.23494985, 0.5544626 ],\n",
                        "        [0.37342369, 0.78627646, 0.4957999 , 0.976239  , 0.5980495 ,\n",
                        "         0.27233829, 0.53613818, 0.39459674, 0.07235837, 0.28213725,\n",
                        "         0.65954601, 0.27695829, 0.84773872, 0.20724494, 0.46591323],\n",
                        "        [0.37018361, 0.09973954, 0.03079271, 0.0129848 , 0.45715112,\n",
                        "         0.56921779, 0.17343329, 0.51652587, 0.99434911, 0.88133034,\n",
                        "         0.82774917, 0.37657583, 0.60068872, 0.62043996, 0.88429871]],\n",
                        "\n",
                        "       [[0.34658308, 0.15682947, 0.88033295, 0.65825176, 0.99192648,\n",
                        "         0.91247369, 0.74737752, 0.64740583, 0.37063796, 0.77493494,\n",
                        "         0.21227367, 0.61998548, 0.13592593, 0.83754969, 0.25980899],\n",
                        "        [0.20918496, 0.41526145, 0.41315152, 0.82587457, 0.42690387,\n",
                        "         0.77292348, 0.40782638, 0.53901271, 0.66772604, 0.05749702,\n",
                        "         0.8046024 , 0.11844194, 0.14506981, 0.050497  , 0.18315919],\n",
                        "        [0.51328945, 0.70451418, 0.02469986, 0.81964248, 0.23170066,\n",
                        "         0.02034451, 0.28844171, 0.86844011, 0.08290012, 0.61420647,\n",
                        "         0.78776849, 0.86763355, 0.48391658, 0.35163334, 0.2152665 ],\n",
                        "        [0.42089752, 0.28793408, 0.88955065, 0.50653305, 0.9366645 ,\n",
                        "         0.56522081, 0.95521149, 0.36399357, 0.48772776, 0.10275376,\n",
                        "         0.94972621, 0.40092722, 0.15000299, 0.77807287, 0.12569529],\n",
                        "        [0.81354351, 0.35680817, 0.30993051, 0.59755376, 0.43020722,\n",
                        "         0.38100061, 0.49271227, 0.31679543, 0.55861103, 0.8077    ,\n",
                        "         0.12375832, 0.86481166, 0.37784532, 0.72086244, 0.08725373],\n",
                        "        [0.85619253, 0.51090789, 0.81491378, 0.33528249, 0.14987383,\n",
                        "         0.90070064, 0.86298473, 0.85726145, 0.73169425, 0.90256731,\n",
                        "         0.27675739, 0.13904498, 0.60262593, 0.95692128, 0.64485665],\n",
                        "        [0.33568136, 0.745741  , 0.50431605, 0.85812782, 0.53839667,\n",
                        "         0.29632915, 0.45438157, 0.33452523, 0.54899423, 0.36543144,\n",
                        "         0.67289377, 0.3091225 , 0.87286126, 0.25401531, 0.63763186],\n",
                        "        [0.60926101, 0.19988696, 0.56084088, 0.99775579, 0.90837311,\n",
                        "         0.25223552, 0.23477967, 0.90576666, 0.76839113, 0.33262704,\n",
                        "         0.50917067, 0.3284517 , 0.73800145, 0.38569758, 0.7317095 ],\n",
                        "        [0.4802477 , 0.53648039, 0.19547376, 0.09595808, 0.79470634,\n",
                        "         0.53536298, 0.27605108, 0.54867137, 0.63391285, 0.54538391,\n",
                        "         0.41334836, 0.60991575, 0.82241198, 0.80459671, 0.54978054],\n",
                        "        [0.91643903, 0.92768281, 0.78803989, 0.1142879 , 0.27163868,\n",
                        "         0.07585991, 0.29388928, 0.08831901, 0.74308613, 0.14244886,\n",
                        "         0.36260594, 0.00697981, 0.72186357, 0.97398079, 0.33869745],\n",
                        "        [0.47177974, 0.88864566, 0.48024689, 0.00644056, 0.42348766,\n",
                        "         0.33027281, 0.38174972, 0.22608625, 0.14956938, 0.74607571,\n",
                        "         0.70982367, 0.50541797, 0.95123088, 0.08697196, 0.42883635],\n",
                        "        [0.4710168 , 0.78923426, 0.94775055, 0.7482804 , 0.21649757,\n",
                        "         0.12832707, 0.04878625, 0.14742816, 0.50367359, 0.72316144,\n",
                        "         0.50098268, 0.98782421, 0.70908335, 0.47433481, 0.87984539],\n",
                        "        [0.1812451 , 0.58693225, 0.16169263, 0.32380334, 0.46722999,\n",
                        "         0.11329496, 0.73373435, 0.47226289, 0.905349  , 0.58997164,\n",
                        "         0.41279226, 0.69317714, 0.02228885, 0.05135958, 0.28429805],\n",
                        "        [0.68818693, 0.16517362, 0.25206125, 0.45224306, 0.61279885,\n",
                        "         0.44442198, 0.47019243, 0.65715794, 0.62543859, 0.13489471,\n",
                        "         0.7377852 , 0.97313318, 0.34904621, 0.33176797, 0.68787902],\n",
                        "        [0.12287161, 0.51940739, 0.99589042, 0.80382837, 0.56058833,\n",
                        "         0.49960584, 0.565581  , 0.21494536, 0.43860618, 0.30991487,\n",
                        "         0.24544449, 0.24887721, 0.20292404, 0.91066975, 0.44466072]]]),\n",
                        " 'sub_obj_slices': []}\n",
                        "\n",
                        " retrieving array slice of a single 3D array, TPS=484.4848447745212, Sample/s = 80.74743682048035\n"
                    ]
                }
            ],
            "source": [
                "start = time.time()\n",
                "for i in range(1000):\n",
                "    result = bkc.get_object_data(\n",
                "        obj_ids[0],\n",
                "        region=[\n",
                "            slice(12, 14, None),\n",
                "            slice(None),\n",
                "            slice(None),\n",
                "        ],\n",
                "    )\n",
                "pprint(result)\n",
                "print(\n",
                "    \"\\n retrieving array slice of a single 3D array, TPS={}, Sample/s = {}\".format(\n",
                "        1000 / (time.time() - start), (1000 / 6) / (time.time() - start)\n",
                "    )\n",
                ")"
            ]
        },
        {
            "cell_type": "markdown",
            "id": "1a5018d9-e2c1-4662-ac5e-76eeb82543c7",
            "metadata": {},
            "source": [
                "### Retrieving array slices of multiple sub-objects (Large subarray included)"
            ]
        },
        {
            "cell_type": "code",
            "execution_count": 17,
            "id": "047c806e-0851-4f76-8d50-e11516176639",
            "metadata": {
                "execution": {
                    "iopub.execute_input": "2025-02-28T18:51:31.199303Z",
                    "iopub.status.busy": "2025-02-28T18:51:31.198773Z",
                    "iopub.status.idle": "2025-02-28T18:51:31.223875Z",
                    "shell.execute_reply": "2025-02-28T18:51:31.223029Z",
                    "shell.execute_reply.started": "2025-02-28T18:51:31.199269Z"
                }
            },
            "outputs": [
                {
                    "name": "stdout",
                    "output_type": "stream",
                    "text": [
                        "{'array_slice': array([[[0.05262452, 0.99487847],\n",
                        "        [0.34973204, 0.80914095]]]),\n",
                        " 'sub_obj_slices': [{'array': array([[[[[1.75768742, 1.22097289],\n",
                        "          [0.78734324, 0.73297834]]]]]),\n",
                        "                     'id': 32126597793657261792652057521739239,\n",
                        "                     'name': '478702/arr5'},\n",
                        "                    {'array': array([[[[[1.25684066, 1.05792264]]]],\n",
                        "\n",
                        "\n",
                        "\n",
                        "       [[[[1.30855066, 1.52121883]]]]]),\n",
                        "                     'id': 32126597793657483153580946331325927,\n",
                        "                     'name': '478702/arr4'},\n",
                        "                    {'array': array([[[0.86156386, 0.0232702 , 0.16234166, 0.15565602, 0.05262452],\n",
                        "        [0.99027278, 0.99246459, 0.40359868, 0.25062981, 0.34973204]]]),\n",
                        "                     'id': 32126597793670488108152915860182503,\n",
                        "                     'name': '478702/arr3'},\n",
                        "                    {'array': array([[[[[3.51537485, 2.44194578],\n",
                        "          [1.57468647, 1.46595668]]]]]),\n",
                        "                     'id': 32126597793656929751258726454842855,\n",
                        "                     'name': '478702/arr6'}]}\n",
                        "\n",
                        " retrieving array slice of a single 3D array, TPS=389.1389667244426, Sample/s=583.7082334656285\n"
                    ]
                }
            ],
            "source": [
                "start = time.time()\n",
                "for i in range(1000):\n",
                "    result = bkc.get_object_data(\n",
                "        obj_ids[0],\n",
                "        region=[slice(0, 1), slice(0, 2), slice(0, 2, -1)],\n",
                "        sub_obj_regions=[\n",
                "            (\n",
                "                \"{}/arr5\".format(name_id),\n",
                "                [slice(0, 1), slice(0, 1), slice(0, 1), slice(0, 2), slice(0, 2, -1)],\n",
                "            ),\n",
                "            (\n",
                "                \"{}/arr4\".format(name_id),\n",
                "                [\n",
                "                    slice(0, 2, -1),\n",
                "                    slice(0, 1),\n",
                "                    slice(0, 1),\n",
                "                    slice(0, 1),\n",
                "                    slice(0, 2, -1),\n",
                "                ],\n",
                "            ),\n",
                "            (\n",
                "                \"{}/arr3\".format(name_id),\n",
                "                [slice(0, 1), slice(0, 2), slice(0, 10, -2)],\n",
                "            ),\n",
                "            (\n",
                "                \"{}/arr6\".format(name_id),\n",
                "                [slice(0, 1), slice(0, 1), slice(0, 1), slice(0, 2), slice(0, 2, -1)],\n",
                "            ),\n",
                "        ],\n",
                "    )\n",
                "pprint(result)\n",
                "print(\n",
                "    \"\\n retrieving array slice of a single 3D array, TPS={}, Sample/s={}\".format(\n",
                "        1000 / (time.time() - start), (1000 / (4 / 6)) / (time.time() - start)\n",
                "    )\n",
                ")"
            ]
        },
        {
            "cell_type": "markdown",
            "id": "6eb6151e-4cdf-433a-a19c-e557a7f5bb4e",
            "metadata": {},
            "source": [
                "### Retrieving slices of multiple objects (only GNN arrays)"
            ]
        },
        {
            "cell_type": "code",
            "execution_count": 18,
            "id": "9b9d4283-2046-4a1a-aae4-7256368a7d7d",
            "metadata": {
                "execution": {
                    "iopub.execute_input": "2025-02-28T18:51:24.146014Z",
                    "iopub.status.busy": "2025-02-28T18:51:24.145462Z",
                    "iopub.status.idle": "2025-02-28T18:51:24.169561Z",
                    "shell.execute_reply": "2025-02-28T18:51:24.168797Z",
                    "shell.execute_reply.started": "2025-02-28T18:51:24.145975Z"
                }
            },
            "outputs": [
                {
                    "name": "stdout",
                    "output_type": "stream",
                    "text": [
                        "{'array_slice': None,\n",
                        " 'sub_obj_slices': [{'array': array([[0.83306967],\n",
                        "       [0.21245617],\n",
                        "       [0.64915295],\n",
                        "       [0.56476719],\n",
                        "       [0.23132219],\n",
                        "       [0.41442525],\n",
                        "       [0.67569316],\n",
                        "       [0.22597701],\n",
                        "       [0.41579258],\n",
                        "       [0.33910983],\n",
                        "       [0.44122641],\n",
                        "       [0.2803136 ],\n",
                        "       [0.11697678],\n",
                        "       [0.36531879],\n",
                        "       [0.28510001],\n",
                        "       [0.57190317],\n",
                        "       [0.50399514],\n",
                        "       [0.92617762],\n",
                        "       [0.74360922],\n",
                        "       [0.64265   ]]),\n",
                        "                     'id': 32126597793670746362569952088872423,\n",
                        "                     'name': '478702/gnn_arr1'},\n",
                        "                    {'array': array([[0.33910983],\n",
                        "       [0.41579258],\n",
                        "       [0.22597701],\n",
                        "       [0.67569316],\n",
                        "       [0.41442525],\n",
                        "       [0.23132219],\n",
                        "       [0.56476719],\n",
                        "       [0.64915295],\n",
                        "       [0.21245617],\n",
                        "       [0.83306967]]),\n",
                        "                     'id': 32126597793670746362569952088872423,\n",
                        "                     'name': '478702/gnn_arr1'},\n",
                        "                    {'array': array([[0.28510001, 0.18479299],\n",
                        "       [0.36531879, 0.37528543],\n",
                        "       [0.11697678, 0.1194902 ],\n",
                        "       [0.2803136 , 0.11491354],\n",
                        "       [0.44122641, 0.22441589],\n",
                        "       [0.33910983, 0.69123236],\n",
                        "       [0.41579258, 0.02056096],\n",
                        "       [0.22597701, 0.5868744 ],\n",
                        "       [0.67569316, 0.13390912],\n",
                        "       [0.41442525, 0.92331977],\n",
                        "       [0.23132219, 0.01588303],\n",
                        "       [0.56476719, 0.72864501],\n",
                        "       [0.64915295, 0.14735612],\n",
                        "       [0.21245617, 0.45466189],\n",
                        "       [0.83306967, 0.36642231]]),\n",
                        "                     'id': 32126597793670746362569952088872423,\n",
                        "                     'name': '478702/gnn_arr1'},\n",
                        "                    {'array': array([[0.65856206, 0.10858079, 0.53389859, 0.77900902, 0.27709671,\n",
                        "        0.02779673, 0.22134327, 0.64459419, 0.57543703, 0.78531926,\n",
                        "        0.25504162, 0.32572694, 0.5404161 , 0.13526439, 0.68084784,\n",
                        "        0.94829256, 0.34304802, 0.56673152, 0.31780809, 0.00711684]]),\n",
                        "                     'id': 32126597793674214350455813779543527,\n",
                        "                     'name': '478702/gnn_arr2'},\n",
                        "                    {'array': array([[0.65856206, 0.10858079, 0.53389859, 0.77900902, 0.27709671,\n",
                        "        0.02779673, 0.22134327, 0.64459419, 0.57543703, 0.78531926,\n",
                        "        0.25504162, 0.32572694, 0.5404161 , 0.13526439, 0.68084784,\n",
                        "        0.94829256, 0.34304802, 0.56673152, 0.31780809, 0.00711684]]),\n",
                        "                     'id': 32126597793674214350455813779543527,\n",
                        "                     'name': '478702/gnn_arr2'},\n",
                        "                    {'array': array([[0.65856206, 0.10858079, 0.53389859, 0.77900902, 0.27709671,\n",
                        "        0.02779673, 0.22134327, 0.64459419, 0.57543703, 0.78531926,\n",
                        "        0.25504162, 0.32572694, 0.5404161 , 0.13526439, 0.68084784,\n",
                        "        0.94829256, 0.34304802, 0.56673152, 0.31780809, 0.00711684]]),\n",
                        "                     'id': 32126597793674214350455813779543527,\n",
                        "                     'name': '478702/gnn_arr2'}]}\n",
                        "\n",
                        " retrieving array slice of a single 3D array, TPS=328.8396478801298, Sample/s=328.83954475409973\n"
                    ]
                }
            ],
            "source": [
                "start = time.time()\n",
                "for i in range(1000):\n",
                "    result = bkc.get_object_data(\n",
                "        obj_ids[0],\n",
                "        region=None,\n",
                "        sub_obj_regions=[\n",
                "            (\n",
                "                \"{}/gnn_arr1\".format(name_id),\n",
                "                [slice(0, 20), slice(0, 1)],\n",
                "            ),\n",
                "            (\n",
                "                \"{}/gnn_arr1\".format(name_id),\n",
                "                [\n",
                "                    slice(0, 10, -1),\n",
                "                    slice(0, 1),\n",
                "                ],\n",
                "            ),\n",
                "            (\n",
                "                \"{}/gnn_arr1\".format(name_id),\n",
                "                [\n",
                "                    slice(0, 15, -1),\n",
                "                    slice(0, 2),\n",
                "                ],\n",
                "            ),\n",
                "            (\n",
                "                \"{}/gnn_arr2\".format(name_id),\n",
                "                [\n",
                "                    slice(0, 1),\n",
                "                    slice(0, 20, -1),\n",
                "                ],\n",
                "            ),\n",
                "            (\n",
                "                \"{}/gnn_arr2\".format(name_id),\n",
                "                [\n",
                "                    slice(0, 1),\n",
                "                    slice(0, 20, -1),\n",
                "                ],\n",
                "            ),\n",
                "            (\n",
                "                \"{}/gnn_arr2\".format(name_id),\n",
                "                [\n",
                "                    slice(0, 1),\n",
                "                    slice(0, 20, -1),\n",
                "                ],\n",
                "            ),\n",
                "        ],\n",
                "    )\n",
                "pprint(result)\n",
                "print(\n",
                "    \"\\n retrieving array slice of a single 3D array, TPS={}, Sample/s={}\".format(\n",
                "        1000 / (time.time() - start), (1000) / (time.time() - start)\n",
                "    )\n",
                ")"
            ]
        },
        {
            "cell_type": "code",
            "execution_count": null,
            "id": "8c55f852-6d95-4cb4-92e9-49440cb8e013",
            "metadata": {},
            "outputs": [],
            "source": []
        },
        {
            "cell_type": "markdown",
            "id": "4a5b5176-c08f-497f-9069-f1a79bfa0925",
            "metadata": {},
            "source": [
                "## Closing the Store"
            ]
        },
        {
            "cell_type": "code",
            "execution_count": 89,
            "id": "271fefa9-b496-4eef-84ab-d8c23ac94362",
            "metadata": {
                "execution": {
                    "iopub.execute_input": "2025-02-28T05:41:57.714524Z",
                    "iopub.status.busy": "2025-02-28T05:41:57.714414Z",
                    "iopub.status.idle": "2025-02-28T05:41:57.716271Z",
                    "shell.execute_reply": "2025-02-28T05:41:57.715950Z",
                    "shell.execute_reply.started": "2025-02-28T05:41:57.714510Z"
                }
            },
            "outputs": [],
            "source": [
                "# server_process.terminate()\n",
                "# server_process.wait()\n",
                "# print(\"Server process terminated.\")"
            ]
        },
        {
            "cell_type": "code",
            "execution_count": null,
            "id": "b843f7a2-0403-41e4-bc38-1abbbac90df5",
            "metadata": {},
            "outputs": [],
            "source": []
        }
    ],
    "metadata": {
        "kernelspec": {
            "display_name": "base",
            "language": "python",
            "name": "python3"
        },
        "language_info": {
            "codemirror_mode": {
                "name": "ipython",
                "version": 3
            },
            "file_extension": ".py",
            "mimetype": "text/x-python",
            "name": "python",
            "nbconvert_exporter": "python",
            "pygments_lexer": "ipython3",
            "version": "3.12.2"
        }
    },
    "nbformat": 4,
    "nbformat_minor": 5
}
