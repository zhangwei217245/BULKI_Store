{
 "cells": [
  {
   "cell_type": "markdown",
   "id": "0affd900-afe5-4c0e-95a5-6bee49e10a28",
   "metadata": {},
   "source": [
    "# BULKI_Store Demo"
   ]
  },
  {
   "cell_type": "markdown",
   "id": "8018064e-9b27-4a40-88fd-c61c86dd232a",
   "metadata": {},
   "source": [
    "## Starting Server"
   ]
  },
  {
   "cell_type": "code",
   "execution_count": 1,
   "id": "bb352f7a-d9a5-477b-9882-7b9cf31b301f",
   "metadata": {
    "execution": {
     "iopub.execute_input": "2025-02-28T05:41:39.254010Z",
     "iopub.status.busy": "2025-02-28T05:41:39.253811Z",
     "iopub.status.idle": "2025-02-28T05:41:39.258481Z",
     "shell.execute_reply": "2025-02-28T05:41:39.257538Z",
     "shell.execute_reply.started": "2025-02-28T05:41:39.253987Z"
    }
   },
   "outputs": [
    {
     "name": "stdout",
     "output_type": "stream",
     "text": [
      "Let's start\n"
     ]
    }
   ],
   "source": [
    "print(\"Let's start\")"
   ]
  },
  {
   "cell_type": "code",
   "execution_count": 2,
   "id": "ad28327e-746d-47cf-9e47-e0865bf76b4e",
   "metadata": {
    "execution": {
     "iopub.execute_input": "2025-02-28T05:41:39.261040Z",
     "iopub.status.busy": "2025-02-28T05:41:39.260843Z",
     "iopub.status.idle": "2025-02-28T05:41:39.265728Z",
     "shell.execute_reply": "2025-02-28T05:41:39.265114Z",
     "shell.execute_reply.started": "2025-02-28T05:41:39.261017Z"
    }
   },
   "outputs": [],
   "source": [
    "# import subprocess\n",
    "\n",
    "# # Start the server as a background process\n",
    "# server_process = subprocess.Popen(\n",
    "#     ['/opt/homebrew/bin/mpirun', '-np', '4', 'target/debug/bulkistore-server'],\n",
    "#     env={'RUST_LOG': 'debug'},\n",
    "#     stdout=subprocess.PIPE,\n",
    "#     stderr=subprocess.PIPE\n",
    "# )\n",
    "\n",
    "# print(\"Server started with PID:\", server_process.pid)"
   ]
  },
  {
   "cell_type": "markdown",
   "id": "02b86998-32fc-4342-ab51-07bcc276f28a",
   "metadata": {},
   "source": [
    "## Creating Arrays"
   ]
  },
  {
   "cell_type": "code",
   "execution_count": 3,
   "id": "e1c65e4b-9eeb-4c4d-a85a-12c7f03a28a0",
   "metadata": {
    "execution": {
     "iopub.execute_input": "2025-02-28T05:41:39.267969Z",
     "iopub.status.busy": "2025-02-28T05:41:39.267787Z",
     "iopub.status.idle": "2025-02-28T05:41:39.396605Z",
     "shell.execute_reply": "2025-02-28T05:41:39.396330Z",
     "shell.execute_reply.started": "2025-02-28T05:41:39.267947Z"
    }
   },
   "outputs": [
    {
     "name": "stdout",
     "output_type": "stream",
     "text": [
      "5D array size = 759375 elements\n",
      "rd1.shape= (15, 15, 15, 15, 15)\n",
      "rd1 last 2 dim preview:\n",
      "[[[[[0.40459251 0.83067646 0.28614771 0.98900449 0.14954358 0.02994448\n",
      "     0.47649712 0.49971808 0.41403076 0.83319263 0.44445731 0.13533823\n",
      "     0.81790112 0.16490294 0.78862462]\n",
      "    [0.71692633 0.91303549 0.64646808 0.24261111 0.31372621 0.51111374\n",
      "     0.05274643 0.88009388 0.53418363 0.62297865 0.59518975 0.98695825\n",
      "     0.72312317 0.84969319 0.21780238]]]]]\n",
      "rd2.shape= (15, 15, 15, 15, 15)\n",
      "rd2 last 2 dim preview:\n",
      "[[[[[0.53930558 0.67534664 0.17110583 0.1350512  0.02741573 0.92854687\n",
      "     0.45273279 0.0190791  0.59197665 0.0286356  0.54248115 0.81663565\n",
      "     0.12594329 0.78245297 0.18741576]\n",
      "    [0.58148536 0.6030635  0.66852038 0.2061908  0.52767463 0.53432944\n",
      "     0.21228742 0.82306601 0.28019941 0.33324645 0.74196399 0.28317311\n",
      "     0.98027109 0.96559209 0.26398958]]]]]\n",
      "arr3.shape= (15, 15, 15)\n",
      "arr3 last 2 dim preview:\n",
      "[[[0.54868844 0.15436277 0.03920907 0.85561122 0.93497556 0.36623018\n",
      "   0.51784038 0.77201225 0.94715785 0.82540016 0.67378684 0.32272707\n",
      "   0.89397995 0.8019303  0.54024549]\n",
      "  [0.47356675 0.31656043 0.41086213 0.48490492 0.22797277 0.63168049\n",
      "   0.406157   0.62386712 0.39440515 0.22685817 0.16620431 0.4457331\n",
      "   0.92563531 0.30854698 0.3472006 ]]]\n"
     ]
    }
   ],
   "source": [
    "import bkstore_client as bkc\n",
    "import numpy as np\n",
    "import time\n",
    "from pprint import pprint\n",
    "\n",
    "\n",
    "bkc.init()\n",
    "dim_size = 15\n",
    "\n",
    "print(\"5D array size = {} elements\".format(dim_size**5))\n",
    "\n",
    "# dim_size = 10\n",
    "rd1 = np.random.rand(dim_size, dim_size, dim_size, dim_size, dim_size)\n",
    "rd2 = np.random.rand(dim_size, dim_size, dim_size, dim_size, dim_size)\n",
    "\n",
    "print(\"rd1.shape=\", rd1.shape)\n",
    "print(\"rd1 last 2 dim preview:\")\n",
    "print(rd1[0:1, 0:1, 0:1, 0:2, 0:])\n",
    "\n",
    "print(\"rd2.shape=\", rd2.shape)\n",
    "print(\"rd2 last 2 dim preview:\")\n",
    "print(rd2[0:1, 0:1, 0:1, 0:2, 0:])\n",
    "\n",
    "arr3 = np.random.rand(dim_size, dim_size, dim_size)\n",
    "print(\"arr3.shape=\", arr3.shape)\n",
    "print(\"arr3 last 2 dim preview:\")\n",
    "print(arr3[0:1, 0:2, 0:])"
   ]
  },
  {
   "cell_type": "markdown",
   "id": "9c99005b-814f-49d9-a353-cf13f41e7766",
   "metadata": {},
   "source": [
    "## Client-Side NDArray Arithmetic Operation"
   ]
  },
  {
   "cell_type": "code",
   "execution_count": 4,
   "id": "e8f78089-b1d0-4221-9154-6290abe5bac1",
   "metadata": {
    "execution": {
     "iopub.execute_input": "2025-02-28T05:41:39.397220Z",
     "iopub.status.busy": "2025-02-28T05:41:39.397103Z",
     "iopub.status.idle": "2025-02-28T05:41:39.424329Z",
     "shell.execute_reply": "2025-02-28T05:41:39.424092Z",
     "shell.execute_reply.started": "2025-02-28T05:41:39.397210Z"
    }
   },
   "outputs": [
    {
     "name": "stdout",
     "output_type": "stream",
     "text": [
      "arr4.shape= (15, 15, 15, 15, 15)\n",
      "arr4 last 2 dim preview:\n",
      "[[[[[0.94389809 1.50602309 0.45725354 1.12405569 0.17695931 0.95849135\n",
      "     0.92922991 0.51879718 1.00600741 0.86182824 0.98693846 0.95197389\n",
      "     0.94384441 0.9473559  0.97604038]\n",
      "    [1.29841169 1.51609899 1.31498846 0.44880191 0.84140084 1.04544318\n",
      "     0.26503386 1.70315989 0.81438304 0.95622511 1.33715374 1.27013136\n",
      "     1.70339426 1.81528528 0.48179196]]]]]\n"
     ]
    }
   ],
   "source": [
    "arr4 = bkc.polymorphic_add(rd1, rd2)\n",
    "\n",
    "print(\"arr4.shape=\", arr4.shape)\n",
    "print(\"arr4 last 2 dim preview:\")\n",
    "print(arr4[0:1, 0:1, 0:1, 0:2, 0:])"
   ]
  },
  {
   "cell_type": "markdown",
   "id": "23e46f92-f17f-424f-a17a-541501d73ce4",
   "metadata": {},
   "source": [
    "## Remote Array Slicing"
   ]
  },
  {
   "cell_type": "code",
   "execution_count": 5,
   "id": "4b65e224-b51a-453f-8f53-53f71b99670a",
   "metadata": {
    "execution": {
     "iopub.execute_input": "2025-02-28T05:41:39.424855Z",
     "iopub.status.busy": "2025-02-28T05:41:39.424739Z",
     "iopub.status.idle": "2025-02-28T05:41:39.426988Z",
     "shell.execute_reply": "2025-02-28T05:41:39.426791Z",
     "shell.execute_reply.started": "2025-02-28T05:41:39.424845Z"
    }
   },
   "outputs": [
    {
     "name": "stdout",
     "output_type": "stream",
     "text": [
      "arr5.shape= (1, 1, 1, 2, 5)\n",
      "arr5 last 2 dim preview:\n",
      "[[[[[0.86182824 0.51879718 0.95849135 1.12405569 1.50602309]\n",
      "    [0.95622511 1.70315989 1.04544318 0.44880191 1.51609899]]]]]\n"
     ]
    }
   ],
   "source": [
    "arr5 = bkc.array_slicing(\n",
    "    arr4, [slice(0, 1), slice(0, 1), slice(0, 1), slice(0, 2), slice(0, 10, -2)]\n",
    ")\n",
    "\n",
    "print(\"arr5.shape=\", arr5.shape)\n",
    "print(\"arr5 last 2 dim preview:\")\n",
    "print(arr5[0:1, 0:1, 0:1, 0:2, 0:])"
   ]
  },
  {
   "cell_type": "markdown",
   "id": "927e1606-6fe9-4ce5-bff7-d2abb03ab922",
   "metadata": {},
   "source": [
    "## Remote Array Arithmetic Operation"
   ]
  },
  {
   "cell_type": "code",
   "execution_count": 6,
   "id": "90ce6f0b-cbd1-43ef-b84e-23e8716225af",
   "metadata": {
    "execution": {
     "iopub.execute_input": "2025-02-28T05:41:39.427415Z",
     "iopub.status.busy": "2025-02-28T05:41:39.427336Z",
     "iopub.status.idle": "2025-02-28T05:41:39.435957Z",
     "shell.execute_reply": "2025-02-28T05:41:39.435725Z",
     "shell.execute_reply.started": "2025-02-28T05:41:39.427405Z"
    }
   },
   "outputs": [
    {
     "name": "stdout",
     "output_type": "stream",
     "text": [
      "arr6.shape= (1, 1, 1, 2, 5)\n",
      "arr6:\n",
      "[[[[[1.72365647 1.03759436 1.91698269 2.24811138 3.01204618]\n",
      "    [1.91245021 3.40631977 2.09088636 0.89760382 3.03219799]]]]]\n"
     ]
    }
   ],
   "source": [
    "arr6 = bkc.times_two(arr5)\n",
    "\n",
    "print(\"arr6.shape=\", arr6.shape)\n",
    "print(\"arr6:\")\n",
    "print(arr6)"
   ]
  },
  {
   "cell_type": "markdown",
   "id": "10a687f2-e5f3-47fb-b8c0-a2f1a0bc3413",
   "metadata": {},
   "source": [
    "## Creating Object with Multiple NDArrays\n",
    "\n",
    "1. You can attach a series of metadata attributes directly to the object you are creating\n",
    "2. You can attach a series of NDArrays directly to the object you are creating along with the metadata attributes of these NDArrays.\n",
    "3. Each of these NDArrays will become a sub-object of the main object you are creating."
   ]
  },
  {
   "cell_type": "code",
   "execution_count": 7,
   "id": "f5fe543f-9a9e-4688-96aa-1201d570ac7f",
   "metadata": {
    "execution": {
     "iopub.execute_input": "2025-02-28T05:41:39.436397Z",
     "iopub.status.busy": "2025-02-28T05:41:39.436315Z",
     "iopub.status.idle": "2025-02-28T05:41:47.783483Z",
     "shell.execute_reply": "2025-02-28T05:41:47.783230Z",
     "shell.execute_reply.started": "2025-02-28T05:41:39.436387Z"
    }
   },
   "outputs": [
    {
     "name": "stdout",
     "output_type": "stream",
     "text": [
      "[32110665600477932833558964742916116, 32110665600478541576113401453086740, 32110665600478818277274511391328276, 32110665600478984297971179072260116, 32110665600488410584192848948103188, 32110665600488631945121737757689876, 32110665600491177595803913970780180]\n"
     ]
    }
   ],
   "source": [
    "# Create an 3D array\n",
    "\n",
    "name_id = str(np.random.rand(1)[0] * 1000000)[0:6]\n",
    "\n",
    "gnn_arr1 = np.random.rand(100000, 2)\n",
    "gnn_arr2 = np.random.rand(1, 100000)\n",
    "\n",
    "obj_ids = bkc.create_objects(\n",
    "    obj_name_key=\"name\",\n",
    "    parent_id=None,\n",
    "    metadata={\n",
    "        \"name\": \"{}\".format(name_id),\n",
    "        \"type\": \"container\",\n",
    "        \"keys\": [\n",
    "            \"{}/arr6\".format(name_id),\n",
    "            \"{}/arr5\".format(name_id),\n",
    "            \"{}/arr4\".format(name_id),\n",
    "            \"{}/arr3\".format(name_id),\n",
    "            \"{}/gnn_arr1\".format(name_id),\n",
    "            \"{}/gnn_arr2\".format(name_id),\n",
    "        ],\n",
    "        \"ranges\": [(1, 100), (100, 200)],\n",
    "        \"part_num\": 1,\n",
    "        \"part_size\": 100,\n",
    "    },\n",
    "    data=arr3,\n",
    "    array_meta_list=[\n",
    "        {\n",
    "            \"name\": \"{}/arr6\".format(name_id),\n",
    "            \"type\": \"array\",\n",
    "            \"shape\": arr6.shape,\n",
    "            \"vcount\": 100,\n",
    "            \"voffset\": 0,\n",
    "            \"vdim\": 0,\n",
    "        },\n",
    "        {\n",
    "            \"name\": \"{}/arr5\".format(name_id),\n",
    "            \"type\": \"array\",\n",
    "            \"shape\": arr6.shape,\n",
    "            \"vcount\": 100,\n",
    "            \"voffset\": 0,\n",
    "            \"vdim\": 0,\n",
    "        },\n",
    "        {\n",
    "            \"name\": \"{}/arr4\".format(name_id),\n",
    "            \"type\": \"array\",\n",
    "            \"shape\": arr4.shape,\n",
    "            \"vcount\": 100,\n",
    "            \"voffset\": 0,\n",
    "            \"vdim\": 0,\n",
    "        },\n",
    "        {\n",
    "            \"name\": \"{}/arr3\".format(name_id),\n",
    "            \"type\": \"array\",\n",
    "            \"shape\": arr3.shape,\n",
    "            \"vcount\": 100,\n",
    "            \"voffset\": 0,\n",
    "            \"vdim\": 0,\n",
    "        },\n",
    "        {\n",
    "            \"name\": \"{}/gnn_arr1\".format(name_id),\n",
    "            \"type\": \"array\",\n",
    "            \"shape\": gnn_arr1.shape,\n",
    "            \"vcount\": 100,\n",
    "            \"voffset\": 0,\n",
    "            \"vdim\": 0,\n",
    "        },\n",
    "        {\n",
    "            \"name\": \"{}/gnn_arr2\".format(name_id),\n",
    "            \"type\": \"array\",\n",
    "            \"shape\": gnn_arr2.shape,\n",
    "            \"vcount\": 100,\n",
    "            \"voffset\": 0,\n",
    "            \"vdim\": 0,\n",
    "        },\n",
    "    ],\n",
    "    array_data_list=[arr6, arr5, arr4, arr3, gnn_arr1, gnn_arr2],\n",
    ")\n",
    "print(obj_ids)"
   ]
  },
  {
   "cell_type": "markdown",
   "id": "9c85aad5-fc35-406a-9a76-d8635eecf9a3",
   "metadata": {},
   "source": [
    "## Retrieve Metadata"
   ]
  },
  {
   "cell_type": "markdown",
   "id": "16c77e70-32c0-472e-90c9-a44bd51d2f19",
   "metadata": {},
   "source": [
    "### Retrieve a single metadata attributes from a single object\n",
    "\n",
    "\n",
    "In HydraGNN, we need to retrieve a series of metadata attributes from a container. \n",
    "\n",
    "If every single metadata retrieval requires a single request, that would be too much overhead.\n",
    "\n",
    "MetaPS is a new metric we designed to calculate the number of metadata attributes we can retrieve from one object within a second.\n"
   ]
  },
  {
   "cell_type": "code",
   "execution_count": 8,
   "id": "d325e370-6cc5-4ab0-ba22-55591a8ed391",
   "metadata": {
    "execution": {
     "iopub.execute_input": "2025-02-28T05:41:47.784023Z",
     "iopub.status.busy": "2025-02-28T05:41:47.783935Z",
     "iopub.status.idle": "2025-02-28T05:41:48.477024Z",
     "shell.execute_reply": "2025-02-28T05:41:48.476725Z",
     "shell.execute_reply.started": "2025-02-28T05:41:47.784013Z"
    }
   },
   "outputs": [
    {
     "name": "stdout",
     "output_type": "stream",
     "text": [
      "{'obj_id': 32110665600477932833558964742916116, 'metadata': {'type': 'container'}, 'sub_obj_metadata': None}\n",
      "{'obj_id': 32110665600477932833558964742916116, 'metadata': {'keys': ['984488/arr6', '984488/arr5', '984488/arr4', '984488/arr3', '984488/gnn_arr1', '984488/gnn_arr2']}, 'sub_obj_metadata': None}\n",
      "{'obj_id': 32110665600477932833558964742916116, 'metadata': {'ranges': [(1, 100), (100, 200)]}, 'sub_obj_metadata': None}\n",
      "{'obj_id': 32110665600477932833558964742916116, 'metadata': {'name': '984488'}, 'sub_obj_metadata': None}\n",
      "{'obj_id': 32110665600477932833558964742916116, 'metadata': {'part_num': 1}, 'sub_obj_metadata': None}\n",
      "{'obj_id': 32110665600477932833558964742916116, 'metadata': {'part_size': 100}, 'sub_obj_metadata': None}\n",
      "Single Metadata retrieval of single object : TPS = 1310.7343361568016 MetaPS: 1310.732697723009\n"
     ]
    }
   ],
   "source": [
    "meta_keys = [\"type\", \"keys\", \"ranges\", \"name\", \"part_num\", \"part_size\"]\n",
    "\n",
    "start = time.time()\n",
    "for i in range(1000):\n",
    "    k = i % len(meta_keys)\n",
    "    result = bkc.get_object_metadata(\n",
    "        obj_ids[0],\n",
    "        meta_keys=[meta_keys[k]],  # retreiving SINGLE!!!\n",
    "    )\n",
    "    if i < len(meta_keys):\n",
    "        print(result)\n",
    "\n",
    "print(\n",
    "    \"Single Metadata retrieval of single object : TPS = {} MetaPS: {}\".format(\n",
    "        1000 / (time.time() - start), 1000 / (time.time() - start)\n",
    "    )\n",
    ")"
   ]
  },
  {
   "cell_type": "markdown",
   "id": "69da6ac0-2c99-4151-96eb-3c45862756ff",
   "metadata": {},
   "source": [
    "### Retrieving multiple metadata attributes from a single object\n",
    "\n",
    "Now we can combine the metadata retrieval of a single container into one single request. \n",
    "\n",
    "MetaPS is a new metric we designed to calculate the number of metadata attributes we can retrieve from one object within a second.\n",
    "\n",
    "Slight drop on TPS but MEGA IMPROVEMENT for MetaPS"
   ]
  },
  {
   "cell_type": "code",
   "execution_count": 9,
   "id": "b53c2db0-d736-4798-9b27-f01c2a6cb7c5",
   "metadata": {
    "execution": {
     "iopub.execute_input": "2025-02-28T05:41:48.477564Z",
     "iopub.status.busy": "2025-02-28T05:41:48.477466Z",
     "iopub.status.idle": "2025-02-28T05:41:49.253611Z",
     "shell.execute_reply": "2025-02-28T05:41:49.253354Z",
     "shell.execute_reply.started": "2025-02-28T05:41:48.477553Z"
    }
   },
   "outputs": [
    {
     "name": "stdout",
     "output_type": "stream",
     "text": [
      "{'metadata': {'keys': ['984488/arr6',\n",
      "                       '984488/arr5',\n",
      "                       '984488/arr4',\n",
      "                       '984488/arr3',\n",
      "                       '984488/gnn_arr1',\n",
      "                       '984488/gnn_arr2'],\n",
      "              'name': '984488',\n",
      "              'part_num': 1,\n",
      "              'part_size': 100,\n",
      "              'ranges': [(1, 100), (100, 200)],\n",
      "              'type': 'container'},\n",
      " 'obj_id': 32110665600477932833558964742916116,\n",
      " 'sub_obj_metadata': None}\n",
      "\n",
      " Multiple Metadata retrieval of single object : TPS=1218.4406368432765, MetaPS: 7310.635326134005 \n"
     ]
    }
   ],
   "source": [
    "meta_keys = [\"type\", \"keys\", \"ranges\", \"name\", \"part_num\", \"part_size\"]\n",
    "\n",
    "start = time.time()\n",
    "for i in range(1000):\n",
    "    result = bkc.get_object_metadata(\n",
    "        obj_ids[0],\n",
    "        meta_keys=meta_keys,  # retrieving MULTIPLE!!!\n",
    "    )\n",
    "pprint(result)\n",
    "print(\n",
    "    \"\\n Multiple Metadata retrieval of single object : TPS={}, MetaPS: {} \".format(\n",
    "        1000 / (time.time() - start), 1000 * len(meta_keys) / (time.time() - start)\n",
    "    )\n",
    ")"
   ]
  },
  {
   "cell_type": "markdown",
   "id": "57075ab8-80e7-4eca-8a15-d0fb94ea83ad",
   "metadata": {},
   "source": [
    "### Retrieving single attributes from a single sub-object"
   ]
  },
  {
   "cell_type": "code",
   "execution_count": 10,
   "id": "8d111feb-792d-48a9-9c7b-9919d6322eb2",
   "metadata": {
    "execution": {
     "iopub.execute_input": "2025-02-28T05:41:49.254101Z",
     "iopub.status.busy": "2025-02-28T05:41:49.254005Z",
     "iopub.status.idle": "2025-02-28T05:41:49.930929Z",
     "shell.execute_reply": "2025-02-28T05:41:49.930631Z",
     "shell.execute_reply.started": "2025-02-28T05:41:49.254089Z"
    }
   },
   "outputs": [
    {
     "name": "stdout",
     "output_type": "stream",
     "text": [
      "{'obj_id': 32110665600478541576113401453086740, 'metadata': {'name': '984488/arr6'}, 'sub_obj_metadata': None}\n",
      "{'obj_id': 32110665600478541576113401453086740, 'metadata': {'type': 'array'}, 'sub_obj_metadata': None}\n",
      "{'obj_id': 32110665600478541576113401453086740, 'metadata': {'shape': [1, 1, 1, 2, 5]}, 'sub_obj_metadata': None}\n",
      "{'obj_id': 32110665600478541576113401453086740, 'metadata': {'vcount': 100}, 'sub_obj_metadata': None}\n",
      "{'obj_id': 32110665600478541576113401453086740, 'metadata': {'voffset': 0}, 'sub_obj_metadata': None}\n",
      "{'obj_id': 32110665600478541576113401453086740, 'metadata': {'vdim': 0}, 'sub_obj_metadata': None}\n",
      "Single Metadata retrieval of a single sub-object : TPS=1257.237509243503, MetaPS: 1257.2356249692757\n"
     ]
    }
   ],
   "source": [
    "meta_keys = [\"name\", \"type\", \"shape\", \"vcount\", \"voffset\", \"vdim\"]\n",
    "\n",
    "start = time.time()\n",
    "for i in range(1000):\n",
    "    k = i % len(meta_keys)\n",
    "    result = bkc.get_object_metadata(\n",
    "        obj_ids[1],\n",
    "        meta_keys=[meta_keys[k]],  # retreiving SINGLE!!!\n",
    "    )\n",
    "    if i < len(meta_keys):\n",
    "        print(result)\n",
    "\n",
    "print(\n",
    "    \"Single Metadata retrieval of a single sub-object : TPS={}, MetaPS: {}\".format(\n",
    "        1000 / (time.time() - start), 1000 / (time.time() - start)\n",
    "    )\n",
    ")"
   ]
  },
  {
   "cell_type": "markdown",
   "id": "918cd7d4-7f43-4770-8e16-5e8926f354e6",
   "metadata": {},
   "source": [
    "### Retrieving multiple attributes from single sub-objects"
   ]
  },
  {
   "cell_type": "code",
   "execution_count": 11,
   "id": "ada9cdc5-c928-4052-82d2-b74b4ef6ff55",
   "metadata": {
    "execution": {
     "iopub.execute_input": "2025-02-28T05:41:49.931422Z",
     "iopub.status.busy": "2025-02-28T05:41:49.931331Z",
     "iopub.status.idle": "2025-02-28T05:41:50.658879Z",
     "shell.execute_reply": "2025-02-28T05:41:50.658594Z",
     "shell.execute_reply.started": "2025-02-28T05:41:49.931411Z"
    }
   },
   "outputs": [
    {
     "name": "stdout",
     "output_type": "stream",
     "text": [
      "{'metadata': {'name': '984488/arr6',\n",
      "              'shape': [1, 1, 1, 2, 5],\n",
      "              'type': 'array',\n",
      "              'vcount': 100,\n",
      "              'vdim': 0,\n",
      "              'voffset': 0},\n",
      " 'obj_id': 32110665600478541576113401453086740,\n",
      " 'sub_obj_metadata': None}\n",
      "\n",
      " Multiple Metadata retrieval of a single sub-object : TPS=1292.1278947543533, MetaPS: 7752.755426674089\n"
     ]
    }
   ],
   "source": [
    "meta_keys = [\"name\", \"type\", \"shape\", \"vcount\", \"voffset\", \"vdim\"]\n",
    "\n",
    "start = time.time()\n",
    "for i in range(1000):\n",
    "    result = bkc.get_object_metadata(\n",
    "        obj_ids[1],\n",
    "        meta_keys=meta_keys,  # retreiving SINGLE!!!\n",
    "    )\n",
    "\n",
    "pprint(result)\n",
    "print(\n",
    "    \"\\n Multiple Metadata retrieval of a single sub-object : TPS={}, MetaPS: {}\".format(\n",
    "        1000 / (time.time() - start), 1000 * len(meta_keys) / (time.time() - start)\n",
    "    )\n",
    ")"
   ]
  },
  {
   "cell_type": "markdown",
   "id": "9650adfc-e1d8-4004-9ea1-82b88722888f",
   "metadata": {},
   "source": [
    "### Retrieving multiple attributes from multiple sub-objects"
   ]
  },
  {
   "cell_type": "code",
   "execution_count": 12,
   "id": "c487bb76-44b8-48e4-a96e-6e7f1eccdfcf",
   "metadata": {
    "execution": {
     "iopub.execute_input": "2025-02-28T05:41:50.660936Z",
     "iopub.status.busy": "2025-02-28T05:41:50.660829Z",
     "iopub.status.idle": "2025-02-28T05:41:51.644953Z",
     "shell.execute_reply": "2025-02-28T05:41:51.644693Z",
     "shell.execute_reply.started": "2025-02-28T05:41:50.660923Z"
    }
   },
   "outputs": [
    {
     "name": "stdout",
     "output_type": "stream",
     "text": [
      "{'metadata': {},\n",
      " 'obj_id': 32110665600477932833558964742916116,\n",
      " 'sub_obj_metadata': [{'metadata': {'name': '984488/gnn_arr1',\n",
      "                                    'shape': [100000, 2],\n",
      "                                    'type': 'array',\n",
      "                                    'vcount': 100,\n",
      "                                    'vdim': 0,\n",
      "                                    'voffset': 0},\n",
      "                       'name': '984488/gnn_arr1',\n",
      "                       'obj_id': 32110665600488631945121737757689876},\n",
      "                      {'metadata': {'name': '984488/arr6',\n",
      "                                    'shape': [1, 1, 1, 2, 5],\n",
      "                                    'type': 'array',\n",
      "                                    'vcount': 100,\n",
      "                                    'vdim': 0,\n",
      "                                    'voffset': 0},\n",
      "                       'name': '984488/arr6',\n",
      "                       'obj_id': 32110665600478541576113401453086740},\n",
      "                      {'metadata': {'name': '984488/arr3',\n",
      "                                    'shape': [15, 15, 15],\n",
      "                                    'type': 'array',\n",
      "                                    'vcount': 100,\n",
      "                                    'vdim': 0,\n",
      "                                    'voffset': 0},\n",
      "                       'name': '984488/arr3',\n",
      "                       'obj_id': 32110665600488410584192848948103188},\n",
      "                      {'metadata': {'name': '984488/arr5',\n",
      "                                    'shape': [1, 1, 1, 2, 5],\n",
      "                                    'type': 'array',\n",
      "                                    'vcount': 100,\n",
      "                                    'vdim': 0,\n",
      "                                    'voffset': 0},\n",
      "                       'name': '984488/arr5',\n",
      "                       'obj_id': 32110665600478818277274511391328276},\n",
      "                      {'metadata': {'name': '984488/arr4',\n",
      "                                    'shape': [15, 15, 15, 15, 15],\n",
      "                                    'type': 'array',\n",
      "                                    'vcount': 100,\n",
      "                                    'vdim': 0,\n",
      "                                    'voffset': 0},\n",
      "                       'name': '984488/arr4',\n",
      "                       'obj_id': 32110665600478984297971179072260116},\n",
      "                      {'metadata': {'name': '984488/gnn_arr2',\n",
      "                                    'shape': [1, 100000],\n",
      "                                    'type': 'array',\n",
      "                                    'vcount': 100,\n",
      "                                    'vdim': 0,\n",
      "                                    'voffset': 0},\n",
      "                       'name': '984488/gnn_arr2',\n",
      "                       'obj_id': 32110665600491177595803913970780180}]}\n",
      "Multiple Metadata retrieval of a single sub-object : TPS=931.4629326164061, MetaPS: 16766.30299966977\n"
     ]
    }
   ],
   "source": [
    "meta_keys = [\"name\", \"type\", \"shape\", \"vcount\", \"voffset\", \"vdim\"]\n",
    "\n",
    "start = time.time()\n",
    "for i in range(1000):\n",
    "    result = bkc.get_object_metadata(\n",
    "        obj_ids[0],\n",
    "        sub_meta_keys=meta_keys,  # retreiving MULTIPLE for every sub-object!!!\n",
    "    )\n",
    "\n",
    "pprint(result)\n",
    "print(\n",
    "    \"Multiple Metadata retrieval of a single sub-object : TPS={}, MetaPS: {}\".format(\n",
    "        1000 / (time.time() - start), 1000 * len(meta_keys) * 3 / (time.time() - start)\n",
    "    )\n",
    ")"
   ]
  },
  {
   "cell_type": "markdown",
   "id": "75c83814-e126-4bfd-9adf-e014299ea3f5",
   "metadata": {},
   "source": [
    "### Retrieving different set of attributes from multiple sub-objects"
   ]
  },
  {
   "cell_type": "code",
   "execution_count": 13,
   "id": "c460b192-f50f-41db-b293-11f505f07d94",
   "metadata": {
    "execution": {
     "iopub.execute_input": "2025-02-28T05:41:51.645427Z",
     "iopub.status.busy": "2025-02-28T05:41:51.645330Z",
     "iopub.status.idle": "2025-02-28T05:41:52.415956Z",
     "shell.execute_reply": "2025-02-28T05:41:52.415696Z",
     "shell.execute_reply.started": "2025-02-28T05:41:51.645416Z"
    }
   },
   "outputs": [
    {
     "name": "stdout",
     "output_type": "stream",
     "text": [
      "{'metadata': {},\n",
      " 'obj_id': 32110665600477932833558964742916116,\n",
      " 'sub_obj_metadata': [{'metadata': {'name': '984488/arr5',\n",
      "                                    'type': 'array',\n",
      "                                    'voffset': 0},\n",
      "                       'name': '984488/arr5',\n",
      "                       'obj_id': 32110665600478818277274511391328276},\n",
      "                      {'metadata': {'type': 'array', 'vcount': 100},\n",
      "                       'name': '984488/arr4',\n",
      "                       'obj_id': 32110665600478984297971179072260116}]}\n",
      "\n",
      " Multiple Metadata retrieval of a single sub-object : TPS=1186.812676866555, MetaPS: 5934.056667972989\n"
     ]
    }
   ],
   "source": [
    "# meta_keys=[\"name\",\n",
    "#             \"type\",\n",
    "#             \"shape\",\n",
    "#             \"vcount\",\n",
    "#             \"voffset\",\n",
    "#             \"vdim\"]\n",
    "\n",
    "start = time.time()\n",
    "for i in range(1000):\n",
    "    result = bkc.get_object_metadata(\n",
    "        obj_ids[0],\n",
    "        sub_meta_keys={\n",
    "            \"{}/arr5\".format(name_id): [\"name\", \"type\", \"voffset\"],\n",
    "            \"{}/arr4\".format(name_id): [\"type\", \"vcount\"],\n",
    "        },  # retrieving different set of metadata for different sub-objects\n",
    "    )\n",
    "\n",
    "pprint(result)\n",
    "print(\n",
    "    \"\\n Multiple Metadata retrieval of a single sub-object : TPS={}, MetaPS: {}\".format(\n",
    "        1000 / (time.time() - start), 1000 * 5 / (time.time() - start)\n",
    "    )\n",
    ")"
   ]
  },
  {
   "cell_type": "markdown",
   "id": "baebe3e4-1d92-4b2b-95f7-138ebe60ef16",
   "metadata": {},
   "source": [
    "### Retrieving array of a single object"
   ]
  },
  {
   "cell_type": "code",
   "execution_count": 14,
   "id": "86e6c89c-235f-4ac4-bc92-60262a7e4300",
   "metadata": {
    "execution": {
     "iopub.execute_input": "2025-02-28T05:45:33.461246Z",
     "iopub.status.busy": "2025-02-28T05:45:33.460674Z",
     "iopub.status.idle": "2025-02-28T05:45:34.290486Z",
     "shell.execute_reply": "2025-02-28T05:45:34.290158Z",
     "shell.execute_reply.started": "2025-02-28T05:45:33.461192Z"
    }
   },
   "outputs": [
    {
     "name": "stdout",
     "output_type": "stream",
     "text": [
      "{'array_slice': array([[[0.15436277, 0.54868844]]]), 'sub_obj_slices': []}\n",
      "\n",
      " retrieving array slice of a single 3D array, TPS=1101.132503842133, Sample/s = 183.52208397368884\n"
     ]
    }
   ],
   "source": [
    "start = time.time()\n",
    "for i in range(1000):\n",
    "    result = bkc.get_object_data(\n",
    "        obj_ids[0],\n",
    "        region=[slice(0, 1), slice(0, 1), slice(0, 2, -1)],\n",
    "    )\n",
    "pprint(result)\n",
    "print(\n",
    "    \"\\n retrieving array slice of a single 3D array, TPS={}, Sample/s = {}\".format(\n",
    "        1000 / (time.time() - start), (1000 / 6) / (time.time() - start)\n",
    "    )\n",
    ")"
   ]
  },
  {
   "cell_type": "markdown",
   "id": "1a5018d9-e2c1-4662-ac5e-76eeb82543c7",
   "metadata": {},
   "source": [
    "### Retrieving array slices of multiple sub-objects (Large subarray included)"
   ]
  },
  {
   "cell_type": "code",
   "execution_count": 15,
   "id": "047c806e-0851-4f76-8d50-e11516176639",
   "metadata": {
    "execution": {
     "iopub.execute_input": "2025-02-28T05:45:41.063695Z",
     "iopub.status.busy": "2025-02-28T05:45:41.063114Z",
     "iopub.status.idle": "2025-02-28T05:45:43.371925Z",
     "shell.execute_reply": "2025-02-28T05:45:43.371658Z",
     "shell.execute_reply.started": "2025-02-28T05:45:41.063657Z"
    }
   },
   "outputs": [
    {
     "name": "stdout",
     "output_type": "stream",
     "text": [
      "{'array_slice': array([[[0.15436277, 0.54868844],\n",
      "        [0.31656043, 0.47356675]]]),\n",
      " 'sub_obj_slices': [{'array': array([[[[[0.51879718, 0.86182824],\n",
      "          [1.70315989, 0.95622511]]]]]),\n",
      "                     'id': 32110665600478818277274511391328276,\n",
      "                     'name': '984488/arr5'},\n",
      "                    {'array': array([[[[[1.42981419, 1.07258671]]]],\n",
      "\n",
      "\n",
      "\n",
      "       [[[[1.50602309, 0.94389809]]]]]),\n",
      "                     'id': 32110665600478984297971179072260116,\n",
      "                     'name': '984488/arr4'},\n",
      "                    {'array': array([[[0.82540016, 0.77201225, 0.36623018, 0.85561122, 0.15436277],\n",
      "        [0.22685817, 0.62386712, 0.63168049, 0.48490492, 0.31656043]]]),\n",
      "                     'id': 32110665600488410584192848948103188,\n",
      "                     'name': '984488/arr3'},\n",
      "                    {'array': array([[[[[1.03759436, 1.72365647],\n",
      "          [3.40631977, 1.91245021]]]]]),\n",
      "                     'id': 32110665600478541576113401453086740,\n",
      "                     'name': '984488/arr6'}]}\n",
      "\n",
      " retrieving array slice of a single 3D array, TPS=327.93722576145666, Sample/s=491.90568480098926\n"
     ]
    }
   ],
   "source": [
    "start = time.time()\n",
    "for i in range(1000):\n",
    "    result = bkc.get_object_data(\n",
    "        obj_ids[0],\n",
    "        region=[slice(0, 1), slice(0, 2), slice(0, 2, -1)],\n",
    "        sub_obj_regions=[\n",
    "            (\n",
    "                \"{}/arr5\".format(name_id),\n",
    "                [slice(0, 1), slice(0, 1), slice(0, 1), slice(0, 2), slice(0, 2, -1)],\n",
    "            ),\n",
    "            (\n",
    "                \"{}/arr4\".format(name_id),\n",
    "                [\n",
    "                    slice(0, 2, -1),\n",
    "                    slice(0, 1),\n",
    "                    slice(0, 1),\n",
    "                    slice(0, 1),\n",
    "                    slice(0, 2, -1),\n",
    "                ],\n",
    "            ),\n",
    "            (\n",
    "                \"{}/arr3\".format(name_id),\n",
    "                [slice(0, 1), slice(0, 2), slice(0, 10, -2)],\n",
    "            ),\n",
    "            (\n",
    "                \"{}/arr6\".format(name_id),\n",
    "                [slice(0, 1), slice(0, 1), slice(0, 1), slice(0, 2), slice(0, 2, -1)],\n",
    "            ),\n",
    "        ],\n",
    "    )\n",
    "pprint(result)\n",
    "print(\n",
    "    \"\\n retrieving array slice of a single 3D array, TPS={}, Sample/s={}\".format(\n",
    "        1000 / (time.time() - start), (1000 / (4 / 6)) / (time.time() - start)\n",
    "    )\n",
    ")"
   ]
  },
  {
   "cell_type": "markdown",
   "id": "6eb6151e-4cdf-433a-a19c-e557a7f5bb4e",
   "metadata": {},
   "source": [
    "### Retrieving slices of multiple objects (only GNN arrays)"
   ]
  },
  {
   "cell_type": "code",
   "execution_count": 16,
   "id": "9b9d4283-2046-4a1a-aae4-7256368a7d7d",
   "metadata": {
    "execution": {
     "iopub.execute_input": "2025-02-28T05:47:00.367920Z",
     "iopub.status.busy": "2025-02-28T05:47:00.367446Z",
     "iopub.status.idle": "2025-02-28T05:47:02.650530Z",
     "shell.execute_reply": "2025-02-28T05:47:02.650258Z",
     "shell.execute_reply.started": "2025-02-28T05:47:00.367889Z"
    }
   },
   "outputs": [
    {
     "name": "stdout",
     "output_type": "stream",
     "text": [
      "{'array_slice': None,\n",
      " 'sub_obj_slices': [{'array': array([], shape=(20, 0), dtype=float64),\n",
      "                     'id': 32110665600488631945121737757689876,\n",
      "                     'name': '984488/gnn_arr1'},\n",
      "                    {'array': array([], shape=(10, 0), dtype=float64),\n",
      "                     'id': 32110665600488631945121737757689876,\n",
      "                     'name': '984488/gnn_arr1'},\n",
      "                    {'array': array([], shape=(15, 0), dtype=float64),\n",
      "                     'id': 32110665600488631945121737757689876,\n",
      "                     'name': '984488/gnn_arr1'},\n",
      "                    {'array': array([], shape=(0, 20), dtype=float64),\n",
      "                     'id': 32110665600491177595803913970780180,\n",
      "                     'name': '984488/gnn_arr2'},\n",
      "                    {'array': array([], shape=(0, 20), dtype=float64),\n",
      "                     'id': 32110665600491177595803913970780180,\n",
      "                     'name': '984488/gnn_arr2'},\n",
      "                    {'array': array([], shape=(0, 20), dtype=float64),\n",
      "                     'id': 32110665600491177595803913970780180,\n",
      "                     'name': '984488/gnn_arr2'}]}\n",
      "\n",
      " retrieving array slice of a single 3D array, TPS=315.7611037617867, Sample/s=315.7611037617867\n"
     ]
    }
   ],
   "source": [
    "start = time.time()\n",
    "for i in range(1000):\n",
    "    result = bkc.get_object_data(\n",
    "        obj_ids[0],\n",
    "        region=None,\n",
    "        sub_obj_regions=[\n",
    "            (\n",
    "                \"{}/gnn_arr1\".format(name_id),\n",
    "                [slice(0, 20, -1), slice(0)],\n",
    "            ),\n",
    "            (\n",
    "                \"{}/gnn_arr1\".format(name_id),\n",
    "                [slice(0, 10, -1), slice(0)],\n",
    "            ),\n",
    "            (\n",
    "                \"{}/gnn_arr1\".format(name_id),\n",
    "                [slice(0, 15, -1), slice(0)],\n",
    "            ),\n",
    "            (\n",
    "                \"{}/gnn_arr2\".format(name_id),\n",
    "                [slice(0), slice(0, 20, -1)],\n",
    "            ),\n",
    "            (\n",
    "                \"{}/gnn_arr2\".format(name_id),\n",
    "                [slice(0), slice(0, 20, -1)],\n",
    "            ),\n",
    "            (\n",
    "                \"{}/gnn_arr2\".format(name_id),\n",
    "                [slice(0), slice(0, 20, -1)],\n",
    "            ),\n",
    "        ],\n",
    "    )\n",
    "pprint(result)\n",
    "print(\n",
    "    \"\\n retrieving array slice of a single 3D array, TPS={}, Sample/s={}\".format(\n",
    "        1000 / (time.time() - start), (1000) / (time.time() - start)\n",
    "    )\n",
    ")"
   ]
  },
  {
   "cell_type": "code",
   "execution_count": null,
   "id": "8c55f852-6d95-4cb4-92e9-49440cb8e013",
   "metadata": {},
   "outputs": [],
   "source": []
  },
  {
   "cell_type": "markdown",
   "id": "4a5b5176-c08f-497f-9069-f1a79bfa0925",
   "metadata": {},
   "source": [
    "## Closing the Store"
   ]
  },
  {
   "cell_type": "code",
   "execution_count": 17,
   "id": "271fefa9-b496-4eef-84ab-d8c23ac94362",
   "metadata": {
    "execution": {
     "iopub.execute_input": "2025-02-28T05:41:57.714524Z",
     "iopub.status.busy": "2025-02-28T05:41:57.714414Z",
     "iopub.status.idle": "2025-02-28T05:41:57.716271Z",
     "shell.execute_reply": "2025-02-28T05:41:57.715950Z",
     "shell.execute_reply.started": "2025-02-28T05:41:57.714510Z"
    }
   },
   "outputs": [],
   "source": [
    "# server_process.terminate()\n",
    "# server_process.wait()\n",
    "# print(\"Server process terminated.\")"
   ]
  },
  {
   "cell_type": "code",
   "execution_count": null,
   "id": "b843f7a2-0403-41e4-bc38-1abbbac90df5",
   "metadata": {},
   "outputs": [],
   "source": []
  }
 ],
 "metadata": {
  "kernelspec": {
   "display_name": "Python (base)",
   "language": "python",
   "name": "base"
  },
  "language_info": {
   "codemirror_mode": {
    "name": "ipython",
    "version": 3
   },
   "file_extension": ".py",
   "mimetype": "text/x-python",
   "name": "python",
   "nbconvert_exporter": "python",
   "pygments_lexer": "ipython3",
   "version": "3.12.2"
  }
 },
 "nbformat": 4,
 "nbformat_minor": 5
}
