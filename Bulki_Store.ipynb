{
 "cells": [
  {
   "cell_type": "markdown",
   "id": "0affd900-afe5-4c0e-95a5-6bee49e10a28",
   "metadata": {},
   "source": [
    "# BULKI_Store Demo"
   ]
  },
  {
   "cell_type": "markdown",
   "id": "8018064e-9b27-4a40-88fd-c61c86dd232a",
   "metadata": {},
   "source": [
    "## Starting Server"
   ]
  },
  {
   "cell_type": "code",
   "execution_count": 1,
   "id": "bb352f7a-d9a5-477b-9882-7b9cf31b301f",
   "metadata": {
    "execution": {
     "iopub.execute_input": "2025-02-28T05:41:39.254010Z",
     "iopub.status.busy": "2025-02-28T05:41:39.253811Z",
     "iopub.status.idle": "2025-02-28T05:41:39.258481Z",
     "shell.execute_reply": "2025-02-28T05:41:39.257538Z",
     "shell.execute_reply.started": "2025-02-28T05:41:39.253987Z"
    }
   },
   "outputs": [
    {
     "name": "stdout",
     "output_type": "stream",
     "text": [
      "Let's start\n"
     ]
    }
   ],
   "source": [
    "print(\"Let's start\")"
   ]
  },
  {
   "cell_type": "code",
   "execution_count": 2,
   "id": "ad28327e-746d-47cf-9e47-e0865bf76b4e",
   "metadata": {
    "execution": {
     "iopub.execute_input": "2025-02-28T05:41:39.261040Z",
     "iopub.status.busy": "2025-02-28T05:41:39.260843Z",
     "iopub.status.idle": "2025-02-28T05:41:39.265728Z",
     "shell.execute_reply": "2025-02-28T05:41:39.265114Z",
     "shell.execute_reply.started": "2025-02-28T05:41:39.261017Z"
    }
   },
   "outputs": [],
   "source": [
    "# import subprocess\n",
    "\n",
    "# # Start the server as a background process\n",
    "# server_process = subprocess.Popen(\n",
    "#     ['/opt/homebrew/bin/mpirun', '-np', '4', 'target/debug/bulkistore-server'],\n",
    "#     env={'RUST_LOG': 'debug'},\n",
    "#     stdout=subprocess.PIPE,\n",
    "#     stderr=subprocess.PIPE\n",
    "# )\n",
    "\n",
    "# print(\"Server started with PID:\", server_process.pid)\n"
   ]
  },
  {
   "cell_type": "markdown",
   "id": "02b86998-32fc-4342-ab51-07bcc276f28a",
   "metadata": {},
   "source": [
    "## Creating Arrays"
   ]
  },
  {
   "cell_type": "code",
   "execution_count": 3,
   "id": "e1c65e4b-9eeb-4c4d-a85a-12c7f03a28a0",
   "metadata": {
    "execution": {
     "iopub.execute_input": "2025-02-28T05:41:39.267969Z",
     "iopub.status.busy": "2025-02-28T05:41:39.267787Z",
     "iopub.status.idle": "2025-02-28T05:41:39.396605Z",
     "shell.execute_reply": "2025-02-28T05:41:39.396330Z",
     "shell.execute_reply.started": "2025-02-28T05:41:39.267947Z"
    }
   },
   "outputs": [
    {
     "name": "stdout",
     "output_type": "stream",
     "text": [
      "5D array size = 759375 elements\n",
      "rd1.shape= (15, 15, 15, 15, 15)\n",
      "rd1 last 2 dim preview:\n",
      "[[[[[0.63487986 0.39722519 0.89204678 0.69139252 0.11316525 0.15991436\n",
      "     0.30718189 0.98112874 0.67969073 0.71671272 0.95756795 0.72825365\n",
      "     0.96229751 0.29918428 0.51969284]\n",
      "    [0.6541042  0.98333975 0.49881026 0.74432668 0.54207219 0.3797532\n",
      "     0.84271896 0.04506763 0.10509971 0.82011961 0.35145049 0.64535071\n",
      "     0.36304225 0.14489243 0.74171221]]]]]\n",
      "rd2.shape= (15, 15, 15, 15, 15)\n",
      "rd2 last 2 dim preview:\n",
      "[[[[[0.50194098 0.39146545 0.91225314 0.90773776 0.06018236 0.16375427\n",
      "     0.01620787 0.46945395 0.713789   0.13769742 0.94161528 0.43036764\n",
      "     0.76832675 0.56643982 0.00130541]\n",
      "    [0.62273594 0.57367513 0.41281624 0.59901267 0.46244618 0.88587863\n",
      "     0.31697565 0.91402963 0.82247175 0.24428245 0.99752891 0.46129467\n",
      "     0.34035222 0.28964249 0.13728861]]]]]\n",
      "arr3.shape= (15, 15, 15)\n",
      "arr3 last 2 dim preview:\n",
      "[[[0.01492931 0.04777806 0.47823219 0.45233998 0.63857488 0.47877315\n",
      "   0.93851727 0.4114978  0.4913718  0.82158399 0.20648612 0.18862317\n",
      "   0.59281828 0.32726802 0.59672731]\n",
      "  [0.50924195 0.080134   0.97327246 0.88111086 0.47108952 0.28240017\n",
      "   0.97290334 0.62328352 0.44377581 0.72869339 0.76186854 0.51418852\n",
      "   0.20355441 0.4859955  0.30089466]]]\n"
     ]
    }
   ],
   "source": [
    "import bkstore_client as bkc\n",
    "import numpy as np\n",
    "import time\n",
    "from pprint import pprint\n",
    "\n",
    "\n",
    "bkc.init()\n",
    "dim_size = 15\n",
    "\n",
    "print(\"5D array size = {} elements\".format(dim_size ** 5))\n",
    "\n",
    "# dim_size = 10\n",
    "rd1 = np.random.rand(dim_size, dim_size, dim_size, dim_size, dim_size)\n",
    "rd2 = np.random.rand(dim_size, dim_size, dim_size, dim_size, dim_size)\n",
    "\n",
    "print(\"rd1.shape=\", rd1.shape)\n",
    "print(\"rd1 last 2 dim preview:\")\n",
    "print(rd1[0:1, 0:1, 0:1, 0:2, 0:])\n",
    "\n",
    "print(\"rd2.shape=\", rd2.shape)\n",
    "print(\"rd2 last 2 dim preview:\")\n",
    "print(rd2[0:1, 0:1, 0:1, 0:2, 0:])\n",
    "\n",
    "arr3 = np.random.rand(dim_size, dim_size, dim_size)\n",
    "print(\"arr3.shape=\", arr3.shape)\n",
    "print(\"arr3 last 2 dim preview:\")\n",
    "print(arr3[0:1, 0:2, 0:])"
   ]
  },
  {
   "cell_type": "markdown",
   "id": "9c99005b-814f-49d9-a353-cf13f41e7766",
   "metadata": {},
   "source": [
    "## Client-Side NDArray Arithmetic Operation"
   ]
  },
  {
   "cell_type": "code",
   "execution_count": 4,
   "id": "e8f78089-b1d0-4221-9154-6290abe5bac1",
   "metadata": {
    "execution": {
     "iopub.execute_input": "2025-02-28T05:41:39.397220Z",
     "iopub.status.busy": "2025-02-28T05:41:39.397103Z",
     "iopub.status.idle": "2025-02-28T05:41:39.424329Z",
     "shell.execute_reply": "2025-02-28T05:41:39.424092Z",
     "shell.execute_reply.started": "2025-02-28T05:41:39.397210Z"
    }
   },
   "outputs": [
    {
     "name": "stdout",
     "output_type": "stream",
     "text": [
      "arr4.shape= (15, 15, 15, 15, 15)\n",
      "arr4 last 2 dim preview:\n",
      "[[[[[1.13682084 0.78869064 1.80429991 1.59913029 0.17334761 0.32366863\n",
      "     0.32338976 1.45058269 1.39347973 0.85441015 1.89918323 1.15862129\n",
      "     1.73062426 0.86562409 0.52099825]\n",
      "    [1.27684014 1.55701487 0.91162651 1.34333935 1.00451837 1.26563182\n",
      "     1.15969461 0.95909726 0.92757146 1.06440206 1.34897939 1.10664538\n",
      "     0.70339447 0.43453491 0.87900082]]]]]\n"
     ]
    }
   ],
   "source": [
    "arr4 = bkc.polymorphic_add(rd1, rd2)\n",
    "\n",
    "print(\"arr4.shape=\", arr4.shape)\n",
    "print(\"arr4 last 2 dim preview:\")\n",
    "print(arr4[0:1, 0:1, 0:1, 0:2, 0:])\n",
    "\n"
   ]
  },
  {
   "cell_type": "markdown",
   "id": "23e46f92-f17f-424f-a17a-541501d73ce4",
   "metadata": {},
   "source": [
    "## Remote Array Slicing"
   ]
  },
  {
   "cell_type": "code",
   "execution_count": 5,
   "id": "4b65e224-b51a-453f-8f53-53f71b99670a",
   "metadata": {
    "execution": {
     "iopub.execute_input": "2025-02-28T05:41:39.424855Z",
     "iopub.status.busy": "2025-02-28T05:41:39.424739Z",
     "iopub.status.idle": "2025-02-28T05:41:39.426988Z",
     "shell.execute_reply": "2025-02-28T05:41:39.426791Z",
     "shell.execute_reply.started": "2025-02-28T05:41:39.424845Z"
    }
   },
   "outputs": [
    {
     "name": "stdout",
     "output_type": "stream",
     "text": [
      "arr5.shape= (1, 1, 1, 2, 5)\n",
      "arr5 last 2 dim preview:\n",
      "[[[[[0.85441015 1.45058269 0.32366863 1.59913029 0.78869064]\n",
      "    [1.06440206 0.95909726 1.26563182 1.34333935 1.55701487]]]]]\n"
     ]
    }
   ],
   "source": [
    "arr5 = bkc.array_slicing(arr4, [slice(0, 1), slice(0, 1), slice(0, 1), slice(0, 2), slice(0, 10, -2)])\n",
    "\n",
    "print(\"arr5.shape=\", arr5.shape)\n",
    "print(\"arr5 last 2 dim preview:\")\n",
    "print(arr5[0:1, 0:1, 0:1, 0:2, 0:])\n",
    "\n"
   ]
  },
  {
   "cell_type": "markdown",
   "id": "927e1606-6fe9-4ce5-bff7-d2abb03ab922",
   "metadata": {},
   "source": [
    "## Remote Array Arithmetic Operation"
   ]
  },
  {
   "cell_type": "code",
   "execution_count": 6,
   "id": "90ce6f0b-cbd1-43ef-b84e-23e8716225af",
   "metadata": {
    "execution": {
     "iopub.execute_input": "2025-02-28T05:41:39.427415Z",
     "iopub.status.busy": "2025-02-28T05:41:39.427336Z",
     "iopub.status.idle": "2025-02-28T05:41:39.435957Z",
     "shell.execute_reply": "2025-02-28T05:41:39.435725Z",
     "shell.execute_reply.started": "2025-02-28T05:41:39.427405Z"
    }
   },
   "outputs": [
    {
     "name": "stdout",
     "output_type": "stream",
     "text": [
      "arr6.shape= (1, 1, 1, 2, 5)\n",
      "arr6:\n",
      "[[[[[1.7088203  2.90116538 0.64733726 3.19826057 1.57738129]\n",
      "    [2.12880412 1.91819452 2.53126364 2.68667869 3.11402974]]]]]\n"
     ]
    }
   ],
   "source": [
    "arr6 = bkc.times_two(arr5)\n",
    "\n",
    "print(\"arr6.shape=\", arr6.shape)\n",
    "print(\"arr6:\")\n",
    "print(arr6)"
   ]
  },
  {
   "cell_type": "markdown",
   "id": "10a687f2-e5f3-47fb-b8c0-a2f1a0bc3413",
   "metadata": {},
   "source": [
    "## Creating Object with Multiple NDArrays\n",
    "\n",
    "1. You can attach a series of metadata attributes directly to the object you are creating\n",
    "2. You can attach a series of NDArrays directly to the object you are creating along with the metadata attributes of these NDArrays.\n",
    "3. Each of these NDArrays will become a sub-object of the main object you are creating."
   ]
  },
  {
   "cell_type": "code",
   "execution_count": 7,
   "id": "f5fe543f-9a9e-4688-96aa-1201d570ac7f",
   "metadata": {
    "execution": {
     "iopub.execute_input": "2025-02-28T05:41:39.436397Z",
     "iopub.status.busy": "2025-02-28T05:41:39.436315Z",
     "iopub.status.idle": "2025-02-28T05:41:47.783483Z",
     "shell.execute_reply": "2025-02-28T05:41:47.783230Z",
     "shell.execute_reply.started": "2025-02-28T05:41:39.436387Z"
    }
   },
   "outputs": [
    {
     "name": "stdout",
     "output_type": "stream",
     "text": [
      "[32110640314422103883843739242491034, 32110640314422712626398175952661658, 32110640314422970880815212181351578, 32110640314423173795000027281386650, 32110640314433208823776129572433050, 32110640314433356397728723543813274, 32110640314436086515851636852419738]\n"
     ]
    }
   ],
   "source": [
    "# Create an 3D array\n",
    "\n",
    "name_id=str(np.random.rand(1)[0]*1000000)[0:6]\n",
    "\n",
    "gnn_arr1=np.random.rand(100000,2)\n",
    "gnn_arr2=np.random.rand(1,100000)\n",
    "\n",
    "obj_ids = bkc.create_objects(\n",
    "    obj_name_key=\"name\",\n",
    "    parent_id=None,\n",
    "    metadata={\n",
    "        \"name\": \"{}\".format(name_id),\n",
    "        \"type\": \"container\",\n",
    "        \"keys\": [\n",
    "            \"{}/arr6\".format(name_id), \n",
    "            \"{}/arr5\".format(name_id), \n",
    "            \"{}/arr4\".format(name_id),\n",
    "            \"{}/arr3\".format(name_id),\n",
    "            \"{}/gnn_arr1\".format(name_id),\n",
    "            \"{}/gnn_arr2\".format(name_id)\n",
    "                ],\n",
    "        \"ranges\": [(1, 100), (100, 200)],\n",
    "        \"part_num\": 1,\n",
    "        \"part_size\": 100,\n",
    "    },\n",
    "    data=arr3,\n",
    "    array_meta_list=[\n",
    "        {\n",
    "            \"name\": \"{}/arr6\".format(name_id),\n",
    "            \"type\": \"array\",\n",
    "            \"shape\": arr6.shape,\n",
    "            \"vcount\": 100,\n",
    "            \"voffset\": 0,\n",
    "            \"vdim\": 0,\n",
    "        },\n",
    "        {\n",
    "            \"name\": \"{}/arr5\".format(name_id),\n",
    "            \"type\": \"array\",\n",
    "            \"shape\": arr6.shape,\n",
    "            \"vcount\": 100,\n",
    "            \"voffset\": 0,\n",
    "            \"vdim\": 0,\n",
    "        },\n",
    "        {\n",
    "            \"name\": \"{}/arr4\".format(name_id),\n",
    "            \"type\": \"array\",\n",
    "            \"shape\": arr4.shape,\n",
    "            \"vcount\": 100,\n",
    "            \"voffset\": 0,\n",
    "            \"vdim\": 0,\n",
    "        },\n",
    "        {\n",
    "            \"name\": \"{}/arr3\".format(name_id),\n",
    "            \"type\": \"array\",\n",
    "            \"shape\": arr3.shape,\n",
    "            \"vcount\": 100,\n",
    "            \"voffset\": 0,\n",
    "            \"vdim\": 0,\n",
    "        },\n",
    "        {\n",
    "            \"name\": \"{}/gnn_arr1\".format(name_id),\n",
    "            \"type\": \"array\",\n",
    "            \"shape\": gnn_arr1.shape,\n",
    "            \"vcount\": 100,\n",
    "            \"voffset\": 0,\n",
    "            \"vdim\": 0,\n",
    "        },\n",
    "        {\n",
    "            \"name\": \"{}/gnn_arr2\".format(name_id),\n",
    "            \"type\": \"array\",\n",
    "            \"shape\": gnn_arr2.shape,\n",
    "            \"vcount\": 100,\n",
    "            \"voffset\": 0,\n",
    "            \"vdim\": 0,\n",
    "        }\n",
    "    ],\n",
    "    array_data_list=[arr6, arr5, arr4, arr3, gnn_arr1, gnn_arr2],\n",
    ")\n",
    "print(obj_ids)"
   ]
  },
  {
   "cell_type": "markdown",
   "id": "9c85aad5-fc35-406a-9a76-d8635eecf9a3",
   "metadata": {},
   "source": [
    "## Retrieve Metadata"
   ]
  },
  {
   "cell_type": "markdown",
   "id": "16c77e70-32c0-472e-90c9-a44bd51d2f19",
   "metadata": {},
   "source": [
    "### Retrieve a single metadata attributes from a single object\n",
    "\n",
    "\n",
    "In HydraGNN, we need to retrieve a series of metadata attributes from a container. \n",
    "\n",
    "If every single metadata retrieval requires a single request, that would be too much overhead.\n",
    "\n",
    "MetaPS is a new metric we designed to calculate the number of metadata attributes we can retrieve from one object within a second.\n"
   ]
  },
  {
   "cell_type": "code",
   "execution_count": 8,
   "id": "d325e370-6cc5-4ab0-ba22-55591a8ed391",
   "metadata": {
    "execution": {
     "iopub.execute_input": "2025-02-28T05:41:47.784023Z",
     "iopub.status.busy": "2025-02-28T05:41:47.783935Z",
     "iopub.status.idle": "2025-02-28T05:41:48.477024Z",
     "shell.execute_reply": "2025-02-28T05:41:48.476725Z",
     "shell.execute_reply.started": "2025-02-28T05:41:47.784013Z"
    }
   },
   "outputs": [
    {
     "name": "stdout",
     "output_type": "stream",
     "text": [
      "{'obj_id': 32110640314422103883843739242491034, 'metadata': {'type': 'container'}, 'sub_obj_metadata': None}\n",
      "{'obj_id': 32110640314422103883843739242491034, 'metadata': {'keys': ['689609/arr6', '689609/arr5', '689609/arr4', '689609/arr3', '689609/gnn_arr1', '689609/gnn_arr2']}, 'sub_obj_metadata': None}\n",
      "{'obj_id': 32110640314422103883843739242491034, 'metadata': {'ranges': [(1, 100), (100, 200)]}, 'sub_obj_metadata': None}\n",
      "{'obj_id': 32110640314422103883843739242491034, 'metadata': {'name': '689609'}, 'sub_obj_metadata': None}\n",
      "{'obj_id': 32110640314422103883843739242491034, 'metadata': {'part_num': 1}, 'sub_obj_metadata': None}\n",
      "{'obj_id': 32110640314422103883843739242491034, 'metadata': {'part_size': 100}, 'sub_obj_metadata': None}\n",
      "Single Metadata retrieval of single object : TPS = 1447.6995188491037 MetaPS: 1447.6975201089042\n"
     ]
    }
   ],
   "source": [
    "meta_keys=[\"type\", \"keys\", \"ranges\", \"name\", \"part_num\", \"part_size\"]\n",
    "\n",
    "start = time.time()\n",
    "for i in range(1000):\n",
    "    k = i % len(meta_keys)\n",
    "    result = bkc.get_object_metadata(\n",
    "        obj_ids[0],\n",
    "        meta_keys=[meta_keys[k]], # retreiving SINGLE!!!\n",
    "        \n",
    "    )\n",
    "    if i < len(meta_keys):\n",
    "        print(result)\n",
    "\n",
    "print(\"Single Metadata retrieval of single object : TPS = {} MetaPS: {}\".format(1000/(time.time()-start), 1000/(time.time()-start)))"
   ]
  },
  {
   "cell_type": "markdown",
   "id": "69da6ac0-2c99-4151-96eb-3c45862756ff",
   "metadata": {},
   "source": [
    "### Retrieving multiple metadata attributes from a single object\n",
    "\n",
    "Now we can combine the metadata retrieval of a single container into one single request. \n",
    "\n",
    "MetaPS is a new metric we designed to calculate the number of metadata attributes we can retrieve from one object within a second.\n",
    "\n",
    "Slight drop on TPS but MEGA IMPROVEMENT for MetaPS"
   ]
  },
  {
   "cell_type": "code",
   "execution_count": 9,
   "id": "b53c2db0-d736-4798-9b27-f01c2a6cb7c5",
   "metadata": {
    "execution": {
     "iopub.execute_input": "2025-02-28T05:41:48.477564Z",
     "iopub.status.busy": "2025-02-28T05:41:48.477466Z",
     "iopub.status.idle": "2025-02-28T05:41:49.253611Z",
     "shell.execute_reply": "2025-02-28T05:41:49.253354Z",
     "shell.execute_reply.started": "2025-02-28T05:41:48.477553Z"
    }
   },
   "outputs": [
    {
     "name": "stdout",
     "output_type": "stream",
     "text": [
      "{'metadata': {'keys': ['689609/arr6',\n",
      "                       '689609/arr5',\n",
      "                       '689609/arr4',\n",
      "                       '689609/arr3',\n",
      "                       '689609/gnn_arr1',\n",
      "                       '689609/gnn_arr2'],\n",
      "              'name': '689609',\n",
      "              'part_num': 1,\n",
      "              'part_size': 100,\n",
      "              'ranges': [(1, 100), (100, 200)],\n",
      "              'type': 'container'},\n",
      " 'obj_id': 32110640314422103883843739242491034,\n",
      " 'sub_obj_metadata': None}\n",
      "\n",
      " Multiple Metadata retrieval of single object : TPS=1292.1732754557245, MetaPS: 7753.030098578714 \n"
     ]
    }
   ],
   "source": [
    "meta_keys=[\"type\", \"keys\", \"ranges\", \"name\", \"part_num\", \"part_size\"]\n",
    "\n",
    "start = time.time()\n",
    "for i in range(1000):\n",
    "    result = bkc.get_object_metadata(\n",
    "        obj_ids[0],\n",
    "        meta_keys=meta_keys, # retrieving MULTIPLE!!!\n",
    "    )\n",
    "pprint(result)\n",
    "print(\"\\n Multiple Metadata retrieval of single object : TPS={}, MetaPS: {} \".format(1000/(time.time()-start), 1000*len(meta_keys)/(time.time()-start) ))"
   ]
  },
  {
   "cell_type": "markdown",
   "id": "57075ab8-80e7-4eca-8a15-d0fb94ea83ad",
   "metadata": {},
   "source": [
    "### Retrieving single attributes from a single sub-object"
   ]
  },
  {
   "cell_type": "code",
   "execution_count": 10,
   "id": "8d111feb-792d-48a9-9c7b-9919d6322eb2",
   "metadata": {
    "execution": {
     "iopub.execute_input": "2025-02-28T05:41:49.254101Z",
     "iopub.status.busy": "2025-02-28T05:41:49.254005Z",
     "iopub.status.idle": "2025-02-28T05:41:49.930929Z",
     "shell.execute_reply": "2025-02-28T05:41:49.930631Z",
     "shell.execute_reply.started": "2025-02-28T05:41:49.254089Z"
    }
   },
   "outputs": [
    {
     "name": "stdout",
     "output_type": "stream",
     "text": [
      "{'obj_id': 32110640314422712626398175952661658, 'metadata': {'name': '689609/arr6'}, 'sub_obj_metadata': None}\n",
      "{'obj_id': 32110640314422712626398175952661658, 'metadata': {'type': 'array'}, 'sub_obj_metadata': None}\n",
      "{'obj_id': 32110640314422712626398175952661658, 'metadata': {'shape': [1, 1, 1, 2, 5]}, 'sub_obj_metadata': None}\n",
      "{'obj_id': 32110640314422712626398175952661658, 'metadata': {'vcount': 100}, 'sub_obj_metadata': None}\n",
      "{'obj_id': 32110640314422712626398175952661658, 'metadata': {'voffset': 0}, 'sub_obj_metadata': None}\n",
      "{'obj_id': 32110640314422712626398175952661658, 'metadata': {'vdim': 0}, 'sub_obj_metadata': None}\n",
      "Single Metadata retrieval of a single sub-object : TPS=1482.4607630549767, MetaPS: 1482.4586671775135\n"
     ]
    }
   ],
   "source": [
    "meta_keys=[\"name\",\n",
    "            \"type\",\n",
    "            \"shape\",\n",
    "            \"vcount\",\n",
    "            \"voffset\",\n",
    "            \"vdim\"]\n",
    "\n",
    "start = time.time()\n",
    "for i in range(1000):\n",
    "    k = i % len(meta_keys)\n",
    "    result = bkc.get_object_metadata(\n",
    "        obj_ids[1],\n",
    "        meta_keys=[meta_keys[k]], # retreiving SINGLE!!!\n",
    "        \n",
    "    )\n",
    "    if i < len(meta_keys):\n",
    "        print(result)\n",
    "\n",
    "print(\"Single Metadata retrieval of a single sub-object : TPS={}, MetaPS: {}\".format(1000/(time.time()-start), 1000/(time.time()-start)))"
   ]
  },
  {
   "cell_type": "markdown",
   "id": "918cd7d4-7f43-4770-8e16-5e8926f354e6",
   "metadata": {},
   "source": [
    "### Retrieving multiple attributes from single sub-objects"
   ]
  },
  {
   "cell_type": "code",
   "execution_count": 11,
   "id": "ada9cdc5-c928-4052-82d2-b74b4ef6ff55",
   "metadata": {
    "execution": {
     "iopub.execute_input": "2025-02-28T05:41:49.931422Z",
     "iopub.status.busy": "2025-02-28T05:41:49.931331Z",
     "iopub.status.idle": "2025-02-28T05:41:50.658879Z",
     "shell.execute_reply": "2025-02-28T05:41:50.658594Z",
     "shell.execute_reply.started": "2025-02-28T05:41:49.931411Z"
    }
   },
   "outputs": [
    {
     "name": "stdout",
     "output_type": "stream",
     "text": [
      "{'metadata': {'name': '689609/arr6',\n",
      "              'shape': [1, 1, 1, 2, 5],\n",
      "              'type': 'array',\n",
      "              'vcount': 100,\n",
      "              'vdim': 0,\n",
      "              'voffset': 0},\n",
      " 'obj_id': 32110640314422712626398175952661658,\n",
      " 'sub_obj_metadata': None}\n",
      "\n",
      " Multiple Metadata retrieval of a single sub-object : TPS=1378.5779129304128, MetaPS: 8271.44572840571\n"
     ]
    }
   ],
   "source": [
    "meta_keys=[\"name\",\n",
    "            \"type\",\n",
    "            \"shape\",\n",
    "            \"vcount\",\n",
    "            \"voffset\",\n",
    "            \"vdim\"]\n",
    "\n",
    "start = time.time()\n",
    "for i in range(1000):\n",
    "    result = bkc.get_object_metadata(\n",
    "        obj_ids[1],\n",
    "        meta_keys=meta_keys, # retreiving SINGLE!!!\n",
    "        \n",
    "    )\n",
    "    \n",
    "pprint(result)\n",
    "print(\"\\n Multiple Metadata retrieval of a single sub-object : TPS={}, MetaPS: {}\".format(1000/(time.time()-start), 1000*len(meta_keys)/(time.time()-start)))"
   ]
  },
  {
   "cell_type": "markdown",
   "id": "9650adfc-e1d8-4004-9ea1-82b88722888f",
   "metadata": {},
   "source": [
    "### Retrieving multiple attributes from multiple sub-objects"
   ]
  },
  {
   "cell_type": "code",
   "execution_count": 12,
   "id": "c487bb76-44b8-48e4-a96e-6e7f1eccdfcf",
   "metadata": {
    "execution": {
     "iopub.execute_input": "2025-02-28T05:41:50.660936Z",
     "iopub.status.busy": "2025-02-28T05:41:50.660829Z",
     "iopub.status.idle": "2025-02-28T05:41:51.644953Z",
     "shell.execute_reply": "2025-02-28T05:41:51.644693Z",
     "shell.execute_reply.started": "2025-02-28T05:41:50.660923Z"
    }
   },
   "outputs": [
    {
     "name": "stdout",
     "output_type": "stream",
     "text": [
      "{'metadata': {},\n",
      " 'obj_id': 32110640314422103883843739242491034,\n",
      " 'sub_obj_metadata': [{'metadata': {'name': '689609/arr5',\n",
      "                                    'shape': [1, 1, 1, 2, 5],\n",
      "                                    'type': 'array',\n",
      "                                    'vcount': 100,\n",
      "                                    'vdim': 0,\n",
      "                                    'voffset': 0},\n",
      "                       'name': '689609/arr5',\n",
      "                       'obj_id': 32110640314422970880815212181351578},\n",
      "                      {'metadata': {'name': '689609/gnn_arr1',\n",
      "                                    'shape': [100000, 2],\n",
      "                                    'type': 'array',\n",
      "                                    'vcount': 100,\n",
      "                                    'vdim': 0,\n",
      "                                    'voffset': 0},\n",
      "                       'name': '689609/gnn_arr1',\n",
      "                       'obj_id': 32110640314433356397728723543813274},\n",
      "                      {'metadata': {'name': '689609/arr3',\n",
      "                                    'shape': [15, 15, 15],\n",
      "                                    'type': 'array',\n",
      "                                    'vcount': 100,\n",
      "                                    'vdim': 0,\n",
      "                                    'voffset': 0},\n",
      "                       'name': '689609/arr3',\n",
      "                       'obj_id': 32110640314433208823776129572433050},\n",
      "                      {'metadata': {'name': '689609/arr4',\n",
      "                                    'shape': [15, 15, 15, 15, 15],\n",
      "                                    'type': 'array',\n",
      "                                    'vcount': 100,\n",
      "                                    'vdim': 0,\n",
      "                                    'voffset': 0},\n",
      "                       'name': '689609/arr4',\n",
      "                       'obj_id': 32110640314423173795000027281386650},\n",
      "                      {'metadata': {'name': '689609/gnn_arr2',\n",
      "                                    'shape': [1, 100000],\n",
      "                                    'type': 'array',\n",
      "                                    'vcount': 100,\n",
      "                                    'vdim': 0,\n",
      "                                    'voffset': 0},\n",
      "                       'name': '689609/gnn_arr2',\n",
      "                       'obj_id': 32110640314436086515851636852419738},\n",
      "                      {'metadata': {'name': '689609/arr6',\n",
      "                                    'shape': [1, 1, 1, 2, 5],\n",
      "                                    'type': 'array',\n",
      "                                    'vcount': 100,\n",
      "                                    'vdim': 0,\n",
      "                                    'voffset': 0},\n",
      "                       'name': '689609/arr6',\n",
      "                       'obj_id': 32110640314422712626398175952661658}]}\n",
      "Multiple Metadata retrieval of a single sub-object : TPS=1018.4638433903598, MetaPS: 18332.313569304413\n"
     ]
    }
   ],
   "source": [
    "meta_keys=[\"name\",\n",
    "            \"type\",\n",
    "            \"shape\",\n",
    "            \"vcount\",\n",
    "            \"voffset\",\n",
    "            \"vdim\"]\n",
    "\n",
    "start = time.time()\n",
    "for i in range(1000):\n",
    "    result = bkc.get_object_metadata(\n",
    "        obj_ids[0],\n",
    "        sub_meta_keys=meta_keys, # retreiving MULTIPLE for every sub-object!!!     \n",
    "    )\n",
    "\n",
    "pprint(result)\n",
    "print(\"Multiple Metadata retrieval of a single sub-object : TPS={}, MetaPS: {}\".format(1000/(time.time()-start), 1000*len(meta_keys)*3/(time.time()-start)))"
   ]
  },
  {
   "cell_type": "markdown",
   "id": "75c83814-e126-4bfd-9adf-e014299ea3f5",
   "metadata": {},
   "source": [
    "### Retrieving different set of attributes from multiple sub-objects"
   ]
  },
  {
   "cell_type": "code",
   "execution_count": 13,
   "id": "c460b192-f50f-41db-b293-11f505f07d94",
   "metadata": {
    "execution": {
     "iopub.execute_input": "2025-02-28T05:41:51.645427Z",
     "iopub.status.busy": "2025-02-28T05:41:51.645330Z",
     "iopub.status.idle": "2025-02-28T05:41:52.415956Z",
     "shell.execute_reply": "2025-02-28T05:41:52.415696Z",
     "shell.execute_reply.started": "2025-02-28T05:41:51.645416Z"
    }
   },
   "outputs": [
    {
     "name": "stdout",
     "output_type": "stream",
     "text": [
      "{'metadata': {},\n",
      " 'obj_id': 32110640314422103883843739242491034,\n",
      " 'sub_obj_metadata': [{'metadata': {'type': 'array', 'vcount': 100},\n",
      "                       'name': '689609/arr4',\n",
      "                       'obj_id': 32110640314423173795000027281386650},\n",
      "                      {'metadata': {'name': '689609/arr5',\n",
      "                                    'type': 'array',\n",
      "                                    'voffset': 0},\n",
      "                       'name': '689609/arr5',\n",
      "                       'obj_id': 32110640314422970880815212181351578}]}\n",
      "\n",
      " Multiple Metadata retrieval of a single sub-object : TPS=1301.219067651352, MetaPS: 6506.087264598003\n"
     ]
    }
   ],
   "source": [
    "# meta_keys=[\"name\",\n",
    "#             \"type\",\n",
    "#             \"shape\",\n",
    "#             \"vcount\",\n",
    "#             \"voffset\",\n",
    "#             \"vdim\"]\n",
    "\n",
    "start = time.time()\n",
    "for i in range(1000):\n",
    "    result = bkc.get_object_metadata(\n",
    "        obj_ids[0],\n",
    "        sub_meta_keys={\"{}/arr5\".format(name_id):[ \"name\", \"type\", \"voffset\" ],\n",
    "                      \"{}/arr4\".format(name_id):[\"type\", \"vcount\"]}      # retrieving different set of metadata for different sub-objects\n",
    "    )\n",
    "\n",
    "pprint(result)\n",
    "print(\"\\n Multiple Metadata retrieval of a single sub-object : TPS={}, MetaPS: {}\".format(1000/(time.time()-start), 1000*5/(time.time()-start)))"
   ]
  },
  {
   "cell_type": "markdown",
   "id": "baebe3e4-1d92-4b2b-95f7-138ebe60ef16",
   "metadata": {},
   "source": [
    "### Retrieving array of a single object"
   ]
  },
  {
   "cell_type": "code",
   "execution_count": 19,
   "id": "86e6c89c-235f-4ac4-bc92-60262a7e4300",
   "metadata": {
    "execution": {
     "iopub.execute_input": "2025-02-28T05:45:33.461246Z",
     "iopub.status.busy": "2025-02-28T05:45:33.460674Z",
     "iopub.status.idle": "2025-02-28T05:45:34.290486Z",
     "shell.execute_reply": "2025-02-28T05:45:34.290158Z",
     "shell.execute_reply.started": "2025-02-28T05:45:33.461192Z"
    }
   },
   "outputs": [
    {
     "name": "stdout",
     "output_type": "stream",
     "text": [
      "{'array_slice': array([[[0.04777806, 0.01492931]]]), 'sub_obj_slices': []}\n",
      "\n",
      " retrieving array slice of a single 3D array, TPS=1211.4926911327705, Sample/s = 201.91521523545438\n"
     ]
    }
   ],
   "source": [
    "start = time.time()\n",
    "for i in range(1000):\n",
    "    result = bkc.get_object_data(\n",
    "        obj_ids[0],\n",
    "        region=[slice(0, 1), slice(0, 1), slice(0, 2, -1)],\n",
    "        \n",
    "    )\n",
    "pprint(result)\n",
    "print(\"\\n retrieving array slice of a single 3D array, TPS={}, Sample/s = {}\".format(1000/(time.time()-start), (1000/6)/(time.time()-start)))"
   ]
  },
  {
   "cell_type": "markdown",
   "id": "1a5018d9-e2c1-4662-ac5e-76eeb82543c7",
   "metadata": {},
   "source": [
    "### Retrieving array slices of multiple sub-objects (Large subarray included)"
   ]
  },
  {
   "cell_type": "code",
   "execution_count": 20,
   "id": "047c806e-0851-4f76-8d50-e11516176639",
   "metadata": {
    "execution": {
     "iopub.execute_input": "2025-02-28T05:45:41.063695Z",
     "iopub.status.busy": "2025-02-28T05:45:41.063114Z",
     "iopub.status.idle": "2025-02-28T05:45:43.371925Z",
     "shell.execute_reply": "2025-02-28T05:45:43.371658Z",
     "shell.execute_reply.started": "2025-02-28T05:45:41.063657Z"
    }
   },
   "outputs": [
    {
     "name": "stdout",
     "output_type": "stream",
     "text": [
      "{'array_slice': array([[[0.04777806, 0.01492931],\n",
      "        [0.080134  , 0.50924195]]]),\n",
      " 'sub_obj_slices': [{'array': array([[[[[1.45058269, 0.85441015],\n",
      "          [0.95909726, 1.06440206]]]]]),\n",
      "                     'id': 32110640314422970880815212181351578,\n",
      "                     'name': '689609/arr5'},\n",
      "                    {'array': array([[[[[1.42722742, 0.28197623]]]],\n",
      "\n",
      "\n",
      "\n",
      "       [[[[0.78869064, 1.13682084]]]]]),\n",
      "                     'id': 32110640314423173795000027281386650,\n",
      "                     'name': '689609/arr4'},\n",
      "                    {'array': array([[[0.82158399, 0.4114978 , 0.47877315, 0.45233998, 0.04777806],\n",
      "        [0.72869339, 0.62328352, 0.28240017, 0.88111086, 0.080134  ]]]),\n",
      "                     'id': 32110640314433208823776129572433050,\n",
      "                     'name': '689609/arr3'},\n",
      "                    {'array': array([[[[[2.90116538, 1.7088203 ],\n",
      "          [1.91819452, 2.12880412]]]]]),\n",
      "                     'id': 32110640314422712626398175952661658,\n",
      "                     'name': '689609/arr6'}]}\n",
      "\n",
      " retrieving array slice of a single 3D array, TPS=434.279996487909, Sample/s=651.4196574905397\n"
     ]
    }
   ],
   "source": [
    "start = time.time()\n",
    "for i in range(1000):\n",
    "    result = bkc.get_object_data(\n",
    "        obj_ids[0],\n",
    "        region=[slice(0, 1), slice(0, 2), slice(0, 2, -1)],\n",
    "        sub_obj_regions=[\n",
    "            (\n",
    "                \"{}/arr5\".format(name_id),\n",
    "                [slice(0, 1), slice(0, 1), slice(0, 1), slice(0, 2), slice(0, 2, -1)],\n",
    "            ),\n",
    "            (\n",
    "                \"{}/arr4\".format(name_id),\n",
    "                [slice(0, 2, -1), slice(0, 1), slice(0, 1), slice(0, 1), slice(0, 2, -1)],\n",
    "            ),\n",
    "            (\n",
    "                \"{}/arr3\".format(name_id),\n",
    "                [slice(0, 1), slice(0, 2), slice(0, 10, -2)],\n",
    "            ),\n",
    "            (\n",
    "                \"{}/arr6\".format(name_id),\n",
    "                [slice(0, 1), slice(0, 1), slice(0, 1), slice(0, 2), slice(0, 2, -1)],\n",
    "            ),\n",
    "        ]\n",
    "    )\n",
    "pprint(result)\n",
    "print(\"\\n retrieving array slice of a single 3D array, TPS={}, Sample/s={}\".format(1000/(time.time()-start), (1000/(4/6))/(time.time()-start)))"
   ]
  },
  {
   "cell_type": "markdown",
   "id": "6eb6151e-4cdf-433a-a19c-e557a7f5bb4e",
   "metadata": {},
   "source": [
    "### Retrieving slices of multiple objects (only GNN arrays)"
   ]
  },
  {
   "cell_type": "code",
   "execution_count": 23,
   "id": "9b9d4283-2046-4a1a-aae4-7256368a7d7d",
   "metadata": {
    "execution": {
     "iopub.execute_input": "2025-02-28T05:47:00.367920Z",
     "iopub.status.busy": "2025-02-28T05:47:00.367446Z",
     "iopub.status.idle": "2025-02-28T05:47:02.650530Z",
     "shell.execute_reply": "2025-02-28T05:47:02.650258Z",
     "shell.execute_reply.started": "2025-02-28T05:47:00.367889Z"
    }
   },
   "outputs": [
    {
     "name": "stdout",
     "output_type": "stream",
     "text": [
      "{'array_slice': None,\n",
      " 'sub_obj_slices': [{'array': array([], shape=(20, 0), dtype=float64),\n",
      "                     'id': 32110640314433356397728723543813274,\n",
      "                     'name': '689609/gnn_arr1'},\n",
      "                    {'array': array([], shape=(10, 0), dtype=float64),\n",
      "                     'id': 32110640314433356397728723543813274,\n",
      "                     'name': '689609/gnn_arr1'},\n",
      "                    {'array': array([], shape=(15, 0), dtype=float64),\n",
      "                     'id': 32110640314433356397728723543813274,\n",
      "                     'name': '689609/gnn_arr1'},\n",
      "                    {'array': array([], shape=(0, 20), dtype=float64),\n",
      "                     'id': 32110640314436086515851636852419738,\n",
      "                     'name': '689609/gnn_arr2'},\n",
      "                    {'array': array([], shape=(0, 20), dtype=float64),\n",
      "                     'id': 32110640314436086515851636852419738,\n",
      "                     'name': '689609/gnn_arr2'},\n",
      "                    {'array': array([], shape=(0, 20), dtype=float64),\n",
      "                     'id': 32110640314436086515851636852419738,\n",
      "                     'name': '689609/gnn_arr2'}]}\n",
      "\n",
      " retrieving array slice of a single 3D array, TPS=439.0010216448241, Sample/s=439.0002405220396\n"
     ]
    }
   ],
   "source": [
    "start = time.time()\n",
    "for i in range(1000):\n",
    "    result = bkc.get_object_data(\n",
    "        obj_ids[0],\n",
    "        region=None,\n",
    "        sub_obj_regions=[\n",
    "            (\n",
    "                \"{}/gnn_arr1\".format(name_id),\n",
    "                [slice(0, 20, -1), slice(0)],\n",
    "            ),\n",
    "            (\n",
    "                \"{}/gnn_arr1\".format(name_id),\n",
    "                [slice(0, 10, -1), slice(0)],\n",
    "            ),\n",
    "            (\n",
    "                \"{}/gnn_arr1\".format(name_id),\n",
    "                [slice(0, 15, -1), slice(0)],\n",
    "            ),\n",
    "            (\n",
    "                \"{}/gnn_arr2\".format(name_id),\n",
    "                [slice(0), slice(0, 20, -1)],\n",
    "            ),\n",
    "            (\n",
    "                \"{}/gnn_arr2\".format(name_id),\n",
    "                [slice(0), slice(0, 20, -1)],\n",
    "            ),\n",
    "            (\n",
    "                \"{}/gnn_arr2\".format(name_id),\n",
    "                [slice(0), slice(0, 20, -1)],\n",
    "            ),\n",
    "              \n",
    "        ]\n",
    "    )\n",
    "pprint(result)\n",
    "print(\"\\n retrieving array slice of a single 3D array, TPS={}, Sample/s={}\".format(1000/(time.time()-start), (1000)/(time.time()-start)))"
   ]
  },
  {
   "cell_type": "code",
   "execution_count": null,
   "id": "8c55f852-6d95-4cb4-92e9-49440cb8e013",
   "metadata": {},
   "outputs": [],
   "source": []
  },
  {
   "cell_type": "markdown",
   "id": "4a5b5176-c08f-497f-9069-f1a79bfa0925",
   "metadata": {},
   "source": [
    "## Closing the Store"
   ]
  },
  {
   "cell_type": "code",
   "execution_count": 17,
   "id": "271fefa9-b496-4eef-84ab-d8c23ac94362",
   "metadata": {
    "execution": {
     "iopub.execute_input": "2025-02-28T05:41:57.714524Z",
     "iopub.status.busy": "2025-02-28T05:41:57.714414Z",
     "iopub.status.idle": "2025-02-28T05:41:57.716271Z",
     "shell.execute_reply": "2025-02-28T05:41:57.715950Z",
     "shell.execute_reply.started": "2025-02-28T05:41:57.714510Z"
    }
   },
   "outputs": [],
   "source": [
    "# server_process.terminate()\n",
    "# server_process.wait()\n",
    "# print(\"Server process terminated.\")\n"
   ]
  },
  {
   "cell_type": "code",
   "execution_count": null,
   "id": "b843f7a2-0403-41e4-bc38-1abbbac90df5",
   "metadata": {},
   "outputs": [],
   "source": []
  }
 ],
 "metadata": {
  "kernelspec": {
   "display_name": "Python (base)",
   "language": "python",
   "name": "base"
  },
  "language_info": {
   "codemirror_mode": {
    "name": "ipython",
    "version": 3
   },
   "file_extension": ".py",
   "mimetype": "text/x-python",
   "name": "python",
   "nbconvert_exporter": "python",
   "pygments_lexer": "ipython3",
   "version": "3.12.2"
  }
 },
 "nbformat": 4,
 "nbformat_minor": 5
}
