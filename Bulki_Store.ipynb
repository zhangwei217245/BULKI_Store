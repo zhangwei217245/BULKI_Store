{
      "cells": [
            {
                  "cell_type": "markdown",
                  "id": "0affd900-afe5-4c0e-95a5-6bee49e10a28",
                  "metadata": {},
                  "source": [
                        "# BULKI_Store Demo"
                  ]
            },
            {
                  "cell_type": "markdown",
                  "id": "8018064e-9b27-4a40-88fd-c61c86dd232a",
                  "metadata": {},
                  "source": [
                        "## Starting Server"
                  ]
            },
            {
                  "cell_type": "code",
                  "execution_count": 8,
                  "id": "bb352f7a-d9a5-477b-9882-7b9cf31b301f",
                  "metadata": {
                        "execution": {
                              "iopub.execute_input": "2025-02-28T05:41:39.254010Z",
                              "iopub.status.busy": "2025-02-28T05:41:39.253811Z",
                              "iopub.status.idle": "2025-02-28T05:41:39.258481Z",
                              "shell.execute_reply": "2025-02-28T05:41:39.257538Z",
                              "shell.execute_reply.started": "2025-02-28T05:41:39.253987Z"
                        }
                  },
                  "outputs": [
                        {
                              "name": "stdout",
                              "output_type": "stream",
                              "text": [
                                    "env: RUST_LOG=debug\n",
                                    "Let's start\n"
                              ]
                        }
                  ],
                  "source": [
                        "\n",
                        "%env RUST_LOG=debug\n",
                        "print(\"Let's start\")"
                  ]
            },
            {
                  "cell_type": "code",
                  "execution_count": 9,
                  "id": "ad28327e-746d-47cf-9e47-e0865bf76b4e",
                  "metadata": {
                        "execution": {
                              "iopub.execute_input": "2025-02-28T05:41:39.261040Z",
                              "iopub.status.busy": "2025-02-28T05:41:39.260843Z",
                              "iopub.status.idle": "2025-02-28T05:41:39.265728Z",
                              "shell.execute_reply": "2025-02-28T05:41:39.265114Z",
                              "shell.execute_reply.started": "2025-02-28T05:41:39.261017Z"
                        }
                  },
                  "outputs": [],
                  "source": [
                        "# import subprocess\n",
                        "\n",
                        "# # Start the server as a background process\n",
                        "# server_process = subprocess.Popen(\n",
                        "#     ['/opt/homebrew/bin/mpirun', '-np', '4', 'target/debug/bulkistore-server'],\n",
                        "#     env={'RUST_LOG': 'debug'},\n",
                        "#     stdout=subprocess.PIPE,\n",
                        "#     stderr=subprocess.PIPE\n",
                        "# )\n",
                        "\n",
                        "# print(\"Server started with PID:\", server_process.pid)"
                  ]
            },
            {
                  "cell_type": "markdown",
                  "id": "02b86998-32fc-4342-ab51-07bcc276f28a",
                  "metadata": {},
                  "source": [
                        "## Creating Arrays"
                  ]
            },
            {
                  "cell_type": "code",
                  "execution_count": 10,
                  "id": "e1c65e4b-9eeb-4c4d-a85a-12c7f03a28a0",
                  "metadata": {
                        "execution": {
                              "iopub.execute_input": "2025-02-28T17:28:28.971028Z",
                              "iopub.status.busy": "2025-02-28T17:28:28.970655Z",
                              "iopub.status.idle": "2025-02-28T17:28:28.983982Z",
                              "shell.execute_reply": "2025-02-28T17:28:28.983587Z",
                              "shell.execute_reply.started": "2025-02-28T17:28:28.970995Z"
                        }
                  },
                  "outputs": [
                        {
                              "name": "stdout",
                              "output_type": "stream",
                              "text": [
                                    "5D array size = 759375 elements\n",
                                    "rd1.shape= (15, 15, 15, 15, 15)\n",
                                    "rd1 last 2 dim preview:\n",
                                    "[[[[[8.60659800e-05 9.73895135e-01 5.76562820e-01 9.21060877e-01\n",
                                    "     6.76601485e-01 2.27258591e-01 4.32011075e-02 9.13933589e-01\n",
                                    "     7.49988178e-01 4.78288274e-01 9.59193667e-01 1.49411865e-01\n",
                                    "     3.68864370e-01 8.31510562e-01 6.67647388e-01]\n",
                                    "    [8.91248301e-02 5.66547528e-01 2.94469272e-01 7.32746613e-01\n",
                                    "     8.96317163e-01 6.39601731e-01 1.95419276e-01 1.92912133e-01\n",
                                    "     1.29165706e-02 5.96497823e-01 8.72988232e-01 7.85182415e-01\n",
                                    "     4.92715796e-01 6.23480819e-01 4.39089218e-01]]]]]\n",
                                    "rd2.shape= (15, 15, 15, 15, 15)\n",
                                    "rd2 last 2 dim preview:\n",
                                    "[[[[[0.3321544  0.33543769 0.62572182 0.68339472 0.10839495 0.61176486\n",
                                    "     0.90140437 0.3781704  0.68609746 0.35257004 0.22016598 0.88263596\n",
                                    "     0.10707881 0.71562959 0.46376008]\n",
                                    "    [0.03137295 0.7918015  0.65082691 0.06104403 0.73150472 0.64130607\n",
                                    "     0.9907016  0.40456413 0.08444942 0.98090678 0.36138976 0.93001023\n",
                                    "     0.24211556 0.55888293 0.45297701]]]]]\n",
                                    "arr3.shape= (15, 15, 15)\n",
                                    "arr3 last 2 dim preview:\n",
                                    "[[[0.67145357 0.48205712 0.4801087  0.41273197 0.66990384 0.5314196\n",
                                    "   0.30173034 0.42578952 0.96242479 0.70220418 0.23142838 0.35962885\n",
                                    "   0.28783699 0.24155492 0.89376746]\n",
                                    "  [0.8233581  0.83928621 0.7281723  0.88348578 0.99558762 0.72301612\n",
                                    "   0.10315586 0.18501475 0.88262166 0.46147236 0.92383923 0.05179691\n",
                                    "   0.08649111 0.95299727 0.60017509]]]\n"
                              ]
                        }
                  ],
                  "source": [
                        "import bkstore_client as bkc\n",
                        "import numpy as np\n",
                        "import time\n",
                        "from pprint import pprint\n",
                        "\n",
                        "\n",
                        "bkc.init()\n",
                        "dim_size = 15\n",
                        "\n",
                        "print(\"5D array size = {} elements\".format(dim_size**5))\n",
                        "\n",
                        "# dim_size = 10\n",
                        "rd1 = np.random.rand(dim_size, dim_size, dim_size, dim_size, dim_size)\n",
                        "rd2 = np.random.rand(dim_size, dim_size, dim_size, dim_size, dim_size)\n",
                        "\n",
                        "print(\"rd1.shape=\", rd1.shape)\n",
                        "print(\"rd1 last 2 dim preview:\")\n",
                        "print(rd1[0:1, 0:1, 0:1, 0:2, 0:])\n",
                        "\n",
                        "print(\"rd2.shape=\", rd2.shape)\n",
                        "print(\"rd2 last 2 dim preview:\")\n",
                        "print(rd2[0:1, 0:1, 0:1, 0:2, 0:])\n",
                        "\n",
                        "arr3 = np.random.rand(dim_size, dim_size, dim_size)\n",
                        "print(\"arr3.shape=\", arr3.shape)\n",
                        "print(\"arr3 last 2 dim preview:\")\n",
                        "print(arr3[0:1, 0:2, 0:])"
                  ]
            },
            {
                  "cell_type": "markdown",
                  "id": "9c99005b-814f-49d9-a353-cf13f41e7766",
                  "metadata": {},
                  "source": [
                        "## Client-Side NDArray Arithmetic Operation"
                  ]
            },
            {
                  "cell_type": "code",
                  "execution_count": 11,
                  "id": "e8f78089-b1d0-4221-9154-6290abe5bac1",
                  "metadata": {
                        "execution": {
                              "iopub.execute_input": "2025-02-28T17:30:08.380322Z",
                              "iopub.status.busy": "2025-02-28T17:30:08.379953Z",
                              "iopub.status.idle": "2025-02-28T17:30:08.418732Z",
                              "shell.execute_reply": "2025-02-28T17:30:08.418240Z",
                              "shell.execute_reply.started": "2025-02-28T17:30:08.380279Z"
                        }
                  },
                  "outputs": [
                        {
                              "name": "stdout",
                              "output_type": "stream",
                              "text": [
                                    "arr4.shape= (15, 15, 15, 15, 15)\n",
                                    "arr4 last 2 dim preview:\n",
                                    "[[[[[0.33224046 1.30933282 1.20228464 1.60445559 0.78499644 0.83902345\n",
                                    "     0.94460548 1.29210399 1.43608564 0.83085831 1.17935965 1.03204783\n",
                                    "     0.47594318 1.54714015 1.13140747]\n",
                                    "    [0.12049778 1.35834903 0.94529618 0.79379064 1.62782188 1.2809078\n",
                                    "     1.18612087 0.59747627 0.09736599 1.57740461 1.23437799 1.71519264\n",
                                    "     0.73483136 1.18236375 0.89206623]]]]]\n"
                              ]
                        }
                  ],
                  "source": [
                        "arr4 = bkc.polymorphic_add(rd1, rd2)\n",
                        "\n",
                        "print(\"arr4.shape=\", arr4.shape)\n",
                        "print(\"arr4 last 2 dim preview:\")\n",
                        "print(arr4[0:1, 0:1, 0:1, 0:2, 0:])"
                  ]
            },
            {
                  "cell_type": "markdown",
                  "id": "23e46f92-f17f-424f-a17a-541501d73ce4",
                  "metadata": {},
                  "source": [
                        "## Remote Array Slicing"
                  ]
            },
            {
                  "cell_type": "code",
                  "execution_count": 12,
                  "id": "4b65e224-b51a-453f-8f53-53f71b99670a",
                  "metadata": {
                        "execution": {
                              "iopub.execute_input": "2025-02-28T17:30:11.992171Z",
                              "iopub.status.busy": "2025-02-28T17:30:11.991774Z",
                              "iopub.status.idle": "2025-02-28T17:30:11.997090Z",
                              "shell.execute_reply": "2025-02-28T17:30:11.996558Z",
                              "shell.execute_reply.started": "2025-02-28T17:30:11.992138Z"
                        }
                  },
                  "outputs": [
                        {
                              "name": "stdout",
                              "output_type": "stream",
                              "text": [
                                    "arr5.shape= (1, 1, 1, 2, 5)\n",
                                    "arr5 last 2 dim preview:\n",
                                    "[[[[[0.83085831 1.29210399 0.83902345 1.60445559 1.30933282]\n",
                                    "    [1.57740461 0.59747627 1.2809078  0.79379064 1.35834903]]]]]\n"
                              ]
                        }
                  ],
                  "source": [
                        "arr5 = bkc.array_slicing(\n",
                        "    arr4, [slice(0, 1), slice(0, 1), slice(0, 1), slice(0, 2), slice(0, 10, -2)]\n",
                        ")\n",
                        "\n",
                        "print(\"arr5.shape=\", arr5.shape)\n",
                        "print(\"arr5 last 2 dim preview:\")\n",
                        "print(arr5[0:1, 0:1, 0:1, 0:2, 0:])"
                  ]
            },
            {
                  "cell_type": "markdown",
                  "id": "927e1606-6fe9-4ce5-bff7-d2abb03ab922",
                  "metadata": {},
                  "source": [
                        "## Remote Array Arithmetic Operation"
                  ]
            },
            {
                  "cell_type": "code",
                  "execution_count": 13,
                  "id": "90ce6f0b-cbd1-43ef-b84e-23e8716225af",
                  "metadata": {
                        "execution": {
                              "iopub.execute_input": "2025-02-28T17:30:26.198069Z",
                              "iopub.status.busy": "2025-02-28T17:30:26.197595Z",
                              "iopub.status.idle": "2025-02-28T17:30:26.209466Z",
                              "shell.execute_reply": "2025-02-28T17:30:26.209081Z",
                              "shell.execute_reply.started": "2025-02-28T17:30:26.198037Z"
                        }
                  },
                  "outputs": [
                        {
                              "name": "stdout",
                              "output_type": "stream",
                              "text": [
                                    "arr6.shape= (1, 1, 1, 2, 5)\n",
                                    "arr6:\n",
                                    "[[[[[1.66171663 2.58420797 1.6780469  3.20891119 2.61866565]\n",
                                    "    [3.15480921 1.19495253 2.5618156  1.58758128 2.71669805]]]]]\n"
                              ]
                        }
                  ],
                  "source": [
                        "arr6 = bkc.times_two(arr5)\n",
                        "\n",
                        "print(\"arr6.shape=\", arr6.shape)\n",
                        "print(\"arr6:\")\n",
                        "print(arr6)"
                  ]
            },
            {
                  "cell_type": "markdown",
                  "id": "10a687f2-e5f3-47fb-b8c0-a2f1a0bc3413",
                  "metadata": {},
                  "source": [
                        "## Creating Object with Multiple NDArrays\n",
                        "\n",
                        "1. You can attach a series of metadata attributes directly to the object you are creating\n",
                        "2. You can attach a series of NDArrays directly to the object you are creating along with the metadata attributes of these NDArrays.\n",
                        "3. Each of these NDArrays will become a sub-object of the main object you are creating."
                  ]
            },
            {
                  "cell_type": "code",
                  "execution_count": 14,
                  "id": "f5fe543f-9a9e-4688-96aa-1201d570ac7f",
                  "metadata": {
                        "execution": {
                              "iopub.execute_input": "2025-02-28T17:32:13.125162Z",
                              "iopub.status.busy": "2025-02-28T17:32:13.124843Z",
                              "iopub.status.idle": "2025-02-28T17:32:21.843102Z",
                              "shell.execute_reply": "2025-02-28T17:32:21.842802Z",
                              "shell.execute_reply.started": "2025-02-28T17:32:13.125135Z"
                        }
                  },
                  "outputs": [
                        {
                              "name": "stdout",
                              "output_type": "stream",
                              "text": [
                                    "[32119348377435464046736803755310233, 32119348377435593173945324017138841, 32119348377435832981618286536277145, 32119348377435999002314954217208985, 32119348377447159282479552790903961, 32119348377447399090152515310042265, 32119348377449741826649880718064793]\n"
                              ]
                        }
                  ],
                  "source": [
                        "# Create an 3D array\n",
                        "\n",
                        "name_id = str(np.random.rand(1)[0] * 1000000)[0:6]\n",
                        "\n",
                        "gnn_arr1 = np.random.rand(100000, 2)\n",
                        "gnn_arr2 = np.random.rand(1, 100000)\n",
                        "\n",
                        "obj_ids = bkc.create_objects(\n",
                        "    obj_name_key=\"name\",\n",
                        "    parent_id=None,\n",
                        "    metadata={\n",
                        "        \"name\": \"{}\".format(name_id),\n",
                        "        \"type\": \"container\",\n",
                        "        \"keys\": [\n",
                        "            \"{}/arr6\".format(name_id),\n",
                        "            \"{}/arr5\".format(name_id),\n",
                        "            \"{}/arr4\".format(name_id),\n",
                        "            \"{}/arr3\".format(name_id),\n",
                        "            \"{}/gnn_arr1\".format(name_id),\n",
                        "            \"{}/gnn_arr2\".format(name_id),\n",
                        "        ],\n",
                        "        \"ranges\": [(1, 100), (100, 200)],\n",
                        "        \"part_num\": 1,\n",
                        "        \"part_size\": 100,\n",
                        "    },\n",
                        "    data=arr3,\n",
                        "    array_meta_list=[\n",
                        "        {\n",
                        "            \"name\": \"{}/arr6\".format(name_id),\n",
                        "            \"type\": \"array\",\n",
                        "            \"shape\": arr6.shape,\n",
                        "            \"vcount\": 100,\n",
                        "            \"voffset\": 0,\n",
                        "            \"vdim\": 0,\n",
                        "        },\n",
                        "        {\n",
                        "            \"name\": \"{}/arr5\".format(name_id),\n",
                        "            \"type\": \"array\",\n",
                        "            \"shape\": arr6.shape,\n",
                        "            \"vcount\": 100,\n",
                        "            \"voffset\": 0,\n",
                        "            \"vdim\": 0,\n",
                        "        },\n",
                        "        {\n",
                        "            \"name\": \"{}/arr4\".format(name_id),\n",
                        "            \"type\": \"array\",\n",
                        "            \"shape\": arr4.shape,\n",
                        "            \"vcount\": 100,\n",
                        "            \"voffset\": 0,\n",
                        "            \"vdim\": 0,\n",
                        "        },\n",
                        "        {\n",
                        "            \"name\": \"{}/arr3\".format(name_id),\n",
                        "            \"type\": \"array\",\n",
                        "            \"shape\": arr3.shape,\n",
                        "            \"vcount\": 100,\n",
                        "            \"voffset\": 0,\n",
                        "            \"vdim\": 0,\n",
                        "        },\n",
                        "        {\n",
                        "            \"name\": \"{}/gnn_arr1\".format(name_id),\n",
                        "            \"type\": \"array\",\n",
                        "            \"shape\": gnn_arr1.shape,\n",
                        "            \"vcount\": 100,\n",
                        "            \"voffset\": 0,\n",
                        "            \"vdim\": 0,\n",
                        "        },\n",
                        "        {\n",
                        "            \"name\": \"{}/gnn_arr2\".format(name_id),\n",
                        "            \"type\": \"array\",\n",
                        "            \"shape\": gnn_arr2.shape,\n",
                        "            \"vcount\": 100,\n",
                        "            \"voffset\": 0,\n",
                        "            \"vdim\": 0,\n",
                        "        },\n",
                        "    ],\n",
                        "    array_data_list=[arr6, arr5, arr4, arr3, gnn_arr1, gnn_arr2],\n",
                        ")\n",
                        "print(obj_ids)"
                  ]
            },
            {
                  "cell_type": "code",
                  "execution_count": 15,
                  "id": "55bfc47e",
                  "metadata": {},
                  "outputs": [
                        {
                              "name": "stdout",
                              "output_type": "stream",
                              "text": [
                                    "276475\n"
                              ]
                        }
                  ],
                  "source": [
                        "print(f\"{name_id}\")"
                  ]
            },
            {
                  "cell_type": "markdown",
                  "id": "9c85aad5-fc35-406a-9a76-d8635eecf9a3",
                  "metadata": {},
                  "source": [
                        "## Retrieve Metadata"
                  ]
            },
            {
                  "cell_type": "markdown",
                  "id": "16c77e70-32c0-472e-90c9-a44bd51d2f19",
                  "metadata": {},
                  "source": [
                        "### Retrieve a single metadata attributes from a single object\n",
                        "\n",
                        "\n",
                        "In HydraGNN, we need to retrieve a series of metadata attributes from a container. \n",
                        "\n",
                        "If every single metadata retrieval requires a single request, that would be too much overhead.\n",
                        "\n",
                        "MetaPS is a new metric we designed to calculate the number of metadata attributes we can retrieve from one object within a second.\n"
                  ]
            },
            {
                  "cell_type": "code",
                  "execution_count": 16,
                  "id": "d325e370-6cc5-4ab0-ba22-55591a8ed391",
                  "metadata": {
                        "execution": {
                              "iopub.execute_input": "2025-02-28T17:33:11.141541Z",
                              "iopub.status.busy": "2025-02-28T17:33:11.141143Z",
                              "iopub.status.idle": "2025-02-28T17:33:11.998396Z",
                              "shell.execute_reply": "2025-02-28T17:33:11.998045Z",
                              "shell.execute_reply.started": "2025-02-28T17:33:11.141506Z"
                        }
                  },
                  "outputs": [
                        {
                              "name": "stdout",
                              "output_type": "stream",
                              "text": [
                                    "{'obj_id': 32119348377435464046736803755310233, 'metadata': {'type': 'container'}, 'sub_obj_metadata': None}\n",
                                    "{'obj_id': 32119348377435464046736803755310233, 'metadata': {'keys': ['276475/arr6', '276475/arr5', '276475/arr4', '276475/arr3', '276475/gnn_arr1', '276475/gnn_arr2']}, 'sub_obj_metadata': None}\n",
                                    "{'obj_id': 32119348377435464046736803755310233, 'metadata': {'ranges': [(1, 100), (100, 200)]}, 'sub_obj_metadata': None}\n",
                                    "{'obj_id': 32119348377435464046736803755310233, 'metadata': {'name': '276475'}, 'sub_obj_metadata': None}\n",
                                    "{'obj_id': 32119348377435464046736803755310233, 'metadata': {'part_num': 1}, 'sub_obj_metadata': None}\n",
                                    "{'obj_id': 32119348377435464046736803755310233, 'metadata': {'part_size': 100}, 'sub_obj_metadata': None}\n",
                                    "{'obj_id': 32119348377435464046736803755310233, 'metadata': {}, 'sub_obj_metadata': None}\n",
                                    "Single Metadata retrieval of single object : TPS = 1229.7797405393867 MetaPS: 1229.7768559517883\n"
                              ]
                        }
                  ],
                  "source": [
                        "meta_keys = [\"type\", \"keys\", \"ranges\", \"name\", \"part_num\", \"part_size\", \"title\"]\n",
                        "\n",
                        "start = time.time()\n",
                        "for i in range(1000):\n",
                        "    k = i % len(meta_keys)\n",
                        "    result = bkc.get_object_metadata(\n",
                        "        obj_ids[0],\n",
                        "        meta_keys=[meta_keys[k]],  # retreiving SINGLE!!!\n",
                        "    )\n",
                        "    if i < len(meta_keys):\n",
                        "        print(result)\n",
                        "\n",
                        "print(\n",
                        "    \"Single Metadata retrieval of single object : TPS = {} MetaPS: {}\".format(\n",
                        "        1000 / (time.time() - start), 1000 / (time.time() - start)\n",
                        "    )\n",
                        ")"
                  ]
            },
            {
                  "cell_type": "code",
                  "execution_count": 17,
                  "id": "f92537e2",
                  "metadata": {},
                  "outputs": [
                        {
                              "name": "stdout",
                              "output_type": "stream",
                              "text": [
                                    "{'obj_id': 32119348377435464046736803755310233, 'metadata': {'type': 'container'}, 'sub_obj_metadata': None}\n",
                                    "{'obj_id': 32119348377435464046736803755310233, 'metadata': {'keys': ['276475/arr6', '276475/arr5', '276475/arr4', '276475/arr3', '276475/gnn_arr1', '276475/gnn_arr2']}, 'sub_obj_metadata': None}\n",
                                    "{'obj_id': 32119348377435464046736803755310233, 'metadata': {'ranges': [(1, 100), (100, 200)]}, 'sub_obj_metadata': None}\n",
                                    "{'obj_id': 32119348377435464046736803755310233, 'metadata': {'name': '276475'}, 'sub_obj_metadata': None}\n",
                                    "{'obj_id': 32119348377435464046736803755310233, 'metadata': {'part_num': 1}, 'sub_obj_metadata': None}\n",
                                    "{'obj_id': 32119348377435464046736803755310233, 'metadata': {'part_size': 100}, 'sub_obj_metadata': None}\n",
                                    "{'obj_id': 32119348377435464046736803755310233, 'metadata': {}, 'sub_obj_metadata': None}\n",
                                    "Single Metadata retrieval of single object : TPS = 1315.2341301410434 MetaPS: 1315.2320680133282\n"
                              ]
                        }
                  ],
                  "source": [
                        "meta_keys = [\"type\", \"keys\", \"ranges\", \"name\", \"part_num\", \"part_size\", \"title\"]\n",
                        "\n",
                        "start = time.time()\n",
                        "for i in range(1000):\n",
                        "    k = i % len(meta_keys)\n",
                        "    result = bkc.get_object_metadata(\n",
                        "        obj_id=\"{}\".format(name_id),\n",
                        "        meta_keys=[meta_keys[k]],  # retreiving SINGLE!!!\n",
                        "    )\n",
                        "    if i < len(meta_keys):\n",
                        "        print(result)\n",
                        "\n",
                        "print(\n",
                        "    \"Single Metadata retrieval of single object : TPS = {} MetaPS: {}\".format(\n",
                        "        1000 / (time.time() - start), 1000 / (time.time() - start)\n",
                        "    )\n",
                        ")"
                  ]
            },
            {
                  "cell_type": "markdown",
                  "id": "69da6ac0-2c99-4151-96eb-3c45862756ff",
                  "metadata": {},
                  "source": [
                        "### Retrieving multiple metadata attributes from a single object\n",
                        "\n",
                        "Now we can combine the metadata retrieval of a single container into one single request. \n",
                        "\n",
                        "MetaPS is a new metric we designed to calculate the number of metadata attributes we can retrieve from one object within a second.\n",
                        "\n",
                        "Slight drop on TPS but MEGA IMPROVEMENT for MetaPS"
                  ]
            },
            {
                  "cell_type": "code",
                  "execution_count": 18,
                  "id": "b53c2db0-d736-4798-9b27-f01c2a6cb7c5",
                  "metadata": {
                        "execution": {
                              "iopub.execute_input": "2025-02-28T17:34:05.716855Z",
                              "iopub.status.busy": "2025-02-28T17:34:05.716532Z",
                              "iopub.status.idle": "2025-02-28T17:34:06.677678Z",
                              "shell.execute_reply": "2025-02-28T17:34:06.677208Z",
                              "shell.execute_reply.started": "2025-02-28T17:34:05.716829Z"
                        }
                  },
                  "outputs": [
                        {
                              "name": "stdout",
                              "output_type": "stream",
                              "text": [
                                    "{'metadata': {'keys': ['276475/arr6',\n",
                                    "                       '276475/arr5',\n",
                                    "                       '276475/arr4',\n",
                                    "                       '276475/arr3',\n",
                                    "                       '276475/gnn_arr1',\n",
                                    "                       '276475/gnn_arr2'],\n",
                                    "              'name': '276475',\n",
                                    "              'part_num': 1,\n",
                                    "              'part_size': 100,\n",
                                    "              'ranges': [(1, 100), (100, 200)],\n",
                                    "              'type': 'container'},\n",
                                    " 'obj_id': 32119348377435464046736803755310233,\n",
                                    " 'sub_obj_metadata': None}\n",
                                    "\n",
                                    " Multiple Metadata retrieval of single object : TPS=1160.3617720322732, MetaPS: 6962.155223451168 \n"
                              ]
                        }
                  ],
                  "source": [
                        "meta_keys = [\"type\", \"keys\", \"ranges\", \"name\", \"part_num\", \"part_size\"]\n",
                        "\n",
                        "start = time.time()\n",
                        "for i in range(1000):\n",
                        "    result = bkc.get_object_metadata(\n",
                        "        obj_ids[0],\n",
                        "        meta_keys=meta_keys,  # retrieving MULTIPLE!!!\n",
                        "    )\n",
                        "pprint(result)\n",
                        "print(\n",
                        "    \"\\n Multiple Metadata retrieval of single object : TPS={}, MetaPS: {} \".format(\n",
                        "        1000 / (time.time() - start), 1000 * len(meta_keys) / (time.time() - start)\n",
                        "    )\n",
                        ")"
                  ]
            },
            {
                  "cell_type": "markdown",
                  "id": "57075ab8-80e7-4eca-8a15-d0fb94ea83ad",
                  "metadata": {},
                  "source": [
                        "### Retrieving single attributes from a single sub-object"
                  ]
            },
            {
                  "cell_type": "code",
                  "execution_count": 19,
                  "id": "8d111feb-792d-48a9-9c7b-9919d6322eb2",
                  "metadata": {
                        "execution": {
                              "iopub.execute_input": "2025-02-28T17:34:54.022362Z",
                              "iopub.status.busy": "2025-02-28T17:34:54.021993Z",
                              "iopub.status.idle": "2025-02-28T17:34:54.871747Z",
                              "shell.execute_reply": "2025-02-28T17:34:54.871383Z",
                              "shell.execute_reply.started": "2025-02-28T17:34:54.022301Z"
                        }
                  },
                  "outputs": [
                        {
                              "name": "stdout",
                              "output_type": "stream",
                              "text": [
                                    "{'obj_id': 32119348377435593173945324017138841, 'metadata': {'name': '276475/arr6'}, 'sub_obj_metadata': None}\n",
                                    "{'obj_id': 32119348377435593173945324017138841, 'metadata': {'type': 'array'}, 'sub_obj_metadata': None}\n",
                                    "{'obj_id': 32119348377435593173945324017138841, 'metadata': {'shape': [1, 1, 1, 2, 5]}, 'sub_obj_metadata': None}\n",
                                    "{'obj_id': 32119348377435593173945324017138841, 'metadata': {'vcount': 100}, 'sub_obj_metadata': None}\n",
                                    "{'obj_id': 32119348377435593173945324017138841, 'metadata': {'voffset': 0}, 'sub_obj_metadata': None}\n",
                                    "{'obj_id': 32119348377435593173945324017138841, 'metadata': {'vdim': 0}, 'sub_obj_metadata': None}\n",
                                    "Single Metadata retrieval of a single sub-object : TPS=1337.6353125435521, MetaPS: 1337.6331795730089\n"
                              ]
                        }
                  ],
                  "source": [
                        "meta_keys = [\"name\", \"type\", \"shape\", \"vcount\", \"voffset\", \"vdim\"]\n",
                        "\n",
                        "start = time.time()\n",
                        "for i in range(1000):\n",
                        "    k = i % len(meta_keys)\n",
                        "    result = bkc.get_object_metadata(\n",
                        "        obj_ids[1],\n",
                        "        meta_keys=[meta_keys[k]],  # retreiving SINGLE!!!\n",
                        "    )\n",
                        "    if i < len(meta_keys):\n",
                        "        print(result)\n",
                        "\n",
                        "print(\n",
                        "    \"Single Metadata retrieval of a single sub-object : TPS={}, MetaPS: {}\".format(\n",
                        "        1000 / (time.time() - start), 1000 / (time.time() - start)\n",
                        "    )\n",
                        ")"
                  ]
            },
            {
                  "cell_type": "markdown",
                  "id": "918cd7d4-7f43-4770-8e16-5e8926f354e6",
                  "metadata": {},
                  "source": [
                        "### Retrieving multiple attributes from single sub-objects"
                  ]
            },
            {
                  "cell_type": "code",
                  "execution_count": 20,
                  "id": "ada9cdc5-c928-4052-82d2-b74b4ef6ff55",
                  "metadata": {
                        "execution": {
                              "iopub.execute_input": "2025-02-28T17:35:00.569728Z",
                              "iopub.status.busy": "2025-02-28T17:35:00.569391Z",
                              "iopub.status.idle": "2025-02-28T17:35:01.476518Z",
                              "shell.execute_reply": "2025-02-28T17:35:01.476058Z",
                              "shell.execute_reply.started": "2025-02-28T17:35:00.569697Z"
                        }
                  },
                  "outputs": [
                        {
                              "name": "stdout",
                              "output_type": "stream",
                              "text": [
                                    "{'metadata': {'name': '276475/arr6',\n",
                                    "              'shape': [1, 1, 1, 2, 5],\n",
                                    "              'type': 'array',\n",
                                    "              'vcount': 100,\n",
                                    "              'vdim': 0,\n",
                                    "              'voffset': 0},\n",
                                    " 'obj_id': 32119348377435593173945324017138841,\n",
                                    " 'sub_obj_metadata': None}\n",
                                    "\n",
                                    " Multiple Metadata retrieval of a single sub-object : TPS=1227.8993406301297, MetaPS: 7367.376632318905\n"
                              ]
                        }
                  ],
                  "source": [
                        "meta_keys = [\"name\", \"type\", \"shape\", \"vcount\", \"voffset\", \"vdim\"]\n",
                        "\n",
                        "start = time.time()\n",
                        "for i in range(1000):\n",
                        "    result = bkc.get_object_metadata(\n",
                        "        obj_ids[1],\n",
                        "        meta_keys=meta_keys,  # retreiving SINGLE!!!\n",
                        "    )\n",
                        "\n",
                        "pprint(result)\n",
                        "print(\n",
                        "    \"\\n Multiple Metadata retrieval of a single sub-object : TPS={}, MetaPS: {}\".format(\n",
                        "        1000 / (time.time() - start), 1000 * len(meta_keys) / (time.time() - start)\n",
                        "    )\n",
                        ")"
                  ]
            },
            {
                  "cell_type": "markdown",
                  "id": "9650adfc-e1d8-4004-9ea1-82b88722888f",
                  "metadata": {},
                  "source": [
                        "### Retrieving multiple attributes from multiple sub-objects"
                  ]
            },
            {
                  "cell_type": "code",
                  "execution_count": 21,
                  "id": "c487bb76-44b8-48e4-a96e-6e7f1eccdfcf",
                  "metadata": {
                        "execution": {
                              "iopub.execute_input": "2025-02-28T17:35:48.879748Z",
                              "iopub.status.busy": "2025-02-28T17:35:48.879363Z",
                              "iopub.status.idle": "2025-02-28T17:35:50.123068Z",
                              "shell.execute_reply": "2025-02-28T17:35:50.122756Z",
                              "shell.execute_reply.started": "2025-02-28T17:35:48.879718Z"
                        }
                  },
                  "outputs": [
                        {
                              "name": "stdout",
                              "output_type": "stream",
                              "text": [
                                    "{'metadata': {},\n",
                                    " 'obj_id': 32119348377435464046736803755310233,\n",
                                    " 'sub_obj_metadata': [{'metadata': {'name': '276475/arr3',\n",
                                    "                                    'shape': [15, 15, 15],\n",
                                    "                                    'type': 'array',\n",
                                    "                                    'vcount': 100,\n",
                                    "                                    'vdim': 0,\n",
                                    "                                    'voffset': 0},\n",
                                    "                       'name': '276475/arr3',\n",
                                    "                       'obj_id': 32119348377447159282479552790903961},\n",
                                    "                      {'metadata': {'name': '276475/arr6',\n",
                                    "                                    'shape': [1, 1, 1, 2, 5],\n",
                                    "                                    'type': 'array',\n",
                                    "                                    'vcount': 100,\n",
                                    "                                    'vdim': 0,\n",
                                    "                                    'voffset': 0},\n",
                                    "                       'name': '276475/arr6',\n",
                                    "                       'obj_id': 32119348377435593173945324017138841},\n",
                                    "                      {'metadata': {'name': '276475/arr5',\n",
                                    "                                    'shape': [1, 1, 1, 2, 5],\n",
                                    "                                    'type': 'array',\n",
                                    "                                    'vcount': 100,\n",
                                    "                                    'vdim': 0,\n",
                                    "                                    'voffset': 0},\n",
                                    "                       'name': '276475/arr5',\n",
                                    "                       'obj_id': 32119348377435832981618286536277145},\n",
                                    "                      {'metadata': {'name': '276475/gnn_arr2',\n",
                                    "                                    'shape': [1, 100000],\n",
                                    "                                    'type': 'array',\n",
                                    "                                    'vcount': 100,\n",
                                    "                                    'vdim': 0,\n",
                                    "                                    'voffset': 0},\n",
                                    "                       'name': '276475/gnn_arr2',\n",
                                    "                       'obj_id': 32119348377449741826649880718064793},\n",
                                    "                      {'metadata': {'name': '276475/arr4',\n",
                                    "                                    'shape': [15, 15, 15, 15, 15],\n",
                                    "                                    'type': 'array',\n",
                                    "                                    'vcount': 100,\n",
                                    "                                    'vdim': 0,\n",
                                    "                                    'voffset': 0},\n",
                                    "                       'name': '276475/arr4',\n",
                                    "                       'obj_id': 32119348377435999002314954217208985},\n",
                                    "                      {'metadata': {'name': '276475/gnn_arr1',\n",
                                    "                                    'shape': [100000, 2],\n",
                                    "                                    'type': 'array',\n",
                                    "                                    'vcount': 100,\n",
                                    "                                    'vdim': 0,\n",
                                    "                                    'voffset': 0},\n",
                                    "                       'name': '276475/gnn_arr1',\n",
                                    "                       'obj_id': 32119348377447399090152515310042265}]}\n",
                                    "Multiple Metadata retrieval of a single sub-object : TPS=944.3788986016821, MetaPS: 16998.785728197203\n"
                              ]
                        }
                  ],
                  "source": [
                        "meta_keys = [\"name\", \"type\", \"shape\", \"vcount\", \"voffset\", \"vdim\"]\n",
                        "\n",
                        "start = time.time()\n",
                        "for i in range(1000):\n",
                        "    result = bkc.get_object_metadata(\n",
                        "        obj_ids[0],\n",
                        "        sub_meta_keys=meta_keys,  # retreiving MULTIPLE for every sub-object!!!\n",
                        "    )\n",
                        "\n",
                        "pprint(result)\n",
                        "print(\n",
                        "    \"Multiple Metadata retrieval of a single sub-object : TPS={}, MetaPS: {}\".format(\n",
                        "        1000 / (time.time() - start), 1000 * len(meta_keys) * 3 / (time.time() - start)\n",
                        "    )\n",
                        ")"
                  ]
            },
            {
                  "cell_type": "markdown",
                  "id": "75c83814-e126-4bfd-9adf-e014299ea3f5",
                  "metadata": {},
                  "source": [
                        "### Retrieving different set of attributes from multiple sub-objects"
                  ]
            },
            {
                  "cell_type": "code",
                  "execution_count": 22,
                  "id": "c460b192-f50f-41db-b293-11f505f07d94",
                  "metadata": {
                        "execution": {
                              "iopub.execute_input": "2025-02-28T18:49:37.465235Z",
                              "iopub.status.busy": "2025-02-28T18:49:37.464773Z",
                              "iopub.status.idle": "2025-02-28T18:49:38.297260Z",
                              "shell.execute_reply": "2025-02-28T18:49:38.296976Z",
                              "shell.execute_reply.started": "2025-02-28T18:49:37.465197Z"
                        }
                  },
                  "outputs": [
                        {
                              "name": "stdout",
                              "output_type": "stream",
                              "text": [
                                    "{'metadata': {},\n",
                                    " 'obj_id': 32119348377435464046736803755310233,\n",
                                    " 'sub_obj_metadata': [{'metadata': {'name': '276475/arr5',\n",
                                    "                                    'type': 'array',\n",
                                    "                                    'voffset': 0},\n",
                                    "                       'name': '276475/arr5',\n",
                                    "                       'obj_id': 32119348377435832981618286536277145},\n",
                                    "                      {'metadata': {'type': 'array', 'vcount': 100},\n",
                                    "                       'name': '276475/arr4',\n",
                                    "                       'obj_id': 32119348377435999002314954217208985}]}\n",
                                    "\n",
                                    " Multiple Metadata retrieval of a single sub-object : TPS=1184.3237843207348, MetaPS: 5921.603873131561\n"
                              ]
                        }
                  ],
                  "source": [
                        "# meta_keys=[\"name\",\n",
                        "#             \"type\",\n",
                        "#             \"shape\",\n",
                        "#             \"vcount\",\n",
                        "#             \"voffset\",\n",
                        "#             \"vdim\"]\n",
                        "\n",
                        "start = time.time()\n",
                        "for i in range(1000):\n",
                        "    result = bkc.get_object_metadata(\n",
                        "        obj_ids[0],\n",
                        "        sub_meta_keys={\n",
                        "            \"{}/arr5\".format(name_id): [\"name\", \"type\", \"voffset\"],\n",
                        "            \"{}/arr4\".format(name_id): [\"type\", \"vcount\"],\n",
                        "        },  # retrieving different set of metadata for different sub-objects\n",
                        "    )\n",
                        "\n",
                        "pprint(result)\n",
                        "print(\n",
                        "    \"\\n Multiple Metadata retrieval of a single sub-object : TPS={}, MetaPS: {}\".format(\n",
                        "        1000 / (time.time() - start), 1000 * 5 / (time.time() - start)\n",
                        "    )\n",
                        ")"
                  ]
            },
            {
                  "cell_type": "markdown",
                  "id": "baebe3e4-1d92-4b2b-95f7-138ebe60ef16",
                  "metadata": {},
                  "source": [
                        "### Retrieving array of a single object"
                  ]
            },
            {
                  "cell_type": "code",
                  "execution_count": 23,
                  "id": "86e6c89c-235f-4ac4-bc92-60262a7e4300",
                  "metadata": {
                        "execution": {
                              "iopub.execute_input": "2025-02-28T18:49:42.632784Z",
                              "iopub.status.busy": "2025-02-28T18:49:42.632169Z",
                              "iopub.status.idle": "2025-02-28T18:49:43.493597Z",
                              "shell.execute_reply": "2025-02-28T18:49:43.493244Z",
                              "shell.execute_reply.started": "2025-02-28T18:49:42.632744Z"
                        }
                  },
                  "outputs": [
                        {
                              "name": "stdout",
                              "output_type": "stream",
                              "text": [
                                    "{'array_slice': array([[[0.48205712, 0.67145357]]]), 'sub_obj_slices': []}\n",
                                    "\n",
                                    " retrieving array slice of a single 3D array, TPS=1000.2439617092201, Sample/s = 166.70716792840616\n"
                              ]
                        }
                  ],
                  "source": [
                        "start = time.time()\n",
                        "for i in range(1000):\n",
                        "    result = bkc.get_object_data(\n",
                        "        obj_ids[0],\n",
                        "        region=[slice(0, 1), slice(0, 1), slice(0, 2, -1)],\n",
                        "    )\n",
                        "pprint(result)\n",
                        "print(\n",
                        "    \"\\n retrieving array slice of a single 3D array, TPS={}, Sample/s = {}\".format(\n",
                        "        1000 / (time.time() - start), (1000 / 6) / (time.time() - start)\n",
                        "    )\n",
                        ")"
                  ]
            },
            {
                  "cell_type": "markdown",
                  "id": "1a5018d9-e2c1-4662-ac5e-76eeb82543c7",
                  "metadata": {},
                  "source": [
                        "### Retrieving array slices of multiple sub-objects (Large subarray included)"
                  ]
            },
            {
                  "cell_type": "code",
                  "execution_count": 24,
                  "id": "047c806e-0851-4f76-8d50-e11516176639",
                  "metadata": {
                        "execution": {
                              "iopub.execute_input": "2025-02-28T18:51:31.199303Z",
                              "iopub.status.busy": "2025-02-28T18:51:31.198773Z",
                              "iopub.status.idle": "2025-02-28T18:51:31.223875Z",
                              "shell.execute_reply": "2025-02-28T18:51:31.223029Z",
                              "shell.execute_reply.started": "2025-02-28T18:51:31.199269Z"
                        }
                  },
                  "outputs": [
                        {
                              "name": "stdout",
                              "output_type": "stream",
                              "text": [
                                    "{'array_slice': array([[[0.48205712, 0.67145357],\n",
                                    "        [0.83928621, 0.8233581 ]]]),\n",
                                    " 'sub_obj_slices': [{'array': array([[[[[1.29210399, 0.83085831],\n",
                                    "          [0.59747627, 1.57740461]]]]]),\n",
                                    "                     'id': 32119348377435832981618286536277145,\n",
                                    "                     'name': '276475/arr5'},\n",
                                    "                    {'array': array([[[[[0.73377526, 1.54474945]]]],\n",
                                    "\n",
                                    "\n",
                                    "\n",
                                    "       [[[[1.30933282, 0.33224046]]]]]),\n",
                                    "                     'id': 32119348377435999002314954217208985,\n",
                                    "                     'name': '276475/arr4'},\n",
                                    "                    {'array': array([[[0.70220418, 0.42578952, 0.5314196 , 0.41273197, 0.48205712],\n",
                                    "        [0.46147236, 0.18501475, 0.72301612, 0.88348578, 0.83928621]]]),\n",
                                    "                     'id': 32119348377447159282479552790903961,\n",
                                    "                     'name': '276475/arr3'},\n",
                                    "                    {'array': array([[[[[2.58420797, 1.66171663],\n",
                                    "          [1.19495253, 3.15480921]]]]]),\n",
                                    "                     'id': 32119348377435593173945324017138841,\n",
                                    "                     'name': '276475/arr6'}]}\n",
                                    "\n",
                                    " retrieving array slice of a single 3D array, TPS=336.64323123257714, Sample/s=504.9648468488657\n"
                              ]
                        }
                  ],
                  "source": [
                        "start = time.time()\n",
                        "for i in range(1000):\n",
                        "    result = bkc.get_object_data(\n",
                        "        obj_ids[0],\n",
                        "        region=[slice(0, 1), slice(0, 2), slice(0, 2, -1)],\n",
                        "        sub_obj_regions=[\n",
                        "            (\n",
                        "                \"{}/arr5\".format(name_id),\n",
                        "                [slice(0, 1), slice(0, 1), slice(0, 1), slice(0, 2), slice(0, 2, -1)],\n",
                        "            ),\n",
                        "            (\n",
                        "                \"{}/arr4\".format(name_id),\n",
                        "                [\n",
                        "                    slice(0, 2, -1),\n",
                        "                    slice(0, 1),\n",
                        "                    slice(0, 1),\n",
                        "                    slice(0, 1),\n",
                        "                    slice(0, 2, -1),\n",
                        "                ],\n",
                        "            ),\n",
                        "            (\n",
                        "                \"{}/arr3\".format(name_id),\n",
                        "                [slice(0, 1), slice(0, 2), slice(0, 10, -2)],\n",
                        "            ),\n",
                        "            (\n",
                        "                \"{}/arr6\".format(name_id),\n",
                        "                [slice(0, 1), slice(0, 1), slice(0, 1), slice(0, 2), slice(0, 2, -1)],\n",
                        "            ),\n",
                        "        ],\n",
                        "    )\n",
                        "pprint(result)\n",
                        "print(\n",
                        "    \"\\n retrieving array slice of a single 3D array, TPS={}, Sample/s={}\".format(\n",
                        "        1000 / (time.time() - start), (1000 / (4 / 6)) / (time.time() - start)\n",
                        "    )\n",
                        ")"
                  ]
            },
            {
                  "cell_type": "markdown",
                  "id": "6eb6151e-4cdf-433a-a19c-e557a7f5bb4e",
                  "metadata": {},
                  "source": [
                        "### Retrieving slices of multiple objects (only GNN arrays)"
                  ]
            },
            {
                  "cell_type": "code",
                  "execution_count": 25,
                  "id": "9b9d4283-2046-4a1a-aae4-7256368a7d7d",
                  "metadata": {
                        "execution": {
                              "iopub.execute_input": "2025-02-28T18:51:24.146014Z",
                              "iopub.status.busy": "2025-02-28T18:51:24.145462Z",
                              "iopub.status.idle": "2025-02-28T18:51:24.169561Z",
                              "shell.execute_reply": "2025-02-28T18:51:24.168797Z",
                              "shell.execute_reply.started": "2025-02-28T18:51:24.145975Z"
                        }
                  },
                  "outputs": [
                        {
                              "name": "stdout",
                              "output_type": "stream",
                              "text": [
                                    "{'array_slice': None,\n",
                                    " 'sub_obj_slices': [{'array': array([[0.4725509 ],\n",
                                    "       [0.4009871 ],\n",
                                    "       [0.28816418],\n",
                                    "       [0.03304448],\n",
                                    "       [0.96981313],\n",
                                    "       [0.91304028],\n",
                                    "       [0.2036412 ],\n",
                                    "       [0.24010823],\n",
                                    "       [0.60022992],\n",
                                    "       [0.71936996],\n",
                                    "       [0.98409307],\n",
                                    "       [0.82907341],\n",
                                    "       [0.75973639],\n",
                                    "       [0.9982704 ],\n",
                                    "       [0.49448435],\n",
                                    "       [0.67091999],\n",
                                    "       [0.31854262],\n",
                                    "       [0.21357598],\n",
                                    "       [0.71976736],\n",
                                    "       [0.88784411]]),\n",
                                    "                     'id': 32119348377447399090152515310042265,\n",
                                    "                     'name': '276475/gnn_arr1'},\n",
                                    "                    {'array': array([[0.71936996],\n",
                                    "       [0.60022992],\n",
                                    "       [0.24010823],\n",
                                    "       [0.2036412 ],\n",
                                    "       [0.91304028],\n",
                                    "       [0.96981313],\n",
                                    "       [0.03304448],\n",
                                    "       [0.28816418],\n",
                                    "       [0.4009871 ],\n",
                                    "       [0.4725509 ]]),\n",
                                    "                     'id': 32119348377447399090152515310042265,\n",
                                    "                     'name': '276475/gnn_arr1'},\n",
                                    "                    {'array': array([[0.49448435, 0.49840732],\n",
                                    "       [0.9982704 , 0.67813405],\n",
                                    "       [0.75973639, 0.78696706],\n",
                                    "       [0.82907341, 0.31284205],\n",
                                    "       [0.98409307, 0.1147439 ],\n",
                                    "       [0.71936996, 0.34441241],\n",
                                    "       [0.60022992, 0.89671   ],\n",
                                    "       [0.24010823, 0.89646293],\n",
                                    "       [0.2036412 , 0.69421089],\n",
                                    "       [0.91304028, 0.21012686],\n",
                                    "       [0.96981313, 0.76845724],\n",
                                    "       [0.03304448, 0.91161715],\n",
                                    "       [0.28816418, 0.82016472],\n",
                                    "       [0.4009871 , 0.07541664],\n",
                                    "       [0.4725509 , 0.50948387]]),\n",
                                    "                     'id': 32119348377447399090152515310042265,\n",
                                    "                     'name': '276475/gnn_arr1'},\n",
                                    "                    {'array': array([[0.77166562, 0.261201  , 0.01788087, 0.45027997, 0.20136955,\n",
                                    "        0.64836019, 0.48042901, 0.01219249, 0.67959436, 0.62532324,\n",
                                    "        0.3123059 , 0.4268495 , 0.02598422, 0.65047606, 0.99556191,\n",
                                    "        0.04948692, 0.85834884, 0.31678016, 0.35525603, 0.03374656]]),\n",
                                    "                     'id': 32119348377449741826649880718064793,\n",
                                    "                     'name': '276475/gnn_arr2'},\n",
                                    "                    {'array': array([[0.77166562, 0.261201  , 0.01788087, 0.45027997, 0.20136955,\n",
                                    "        0.64836019, 0.48042901, 0.01219249, 0.67959436, 0.62532324,\n",
                                    "        0.3123059 , 0.4268495 , 0.02598422, 0.65047606, 0.99556191,\n",
                                    "        0.04948692, 0.85834884, 0.31678016, 0.35525603, 0.03374656]]),\n",
                                    "                     'id': 32119348377449741826649880718064793,\n",
                                    "                     'name': '276475/gnn_arr2'},\n",
                                    "                    {'array': array([[0.77166562, 0.261201  , 0.01788087, 0.45027997, 0.20136955,\n",
                                    "        0.64836019, 0.48042901, 0.01219249, 0.67959436, 0.62532324,\n",
                                    "        0.3123059 , 0.4268495 , 0.02598422, 0.65047606, 0.99556191,\n",
                                    "        0.04948692, 0.85834884, 0.31678016, 0.35525603, 0.03374656]]),\n",
                                    "                     'id': 32119348377449741826649880718064793,\n",
                                    "                     'name': '276475/gnn_arr2'}]}\n",
                                    "\n",
                                    " retrieving array slice of a single 3D array, TPS=264.3991929159768, Sample/s=264.39910958044464\n"
                              ]
                        }
                  ],
                  "source": [
                        "start = time.time()\n",
                        "for i in range(1000):\n",
                        "    result = bkc.get_object_data(\n",
                        "        obj_ids[0],\n",
                        "        region=None,\n",
                        "        sub_obj_regions=[\n",
                        "            (\n",
                        "                \"{}/gnn_arr1\".format(name_id),\n",
                        "                [slice(0, 20), slice(0, 1)],\n",
                        "            ),\n",
                        "            (\n",
                        "                \"{}/gnn_arr1\".format(name_id),\n",
                        "                [\n",
                        "                    slice(0, 10, -1),\n",
                        "                    slice(0, 1),\n",
                        "                ],\n",
                        "            ),\n",
                        "            (\n",
                        "                \"{}/gnn_arr1\".format(name_id),\n",
                        "                [\n",
                        "                    slice(0, 15, -1),\n",
                        "                    slice(0, 2),\n",
                        "                ],\n",
                        "            ),\n",
                        "            (\n",
                        "                \"{}/gnn_arr2\".format(name_id),\n",
                        "                [\n",
                        "                    slice(0, 1),\n",
                        "                    slice(0, 20, -1),\n",
                        "                ],\n",
                        "            ),\n",
                        "            (\n",
                        "                \"{}/gnn_arr2\".format(name_id),\n",
                        "                [\n",
                        "                    slice(0, 1),\n",
                        "                    slice(0, 20, -1),\n",
                        "                ],\n",
                        "            ),\n",
                        "            (\n",
                        "                \"{}/gnn_arr2\".format(name_id),\n",
                        "                [\n",
                        "                    slice(0, 1),\n",
                        "                    slice(0, 20, -1),\n",
                        "                ],\n",
                        "            ),\n",
                        "        ],\n",
                        "    )\n",
                        "pprint(result)\n",
                        "print(\n",
                        "    \"\\n retrieving array slice of a single 3D array, TPS={}, Sample/s={}\".format(\n",
                        "        1000 / (time.time() - start), (1000) / (time.time() - start)\n",
                        "    )\n",
                        ")"
                  ]
            },
            {
                  "cell_type": "code",
                  "execution_count": null,
                  "id": "8c55f852-6d95-4cb4-92e9-49440cb8e013",
                  "metadata": {},
                  "outputs": [],
                  "source": []
            },
            {
                  "cell_type": "markdown",
                  "id": "4a5b5176-c08f-497f-9069-f1a79bfa0925",
                  "metadata": {},
                  "source": [
                        "## Closing the Store"
                  ]
            },
            {
                  "cell_type": "code",
                  "execution_count": 26,
                  "id": "271fefa9-b496-4eef-84ab-d8c23ac94362",
                  "metadata": {
                        "execution": {
                              "iopub.execute_input": "2025-02-28T05:41:57.714524Z",
                              "iopub.status.busy": "2025-02-28T05:41:57.714414Z",
                              "iopub.status.idle": "2025-02-28T05:41:57.716271Z",
                              "shell.execute_reply": "2025-02-28T05:41:57.715950Z",
                              "shell.execute_reply.started": "2025-02-28T05:41:57.714510Z"
                        }
                  },
                  "outputs": [],
                  "source": [
                        "# server_process.terminate()\n",
                        "# server_process.wait()\n",
                        "# print(\"Server process terminated.\")"
                  ]
            },
            {
                  "cell_type": "code",
                  "execution_count": null,
                  "id": "b843f7a2-0403-41e4-bc38-1abbbac90df5",
                  "metadata": {},
                  "outputs": [],
                  "source": []
            }
      ],
      "metadata": {
            "kernelspec": {
                  "display_name": "Python (base)",
                  "language": "python",
                  "name": "base"
            },
            "language_info": {
                  "codemirror_mode": {
                        "name": "ipython",
                        "version": 3
                  },
                  "file_extension": ".py",
                  "mimetype": "text/x-python",
                  "name": "python",
                  "nbconvert_exporter": "python",
                  "pygments_lexer": "ipython3",
                  "version": "3.12.2"
            }
      },
      "nbformat": 4,
      "nbformat_minor": 5
}
