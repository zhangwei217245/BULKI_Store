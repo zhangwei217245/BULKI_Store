{
    "cells": [
        {
            "cell_type": "markdown",
            "id": "0affd900-afe5-4c0e-95a5-6bee49e10a28",
            "metadata": {},
            "source": [
                "# BULKI_Store Demo"
            ]
        },
        {
            "cell_type": "markdown",
            "id": "8018064e-9b27-4a40-88fd-c61c86dd232a",
            "metadata": {},
            "source": [
                "## Starting Server"
            ]
        },
        {
            "cell_type": "code",
            "execution_count": 1,
            "id": "bb352f7a-d9a5-477b-9882-7b9cf31b301f",
            "metadata": {
                "execution": {
                    "iopub.execute_input": "2025-02-28T05:41:39.254010Z",
                    "iopub.status.busy": "2025-02-28T05:41:39.253811Z",
                    "iopub.status.idle": "2025-02-28T05:41:39.258481Z",
                    "shell.execute_reply": "2025-02-28T05:41:39.257538Z",
                    "shell.execute_reply.started": "2025-02-28T05:41:39.253987Z"
                }
            },
            "outputs": [
                {
                    "name": "stdout",
                    "output_type": "stream",
                    "text": [
                        "env: RUST_LOG=debug\n",
                        "Let's start\n"
                    ]
                }
            ],
            "source": [
                "%env RUST_LOG=debug\n",
                "print(\"Let's start\")"
            ]
        },
        {
            "cell_type": "code",
            "execution_count": 2,
            "id": "ad28327e-746d-47cf-9e47-e0865bf76b4e",
            "metadata": {
                "execution": {
                    "iopub.execute_input": "2025-02-28T05:41:39.261040Z",
                    "iopub.status.busy": "2025-02-28T05:41:39.260843Z",
                    "iopub.status.idle": "2025-02-28T05:41:39.265728Z",
                    "shell.execute_reply": "2025-02-28T05:41:39.265114Z",
                    "shell.execute_reply.started": "2025-02-28T05:41:39.261017Z"
                }
            },
            "outputs": [],
            "source": [
                "# import subprocess\n",
                "\n",
                "# # Start the server as a background process\n",
                "# server_process = subprocess.Popen(\n",
                "#     ['/opt/homebrew/bin/mpirun', '-np', '4', 'target/debug/bulkistore-server'],\n",
                "#     env={'RUST_LOG': 'debug'},\n",
                "#     stdout=subprocess.PIPE,\n",
                "#     stderr=subprocess.PIPE\n",
                "# )\n",
                "\n",
                "# print(\"Server started with PID:\", server_process.pid)"
            ]
        },
        {
            "cell_type": "markdown",
            "id": "02b86998-32fc-4342-ab51-07bcc276f28a",
            "metadata": {},
            "source": [
                "## Creating Arrays"
            ]
        },
        {
            "cell_type": "code",
            "execution_count": 1,
            "id": "e1c65e4b-9eeb-4c4d-a85a-12c7f03a28a0",
            "metadata": {
                "execution": {
                    "iopub.execute_input": "2025-02-28T17:28:28.971028Z",
                    "iopub.status.busy": "2025-02-28T17:28:28.970655Z",
                    "iopub.status.idle": "2025-02-28T17:28:28.983982Z",
                    "shell.execute_reply": "2025-02-28T17:28:28.983587Z",
                    "shell.execute_reply.started": "2025-02-28T17:28:28.970995Z"
                }
            },
            "outputs": [
                {
                    "name": "stdout",
                    "output_type": "stream",
                    "text": [
                        "5D array size = 759375 elements\n",
                        "rd1.shape= (15, 15, 15, 15, 15)\n",
                        "rd1 last 2 dim preview:\n",
                        "[[[[[0.33168551 0.38372746 0.38529249 0.5754967  0.24854266 0.78258965\n",
                        "     0.77356204 0.51292624 0.28064838 0.24478047 0.141662   0.49623714\n",
                        "     0.29594246 0.74721916 0.51458899]\n",
                        "    [0.76216071 0.06886609 0.33818505 0.41312753 0.69118031 0.93764693\n",
                        "     0.20441648 0.75845817 0.05743331 0.91470635 0.70862228 0.46495651\n",
                        "     0.15816719 0.17998776 0.36267449]]]]]\n",
                        "rd2.shape= (15, 15, 15, 15, 15)\n",
                        "rd2 last 2 dim preview:\n",
                        "[[[[[0.52919906 0.45883964 0.95779896 0.01486246 0.77713847 0.22163869\n",
                        "     0.79370926 0.958674   0.56354816 0.9326263  0.99194317 0.65700987\n",
                        "     0.92162703 0.53668223 0.82818654]\n",
                        "    [0.31005936 0.415445   0.80921334 0.73405374 0.60993311 0.78179974\n",
                        "     0.79527659 0.50806788 0.89546378 0.48111974 0.27841573 0.68401424\n",
                        "     0.50705913 0.00539876 0.8206666 ]]]]]\n",
                        "arr3.shape= (15, 15, 15)\n",
                        "arr3 last 2 dim preview:\n",
                        "[[[0.84387444 0.92677522 0.79622826 0.25320828 0.31133278 0.31094818\n",
                        "   0.37256882 0.72433482 0.38816862 0.81278814 0.18619404 0.98003216\n",
                        "   0.90484495 0.79871828 0.17607274]\n",
                        "  [0.73437325 0.99168289 0.37482783 0.91263221 0.83128606 0.04471095\n",
                        "   0.82059373 0.97587411 0.02991799 0.87083857 0.81687179 0.08643108\n",
                        "   0.93540962 0.92296802 0.68967142]]]\n"
                    ]
                }
            ],
            "source": [
                "import bkstore_client as bkc\n",
                "import numpy as np\n",
                "import time\n",
                "from pprint import pprint\n",
                "\n",
                "\n",
                "bkc.init()\n",
                "dim_size = 15\n",
                "\n",
                "print(\"5D array size = {} elements\".format(dim_size**5))\n",
                "\n",
                "# dim_size = 10\n",
                "rd1 = np.random.rand(dim_size, dim_size, dim_size, dim_size, dim_size)\n",
                "rd2 = np.random.rand(dim_size, dim_size, dim_size, dim_size, dim_size)\n",
                "\n",
                "print(\"rd1.shape=\", rd1.shape)\n",
                "print(\"rd1 last 2 dim preview:\")\n",
                "print(rd1[0:1, 0:1, 0:1, 0:2, 0:])\n",
                "\n",
                "print(\"rd2.shape=\", rd2.shape)\n",
                "print(\"rd2 last 2 dim preview:\")\n",
                "print(rd2[0:1, 0:1, 0:1, 0:2, 0:])\n",
                "\n",
                "arr3 = np.random.rand(dim_size, dim_size, dim_size)\n",
                "print(\"arr3.shape=\", arr3.shape)\n",
                "print(\"arr3 last 2 dim preview:\")\n",
                "print(arr3[0:1, 0:2, 0:])"
            ]
        },
        {
            "cell_type": "markdown",
            "id": "9c99005b-814f-49d9-a353-cf13f41e7766",
            "metadata": {},
            "source": [
                "## Client-Side NDArray Arithmetic Operation"
            ]
        },
        {
            "cell_type": "code",
            "execution_count": 2,
            "id": "e8f78089-b1d0-4221-9154-6290abe5bac1",
            "metadata": {
                "execution": {
                    "iopub.execute_input": "2025-02-28T17:30:08.380322Z",
                    "iopub.status.busy": "2025-02-28T17:30:08.379953Z",
                    "iopub.status.idle": "2025-02-28T17:30:08.418732Z",
                    "shell.execute_reply": "2025-02-28T17:30:08.418240Z",
                    "shell.execute_reply.started": "2025-02-28T17:30:08.380279Z"
                }
            },
            "outputs": [
                {
                    "name": "stdout",
                    "output_type": "stream",
                    "text": [
                        "arr4.shape= (15, 15, 15, 15, 15)\n",
                        "arr4 last 2 dim preview:\n",
                        "[[[[[0.86088457 0.8425671  1.34309145 0.59035915 1.02568113 1.00422835\n",
                        "     1.5672713  1.47160024 0.84419654 1.17740676 1.13360516 1.15324701\n",
                        "     1.2175695  1.28390139 1.34277552]\n",
                        "    [1.07222007 0.48431109 1.14739838 1.14718127 1.30111342 1.71944667\n",
                        "     0.99969307 1.26652604 0.95289709 1.39582609 0.987038   1.14897075\n",
                        "     0.66522632 0.18538653 1.1833411 ]]]]]\n"
                    ]
                }
            ],
            "source": [
                "arr4 = bkc.polymorphic_add(rd1, rd2)\n",
                "\n",
                "print(\"arr4.shape=\", arr4.shape)\n",
                "print(\"arr4 last 2 dim preview:\")\n",
                "print(arr4[0:1, 0:1, 0:1, 0:2, 0:])"
            ]
        },
        {
            "cell_type": "markdown",
            "id": "23e46f92-f17f-424f-a17a-541501d73ce4",
            "metadata": {},
            "source": [
                "## Remote Array Slicing"
            ]
        },
        {
            "cell_type": "code",
            "execution_count": 3,
            "id": "4b65e224-b51a-453f-8f53-53f71b99670a",
            "metadata": {
                "execution": {
                    "iopub.execute_input": "2025-02-28T17:30:11.992171Z",
                    "iopub.status.busy": "2025-02-28T17:30:11.991774Z",
                    "iopub.status.idle": "2025-02-28T17:30:11.997090Z",
                    "shell.execute_reply": "2025-02-28T17:30:11.996558Z",
                    "shell.execute_reply.started": "2025-02-28T17:30:11.992138Z"
                }
            },
            "outputs": [
                {
                    "name": "stdout",
                    "output_type": "stream",
                    "text": [
                        "arr5.shape= (1, 1, 1, 2, 5)\n",
                        "arr5 last 2 dim preview:\n",
                        "[[[[[1.17740676 1.47160024 1.00422835 0.59035915 0.8425671 ]\n",
                        "    [1.39582609 1.26652604 1.71944667 1.14718127 0.48431109]]]]]\n"
                    ]
                }
            ],
            "source": [
                "arr5 = bkc.array_slicing(\n",
                "    arr4, [slice(0, 1), slice(0, 1), slice(0, 1), slice(0, 2), slice(0, 10, -2)]\n",
                ")\n",
                "\n",
                "print(\"arr5.shape=\", arr5.shape)\n",
                "print(\"arr5 last 2 dim preview:\")\n",
                "print(arr5[0:1, 0:1, 0:1, 0:2, 0:])"
            ]
        },
        {
            "cell_type": "markdown",
            "id": "927e1606-6fe9-4ce5-bff7-d2abb03ab922",
            "metadata": {},
            "source": [
                "## Remote Array Arithmetic Operation"
            ]
        },
        {
            "cell_type": "code",
            "execution_count": 4,
            "id": "90ce6f0b-cbd1-43ef-b84e-23e8716225af",
            "metadata": {
                "execution": {
                    "iopub.execute_input": "2025-02-28T17:30:26.198069Z",
                    "iopub.status.busy": "2025-02-28T17:30:26.197595Z",
                    "iopub.status.idle": "2025-02-28T17:30:26.209466Z",
                    "shell.execute_reply": "2025-02-28T17:30:26.209081Z",
                    "shell.execute_reply.started": "2025-02-28T17:30:26.198037Z"
                }
            },
            "outputs": [
                {
                    "name": "stdout",
                    "output_type": "stream",
                    "text": [
                        "arr6.shape= (1, 1, 1, 2, 5)\n",
                        "arr6:\n",
                        "[[[[[2.35481353 2.94320048 2.0084567  1.18071831 1.6851342 ]\n",
                        "    [2.79165217 2.53305209 3.43889335 2.29436254 0.96862219]]]]]\n"
                    ]
                }
            ],
            "source": [
                "arr6 = bkc.times_two(arr5)\n",
                "\n",
                "print(\"arr6.shape=\", arr6.shape)\n",
                "print(\"arr6:\")\n",
                "print(arr6)"
            ]
        },
        {
            "cell_type": "markdown",
            "id": "10a687f2-e5f3-47fb-b8c0-a2f1a0bc3413",
            "metadata": {},
            "source": [
                "## Creating Object with Multiple NDArrays\n",
                "\n",
                "1. You can attach a series of metadata attributes directly to the object you are creating\n",
                "2. You can attach a series of NDArrays directly to the object you are creating along with the metadata attributes of these NDArrays.\n",
                "3. Each of these NDArrays will become a sub-object of the main object you are creating."
            ]
        },
        {
            "cell_type": "code",
            "execution_count": 5,
            "id": "f5fe543f-9a9e-4688-96aa-1201d570ac7f",
            "metadata": {
                "execution": {
                    "iopub.execute_input": "2025-02-28T17:32:13.125162Z",
                    "iopub.status.busy": "2025-02-28T17:32:13.124843Z",
                    "iopub.status.idle": "2025-02-28T17:32:21.843102Z",
                    "shell.execute_reply": "2025-02-28T17:32:21.842802Z",
                    "shell.execute_reply.started": "2025-02-28T17:32:13.125135Z"
                }
            },
            "outputs": [
                {
                    "name": "stdout",
                    "output_type": "stream",
                    "text": [
                        "[32241867340011452816671079505559450, 32241867340012135346201811053936538, 32241867340012172239689962768007066, 32241867340012209133178114482077594, 32241867340042812281596402923175834, 32241867340042922962060849475452826, 32241867340046427843434858585227162]\n"
                    ]
                }
            ],
            "source": [
                "# Create an 3D array\n",
                "\n",
                "name_id = str(np.random.rand(1)[0] * 1000000)[0:6]\n",
                "\n",
                "gnn_arr1 = np.random.rand(100000, 2)\n",
                "gnn_arr2 = np.random.rand(1, 100000)\n",
                "\n",
                "obj_ids = bkc.create_objects(\n",
                "    obj_name_key=\"name\",\n",
                "    parent_id=None,\n",
                "    metadata={\n",
                "        \"name\": f\"container{name_id}\",\n",
                "        \"type\": \"container\",\n",
                "        \"keys\": [\n",
                "            \"{}/arr6\".format(name_id),\n",
                "            \"{}/arr5\".format(name_id),\n",
                "            \"{}/arr4\".format(name_id),\n",
                "            \"{}/arr3\".format(name_id),\n",
                "            \"{}/gnn_arr1\".format(name_id),\n",
                "            \"{}/gnn_arr2\".format(name_id),\n",
                "        ],\n",
                "        \"ranges\": [(1, 100), (100, 200)],\n",
                "        \"part_num\": 1,\n",
                "        \"part_size\": 100,\n",
                "    },\n",
                "    data=arr3,\n",
                "    array_meta_list=[\n",
                "        {\n",
                "            \"name\": \"{}/arr6\".format(name_id),\n",
                "            \"type\": \"array\",\n",
                "            \"shape\": arr6.shape,\n",
                "            \"vcount\": 100,\n",
                "            \"voffset\": 0,\n",
                "            \"vdim\": 0,\n",
                "        },\n",
                "        {\n",
                "            \"name\": \"{}/arr5\".format(name_id),\n",
                "            \"type\": \"array\",\n",
                "            \"shape\": arr6.shape,\n",
                "            \"vcount\": 100,\n",
                "            \"voffset\": 0,\n",
                "            \"vdim\": 0,\n",
                "        },\n",
                "        {\n",
                "            \"name\": \"{}/arr4\".format(name_id),\n",
                "            \"type\": \"array\",\n",
                "            \"shape\": arr4.shape,\n",
                "            \"vcount\": 100,\n",
                "            \"voffset\": 0,\n",
                "            \"vdim\": 0,\n",
                "        },\n",
                "        {\n",
                "            \"name\": \"{}/arr3\".format(name_id),\n",
                "            \"type\": \"array\",\n",
                "            \"shape\": arr3.shape,\n",
                "            \"vcount\": 100,\n",
                "            \"voffset\": 0,\n",
                "            \"vdim\": 0,\n",
                "        },\n",
                "        {\n",
                "            \"name\": \"{}/gnn_arr1\".format(name_id),\n",
                "            \"type\": \"array\",\n",
                "            \"shape\": gnn_arr1.shape,\n",
                "            \"vcount\": 100,\n",
                "            \"voffset\": 0,\n",
                "            \"vdim\": 0,\n",
                "        },\n",
                "        {\n",
                "            \"name\": \"{}/gnn_arr2\".format(name_id),\n",
                "            \"type\": \"array\",\n",
                "            \"shape\": gnn_arr2.shape,\n",
                "            \"vcount\": 100,\n",
                "            \"voffset\": 0,\n",
                "            \"vdim\": 0,\n",
                "        },\n",
                "    ],\n",
                "    array_data_list=[arr6, arr5, arr4, arr3, gnn_arr1, gnn_arr2],\n",
                ")\n",
                "print(obj_ids)"
            ]
        },
        {
            "cell_type": "code",
            "execution_count": 6,
            "id": "55bfc47e",
            "metadata": {},
            "outputs": [
                {
                    "name": "stdout",
                    "output_type": "stream",
                    "text": [
                        "175794\n"
                    ]
                }
            ],
            "source": [
                "print(f\"{name_id}\")"
            ]
        },
        {
            "cell_type": "markdown",
            "id": "9c85aad5-fc35-406a-9a76-d8635eecf9a3",
            "metadata": {},
            "source": [
                "## Retrieve Metadata"
            ]
        },
        {
            "cell_type": "markdown",
            "id": "16c77e70-32c0-472e-90c9-a44bd51d2f19",
            "metadata": {},
            "source": [
                "### Retrieve a single metadata attributes from a single object\n",
                "\n",
                "\n",
                "In HydraGNN, we need to retrieve a series of metadata attributes from a container. \n",
                "\n",
                "If every single metadata retrieval requires a single request, that would be too much overhead.\n",
                "\n",
                "MetaPS is a new metric we designed to calculate the number of metadata attributes we can retrieve from one object within a second.\n"
            ]
        },
        {
            "cell_type": "code",
            "execution_count": 7,
            "id": "d325e370-6cc5-4ab0-ba22-55591a8ed391",
            "metadata": {
                "execution": {
                    "iopub.execute_input": "2025-02-28T17:33:11.141541Z",
                    "iopub.status.busy": "2025-02-28T17:33:11.141143Z",
                    "iopub.status.idle": "2025-02-28T17:33:11.998396Z",
                    "shell.execute_reply": "2025-02-28T17:33:11.998045Z",
                    "shell.execute_reply.started": "2025-02-28T17:33:11.141506Z"
                }
            },
            "outputs": [
                {
                    "name": "stdout",
                    "output_type": "stream",
                    "text": [
                        "{'obj_id': 32241867340011452816671079505559450, 'metadata': {'type': 'container'}, 'sub_obj_metadata': None}\n",
                        "{'obj_id': 32241867340011452816671079505559450, 'metadata': {'keys': ['175794/arr6', '175794/arr5', '175794/arr4', '175794/arr3', '175794/gnn_arr1', '175794/gnn_arr2']}, 'sub_obj_metadata': None}\n",
                        "{'obj_id': 32241867340011452816671079505559450, 'metadata': {'ranges': [(1, 100), (100, 200)]}, 'sub_obj_metadata': None}\n",
                        "{'obj_id': 32241867340011452816671079505559450, 'metadata': {'name': 'container175794'}, 'sub_obj_metadata': None}\n",
                        "{'obj_id': 32241867340011452816671079505559450, 'metadata': {'part_num': 1}, 'sub_obj_metadata': None}\n",
                        "{'obj_id': 32241867340011452816671079505559450, 'metadata': {'part_size': 100}, 'sub_obj_metadata': None}\n",
                        "{'obj_id': 32241867340011452816671079505559450, 'metadata': {}, 'sub_obj_metadata': None}\n",
                        "Single Metadata retrieval of single object : TPS = 6282.792029790919 MetaPS: 6282.75438517653\n"
                    ]
                }
            ],
            "source": [
                "meta_keys = [\"type\", \"keys\", \"ranges\", \"name\", \"part_num\", \"part_size\", \"title\"]\n",
                "\n",
                "start = time.time()\n",
                "for i in range(1000):\n",
                "    k = i % len(meta_keys)\n",
                "    result = bkc.get_object_metadata(\n",
                "        obj_ids[0],\n",
                "        meta_keys=[meta_keys[k]],  # retreiving SINGLE!!!\n",
                "    )\n",
                "    if i < len(meta_keys):\n",
                "        print(result)\n",
                "\n",
                "print(\n",
                "    \"Single Metadata retrieval of single object : TPS = {} MetaPS: {}\".format(\n",
                "        1000 / (time.time() - start), 1000 / (time.time() - start)\n",
                "    )\n",
                ")"
            ]
        },
        {
            "cell_type": "code",
            "execution_count": 8,
            "id": "f92537e2",
            "metadata": {},
            "outputs": [
                {
                    "name": "stdout",
                    "output_type": "stream",
                    "text": [
                        "{'obj_id': 32241867340011452816671079505559450, 'metadata': {'type': 'container'}, 'sub_obj_metadata': None}\n",
                        "{'obj_id': 32241867340011452816671079505559450, 'metadata': {'keys': ['175794/arr6', '175794/arr5', '175794/arr4', '175794/arr3', '175794/gnn_arr1', '175794/gnn_arr2']}, 'sub_obj_metadata': None}\n",
                        "{'obj_id': 32241867340011452816671079505559450, 'metadata': {'ranges': [(1, 100), (100, 200)]}, 'sub_obj_metadata': None}\n",
                        "{'obj_id': 32241867340011452816671079505559450, 'metadata': {'name': 'container175794'}, 'sub_obj_metadata': None}\n",
                        "{'obj_id': 32241867340011452816671079505559450, 'metadata': {'part_num': 1}, 'sub_obj_metadata': None}\n",
                        "{'obj_id': 32241867340011452816671079505559450, 'metadata': {'part_size': 100}, 'sub_obj_metadata': None}\n",
                        "{'obj_id': 32241867340011452816671079505559450, 'metadata': {}, 'sub_obj_metadata': None}\n",
                        "Single Metadata retrieval of single object : TPS = 7413.273286754816 MetaPS: 7413.220876407553\n"
                    ]
                }
            ],
            "source": [
                "meta_keys = [\"type\", \"keys\", \"ranges\", \"name\", \"part_num\", \"part_size\", \"title\"]\n",
                "\n",
                "start = time.time()\n",
                "for i in range(1000):\n",
                "    k = i % len(meta_keys)\n",
                "    result = bkc.get_object_metadata(\n",
                "        obj_id=f\"container{name_id}\",\n",
                "        meta_keys=[meta_keys[k]],  # retreiving SINGLE!!!\n",
                "    )\n",
                "    if i < len(meta_keys):\n",
                "        print(result)\n",
                "\n",
                "print(\n",
                "    \"Single Metadata retrieval of single object : TPS = {} MetaPS: {}\".format(\n",
                "        1000 / (time.time() - start), 1000 / (time.time() - start)\n",
                "    )\n",
                ")"
            ]
        },
        {
            "cell_type": "markdown",
            "id": "69da6ac0-2c99-4151-96eb-3c45862756ff",
            "metadata": {},
            "source": [
                "### Retrieving multiple metadata attributes from a single object\n",
                "\n",
                "Now we can combine the metadata retrieval of a single container into one single request. \n",
                "\n",
                "MetaPS is a new metric we designed to calculate the number of metadata attributes we can retrieve from one object within a second.\n",
                "\n",
                "Slight drop on TPS but MEGA IMPROVEMENT for MetaPS"
            ]
        },
        {
            "cell_type": "code",
            "execution_count": 9,
            "id": "b53c2db0-d736-4798-9b27-f01c2a6cb7c5",
            "metadata": {
                "execution": {
                    "iopub.execute_input": "2025-02-28T17:34:05.716855Z",
                    "iopub.status.busy": "2025-02-28T17:34:05.716532Z",
                    "iopub.status.idle": "2025-02-28T17:34:06.677678Z",
                    "shell.execute_reply": "2025-02-28T17:34:06.677208Z",
                    "shell.execute_reply.started": "2025-02-28T17:34:05.716829Z"
                }
            },
            "outputs": [
                {
                    "name": "stdout",
                    "output_type": "stream",
                    "text": [
                        "{'metadata': {'keys': ['175794/arr6',\n",
                        "                       '175794/arr5',\n",
                        "                       '175794/arr4',\n",
                        "                       '175794/arr3',\n",
                        "                       '175794/gnn_arr1',\n",
                        "                       '175794/gnn_arr2'],\n",
                        "              'name': 'container175794',\n",
                        "              'part_num': 1,\n",
                        "              'part_size': 100,\n",
                        "              'ranges': [(1, 100), (100, 200)],\n",
                        "              'type': 'container'},\n",
                        " 'obj_id': 32241867340011452816671079505559450,\n",
                        " 'sub_obj_metadata': None}\n",
                        "\n",
                        " Multiple Metadata retrieval of single object : TPS=4657.641520852929, MetaPS: 27945.756026491243 \n"
                    ]
                }
            ],
            "source": [
                "meta_keys = [\"type\", \"keys\", \"ranges\", \"name\", \"part_num\", \"part_size\"]\n",
                "\n",
                "start = time.time()\n",
                "for i in range(1000):\n",
                "    result = bkc.get_object_metadata(\n",
                "        obj_ids[0],\n",
                "        meta_keys=meta_keys,  # retrieving MULTIPLE!!!\n",
                "    )\n",
                "pprint(result)\n",
                "print(\n",
                "    \"\\n Multiple Metadata retrieval of single object : TPS={}, MetaPS: {} \".format(\n",
                "        1000 / (time.time() - start), 1000 * len(meta_keys) / (time.time() - start)\n",
                "    )\n",
                ")"
            ]
        },
        {
            "cell_type": "markdown",
            "id": "57075ab8-80e7-4eca-8a15-d0fb94ea83ad",
            "metadata": {},
            "source": [
                "### Retrieving single attributes from a single sub-object"
            ]
        },
        {
            "cell_type": "code",
            "execution_count": 10,
            "id": "8d111feb-792d-48a9-9c7b-9919d6322eb2",
            "metadata": {
                "execution": {
                    "iopub.execute_input": "2025-02-28T17:34:54.022362Z",
                    "iopub.status.busy": "2025-02-28T17:34:54.021993Z",
                    "iopub.status.idle": "2025-02-28T17:34:54.871747Z",
                    "shell.execute_reply": "2025-02-28T17:34:54.871383Z",
                    "shell.execute_reply.started": "2025-02-28T17:34:54.022301Z"
                }
            },
            "outputs": [
                {
                    "name": "stdout",
                    "output_type": "stream",
                    "text": [
                        "{'obj_id': 32241867340012135346201811053936538, 'metadata': {'name': '175794/arr6'}, 'sub_obj_metadata': None}\n",
                        "{'obj_id': 32241867340012135346201811053936538, 'metadata': {'type': 'array'}, 'sub_obj_metadata': None}\n",
                        "{'obj_id': 32241867340012135346201811053936538, 'metadata': {'shape': [1, 1, 1, 2, 5]}, 'sub_obj_metadata': None}\n",
                        "{'obj_id': 32241867340012135346201811053936538, 'metadata': {'vcount': 100}, 'sub_obj_metadata': None}\n",
                        "{'obj_id': 32241867340012135346201811053936538, 'metadata': {'voffset': 0}, 'sub_obj_metadata': None}\n",
                        "{'obj_id': 32241867340012135346201811053936538, 'metadata': {'vdim': 0}, 'sub_obj_metadata': None}\n",
                        "Single Metadata retrieval of a single sub-object : TPS=6358.358649712272, MetaPS: 6358.3200941096575\n"
                    ]
                }
            ],
            "source": [
                "meta_keys = [\"name\", \"type\", \"shape\", \"vcount\", \"voffset\", \"vdim\"]\n",
                "\n",
                "start = time.time()\n",
                "for i in range(1000):\n",
                "    k = i % len(meta_keys)\n",
                "    result = bkc.get_object_metadata(\n",
                "        obj_id=obj_ids[1],\n",
                "        meta_keys=[meta_keys[k]],  # retreiving SINGLE!!!\n",
                "    )\n",
                "    if i < len(meta_keys):\n",
                "        print(result)\n",
                "\n",
                "print(\n",
                "    \"Single Metadata retrieval of a single sub-object : TPS={}, MetaPS: {}\".format(\n",
                "        1000 / (time.time() - start), 1000 / (time.time() - start)\n",
                "    )\n",
                ")"
            ]
        },
        {
            "cell_type": "markdown",
            "id": "918cd7d4-7f43-4770-8e16-5e8926f354e6",
            "metadata": {},
            "source": [
                "### Retrieving multiple attributes from single sub-objects"
            ]
        },
        {
            "cell_type": "code",
            "execution_count": 11,
            "id": "ada9cdc5-c928-4052-82d2-b74b4ef6ff55",
            "metadata": {
                "execution": {
                    "iopub.execute_input": "2025-02-28T17:35:00.569728Z",
                    "iopub.status.busy": "2025-02-28T17:35:00.569391Z",
                    "iopub.status.idle": "2025-02-28T17:35:01.476518Z",
                    "shell.execute_reply": "2025-02-28T17:35:01.476058Z",
                    "shell.execute_reply.started": "2025-02-28T17:35:00.569697Z"
                }
            },
            "outputs": [
                {
                    "name": "stdout",
                    "output_type": "stream",
                    "text": [
                        "{'metadata': {'name': '175794/arr6',\n",
                        "              'shape': [1, 1, 1, 2, 5],\n",
                        "              'type': 'array',\n",
                        "              'vcount': 100,\n",
                        "              'vdim': 0,\n",
                        "              'voffset': 0},\n",
                        " 'obj_id': 32241867340012135346201811053936538,\n",
                        " 'sub_obj_metadata': None}\n",
                        "\n",
                        " Multiple Metadata retrieval of a single sub-object : TPS=5857.02575703623, MetaPS: 35141.90917723287\n"
                    ]
                }
            ],
            "source": [
                "meta_keys = [\"name\", \"type\", \"shape\", \"vcount\", \"voffset\", \"vdim\"]\n",
                "\n",
                "start = time.time()\n",
                "for i in range(1000):\n",
                "    result = bkc.get_object_metadata(\n",
                "        obj_ids[1],\n",
                "        meta_keys=meta_keys,  # retreiving SINGLE!!!\n",
                "    )\n",
                "\n",
                "pprint(result)\n",
                "print(\n",
                "    \"\\n Multiple Metadata retrieval of a single sub-object : TPS={}, MetaPS: {}\".format(\n",
                "        1000 / (time.time() - start), 1000 * len(meta_keys) / (time.time() - start)\n",
                "    )\n",
                ")"
            ]
        },
        {
            "cell_type": "markdown",
            "id": "9650adfc-e1d8-4004-9ea1-82b88722888f",
            "metadata": {},
            "source": [
                "### Retrieving multiple attributes from multiple sub-objects"
            ]
        },
        {
            "cell_type": "code",
            "execution_count": 12,
            "id": "c487bb76-44b8-48e4-a96e-6e7f1eccdfcf",
            "metadata": {
                "execution": {
                    "iopub.execute_input": "2025-02-28T17:35:48.879748Z",
                    "iopub.status.busy": "2025-02-28T17:35:48.879363Z",
                    "iopub.status.idle": "2025-02-28T17:35:50.123068Z",
                    "shell.execute_reply": "2025-02-28T17:35:50.122756Z",
                    "shell.execute_reply.started": "2025-02-28T17:35:48.879718Z"
                }
            },
            "outputs": [
                {
                    "name": "stdout",
                    "output_type": "stream",
                    "text": [
                        "{'metadata': {},\n",
                        " 'obj_id': 32241867340011452816671079505559450,\n",
                        " 'sub_obj_metadata': [{'metadata': {'name': '175794/arr4',\n",
                        "                                    'shape': [15, 15, 15, 15, 15],\n",
                        "                                    'type': 'array',\n",
                        "                                    'vcount': 100,\n",
                        "                                    'vdim': 0,\n",
                        "                                    'voffset': 0},\n",
                        "                       'name': '175794/arr4',\n",
                        "                       'obj_id': 32241867340012209133178114482077594},\n",
                        "                      {'metadata': {'name': '175794/arr3',\n",
                        "                                    'shape': [15, 15, 15],\n",
                        "                                    'type': 'array',\n",
                        "                                    'vcount': 100,\n",
                        "                                    'vdim': 0,\n",
                        "                                    'voffset': 0},\n",
                        "                       'name': '175794/arr3',\n",
                        "                       'obj_id': 32241867340042812281596402923175834},\n",
                        "                      {'metadata': {'name': '175794/arr5',\n",
                        "                                    'shape': [1, 1, 1, 2, 5],\n",
                        "                                    'type': 'array',\n",
                        "                                    'vcount': 100,\n",
                        "                                    'vdim': 0,\n",
                        "                                    'voffset': 0},\n",
                        "                       'name': '175794/arr5',\n",
                        "                       'obj_id': 32241867340012172239689962768007066},\n",
                        "                      {'metadata': {'name': '175794/arr6',\n",
                        "                                    'shape': [1, 1, 1, 2, 5],\n",
                        "                                    'type': 'array',\n",
                        "                                    'vcount': 100,\n",
                        "                                    'vdim': 0,\n",
                        "                                    'voffset': 0},\n",
                        "                       'name': '175794/arr6',\n",
                        "                       'obj_id': 32241867340012135346201811053936538},\n",
                        "                      {'metadata': {'name': '175794/gnn_arr2',\n",
                        "                                    'shape': [1, 100000],\n",
                        "                                    'type': 'array',\n",
                        "                                    'vcount': 100,\n",
                        "                                    'vdim': 0,\n",
                        "                                    'voffset': 0},\n",
                        "                       'name': '175794/gnn_arr2',\n",
                        "                       'obj_id': 32241867340046427843434858585227162},\n",
                        "                      {'metadata': {'name': '175794/gnn_arr1',\n",
                        "                                    'shape': [100000, 2],\n",
                        "                                    'type': 'array',\n",
                        "                                    'vcount': 100,\n",
                        "                                    'vdim': 0,\n",
                        "                                    'voffset': 0},\n",
                        "                       'name': '175794/gnn_arr1',\n",
                        "                       'obj_id': 32241867340042922962060849475452826}]}\n",
                        "Multiple Metadata retrieval of a single sub-object : TPS=3877.8339697303095, MetaPS: 69800.43065071896\n"
                    ]
                }
            ],
            "source": [
                "meta_keys = [\"name\", \"type\", \"shape\", \"vcount\", \"voffset\", \"vdim\"]\n",
                "\n",
                "start = time.time()\n",
                "for i in range(1000):\n",
                "    result = bkc.get_object_metadata(\n",
                "        obj_ids[0],\n",
                "        sub_meta_keys=meta_keys,  # retreiving MULTIPLE for every sub-object!!!\n",
                "    )\n",
                "\n",
                "pprint(result)\n",
                "print(\n",
                "    \"Multiple Metadata retrieval of a single sub-object : TPS={}, MetaPS: {}\".format(\n",
                "        1000 / (time.time() - start), 1000 * len(meta_keys) * 3 / (time.time() - start)\n",
                "    )\n",
                ")"
            ]
        },
        {
            "cell_type": "markdown",
            "id": "75c83814-e126-4bfd-9adf-e014299ea3f5",
            "metadata": {},
            "source": [
                "### Retrieving different set of attributes from multiple sub-objects"
            ]
        },
        {
            "cell_type": "code",
            "execution_count": 13,
            "id": "c460b192-f50f-41db-b293-11f505f07d94",
            "metadata": {
                "execution": {
                    "iopub.execute_input": "2025-02-28T18:49:37.465235Z",
                    "iopub.status.busy": "2025-02-28T18:49:37.464773Z",
                    "iopub.status.idle": "2025-02-28T18:49:38.297260Z",
                    "shell.execute_reply": "2025-02-28T18:49:38.296976Z",
                    "shell.execute_reply.started": "2025-02-28T18:49:37.465197Z"
                }
            },
            "outputs": [
                {
                    "name": "stdout",
                    "output_type": "stream",
                    "text": [
                        "{'metadata': {},\n",
                        " 'obj_id': 32241867340011452816671079505559450,\n",
                        " 'sub_obj_metadata': [{'metadata': {'type': 'array', 'vcount': 100},\n",
                        "                       'name': '175794/arr4',\n",
                        "                       'obj_id': 32241867340012209133178114482077594},\n",
                        "                      {'metadata': {'name': '175794/arr5',\n",
                        "                                    'type': 'array',\n",
                        "                                    'voffset': 0},\n",
                        "                       'name': '175794/arr5',\n",
                        "                       'obj_id': 32241867340012172239689962768007066}]}\n",
                        "\n",
                        " Multiple Metadata retrieval of a single sub-object : TPS=5596.5617131656445, MetaPS: 27982.36051530779\n"
                    ]
                }
            ],
            "source": [
                "# meta_keys=[\"name\",\n",
                "#             \"type\",\n",
                "#             \"shape\",\n",
                "#             \"vcount\",\n",
                "#             \"voffset\",\n",
                "#             \"vdim\"]\n",
                "\n",
                "start = time.time()\n",
                "for i in range(1000):\n",
                "    result = bkc.get_object_metadata(\n",
                "        obj_ids[0],\n",
                "        sub_meta_keys={\n",
                "            \"{}/arr5\".format(name_id): [\"name\", \"type\", \"voffset\"],\n",
                "            \"{}/arr4\".format(name_id): [\"type\", \"vcount\"],\n",
                "        },  # retrieving different set of metadata for different sub-objects\n",
                "    )\n",
                "\n",
                "pprint(result)\n",
                "print(\n",
                "    \"\\n Multiple Metadata retrieval of a single sub-object : TPS={}, MetaPS: {}\".format(\n",
                "        1000 / (time.time() - start), 1000 * 5 / (time.time() - start)\n",
                "    )\n",
                ")"
            ]
        },
        {
            "cell_type": "markdown",
            "id": "05ca1211",
            "metadata": {},
            "source": [
                "## Retrieve multiple metadata attributes from multiple objects (with a list of object IDs)"
            ]
        },
        {
            "cell_type": "markdown",
            "id": "baebe3e4-1d92-4b2b-95f7-138ebe60ef16",
            "metadata": {},
            "source": [
                "### Retrieving array of a single object"
            ]
        },
        {
            "cell_type": "code",
            "execution_count": 16,
            "id": "86e6c89c-235f-4ac4-bc92-60262a7e4300",
            "metadata": {
                "execution": {
                    "iopub.execute_input": "2025-02-28T18:49:42.632784Z",
                    "iopub.status.busy": "2025-02-28T18:49:42.632169Z",
                    "iopub.status.idle": "2025-02-28T18:49:43.493597Z",
                    "shell.execute_reply": "2025-02-28T18:49:43.493244Z",
                    "shell.execute_reply.started": "2025-02-28T18:49:42.632744Z"
                }
            },
            "outputs": [
                {
                    "name": "stdout",
                    "output_type": "stream",
                    "text": [
                        "{'array_slice': array([[[0.92677522, 0.84387444]]]), 'sub_obj_slices': []}\n",
                        "\n",
                        " retrieving array slice of a single 3D array, TPS=5749.433871224209, Sample/s = 958.2337244580912\n"
                    ]
                }
            ],
            "source": [
                "start = time.time()\n",
                "for i in range(1000):\n",
                "    result = bkc.get_object_data(\n",
                "        obj_ids[0],\n",
                "        region=[slice(0, 1), slice(0, 1), slice(0, 2, -1)],\n",
                "    )\n",
                "pprint(result)\n",
                "print(\n",
                "    \"\\n retrieving array slice of a single 3D array, TPS={}, Sample/s = {}\".format(\n",
                "        1000 / (time.time() - start), (1000 / 6) / (time.time() - start)\n",
                "    )\n",
                ")"
            ]
        },
        {
            "cell_type": "code",
            "execution_count": 17,
            "id": "898c8bf4",
            "metadata": {},
            "outputs": [
                {
                    "name": "stdout",
                    "output_type": "stream",
                    "text": [
                        "{'array_slice': array([[[0.14893291, 0.67803631, 0.05545661, 0.37738536, 0.57040274,\n",
                        "         0.62557655, 0.03332917, 0.60017098, 0.15297574, 0.77069315,\n",
                        "         0.78884436, 0.35573578, 0.12751065, 0.83462604, 0.97337488],\n",
                        "        [0.48697615, 0.52091613, 0.72884549, 0.29711955, 0.45601498,\n",
                        "         0.74599557, 0.44599237, 0.73372526, 0.02003314, 0.73791605,\n",
                        "         0.90717738, 0.93938249, 0.19557322, 0.94506392, 0.3742406 ],\n",
                        "        [0.39638403, 0.17191589, 0.68708895, 0.85688794, 0.79669507,\n",
                        "         0.12324473, 0.28676083, 0.24063706, 0.59012809, 0.46152916,\n",
                        "         0.09323674, 0.60850201, 0.37990989, 0.49518512, 0.12831398],\n",
                        "        [0.62193448, 0.23835224, 0.44219962, 0.044414  , 0.02397298,\n",
                        "         0.15914085, 0.13906844, 0.15073566, 0.01598167, 0.01442684,\n",
                        "         0.97381585, 0.50788165, 0.66935045, 0.83422141, 0.18119973],\n",
                        "        [0.16023414, 0.62195054, 0.4972597 , 0.51470713, 0.18111293,\n",
                        "         0.07151795, 0.4826289 , 0.42947462, 0.32325499, 0.8065441 ,\n",
                        "         0.86388364, 0.18790477, 0.98767211, 0.90974904, 0.65862937],\n",
                        "        [0.47662478, 0.7381265 , 0.86758589, 0.48508273, 0.54145273,\n",
                        "         0.99599716, 0.94724161, 0.33383453, 0.85522446, 0.41494578,\n",
                        "         0.93037555, 0.71179496, 0.42466103, 0.39745635, 0.88270898],\n",
                        "        [0.90927543, 0.76374975, 0.12930828, 0.51976717, 0.2211149 ,\n",
                        "         0.6219023 , 0.98777458, 0.77855153, 0.22694005, 0.76240943,\n",
                        "         0.05327478, 0.85135663, 0.56164543, 0.43890704, 0.44402782],\n",
                        "        [0.64602504, 0.30462612, 0.19770517, 0.67636616, 0.54444521,\n",
                        "         0.02180722, 0.69378526, 0.14070218, 0.75356013, 0.01728373,\n",
                        "         0.59513699, 0.26994138, 0.16971141, 0.50247449, 0.03565071],\n",
                        "        [0.95342748, 0.99242333, 0.54053554, 0.08002357, 0.02058917,\n",
                        "         0.59341882, 0.28211953, 0.43526053, 0.92988757, 0.43478147,\n",
                        "         0.1562955 , 0.36123827, 0.29380578, 0.68562236, 0.93104084],\n",
                        "        [0.85746828, 0.39660336, 0.84233033, 0.21507624, 0.66384213,\n",
                        "         0.89286674, 0.35049544, 0.69415255, 0.60778203, 0.40452052,\n",
                        "         0.13457473, 0.75478371, 0.41083956, 0.90644737, 0.87013101],\n",
                        "        [0.23662006, 0.84812336, 0.87655592, 0.18734851, 0.52913319,\n",
                        "         0.84566653, 0.67502949, 0.59980359, 0.11339416, 0.17515603,\n",
                        "         0.40004879, 0.17728131, 0.86046868, 0.9191686 , 0.60148612],\n",
                        "        [0.38488148, 0.58187643, 0.98880519, 0.89050262, 0.532408  ,\n",
                        "         0.28124413, 0.39709801, 0.12080962, 0.07673703, 0.7643771 ,\n",
                        "         0.35022614, 0.45427665, 0.48138493, 0.46408121, 0.30153925],\n",
                        "        [0.49231878, 0.30078409, 0.08768493, 0.07743837, 0.17917898,\n",
                        "         0.18261204, 0.63340164, 0.70860766, 0.42263613, 0.46522794,\n",
                        "         0.06538233, 0.37955384, 0.97607238, 0.86543611, 0.9953007 ],\n",
                        "        [0.37771927, 0.85622855, 0.4920009 , 0.17662179, 0.32133722,\n",
                        "         0.63676039, 0.22263729, 0.08241811, 0.35195556, 0.73934624,\n",
                        "         0.10037581, 0.70278031, 0.61479342, 0.78525711, 0.60922795],\n",
                        "        [0.05869582, 0.95252035, 0.5122565 , 0.99991786, 0.64751661,\n",
                        "         0.32322234, 0.53702414, 0.17192689, 0.04470289, 0.67539407,\n",
                        "         0.9848165 , 0.87139648, 0.17572834, 0.08761035, 0.04151681]],\n",
                        "\n",
                        "       [[0.27705214, 0.70974763, 0.52845524, 0.5509299 , 0.78030286,\n",
                        "         0.37779599, 0.40939065, 0.67432949, 0.6280128 , 0.32597711,\n",
                        "         0.58040507, 0.75993862, 0.38923056, 0.89727911, 0.03710722],\n",
                        "        [0.14426884, 0.13225825, 0.00993826, 0.11184638, 0.66599452,\n",
                        "         0.00817178, 0.74976663, 0.29164296, 0.18336002, 0.79266748,\n",
                        "         0.97950858, 0.01739426, 0.37221795, 0.96579965, 0.31043159],\n",
                        "        [0.84813296, 0.28458098, 0.68828113, 0.51526167, 0.18946871,\n",
                        "         0.92053727, 0.95541763, 0.653158  , 0.47687502, 0.12962452,\n",
                        "         0.49528645, 0.85100452, 0.80217677, 0.77236263, 0.57954669],\n",
                        "        [0.37951648, 0.07065578, 0.36935203, 0.13470173, 0.93070986,\n",
                        "         0.83061997, 0.35204269, 0.39055305, 0.90108324, 0.140449  ,\n",
                        "         0.88892097, 0.11007245, 0.49651291, 0.33935827, 0.04937833],\n",
                        "        [0.14486767, 0.88485817, 0.40424751, 0.11291697, 0.66644127,\n",
                        "         0.06537798, 0.35512533, 0.73445751, 0.08542809, 0.82019771,\n",
                        "         0.48211175, 0.90044985, 0.85834804, 0.04754336, 0.75476952],\n",
                        "        [0.93926486, 0.62644913, 0.87696123, 0.79625456, 0.63759791,\n",
                        "         0.94732047, 0.51362807, 0.22960134, 0.20727224, 0.78145834,\n",
                        "         0.4367467 , 0.58896665, 0.44516278, 0.86734551, 0.46974219],\n",
                        "        [0.00284849, 0.4819048 , 0.20770356, 0.00606675, 0.75908877,\n",
                        "         0.88485342, 0.45831218, 0.72010488, 0.43502211, 0.81810429,\n",
                        "         0.52992752, 0.16144815, 0.50728367, 0.58192434, 0.15038422],\n",
                        "        [0.56855179, 0.14235349, 0.33799077, 0.39313677, 0.06824383,\n",
                        "         0.39247312, 0.43335756, 0.78186   , 0.87750926, 0.51406088,\n",
                        "         0.49371095, 0.899957  , 0.49432721, 0.76602011, 0.69780884],\n",
                        "        [0.98490176, 0.22866394, 0.62269103, 0.37789881, 0.59980979,\n",
                        "         0.14763255, 0.43066083, 0.98634066, 0.22896013, 0.91141917,\n",
                        "         0.46829304, 0.00415614, 0.52393208, 0.33658879, 0.12184488],\n",
                        "        [0.95881774, 0.7850215 , 0.67409754, 0.98463307, 0.05607764,\n",
                        "         0.21038627, 0.79060158, 0.40257599, 0.87306634, 0.35368653,\n",
                        "         0.86145988, 0.11039602, 0.03499451, 0.84012548, 0.71217636],\n",
                        "        [0.64471098, 0.54651742, 0.62907199, 0.68599447, 0.27220657,\n",
                        "         0.71162842, 0.90590214, 0.63612451, 0.20201353, 0.05347447,\n",
                        "         0.78511558, 0.33117141, 0.36814026, 0.33466704, 0.01677543],\n",
                        "        [0.74933088, 0.82087353, 0.24841741, 0.76387534, 0.97177779,\n",
                        "         0.10450887, 0.28813626, 0.08166122, 0.97747957, 0.3965829 ,\n",
                        "         0.61687129, 0.90608294, 0.21354712, 0.69864756, 0.36891035],\n",
                        "        [0.72067175, 0.10760905, 0.17781562, 0.30593788, 0.91261453,\n",
                        "         0.13061105, 0.50091758, 0.86936052, 0.71908712, 0.37944182,\n",
                        "         0.20635983, 0.59768334, 0.77526707, 0.29401964, 0.58905137],\n",
                        "        [0.6781297 , 0.09533842, 0.71377174, 0.66111184, 0.98737889,\n",
                        "         0.86501875, 0.48336985, 0.80328751, 0.33139301, 0.04198713,\n",
                        "         0.77446326, 0.51244395, 0.33658094, 0.28896078, 0.6847979 ],\n",
                        "        [0.90079241, 0.47397165, 0.7567022 , 0.07090287, 0.54153963,\n",
                        "         0.40431811, 0.54901374, 0.23274167, 0.87295472, 0.4747094 ,\n",
                        "         0.58726967, 0.50267809, 0.75727612, 0.17224613, 0.76823893]]]),\n",
                        " 'sub_obj_slices': []}\n",
                        "\n",
                        " retrieving array slice of a single 3D array, TPS=4122.364615101857, Sample/s = 687.0587433600601\n"
                    ]
                }
            ],
            "source": [
                "start = time.time()\n",
                "for i in range(1000):\n",
                "    result = bkc.get_object_data(\n",
                "        obj_ids[0],\n",
                "        region=[\n",
                "            slice(12, 14, None),\n",
                "            slice(None),\n",
                "            slice(None),\n",
                "        ],\n",
                "    )\n",
                "pprint(result)\n",
                "print(\n",
                "    \"\\n retrieving array slice of a single 3D array, TPS={}, Sample/s = {}\".format(\n",
                "        1000 / (time.time() - start), (1000 / 6) / (time.time() - start)\n",
                "    )\n",
                ")"
            ]
        },
        {
            "cell_type": "markdown",
            "id": "1a5018d9-e2c1-4662-ac5e-76eeb82543c7",
            "metadata": {},
            "source": [
                "### Retrieving array slices of multiple sub-objects (Large subarray included)"
            ]
        },
        {
            "cell_type": "code",
            "execution_count": 18,
            "id": "047c806e-0851-4f76-8d50-e11516176639",
            "metadata": {
                "execution": {
                    "iopub.execute_input": "2025-02-28T18:51:31.199303Z",
                    "iopub.status.busy": "2025-02-28T18:51:31.198773Z",
                    "iopub.status.idle": "2025-02-28T18:51:31.223875Z",
                    "shell.execute_reply": "2025-02-28T18:51:31.223029Z",
                    "shell.execute_reply.started": "2025-02-28T18:51:31.199269Z"
                }
            },
            "outputs": [
                {
                    "name": "stdout",
                    "output_type": "stream",
                    "text": [
                        "{'array_slice': array([[[0.92677522, 0.84387444],\n",
                        "        [0.99168289, 0.73437325]]]),\n",
                        " 'sub_obj_slices': [{'array': array([[[[[1.47160024, 1.17740676],\n",
                        "          [1.26652604, 1.39582609]]]]]),\n",
                        "                     'id': 32241867340012172239689962768007066,\n",
                        "                     'name': '175794/arr5'},\n",
                        "                    {'array': array([[[[[1.37814842, 1.20389044]]]],\n",
                        "\n",
                        "\n",
                        "\n",
                        "       [[[[0.8425671 , 0.86088457]]]]]),\n",
                        "                     'id': 32241867340012209133178114482077594,\n",
                        "                     'name': '175794/arr4'},\n",
                        "                    {'array': array([[[0.81278814, 0.72433482, 0.31094818, 0.25320828, 0.92677522],\n",
                        "        [0.87083857, 0.97587411, 0.04471095, 0.91263221, 0.99168289]]]),\n",
                        "                     'id': 32241867340042812281596402923175834,\n",
                        "                     'name': '175794/arr3'},\n",
                        "                    {'array': array([[[[[2.94320048, 2.35481353],\n",
                        "          [2.53305209, 2.79165217]]]]]),\n",
                        "                     'id': 32241867340012135346201811053936538,\n",
                        "                     'name': '175794/arr6'}]}\n",
                        "\n",
                        " retrieving array slice of a single 3D array, TPS=2957.2505908431995, Sample/s=4435.875886264799\n"
                    ]
                }
            ],
            "source": [
                "start = time.time()\n",
                "for i in range(1000):\n",
                "    result = bkc.get_object_data(\n",
                "        obj_ids[0],\n",
                "        region=[slice(0, 1), slice(0, 2), slice(0, 2, -1)],\n",
                "        sub_obj_regions=[\n",
                "            (\n",
                "                \"{}/arr5\".format(name_id),\n",
                "                [slice(0, 1), slice(0, 1), slice(0, 1), slice(0, 2), slice(0, 2, -1)],\n",
                "            ),\n",
                "            (\n",
                "                \"{}/arr4\".format(name_id),\n",
                "                [\n",
                "                    slice(0, 2, -1),\n",
                "                    slice(0, 1),\n",
                "                    slice(0, 1),\n",
                "                    slice(0, 1),\n",
                "                    slice(0, 2, -1),\n",
                "                ],\n",
                "            ),\n",
                "            (\n",
                "                \"{}/arr3\".format(name_id),\n",
                "                [slice(0, 1), slice(0, 2), slice(0, 10, -2)],\n",
                "            ),\n",
                "            (\n",
                "                \"{}/arr6\".format(name_id),\n",
                "                [slice(0, 1), slice(0, 1), slice(0, 1), slice(0, 2), slice(0, 2, -1)],\n",
                "            ),\n",
                "        ],\n",
                "    )\n",
                "pprint(result)\n",
                "print(\n",
                "    \"\\n retrieving array slice of a single 3D array, TPS={}, Sample/s={}\".format(\n",
                "        1000 / (time.time() - start), (1000 / (4 / 6)) / (time.time() - start)\n",
                "    )\n",
                ")"
            ]
        },
        {
            "cell_type": "markdown",
            "id": "6eb6151e-4cdf-433a-a19c-e557a7f5bb4e",
            "metadata": {},
            "source": [
                "### Retrieving slices of multiple objects (only GNN arrays)"
            ]
        },
        {
            "cell_type": "code",
            "execution_count": 19,
            "id": "9b9d4283-2046-4a1a-aae4-7256368a7d7d",
            "metadata": {
                "execution": {
                    "iopub.execute_input": "2025-02-28T18:51:24.146014Z",
                    "iopub.status.busy": "2025-02-28T18:51:24.145462Z",
                    "iopub.status.idle": "2025-02-28T18:51:24.169561Z",
                    "shell.execute_reply": "2025-02-28T18:51:24.168797Z",
                    "shell.execute_reply.started": "2025-02-28T18:51:24.145975Z"
                }
            },
            "outputs": [
                {
                    "name": "stdout",
                    "output_type": "stream",
                    "text": [
                        "{'array_slice': None,\n",
                        " 'sub_obj_slices': [{'array': array([[0.56249349],\n",
                        "       [0.17460969],\n",
                        "       [0.4450655 ],\n",
                        "       [0.40921978],\n",
                        "       [0.57775482],\n",
                        "       [0.56689632],\n",
                        "       [0.44602338],\n",
                        "       [0.69690084],\n",
                        "       [0.80330829],\n",
                        "       [0.73855516],\n",
                        "       [0.98234141],\n",
                        "       [0.44343586],\n",
                        "       [0.65681836],\n",
                        "       [0.80249468],\n",
                        "       [0.84089686],\n",
                        "       [0.53751869],\n",
                        "       [0.11450231],\n",
                        "       [0.95098718],\n",
                        "       [0.13885783],\n",
                        "       [0.92918438]]),\n",
                        "                     'id': 32241867340042922962060849475452826,\n",
                        "                     'name': '175794/gnn_arr1'},\n",
                        "                    {'array': array([[0.73855516],\n",
                        "       [0.80330829],\n",
                        "       [0.69690084],\n",
                        "       [0.44602338],\n",
                        "       [0.56689632],\n",
                        "       [0.57775482],\n",
                        "       [0.40921978],\n",
                        "       [0.4450655 ],\n",
                        "       [0.17460969],\n",
                        "       [0.56249349]]),\n",
                        "                     'id': 32241867340042922962060849475452826,\n",
                        "                     'name': '175794/gnn_arr1'},\n",
                        "                    {'array': array([[0.84089686, 0.20674617],\n",
                        "       [0.80249468, 0.70906248],\n",
                        "       [0.65681836, 0.43766872],\n",
                        "       [0.44343586, 0.02713808],\n",
                        "       [0.98234141, 0.54166277],\n",
                        "       [0.73855516, 0.55519712],\n",
                        "       [0.80330829, 0.71112933],\n",
                        "       [0.69690084, 0.53633343],\n",
                        "       [0.44602338, 0.58890971],\n",
                        "       [0.56689632, 0.2054802 ],\n",
                        "       [0.57775482, 0.76511235],\n",
                        "       [0.40921978, 0.7839671 ],\n",
                        "       [0.4450655 , 0.07125378],\n",
                        "       [0.17460969, 0.67702143],\n",
                        "       [0.56249349, 0.57470979]]),\n",
                        "                     'id': 32241867340042922962060849475452826,\n",
                        "                     'name': '175794/gnn_arr1'},\n",
                        "                    {'array': array([[0.29301432, 0.08448041, 0.82668517, 0.46182414, 0.80804786,\n",
                        "        0.39362544, 0.3669855 , 0.74042364, 0.69795386, 0.37561162,\n",
                        "        0.60127353, 0.81444132, 0.6522011 , 0.49402213, 0.20165689,\n",
                        "        0.56468876, 0.45029485, 0.50606859, 0.68484874, 0.02137827]]),\n",
                        "                     'id': 32241867340046427843434858585227162,\n",
                        "                     'name': '175794/gnn_arr2'},\n",
                        "                    {'array': array([[0.29301432, 0.08448041, 0.82668517, 0.46182414, 0.80804786,\n",
                        "        0.39362544, 0.3669855 , 0.74042364, 0.69795386, 0.37561162,\n",
                        "        0.60127353, 0.81444132, 0.6522011 , 0.49402213, 0.20165689,\n",
                        "        0.56468876, 0.45029485, 0.50606859, 0.68484874, 0.02137827]]),\n",
                        "                     'id': 32241867340046427843434858585227162,\n",
                        "                     'name': '175794/gnn_arr2'},\n",
                        "                    {'array': array([[0.29301432, 0.08448041, 0.82668517, 0.46182414, 0.80804786,\n",
                        "        0.39362544, 0.3669855 , 0.74042364, 0.69795386, 0.37561162,\n",
                        "        0.60127353, 0.81444132, 0.6522011 , 0.49402213, 0.20165689,\n",
                        "        0.56468876, 0.45029485, 0.50606859, 0.68484874, 0.02137827]]),\n",
                        "                     'id': 32241867340046427843434858585227162,\n",
                        "                     'name': '175794/gnn_arr2'}]}\n",
                        "\n",
                        " retrieving array slice of a single 3D array, TPS=2646.8480873585877, Sample/s=2646.8397358148127\n"
                    ]
                }
            ],
            "source": [
                "start = time.time()\n",
                "for i in range(1000):\n",
                "    result = bkc.get_object_data(\n",
                "        obj_ids[0],\n",
                "        region=None,\n",
                "        sub_obj_regions=[\n",
                "            (\n",
                "                \"{}/gnn_arr1\".format(name_id),\n",
                "                [slice(0, 20), slice(0, 1)],\n",
                "            ),\n",
                "            (\n",
                "                \"{}/gnn_arr1\".format(name_id),\n",
                "                [\n",
                "                    slice(0, 10, -1),\n",
                "                    slice(0, 1),\n",
                "                ],\n",
                "            ),\n",
                "            (\n",
                "                \"{}/gnn_arr1\".format(name_id),\n",
                "                [\n",
                "                    slice(0, 15, -1),\n",
                "                    slice(0, 2),\n",
                "                ],\n",
                "            ),\n",
                "            (\n",
                "                \"{}/gnn_arr2\".format(name_id),\n",
                "                [\n",
                "                    slice(0, 1),\n",
                "                    slice(0, 20, -1),\n",
                "                ],\n",
                "            ),\n",
                "            (\n",
                "                \"{}/gnn_arr2\".format(name_id),\n",
                "                [\n",
                "                    slice(0, 1),\n",
                "                    slice(0, 20, -1),\n",
                "                ],\n",
                "            ),\n",
                "            (\n",
                "                \"{}/gnn_arr2\".format(name_id),\n",
                "                [\n",
                "                    slice(0, 1),\n",
                "                    slice(0, 20, -1),\n",
                "                ],\n",
                "            ),\n",
                "        ],\n",
                "    )\n",
                "pprint(result)\n",
                "print(\n",
                "    \"\\n retrieving array slice of a single 3D array, TPS={}, Sample/s={}\".format(\n",
                "        1000 / (time.time() - start), (1000) / (time.time() - start)\n",
                "    )\n",
                ")"
            ]
        },
        {
            "cell_type": "code",
            "execution_count": 20,
            "id": "8c55f852-6d95-4cb4-92e9-49440cb8e013",
            "metadata": {},
            "outputs": [],
            "source": [
                "bkc.close()"
            ]
        },
        {
            "cell_type": "markdown",
            "id": "4a5b5176-c08f-497f-9069-f1a79bfa0925",
            "metadata": {},
            "source": [
                "## Closing the Store"
            ]
        },
        {
            "cell_type": "code",
            "execution_count": 89,
            "id": "271fefa9-b496-4eef-84ab-d8c23ac94362",
            "metadata": {
                "execution": {
                    "iopub.execute_input": "2025-02-28T05:41:57.714524Z",
                    "iopub.status.busy": "2025-02-28T05:41:57.714414Z",
                    "iopub.status.idle": "2025-02-28T05:41:57.716271Z",
                    "shell.execute_reply": "2025-02-28T05:41:57.715950Z",
                    "shell.execute_reply.started": "2025-02-28T05:41:57.714510Z"
                }
            },
            "outputs": [],
            "source": [
                "# server_process.terminate()\n",
                "# server_process.wait()\n",
                "# print(\"Server process terminated.\")"
            ]
        },
        {
            "cell_type": "code",
            "execution_count": null,
            "id": "b843f7a2-0403-41e4-bc38-1abbbac90df5",
            "metadata": {},
            "outputs": [],
            "source": []
        }
    ],
    "metadata": {
        "kernelspec": {
            "display_name": "base",
            "language": "python",
            "name": "python3"
        },
        "language_info": {
            "codemirror_mode": {
                "name": "ipython",
                "version": 3
            },
            "file_extension": ".py",
            "mimetype": "text/x-python",
            "name": "python",
            "nbconvert_exporter": "python",
            "pygments_lexer": "ipython3",
            "version": "3.12.2"
        }
    },
    "nbformat": 4,
    "nbformat_minor": 5
}
