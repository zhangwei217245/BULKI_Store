{
      "cells": [
            {
                  "cell_type": "markdown",
                  "id": "0affd900-afe5-4c0e-95a5-6bee49e10a28",
                  "metadata": {},
                  "source": [
                        "# BULKI_Store Demo"
                  ]
            },
            {
                  "cell_type": "markdown",
                  "id": "8018064e-9b27-4a40-88fd-c61c86dd232a",
                  "metadata": {},
                  "source": [
                        "## Starting Server"
                  ]
            },
            {
                  "cell_type": "code",
                  "execution_count": 8,
                  "id": "bb352f7a-d9a5-477b-9882-7b9cf31b301f",
                  "metadata": {
                        "execution": {
                              "iopub.execute_input": "2025-02-28T05:41:39.254010Z",
                              "iopub.status.busy": "2025-02-28T05:41:39.253811Z",
                              "iopub.status.idle": "2025-02-28T05:41:39.258481Z",
                              "shell.execute_reply": "2025-02-28T05:41:39.257538Z",
                              "shell.execute_reply.started": "2025-02-28T05:41:39.253987Z"
                        }
                  },
                  "outputs": [
                        {
                              "name": "stdout",
                              "output_type": "stream",
                              "text": [
                                    "env: RUST_LOG=debug\n",
                                    "Let's start\n"
                              ]
                        }
                  ],
                  "source": [
                        "\n",
                        "%env RUST_LOG=debug\n",
                        "print(\"Let's start\")"
                  ]
            },
            {
                  "cell_type": "code",
                  "execution_count": 9,
                  "id": "ad28327e-746d-47cf-9e47-e0865bf76b4e",
                  "metadata": {
                        "execution": {
                              "iopub.execute_input": "2025-02-28T05:41:39.261040Z",
                              "iopub.status.busy": "2025-02-28T05:41:39.260843Z",
                              "iopub.status.idle": "2025-02-28T05:41:39.265728Z",
                              "shell.execute_reply": "2025-02-28T05:41:39.265114Z",
                              "shell.execute_reply.started": "2025-02-28T05:41:39.261017Z"
                        }
                  },
                  "outputs": [],
                  "source": [
                        "# import subprocess\n",
                        "\n",
                        "# # Start the server as a background process\n",
                        "# server_process = subprocess.Popen(\n",
                        "#     ['/opt/homebrew/bin/mpirun', '-np', '4', 'target/debug/bulkistore-server'],\n",
                        "#     env={'RUST_LOG': 'debug'},\n",
                        "#     stdout=subprocess.PIPE,\n",
                        "#     stderr=subprocess.PIPE\n",
                        "# )\n",
                        "\n",
                        "# print(\"Server started with PID:\", server_process.pid)"
                  ]
            },
            {
                  "cell_type": "markdown",
                  "id": "02b86998-32fc-4342-ab51-07bcc276f28a",
                  "metadata": {},
                  "source": [
                        "## Creating Arrays"
                  ]
            },
            {
                  "cell_type": "code",
                  "execution_count": 9,
                  "id": "e1c65e4b-9eeb-4c4d-a85a-12c7f03a28a0",
                  "metadata": {
                        "execution": {
                              "iopub.execute_input": "2025-02-28T17:28:28.971028Z",
                              "iopub.status.busy": "2025-02-28T17:28:28.970655Z",
                              "iopub.status.idle": "2025-02-28T17:28:28.983982Z",
                              "shell.execute_reply": "2025-02-28T17:28:28.983587Z",
                              "shell.execute_reply.started": "2025-02-28T17:28:28.970995Z"
                        }
                  },
                  "outputs": [
                        {
                              "name": "stdout",
                              "output_type": "stream",
                              "text": [
                                    "5D array size = 759375 elements\n",
                                    "rd1.shape= (15, 15, 15, 15, 15)\n",
                                    "rd1 last 2 dim preview:\n",
                                    "[[[[[0.91916643 0.57526507 0.02746476 0.36783772 0.33642047 0.10287835\n",
                                    "     0.47660514 0.50571474 0.2944028  0.73182231 0.12338597 0.17456935\n",
                                    "     0.2120688  0.3522699  0.154965  ]\n",
                                    "    [0.60824607 0.49450452 0.34295648 0.36501795 0.16088049 0.44475071\n",
                                    "     0.32873376 0.70152553 0.87947118 0.45969996 0.03656584 0.92766225\n",
                                    "     0.90900134 0.97332126 0.19243266]]]]]\n",
                                    "rd2.shape= (15, 15, 15, 15, 15)\n",
                                    "rd2 last 2 dim preview:\n",
                                    "[[[[[0.12012631 0.88275265 0.13045821 0.72110563 0.11280704 0.43979397\n",
                                    "     0.13140799 0.53699961 0.31499988 0.20651592 0.2443182  0.34088608\n",
                                    "     0.80926133 0.71876011 0.63368412]\n",
                                    "    [0.39493041 0.66138647 0.13864564 0.05841128 0.18156871 0.87268622\n",
                                    "     0.10975273 0.86773428 0.53356156 0.21963713 0.61880254 0.47776777\n",
                                    "     0.35828801 0.62576332 0.96915824]]]]]\n",
                                    "arr3.shape= (15, 15, 15)\n",
                                    "arr3 last 2 dim preview:\n",
                                    "[[[0.84684537 0.21955693 0.06038325 0.82745845 0.60366945 0.17512975\n",
                                    "   0.78138206 0.79450385 0.81819491 0.96877656 0.87413598 0.86062339\n",
                                    "   0.04686653 0.36203908 0.14568314]\n",
                                    "  [0.59955285 0.30301385 0.64420908 0.46113795 0.97529763 0.07644312\n",
                                    "   0.2764323  0.49231485 0.16567801 0.24909682 0.5555679  0.6725488\n",
                                    "   0.6157673  0.93533302 0.55441029]]]\n"
                              ]
                        }
                  ],
                  "source": [
                        "import bkstore_client as bkc\n",
                        "import numpy as np\n",
                        "import time\n",
                        "from pprint import pprint\n",
                        "\n",
                        "\n",
                        "bkc.init()\n",
                        "dim_size = 15\n",
                        "\n",
                        "print(\"5D array size = {} elements\".format(dim_size**5))\n",
                        "\n",
                        "# dim_size = 10\n",
                        "rd1 = np.random.rand(dim_size, dim_size, dim_size, dim_size, dim_size)\n",
                        "rd2 = np.random.rand(dim_size, dim_size, dim_size, dim_size, dim_size)\n",
                        "\n",
                        "print(\"rd1.shape=\", rd1.shape)\n",
                        "print(\"rd1 last 2 dim preview:\")\n",
                        "print(rd1[0:1, 0:1, 0:1, 0:2, 0:])\n",
                        "\n",
                        "print(\"rd2.shape=\", rd2.shape)\n",
                        "print(\"rd2 last 2 dim preview:\")\n",
                        "print(rd2[0:1, 0:1, 0:1, 0:2, 0:])\n",
                        "\n",
                        "arr3 = np.random.rand(dim_size, dim_size, dim_size)\n",
                        "print(\"arr3.shape=\", arr3.shape)\n",
                        "print(\"arr3 last 2 dim preview:\")\n",
                        "print(arr3[0:1, 0:2, 0:])"
                  ]
            },
            {
                  "cell_type": "markdown",
                  "id": "9c99005b-814f-49d9-a353-cf13f41e7766",
                  "metadata": {},
                  "source": [
                        "## Client-Side NDArray Arithmetic Operation"
                  ]
            },
            {
                  "cell_type": "code",
                  "execution_count": 10,
                  "id": "e8f78089-b1d0-4221-9154-6290abe5bac1",
                  "metadata": {
                        "execution": {
                              "iopub.execute_input": "2025-02-28T17:30:08.380322Z",
                              "iopub.status.busy": "2025-02-28T17:30:08.379953Z",
                              "iopub.status.idle": "2025-02-28T17:30:08.418732Z",
                              "shell.execute_reply": "2025-02-28T17:30:08.418240Z",
                              "shell.execute_reply.started": "2025-02-28T17:30:08.380279Z"
                        }
                  },
                  "outputs": [
                        {
                              "name": "stdout",
                              "output_type": "stream",
                              "text": [
                                    "arr4.shape= (15, 15, 15, 15, 15)\n",
                                    "arr4 last 2 dim preview:\n",
                                    "[[[[[1.03929273 1.45801772 0.15792297 1.08894335 0.44922752 0.54267232\n",
                                    "     0.60801314 1.04271435 0.60940268 0.93833823 0.36770417 0.51545543\n",
                                    "     1.02133013 1.07103001 0.78864912]\n",
                                    "    [1.00317648 1.155891   0.48160212 0.42342923 0.34244919 1.31743693\n",
                                    "     0.43848648 1.56925981 1.41303273 0.67933709 0.65536837 1.40543002\n",
                                    "     1.26728934 1.59908458 1.1615909 ]]]]]\n"
                              ]
                        }
                  ],
                  "source": [
                        "arr4 = bkc.polymorphic_add(rd1, rd2)\n",
                        "\n",
                        "print(\"arr4.shape=\", arr4.shape)\n",
                        "print(\"arr4 last 2 dim preview:\")\n",
                        "print(arr4[0:1, 0:1, 0:1, 0:2, 0:])"
                  ]
            },
            {
                  "cell_type": "markdown",
                  "id": "23e46f92-f17f-424f-a17a-541501d73ce4",
                  "metadata": {},
                  "source": [
                        "## Remote Array Slicing"
                  ]
            },
            {
                  "cell_type": "code",
                  "execution_count": 11,
                  "id": "4b65e224-b51a-453f-8f53-53f71b99670a",
                  "metadata": {
                        "execution": {
                              "iopub.execute_input": "2025-02-28T17:30:11.992171Z",
                              "iopub.status.busy": "2025-02-28T17:30:11.991774Z",
                              "iopub.status.idle": "2025-02-28T17:30:11.997090Z",
                              "shell.execute_reply": "2025-02-28T17:30:11.996558Z",
                              "shell.execute_reply.started": "2025-02-28T17:30:11.992138Z"
                        }
                  },
                  "outputs": [
                        {
                              "name": "stdout",
                              "output_type": "stream",
                              "text": [
                                    "arr5.shape= (1, 1, 1, 2, 5)\n",
                                    "arr5 last 2 dim preview:\n",
                                    "[[[[[0.93833823 1.04271435 0.54267232 1.08894335 1.45801772]\n",
                                    "    [0.67933709 1.56925981 1.31743693 0.42342923 1.155891  ]]]]]\n"
                              ]
                        }
                  ],
                  "source": [
                        "arr5 = bkc.array_slicing(\n",
                        "    arr4, [slice(0, 1), slice(0, 1), slice(0, 1), slice(0, 2), slice(0, 10, -2)]\n",
                        ")\n",
                        "\n",
                        "print(\"arr5.shape=\", arr5.shape)\n",
                        "print(\"arr5 last 2 dim preview:\")\n",
                        "print(arr5[0:1, 0:1, 0:1, 0:2, 0:])"
                  ]
            },
            {
                  "cell_type": "markdown",
                  "id": "927e1606-6fe9-4ce5-bff7-d2abb03ab922",
                  "metadata": {},
                  "source": [
                        "## Remote Array Arithmetic Operation"
                  ]
            },
            {
                  "cell_type": "code",
                  "execution_count": 12,
                  "id": "90ce6f0b-cbd1-43ef-b84e-23e8716225af",
                  "metadata": {
                        "execution": {
                              "iopub.execute_input": "2025-02-28T17:30:26.198069Z",
                              "iopub.status.busy": "2025-02-28T17:30:26.197595Z",
                              "iopub.status.idle": "2025-02-28T17:30:26.209466Z",
                              "shell.execute_reply": "2025-02-28T17:30:26.209081Z",
                              "shell.execute_reply.started": "2025-02-28T17:30:26.198037Z"
                        }
                  },
                  "outputs": [
                        {
                              "name": "stdout",
                              "output_type": "stream",
                              "text": [
                                    "arr6.shape= (1, 1, 1, 2, 5)\n",
                                    "arr6:\n",
                                    "[[[[[1.87667646 2.0854287  1.08534464 2.17788669 2.91603545]\n",
                                    "    [1.35867419 3.13851962 2.63487386 0.84685846 2.31178199]]]]]\n"
                              ]
                        }
                  ],
                  "source": [
                        "arr6 = bkc.times_two(arr5)\n",
                        "\n",
                        "print(\"arr6.shape=\", arr6.shape)\n",
                        "print(\"arr6:\")\n",
                        "print(arr6)"
                  ]
            },
            {
                  "cell_type": "markdown",
                  "id": "10a687f2-e5f3-47fb-b8c0-a2f1a0bc3413",
                  "metadata": {},
                  "source": [
                        "## Creating Object with Multiple NDArrays\n",
                        "\n",
                        "1. You can attach a series of metadata attributes directly to the object you are creating\n",
                        "2. You can attach a series of NDArrays directly to the object you are creating along with the metadata attributes of these NDArrays.\n",
                        "3. Each of these NDArrays will become a sub-object of the main object you are creating."
                  ]
            },
            {
                  "cell_type": "code",
                  "execution_count": 15,
                  "id": "f5fe543f-9a9e-4688-96aa-1201d570ac7f",
                  "metadata": {
                        "execution": {
                              "iopub.execute_input": "2025-02-28T17:32:13.125162Z",
                              "iopub.status.busy": "2025-02-28T17:32:13.124843Z",
                              "iopub.status.idle": "2025-02-28T17:32:21.843102Z",
                              "shell.execute_reply": "2025-02-28T17:32:21.842802Z",
                              "shell.execute_reply.started": "2025-02-28T17:32:13.125135Z"
                        }
                  },
                  "outputs": [
                        {
                              "name": "stdout",
                              "output_type": "stream",
                              "text": [
                                    "[32119611598135167160399663328550181]\n"
                              ]
                        }
                  ],
                  "source": [
                        "# Create an 3D array\n",
                        "\n",
                        "name_id = str(np.random.rand(1)[0] * 1000000)[0:6]\n",
                        "\n",
                        "gnn_arr1 = np.random.rand(100000, 2)\n",
                        "gnn_arr2 = np.random.rand(1, 100000)\n",
                        "\n",
                        "obj_ids = bkc.create_objects(\n",
                        "    obj_name_key=\"name\",\n",
                        "    parent_id=None,\n",
                        "    metadata={\n",
                        "        \"name\": \"container\",\n",
                        "        \"type\": \"container\",\n",
                        "        \"keys\": [\n",
                        "            \"{}/arr6\".format(name_id),\n",
                        "            \"{}/arr5\".format(name_id),\n",
                        "            \"{}/arr4\".format(name_id),\n",
                        "            \"{}/arr3\".format(name_id),\n",
                        "            \"{}/gnn_arr1\".format(name_id),\n",
                        "            \"{}/gnn_arr2\".format(name_id),\n",
                        "        ],\n",
                        "        \"ranges\": [(1, 100), (100, 200)],\n",
                        "        \"part_num\": 1,\n",
                        "        \"part_size\": 100,\n",
                        "    },\n",
                        "    data=arr3,\n",
                        "    array_meta_list=[\n",
                        "        {\n",
                        "            \"name\": \"{}/arr6\".format(name_id),\n",
                        "            \"type\": \"array\",\n",
                        "            \"shape\": arr6.shape,\n",
                        "            \"vcount\": 100,\n",
                        "            \"voffset\": 0,\n",
                        "            \"vdim\": 0,\n",
                        "        },\n",
                        "        {\n",
                        "            \"name\": \"{}/arr5\".format(name_id),\n",
                        "            \"type\": \"array\",\n",
                        "            \"shape\": arr6.shape,\n",
                        "            \"vcount\": 100,\n",
                        "            \"voffset\": 0,\n",
                        "            \"vdim\": 0,\n",
                        "        },\n",
                        "        {\n",
                        "            \"name\": \"{}/arr4\".format(name_id),\n",
                        "            \"type\": \"array\",\n",
                        "            \"shape\": arr4.shape,\n",
                        "            \"vcount\": 100,\n",
                        "            \"voffset\": 0,\n",
                        "            \"vdim\": 0,\n",
                        "        },\n",
                        "        {\n",
                        "            \"name\": \"{}/arr3\".format(name_id),\n",
                        "            \"type\": \"array\",\n",
                        "            \"shape\": arr3.shape,\n",
                        "            \"vcount\": 100,\n",
                        "            \"voffset\": 0,\n",
                        "            \"vdim\": 0,\n",
                        "        },\n",
                        "        {\n",
                        "            \"name\": \"{}/gnn_arr1\".format(name_id),\n",
                        "            \"type\": \"array\",\n",
                        "            \"shape\": gnn_arr1.shape,\n",
                        "            \"vcount\": 100,\n",
                        "            \"voffset\": 0,\n",
                        "            \"vdim\": 0,\n",
                        "        },\n",
                        "        {\n",
                        "            \"name\": \"{}/gnn_arr2\".format(name_id),\n",
                        "            \"type\": \"array\",\n",
                        "            \"shape\": gnn_arr2.shape,\n",
                        "            \"vcount\": 100,\n",
                        "            \"voffset\": 0,\n",
                        "            \"vdim\": 0,\n",
                        "        },\n",
                        "    ],\n",
                        "    array_data_list=[arr6, arr5, arr4, arr3, gnn_arr1, gnn_arr2],\n",
                        ")\n",
                        "print(obj_ids)"
                  ]
            },
            {
                  "cell_type": "code",
                  "execution_count": 15,
                  "id": "55bfc47e",
                  "metadata": {},
                  "outputs": [
                        {
                              "name": "stdout",
                              "output_type": "stream",
                              "text": [
                                    "276475\n"
                              ]
                        }
                  ],
                  "source": [
                        "print(f\"{name_id}\")"
                  ]
            },
            {
                  "cell_type": "markdown",
                  "id": "9c85aad5-fc35-406a-9a76-d8635eecf9a3",
                  "metadata": {},
                  "source": [
                        "## Retrieve Metadata"
                  ]
            },
            {
                  "cell_type": "markdown",
                  "id": "16c77e70-32c0-472e-90c9-a44bd51d2f19",
                  "metadata": {},
                  "source": [
                        "### Retrieve a single metadata attributes from a single object\n",
                        "\n",
                        "\n",
                        "In HydraGNN, we need to retrieve a series of metadata attributes from a container. \n",
                        "\n",
                        "If every single metadata retrieval requires a single request, that would be too much overhead.\n",
                        "\n",
                        "MetaPS is a new metric we designed to calculate the number of metadata attributes we can retrieve from one object within a second.\n"
                  ]
            },
            {
                  "cell_type": "code",
                  "execution_count": 16,
                  "id": "d325e370-6cc5-4ab0-ba22-55591a8ed391",
                  "metadata": {
                        "execution": {
                              "iopub.execute_input": "2025-02-28T17:33:11.141541Z",
                              "iopub.status.busy": "2025-02-28T17:33:11.141143Z",
                              "iopub.status.idle": "2025-02-28T17:33:11.998396Z",
                              "shell.execute_reply": "2025-02-28T17:33:11.998045Z",
                              "shell.execute_reply.started": "2025-02-28T17:33:11.141506Z"
                        }
                  },
                  "outputs": [
                        {
                              "name": "stdout",
                              "output_type": "stream",
                              "text": [
                                    "{'obj_id': 32119611598135167160399663328550181, 'metadata': {'type': 'container'}, 'sub_obj_metadata': None}\n",
                                    "{'obj_id': 32119611598135167160399663328550181, 'metadata': {'keys': ['8839.0/arr6', '8839.0/arr5', '8839.0/arr4', '8839.0/arr3', '8839.0/gnn_arr1', '8839.0/gnn_arr2']}, 'sub_obj_metadata': None}\n",
                                    "{'obj_id': 32119611598135167160399663328550181, 'metadata': {'ranges': [(1, 100), (100, 200)]}, 'sub_obj_metadata': None}\n",
                                    "{'obj_id': 32119611598135167160399663328550181, 'metadata': {'name': 'container'}, 'sub_obj_metadata': None}\n",
                                    "{'obj_id': 32119611598135167160399663328550181, 'metadata': {'part_num': 1}, 'sub_obj_metadata': None}\n",
                                    "{'obj_id': 32119611598135167160399663328550181, 'metadata': {'part_size': 100}, 'sub_obj_metadata': None}\n",
                                    "{'obj_id': 32119611598135167160399663328550181, 'metadata': {}, 'sub_obj_metadata': None}\n",
                                    "Single Metadata retrieval of single object : TPS = 1207.5923666346316 MetaPS: 1207.5909759126957\n"
                              ]
                        }
                  ],
                  "source": [
                        "meta_keys = [\"type\", \"keys\", \"ranges\", \"name\", \"part_num\", \"part_size\", \"title\"]\n",
                        "\n",
                        "start = time.time()\n",
                        "for i in range(1000):\n",
                        "    k = i % len(meta_keys)\n",
                        "    result = bkc.get_object_metadata(\n",
                        "        obj_ids[0],\n",
                        "        meta_keys=[meta_keys[k]],  # retreiving SINGLE!!!\n",
                        "    )\n",
                        "    if i < len(meta_keys):\n",
                        "        print(result)\n",
                        "\n",
                        "print(\n",
                        "    \"Single Metadata retrieval of single object : TPS = {} MetaPS: {}\".format(\n",
                        "        1000 / (time.time() - start), 1000 / (time.time() - start)\n",
                        "    )\n",
                        ")"
                  ]
            },
            {
                  "cell_type": "code",
                  "execution_count": 17,
                  "id": "f92537e2",
                  "metadata": {},
                  "outputs": [
                        {
                              "name": "stdout",
                              "output_type": "stream",
                              "text": [
                                    "{'obj_id': 32119611598135167160399663328550181, 'metadata': {'type': 'container'}, 'sub_obj_metadata': None}\n",
                                    "{'obj_id': 32119611598135167160399663328550181, 'metadata': {'keys': ['8839.0/arr6', '8839.0/arr5', '8839.0/arr4', '8839.0/arr3', '8839.0/gnn_arr1', '8839.0/gnn_arr2']}, 'sub_obj_metadata': None}\n",
                                    "{'obj_id': 32119611598135167160399663328550181, 'metadata': {'ranges': [(1, 100), (100, 200)]}, 'sub_obj_metadata': None}\n",
                                    "{'obj_id': 32119611598135167160399663328550181, 'metadata': {'name': 'container'}, 'sub_obj_metadata': None}\n",
                                    "{'obj_id': 32119611598135167160399663328550181, 'metadata': {'part_num': 1}, 'sub_obj_metadata': None}\n",
                                    "{'obj_id': 32119611598135167160399663328550181, 'metadata': {'part_size': 100}, 'sub_obj_metadata': None}\n",
                                    "{'obj_id': 32119611598135167160399663328550181, 'metadata': {}, 'sub_obj_metadata': None}\n",
                                    "Single Metadata retrieval of single object : TPS = 1342.2137882150394 MetaPS: 1342.2120701368578\n"
                              ]
                        }
                  ],
                  "source": [
                        "meta_keys = [\"type\", \"keys\", \"ranges\", \"name\", \"part_num\", \"part_size\", \"title\"]\n",
                        "\n",
                        "start = time.time()\n",
                        "for i in range(1000):\n",
                        "    k = i % len(meta_keys)\n",
                        "    result = bkc.get_object_metadata(\n",
                        "        obj_id=\"container\",\n",
                        "        meta_keys=[meta_keys[k]],  # retreiving SINGLE!!!\n",
                        "    )\n",
                        "    if i < len(meta_keys):\n",
                        "        print(result)\n",
                        "\n",
                        "print(\n",
                        "    \"Single Metadata retrieval of single object : TPS = {} MetaPS: {}\".format(\n",
                        "        1000 / (time.time() - start), 1000 / (time.time() - start)\n",
                        "    )\n",
                        ")"
                  ]
            },
            {
                  "cell_type": "markdown",
                  "id": "69da6ac0-2c99-4151-96eb-3c45862756ff",
                  "metadata": {},
                  "source": [
                        "### Retrieving multiple metadata attributes from a single object\n",
                        "\n",
                        "Now we can combine the metadata retrieval of a single container into one single request. \n",
                        "\n",
                        "MetaPS is a new metric we designed to calculate the number of metadata attributes we can retrieve from one object within a second.\n",
                        "\n",
                        "Slight drop on TPS but MEGA IMPROVEMENT for MetaPS"
                  ]
            },
            {
                  "cell_type": "code",
                  "execution_count": 21,
                  "id": "b53c2db0-d736-4798-9b27-f01c2a6cb7c5",
                  "metadata": {
                        "execution": {
                              "iopub.execute_input": "2025-02-28T17:34:05.716855Z",
                              "iopub.status.busy": "2025-02-28T17:34:05.716532Z",
                              "iopub.status.idle": "2025-02-28T17:34:06.677678Z",
                              "shell.execute_reply": "2025-02-28T17:34:06.677208Z",
                              "shell.execute_reply.started": "2025-02-28T17:34:05.716829Z"
                        }
                  },
                  "outputs": [
                        {
                              "name": "stdout",
                              "output_type": "stream",
                              "text": [
                                    "{'metadata': {'keys': ['8839.0/arr6',\n",
                                    "                       '8839.0/arr5',\n",
                                    "                       '8839.0/arr4',\n",
                                    "                       '8839.0/arr3',\n",
                                    "                       '8839.0/gnn_arr1',\n",
                                    "                       '8839.0/gnn_arr2'],\n",
                                    "              'name': 'container',\n",
                                    "              'part_num': 1,\n",
                                    "              'part_size': 100,\n",
                                    "              'ranges': [(1, 100), (100, 200)],\n",
                                    "              'type': 'container'},\n",
                                    " 'obj_id': 32119611598135167160399663328550181,\n",
                                    " 'sub_obj_metadata': None}\n",
                                    "\n",
                                    " Multiple Metadata retrieval of single object : TPS=1203.8663294324845, MetaPS: 7223.179317556042 \n"
                              ]
                        }
                  ],
                  "source": [
                        "meta_keys = [\"type\", \"keys\", \"ranges\", \"name\", \"part_num\", \"part_size\"]\n",
                        "\n",
                        "start = time.time()\n",
                        "for i in range(1000):\n",
                        "    result = bkc.get_object_metadata(\n",
                        "        obj_ids[0],\n",
                        "        meta_keys=meta_keys,  # retrieving MULTIPLE!!!\n",
                        "    )\n",
                        "pprint(result)\n",
                        "print(\n",
                        "    \"\\n Multiple Metadata retrieval of single object : TPS={}, MetaPS: {} \".format(\n",
                        "        1000 / (time.time() - start), 1000 * len(meta_keys) / (time.time() - start)\n",
                        "    )\n",
                        ")"
                  ]
            },
            {
                  "cell_type": "markdown",
                  "id": "57075ab8-80e7-4eca-8a15-d0fb94ea83ad",
                  "metadata": {},
                  "source": [
                        "### Retrieving single attributes from a single sub-object"
                  ]
            },
            {
                  "cell_type": "code",
                  "execution_count": 22,
                  "id": "8d111feb-792d-48a9-9c7b-9919d6322eb2",
                  "metadata": {
                        "execution": {
                              "iopub.execute_input": "2025-02-28T17:34:54.022362Z",
                              "iopub.status.busy": "2025-02-28T17:34:54.021993Z",
                              "iopub.status.idle": "2025-02-28T17:34:54.871747Z",
                              "shell.execute_reply": "2025-02-28T17:34:54.871383Z",
                              "shell.execute_reply.started": "2025-02-28T17:34:54.022301Z"
                        }
                  },
                  "outputs": [
                        {
                              "ename": "ValueError",
                              "evalue": "Failed to get object metadata: Connection Failure: h2 protocol error: http2 error",
                              "output_type": "error",
                              "traceback": [
                                    "\u001b[0;31m---------------------------------------------------------------------------\u001b[0m",
                                    "\u001b[0;31mValueError\u001b[0m                                Traceback (most recent call last)",
                                    "Cell \u001b[0;32mIn[22], line 6\u001b[0m\n\u001b[1;32m      4\u001b[0m \u001b[38;5;28;01mfor\u001b[39;00m i \u001b[38;5;129;01min\u001b[39;00m \u001b[38;5;28mrange\u001b[39m(\u001b[38;5;241m1000\u001b[39m):\n\u001b[1;32m      5\u001b[0m     k \u001b[38;5;241m=\u001b[39m i \u001b[38;5;241m%\u001b[39m \u001b[38;5;28mlen\u001b[39m(meta_keys)\n\u001b[0;32m----> 6\u001b[0m     result \u001b[38;5;241m=\u001b[39m \u001b[43mbkc\u001b[49m\u001b[38;5;241;43m.\u001b[39;49m\u001b[43mget_object_metadata\u001b[49m\u001b[43m(\u001b[49m\n\u001b[1;32m      7\u001b[0m \u001b[43m        \u001b[49m\u001b[43mobj_id\u001b[49m\u001b[38;5;241;43m=\u001b[39;49m\u001b[38;5;124;43m\"\u001b[39;49m\u001b[38;5;124;43m8839.0/arr6\u001b[39;49m\u001b[38;5;124;43m\"\u001b[39;49m\u001b[43m,\u001b[49m\n\u001b[1;32m      8\u001b[0m \u001b[43m        \u001b[49m\u001b[43mmeta_keys\u001b[49m\u001b[38;5;241;43m=\u001b[39;49m\u001b[43m[\u001b[49m\u001b[43mmeta_keys\u001b[49m\u001b[43m[\u001b[49m\u001b[43mk\u001b[49m\u001b[43m]\u001b[49m\u001b[43m]\u001b[49m\u001b[43m,\u001b[49m\u001b[43m  \u001b[49m\u001b[38;5;66;43;03m# retreiving SINGLE!!!\u001b[39;49;00m\n\u001b[1;32m      9\u001b[0m \u001b[43m    \u001b[49m\u001b[43m)\u001b[49m\n\u001b[1;32m     10\u001b[0m     \u001b[38;5;28;01mif\u001b[39;00m i \u001b[38;5;241m<\u001b[39m \u001b[38;5;28mlen\u001b[39m(meta_keys):\n\u001b[1;32m     11\u001b[0m         \u001b[38;5;28mprint\u001b[39m(result)\n",
                                    "\u001b[0;31mValueError\u001b[0m: Failed to get object metadata: Connection Failure: h2 protocol error: http2 error"
                              ]
                        }
                  ],
                  "source": [
                        "meta_keys = [\"name\", \"type\", \"shape\", \"vcount\", \"voffset\", \"vdim\"]\n",
                        "\n",
                        "start = time.time()\n",
                        "for i in range(1000):\n",
                        "    k = i % len(meta_keys)\n",
                        "    result = bkc.get_object_metadata(\n",
                        "        obj_id=\"8839.0\",\n",
                        "        meta_keys=[meta_keys[k]],  # retreiving SINGLE!!!\n",
                        "    )\n",
                        "    if i < len(meta_keys):\n",
                        "        print(result)\n",
                        "\n",
                        "print(\n",
                        "    \"Single Metadata retrieval of a single sub-object : TPS={}, MetaPS: {}\".format(\n",
                        "        1000 / (time.time() - start), 1000 / (time.time() - start)\n",
                        "    )\n",
                        ")"
                  ]
            },
            {
                  "cell_type": "markdown",
                  "id": "918cd7d4-7f43-4770-8e16-5e8926f354e6",
                  "metadata": {},
                  "source": [
                        "### Retrieving multiple attributes from single sub-objects"
                  ]
            },
            {
                  "cell_type": "code",
                  "execution_count": 20,
                  "id": "ada9cdc5-c928-4052-82d2-b74b4ef6ff55",
                  "metadata": {
                        "execution": {
                              "iopub.execute_input": "2025-02-28T17:35:00.569728Z",
                              "iopub.status.busy": "2025-02-28T17:35:00.569391Z",
                              "iopub.status.idle": "2025-02-28T17:35:01.476518Z",
                              "shell.execute_reply": "2025-02-28T17:35:01.476058Z",
                              "shell.execute_reply.started": "2025-02-28T17:35:00.569697Z"
                        }
                  },
                  "outputs": [
                        {
                              "name": "stdout",
                              "output_type": "stream",
                              "text": [
                                    "{'metadata': {'name': '276475/arr6',\n",
                                    "              'shape': [1, 1, 1, 2, 5],\n",
                                    "              'type': 'array',\n",
                                    "              'vcount': 100,\n",
                                    "              'vdim': 0,\n",
                                    "              'voffset': 0},\n",
                                    " 'obj_id': 32119348377435593173945324017138841,\n",
                                    " 'sub_obj_metadata': None}\n",
                                    "\n",
                                    " Multiple Metadata retrieval of a single sub-object : TPS=1227.8993406301297, MetaPS: 7367.376632318905\n"
                              ]
                        }
                  ],
                  "source": [
                        "meta_keys = [\"name\", \"type\", \"shape\", \"vcount\", \"voffset\", \"vdim\"]\n",
                        "\n",
                        "start = time.time()\n",
                        "for i in range(1000):\n",
                        "    result = bkc.get_object_metadata(\n",
                        "        obj_ids[1],\n",
                        "        meta_keys=meta_keys,  # retreiving SINGLE!!!\n",
                        "    )\n",
                        "\n",
                        "pprint(result)\n",
                        "print(\n",
                        "    \"\\n Multiple Metadata retrieval of a single sub-object : TPS={}, MetaPS: {}\".format(\n",
                        "        1000 / (time.time() - start), 1000 * len(meta_keys) / (time.time() - start)\n",
                        "    )\n",
                        ")"
                  ]
            },
            {
                  "cell_type": "markdown",
                  "id": "9650adfc-e1d8-4004-9ea1-82b88722888f",
                  "metadata": {},
                  "source": [
                        "### Retrieving multiple attributes from multiple sub-objects"
                  ]
            },
            {
                  "cell_type": "code",
                  "execution_count": 21,
                  "id": "c487bb76-44b8-48e4-a96e-6e7f1eccdfcf",
                  "metadata": {
                        "execution": {
                              "iopub.execute_input": "2025-02-28T17:35:48.879748Z",
                              "iopub.status.busy": "2025-02-28T17:35:48.879363Z",
                              "iopub.status.idle": "2025-02-28T17:35:50.123068Z",
                              "shell.execute_reply": "2025-02-28T17:35:50.122756Z",
                              "shell.execute_reply.started": "2025-02-28T17:35:48.879718Z"
                        }
                  },
                  "outputs": [
                        {
                              "name": "stdout",
                              "output_type": "stream",
                              "text": [
                                    "{'metadata': {},\n",
                                    " 'obj_id': 32119348377435464046736803755310233,\n",
                                    " 'sub_obj_metadata': [{'metadata': {'name': '276475/arr3',\n",
                                    "                                    'shape': [15, 15, 15],\n",
                                    "                                    'type': 'array',\n",
                                    "                                    'vcount': 100,\n",
                                    "                                    'vdim': 0,\n",
                                    "                                    'voffset': 0},\n",
                                    "                       'name': '276475/arr3',\n",
                                    "                       'obj_id': 32119348377447159282479552790903961},\n",
                                    "                      {'metadata': {'name': '276475/arr6',\n",
                                    "                                    'shape': [1, 1, 1, 2, 5],\n",
                                    "                                    'type': 'array',\n",
                                    "                                    'vcount': 100,\n",
                                    "                                    'vdim': 0,\n",
                                    "                                    'voffset': 0},\n",
                                    "                       'name': '276475/arr6',\n",
                                    "                       'obj_id': 32119348377435593173945324017138841},\n",
                                    "                      {'metadata': {'name': '276475/arr5',\n",
                                    "                                    'shape': [1, 1, 1, 2, 5],\n",
                                    "                                    'type': 'array',\n",
                                    "                                    'vcount': 100,\n",
                                    "                                    'vdim': 0,\n",
                                    "                                    'voffset': 0},\n",
                                    "                       'name': '276475/arr5',\n",
                                    "                       'obj_id': 32119348377435832981618286536277145},\n",
                                    "                      {'metadata': {'name': '276475/gnn_arr2',\n",
                                    "                                    'shape': [1, 100000],\n",
                                    "                                    'type': 'array',\n",
                                    "                                    'vcount': 100,\n",
                                    "                                    'vdim': 0,\n",
                                    "                                    'voffset': 0},\n",
                                    "                       'name': '276475/gnn_arr2',\n",
                                    "                       'obj_id': 32119348377449741826649880718064793},\n",
                                    "                      {'metadata': {'name': '276475/arr4',\n",
                                    "                                    'shape': [15, 15, 15, 15, 15],\n",
                                    "                                    'type': 'array',\n",
                                    "                                    'vcount': 100,\n",
                                    "                                    'vdim': 0,\n",
                                    "                                    'voffset': 0},\n",
                                    "                       'name': '276475/arr4',\n",
                                    "                       'obj_id': 32119348377435999002314954217208985},\n",
                                    "                      {'metadata': {'name': '276475/gnn_arr1',\n",
                                    "                                    'shape': [100000, 2],\n",
                                    "                                    'type': 'array',\n",
                                    "                                    'vcount': 100,\n",
                                    "                                    'vdim': 0,\n",
                                    "                                    'voffset': 0},\n",
                                    "                       'name': '276475/gnn_arr1',\n",
                                    "                       'obj_id': 32119348377447399090152515310042265}]}\n",
                                    "Multiple Metadata retrieval of a single sub-object : TPS=944.3788986016821, MetaPS: 16998.785728197203\n"
                              ]
                        }
                  ],
                  "source": [
                        "meta_keys = [\"name\", \"type\", \"shape\", \"vcount\", \"voffset\", \"vdim\"]\n",
                        "\n",
                        "start = time.time()\n",
                        "for i in range(1000):\n",
                        "    result = bkc.get_object_metadata(\n",
                        "        obj_ids[0],\n",
                        "        sub_meta_keys=meta_keys,  # retreiving MULTIPLE for every sub-object!!!\n",
                        "    )\n",
                        "\n",
                        "pprint(result)\n",
                        "print(\n",
                        "    \"Multiple Metadata retrieval of a single sub-object : TPS={}, MetaPS: {}\".format(\n",
                        "        1000 / (time.time() - start), 1000 * len(meta_keys) * 3 / (time.time() - start)\n",
                        "    )\n",
                        ")"
                  ]
            },
            {
                  "cell_type": "markdown",
                  "id": "75c83814-e126-4bfd-9adf-e014299ea3f5",
                  "metadata": {},
                  "source": [
                        "### Retrieving different set of attributes from multiple sub-objects"
                  ]
            },
            {
                  "cell_type": "code",
                  "execution_count": 22,
                  "id": "c460b192-f50f-41db-b293-11f505f07d94",
                  "metadata": {
                        "execution": {
                              "iopub.execute_input": "2025-02-28T18:49:37.465235Z",
                              "iopub.status.busy": "2025-02-28T18:49:37.464773Z",
                              "iopub.status.idle": "2025-02-28T18:49:38.297260Z",
                              "shell.execute_reply": "2025-02-28T18:49:38.296976Z",
                              "shell.execute_reply.started": "2025-02-28T18:49:37.465197Z"
                        }
                  },
                  "outputs": [
                        {
                              "name": "stdout",
                              "output_type": "stream",
                              "text": [
                                    "{'metadata': {},\n",
                                    " 'obj_id': 32119348377435464046736803755310233,\n",
                                    " 'sub_obj_metadata': [{'metadata': {'name': '276475/arr5',\n",
                                    "                                    'type': 'array',\n",
                                    "                                    'voffset': 0},\n",
                                    "                       'name': '276475/arr5',\n",
                                    "                       'obj_id': 32119348377435832981618286536277145},\n",
                                    "                      {'metadata': {'type': 'array', 'vcount': 100},\n",
                                    "                       'name': '276475/arr4',\n",
                                    "                       'obj_id': 32119348377435999002314954217208985}]}\n",
                                    "\n",
                                    " Multiple Metadata retrieval of a single sub-object : TPS=1184.3237843207348, MetaPS: 5921.603873131561\n"
                              ]
                        }
                  ],
                  "source": [
                        "# meta_keys=[\"name\",\n",
                        "#             \"type\",\n",
                        "#             \"shape\",\n",
                        "#             \"vcount\",\n",
                        "#             \"voffset\",\n",
                        "#             \"vdim\"]\n",
                        "\n",
                        "start = time.time()\n",
                        "for i in range(1000):\n",
                        "    result = bkc.get_object_metadata(\n",
                        "        obj_ids[0],\n",
                        "        sub_meta_keys={\n",
                        "            \"{}/arr5\".format(name_id): [\"name\", \"type\", \"voffset\"],\n",
                        "            \"{}/arr4\".format(name_id): [\"type\", \"vcount\"],\n",
                        "        },  # retrieving different set of metadata for different sub-objects\n",
                        "    )\n",
                        "\n",
                        "pprint(result)\n",
                        "print(\n",
                        "    \"\\n Multiple Metadata retrieval of a single sub-object : TPS={}, MetaPS: {}\".format(\n",
                        "        1000 / (time.time() - start), 1000 * 5 / (time.time() - start)\n",
                        "    )\n",
                        ")"
                  ]
            },
            {
                  "cell_type": "markdown",
                  "id": "baebe3e4-1d92-4b2b-95f7-138ebe60ef16",
                  "metadata": {},
                  "source": [
                        "### Retrieving array of a single object"
                  ]
            },
            {
                  "cell_type": "code",
                  "execution_count": 23,
                  "id": "86e6c89c-235f-4ac4-bc92-60262a7e4300",
                  "metadata": {
                        "execution": {
                              "iopub.execute_input": "2025-02-28T18:49:42.632784Z",
                              "iopub.status.busy": "2025-02-28T18:49:42.632169Z",
                              "iopub.status.idle": "2025-02-28T18:49:43.493597Z",
                              "shell.execute_reply": "2025-02-28T18:49:43.493244Z",
                              "shell.execute_reply.started": "2025-02-28T18:49:42.632744Z"
                        }
                  },
                  "outputs": [
                        {
                              "name": "stdout",
                              "output_type": "stream",
                              "text": [
                                    "{'array_slice': array([[[0.48205712, 0.67145357]]]), 'sub_obj_slices': []}\n",
                                    "\n",
                                    " retrieving array slice of a single 3D array, TPS=1000.2439617092201, Sample/s = 166.70716792840616\n"
                              ]
                        }
                  ],
                  "source": [
                        "start = time.time()\n",
                        "for i in range(1000):\n",
                        "    result = bkc.get_object_data(\n",
                        "        obj_ids[0],\n",
                        "        region=[slice(0, 1), slice(0, 1), slice(0, 2, -1)],\n",
                        "    )\n",
                        "pprint(result)\n",
                        "print(\n",
                        "    \"\\n retrieving array slice of a single 3D array, TPS={}, Sample/s = {}\".format(\n",
                        "        1000 / (time.time() - start), (1000 / 6) / (time.time() - start)\n",
                        "    )\n",
                        ")"
                  ]
            },
            {
                  "cell_type": "markdown",
                  "id": "1a5018d9-e2c1-4662-ac5e-76eeb82543c7",
                  "metadata": {},
                  "source": [
                        "### Retrieving array slices of multiple sub-objects (Large subarray included)"
                  ]
            },
            {
                  "cell_type": "code",
                  "execution_count": 24,
                  "id": "047c806e-0851-4f76-8d50-e11516176639",
                  "metadata": {
                        "execution": {
                              "iopub.execute_input": "2025-02-28T18:51:31.199303Z",
                              "iopub.status.busy": "2025-02-28T18:51:31.198773Z",
                              "iopub.status.idle": "2025-02-28T18:51:31.223875Z",
                              "shell.execute_reply": "2025-02-28T18:51:31.223029Z",
                              "shell.execute_reply.started": "2025-02-28T18:51:31.199269Z"
                        }
                  },
                  "outputs": [
                        {
                              "name": "stdout",
                              "output_type": "stream",
                              "text": [
                                    "{'array_slice': array([[[0.48205712, 0.67145357],\n",
                                    "        [0.83928621, 0.8233581 ]]]),\n",
                                    " 'sub_obj_slices': [{'array': array([[[[[1.29210399, 0.83085831],\n",
                                    "          [0.59747627, 1.57740461]]]]]),\n",
                                    "                     'id': 32119348377435832981618286536277145,\n",
                                    "                     'name': '276475/arr5'},\n",
                                    "                    {'array': array([[[[[0.73377526, 1.54474945]]]],\n",
                                    "\n",
                                    "\n",
                                    "\n",
                                    "       [[[[1.30933282, 0.33224046]]]]]),\n",
                                    "                     'id': 32119348377435999002314954217208985,\n",
                                    "                     'name': '276475/arr4'},\n",
                                    "                    {'array': array([[[0.70220418, 0.42578952, 0.5314196 , 0.41273197, 0.48205712],\n",
                                    "        [0.46147236, 0.18501475, 0.72301612, 0.88348578, 0.83928621]]]),\n",
                                    "                     'id': 32119348377447159282479552790903961,\n",
                                    "                     'name': '276475/arr3'},\n",
                                    "                    {'array': array([[[[[2.58420797, 1.66171663],\n",
                                    "          [1.19495253, 3.15480921]]]]]),\n",
                                    "                     'id': 32119348377435593173945324017138841,\n",
                                    "                     'name': '276475/arr6'}]}\n",
                                    "\n",
                                    " retrieving array slice of a single 3D array, TPS=336.64323123257714, Sample/s=504.9648468488657\n"
                              ]
                        }
                  ],
                  "source": [
                        "start = time.time()\n",
                        "for i in range(1000):\n",
                        "    result = bkc.get_object_data(\n",
                        "        obj_ids[0],\n",
                        "        region=[slice(0, 1), slice(0, 2), slice(0, 2, -1)],\n",
                        "        sub_obj_regions=[\n",
                        "            (\n",
                        "                \"{}/arr5\".format(name_id),\n",
                        "                [slice(0, 1), slice(0, 1), slice(0, 1), slice(0, 2), slice(0, 2, -1)],\n",
                        "            ),\n",
                        "            (\n",
                        "                \"{}/arr4\".format(name_id),\n",
                        "                [\n",
                        "                    slice(0, 2, -1),\n",
                        "                    slice(0, 1),\n",
                        "                    slice(0, 1),\n",
                        "                    slice(0, 1),\n",
                        "                    slice(0, 2, -1),\n",
                        "                ],\n",
                        "            ),\n",
                        "            (\n",
                        "                \"{}/arr3\".format(name_id),\n",
                        "                [slice(0, 1), slice(0, 2), slice(0, 10, -2)],\n",
                        "            ),\n",
                        "            (\n",
                        "                \"{}/arr6\".format(name_id),\n",
                        "                [slice(0, 1), slice(0, 1), slice(0, 1), slice(0, 2), slice(0, 2, -1)],\n",
                        "            ),\n",
                        "        ],\n",
                        "    )\n",
                        "pprint(result)\n",
                        "print(\n",
                        "    \"\\n retrieving array slice of a single 3D array, TPS={}, Sample/s={}\".format(\n",
                        "        1000 / (time.time() - start), (1000 / (4 / 6)) / (time.time() - start)\n",
                        "    )\n",
                        ")"
                  ]
            },
            {
                  "cell_type": "markdown",
                  "id": "6eb6151e-4cdf-433a-a19c-e557a7f5bb4e",
                  "metadata": {},
                  "source": [
                        "### Retrieving slices of multiple objects (only GNN arrays)"
                  ]
            },
            {
                  "cell_type": "code",
                  "execution_count": 25,
                  "id": "9b9d4283-2046-4a1a-aae4-7256368a7d7d",
                  "metadata": {
                        "execution": {
                              "iopub.execute_input": "2025-02-28T18:51:24.146014Z",
                              "iopub.status.busy": "2025-02-28T18:51:24.145462Z",
                              "iopub.status.idle": "2025-02-28T18:51:24.169561Z",
                              "shell.execute_reply": "2025-02-28T18:51:24.168797Z",
                              "shell.execute_reply.started": "2025-02-28T18:51:24.145975Z"
                        }
                  },
                  "outputs": [
                        {
                              "name": "stdout",
                              "output_type": "stream",
                              "text": [
                                    "{'array_slice': None,\n",
                                    " 'sub_obj_slices': [{'array': array([[0.4725509 ],\n",
                                    "       [0.4009871 ],\n",
                                    "       [0.28816418],\n",
                                    "       [0.03304448],\n",
                                    "       [0.96981313],\n",
                                    "       [0.91304028],\n",
                                    "       [0.2036412 ],\n",
                                    "       [0.24010823],\n",
                                    "       [0.60022992],\n",
                                    "       [0.71936996],\n",
                                    "       [0.98409307],\n",
                                    "       [0.82907341],\n",
                                    "       [0.75973639],\n",
                                    "       [0.9982704 ],\n",
                                    "       [0.49448435],\n",
                                    "       [0.67091999],\n",
                                    "       [0.31854262],\n",
                                    "       [0.21357598],\n",
                                    "       [0.71976736],\n",
                                    "       [0.88784411]]),\n",
                                    "                     'id': 32119348377447399090152515310042265,\n",
                                    "                     'name': '276475/gnn_arr1'},\n",
                                    "                    {'array': array([[0.71936996],\n",
                                    "       [0.60022992],\n",
                                    "       [0.24010823],\n",
                                    "       [0.2036412 ],\n",
                                    "       [0.91304028],\n",
                                    "       [0.96981313],\n",
                                    "       [0.03304448],\n",
                                    "       [0.28816418],\n",
                                    "       [0.4009871 ],\n",
                                    "       [0.4725509 ]]),\n",
                                    "                     'id': 32119348377447399090152515310042265,\n",
                                    "                     'name': '276475/gnn_arr1'},\n",
                                    "                    {'array': array([[0.49448435, 0.49840732],\n",
                                    "       [0.9982704 , 0.67813405],\n",
                                    "       [0.75973639, 0.78696706],\n",
                                    "       [0.82907341, 0.31284205],\n",
                                    "       [0.98409307, 0.1147439 ],\n",
                                    "       [0.71936996, 0.34441241],\n",
                                    "       [0.60022992, 0.89671   ],\n",
                                    "       [0.24010823, 0.89646293],\n",
                                    "       [0.2036412 , 0.69421089],\n",
                                    "       [0.91304028, 0.21012686],\n",
                                    "       [0.96981313, 0.76845724],\n",
                                    "       [0.03304448, 0.91161715],\n",
                                    "       [0.28816418, 0.82016472],\n",
                                    "       [0.4009871 , 0.07541664],\n",
                                    "       [0.4725509 , 0.50948387]]),\n",
                                    "                     'id': 32119348377447399090152515310042265,\n",
                                    "                     'name': '276475/gnn_arr1'},\n",
                                    "                    {'array': array([[0.77166562, 0.261201  , 0.01788087, 0.45027997, 0.20136955,\n",
                                    "        0.64836019, 0.48042901, 0.01219249, 0.67959436, 0.62532324,\n",
                                    "        0.3123059 , 0.4268495 , 0.02598422, 0.65047606, 0.99556191,\n",
                                    "        0.04948692, 0.85834884, 0.31678016, 0.35525603, 0.03374656]]),\n",
                                    "                     'id': 32119348377449741826649880718064793,\n",
                                    "                     'name': '276475/gnn_arr2'},\n",
                                    "                    {'array': array([[0.77166562, 0.261201  , 0.01788087, 0.45027997, 0.20136955,\n",
                                    "        0.64836019, 0.48042901, 0.01219249, 0.67959436, 0.62532324,\n",
                                    "        0.3123059 , 0.4268495 , 0.02598422, 0.65047606, 0.99556191,\n",
                                    "        0.04948692, 0.85834884, 0.31678016, 0.35525603, 0.03374656]]),\n",
                                    "                     'id': 32119348377449741826649880718064793,\n",
                                    "                     'name': '276475/gnn_arr2'},\n",
                                    "                    {'array': array([[0.77166562, 0.261201  , 0.01788087, 0.45027997, 0.20136955,\n",
                                    "        0.64836019, 0.48042901, 0.01219249, 0.67959436, 0.62532324,\n",
                                    "        0.3123059 , 0.4268495 , 0.02598422, 0.65047606, 0.99556191,\n",
                                    "        0.04948692, 0.85834884, 0.31678016, 0.35525603, 0.03374656]]),\n",
                                    "                     'id': 32119348377449741826649880718064793,\n",
                                    "                     'name': '276475/gnn_arr2'}]}\n",
                                    "\n",
                                    " retrieving array slice of a single 3D array, TPS=264.3991929159768, Sample/s=264.39910958044464\n"
                              ]
                        }
                  ],
                  "source": [
                        "start = time.time()\n",
                        "for i in range(1000):\n",
                        "    result = bkc.get_object_data(\n",
                        "        obj_ids[0],\n",
                        "        region=None,\n",
                        "        sub_obj_regions=[\n",
                        "            (\n",
                        "                \"{}/gnn_arr1\".format(name_id),\n",
                        "                [slice(0, 20), slice(0, 1)],\n",
                        "            ),\n",
                        "            (\n",
                        "                \"{}/gnn_arr1\".format(name_id),\n",
                        "                [\n",
                        "                    slice(0, 10, -1),\n",
                        "                    slice(0, 1),\n",
                        "                ],\n",
                        "            ),\n",
                        "            (\n",
                        "                \"{}/gnn_arr1\".format(name_id),\n",
                        "                [\n",
                        "                    slice(0, 15, -1),\n",
                        "                    slice(0, 2),\n",
                        "                ],\n",
                        "            ),\n",
                        "            (\n",
                        "                \"{}/gnn_arr2\".format(name_id),\n",
                        "                [\n",
                        "                    slice(0, 1),\n",
                        "                    slice(0, 20, -1),\n",
                        "                ],\n",
                        "            ),\n",
                        "            (\n",
                        "                \"{}/gnn_arr2\".format(name_id),\n",
                        "                [\n",
                        "                    slice(0, 1),\n",
                        "                    slice(0, 20, -1),\n",
                        "                ],\n",
                        "            ),\n",
                        "            (\n",
                        "                \"{}/gnn_arr2\".format(name_id),\n",
                        "                [\n",
                        "                    slice(0, 1),\n",
                        "                    slice(0, 20, -1),\n",
                        "                ],\n",
                        "            ),\n",
                        "        ],\n",
                        "    )\n",
                        "pprint(result)\n",
                        "print(\n",
                        "    \"\\n retrieving array slice of a single 3D array, TPS={}, Sample/s={}\".format(\n",
                        "        1000 / (time.time() - start), (1000) / (time.time() - start)\n",
                        "    )\n",
                        ")"
                  ]
            },
            {
                  "cell_type": "code",
                  "execution_count": null,
                  "id": "8c55f852-6d95-4cb4-92e9-49440cb8e013",
                  "metadata": {},
                  "outputs": [],
                  "source": []
            },
            {
                  "cell_type": "markdown",
                  "id": "4a5b5176-c08f-497f-9069-f1a79bfa0925",
                  "metadata": {},
                  "source": [
                        "## Closing the Store"
                  ]
            },
            {
                  "cell_type": "code",
                  "execution_count": 26,
                  "id": "271fefa9-b496-4eef-84ab-d8c23ac94362",
                  "metadata": {
                        "execution": {
                              "iopub.execute_input": "2025-02-28T05:41:57.714524Z",
                              "iopub.status.busy": "2025-02-28T05:41:57.714414Z",
                              "iopub.status.idle": "2025-02-28T05:41:57.716271Z",
                              "shell.execute_reply": "2025-02-28T05:41:57.715950Z",
                              "shell.execute_reply.started": "2025-02-28T05:41:57.714510Z"
                        }
                  },
                  "outputs": [],
                  "source": [
                        "# server_process.terminate()\n",
                        "# server_process.wait()\n",
                        "# print(\"Server process terminated.\")"
                  ]
            },
            {
                  "cell_type": "code",
                  "execution_count": null,
                  "id": "b843f7a2-0403-41e4-bc38-1abbbac90df5",
                  "metadata": {},
                  "outputs": [],
                  "source": []
            }
      ],
      "metadata": {
            "kernelspec": {
                  "display_name": "Python (base)",
                  "language": "python",
                  "name": "base"
            },
            "language_info": {
                  "codemirror_mode": {
                        "name": "ipython",
                        "version": 3
                  },
                  "file_extension": ".py",
                  "mimetype": "text/x-python",
                  "name": "python",
                  "nbconvert_exporter": "python",
                  "pygments_lexer": "ipython3",
                  "version": "3.12.2"
            }
      },
      "nbformat": 4,
      "nbformat_minor": 5
}
