{
      "cells": [
            {
                  "cell_type": "markdown",
                  "id": "0affd900-afe5-4c0e-95a5-6bee49e10a28",
                  "metadata": {},
                  "source": [
                        "# BULKI_Store Demo"
                  ]
            },
            {
                  "cell_type": "markdown",
                  "id": "8018064e-9b27-4a40-88fd-c61c86dd232a",
                  "metadata": {},
                  "source": [
                        "## Starting Server"
                  ]
            },
            {
                  "cell_type": "code",
                  "execution_count": 50,
                  "id": "bb352f7a-d9a5-477b-9882-7b9cf31b301f",
                  "metadata": {
                        "execution": {
                              "iopub.execute_input": "2025-02-28T05:41:39.254010Z",
                              "iopub.status.busy": "2025-02-28T05:41:39.253811Z",
                              "iopub.status.idle": "2025-02-28T05:41:39.258481Z",
                              "shell.execute_reply": "2025-02-28T05:41:39.257538Z",
                              "shell.execute_reply.started": "2025-02-28T05:41:39.253987Z"
                        }
                  },
                  "outputs": [
                        {
                              "name": "stdout",
                              "output_type": "stream",
                              "text": [
                                    "env: RUST_LOG=debug\n",
                                    "Let's start\n"
                              ]
                        }
                  ],
                  "source": [
                        "\n",
                        "%env RUST_LOG=debug\n",
                        "print(\"Let's start\")"
                  ]
            },
            {
                  "cell_type": "code",
                  "execution_count": 51,
                  "id": "ad28327e-746d-47cf-9e47-e0865bf76b4e",
                  "metadata": {
                        "execution": {
                              "iopub.execute_input": "2025-02-28T05:41:39.261040Z",
                              "iopub.status.busy": "2025-02-28T05:41:39.260843Z",
                              "iopub.status.idle": "2025-02-28T05:41:39.265728Z",
                              "shell.execute_reply": "2025-02-28T05:41:39.265114Z",
                              "shell.execute_reply.started": "2025-02-28T05:41:39.261017Z"
                        }
                  },
                  "outputs": [],
                  "source": [
                        "# import subprocess\n",
                        "\n",
                        "# # Start the server as a background process\n",
                        "# server_process = subprocess.Popen(\n",
                        "#     ['/opt/homebrew/bin/mpirun', '-np', '4', 'target/debug/bulkistore-server'],\n",
                        "#     env={'RUST_LOG': 'debug'},\n",
                        "#     stdout=subprocess.PIPE,\n",
                        "#     stderr=subprocess.PIPE\n",
                        "# )\n",
                        "\n",
                        "# print(\"Server started with PID:\", server_process.pid)"
                  ]
            },
            {
                  "cell_type": "markdown",
                  "id": "02b86998-32fc-4342-ab51-07bcc276f28a",
                  "metadata": {},
                  "source": [
                        "## Creating Arrays"
                  ]
            },
            {
                  "cell_type": "code",
                  "execution_count": 52,
                  "id": "e1c65e4b-9eeb-4c4d-a85a-12c7f03a28a0",
                  "metadata": {
                        "execution": {
                              "iopub.execute_input": "2025-02-28T17:28:28.971028Z",
                              "iopub.status.busy": "2025-02-28T17:28:28.970655Z",
                              "iopub.status.idle": "2025-02-28T17:28:28.983982Z",
                              "shell.execute_reply": "2025-02-28T17:28:28.983587Z",
                              "shell.execute_reply.started": "2025-02-28T17:28:28.970995Z"
                        }
                  },
                  "outputs": [
                        {
                              "name": "stdout",
                              "output_type": "stream",
                              "text": [
                                    "5D array size = 759375 elements\n",
                                    "rd1.shape= (15, 15, 15, 15, 15)\n",
                                    "rd1 last 2 dim preview:\n",
                                    "[[[[[0.85145864 0.00792319 0.95261065 0.61995173 0.03597683 0.75336802\n",
                                    "     0.83681386 0.14653973 0.79083424 0.10668189 0.70232073 0.46730604\n",
                                    "     0.4576554  0.48172623 0.63273956]\n",
                                    "    [0.7660509  0.49724709 0.08379918 0.65618082 0.1593293  0.91335306\n",
                                    "     0.25145069 0.25613072 0.32150132 0.27294604 0.5855969  0.91566433\n",
                                    "     0.64381021 0.12548458 0.856787  ]]]]]\n",
                                    "rd2.shape= (15, 15, 15, 15, 15)\n",
                                    "rd2 last 2 dim preview:\n",
                                    "[[[[[0.82130492 0.72050228 0.51056194 0.96958949 0.36870883 0.97647234\n",
                                    "     0.82174002 0.82823948 0.53608928 0.20676045 0.62776169 0.30974611\n",
                                    "     0.94277592 0.52523779 0.96963767]\n",
                                    "    [0.14220489 0.70166777 0.58417155 0.29077307 0.54502693 0.04387415\n",
                                    "     0.49914566 0.03459516 0.69316477 0.88370183 0.80681569 0.10982847\n",
                                    "     0.69772312 0.38980817 0.8571029 ]]]]]\n",
                                    "arr3.shape= (15, 15, 15)\n",
                                    "arr3 last 2 dim preview:\n",
                                    "[[[0.21500062 0.38815759 0.78434518 0.42522725 0.2000731  0.98673409\n",
                                    "   0.33548982 0.54672274 0.7537056  0.88765268 0.26812069 0.9086024\n",
                                    "   0.04137274 0.58784951 0.0017517 ]\n",
                                    "  [0.34568329 0.51290228 0.74501553 0.06669897 0.09199992 0.21298959\n",
                                    "   0.31549325 0.81137161 0.52826919 0.20896375 0.81316954 0.26463463\n",
                                    "   0.7338379  0.00815543 0.42786167]]]\n"
                              ]
                        }
                  ],
                  "source": [
                        "import bkstore_client as bkc\n",
                        "import numpy as np\n",
                        "import time\n",
                        "from pprint import pprint\n",
                        "\n",
                        "\n",
                        "bkc.init()\n",
                        "dim_size = 15\n",
                        "\n",
                        "print(\"5D array size = {} elements\".format(dim_size**5))\n",
                        "\n",
                        "# dim_size = 10\n",
                        "rd1 = np.random.rand(dim_size, dim_size, dim_size, dim_size, dim_size)\n",
                        "rd2 = np.random.rand(dim_size, dim_size, dim_size, dim_size, dim_size)\n",
                        "\n",
                        "print(\"rd1.shape=\", rd1.shape)\n",
                        "print(\"rd1 last 2 dim preview:\")\n",
                        "print(rd1[0:1, 0:1, 0:1, 0:2, 0:])\n",
                        "\n",
                        "print(\"rd2.shape=\", rd2.shape)\n",
                        "print(\"rd2 last 2 dim preview:\")\n",
                        "print(rd2[0:1, 0:1, 0:1, 0:2, 0:])\n",
                        "\n",
                        "arr3 = np.random.rand(dim_size, dim_size, dim_size)\n",
                        "print(\"arr3.shape=\", arr3.shape)\n",
                        "print(\"arr3 last 2 dim preview:\")\n",
                        "print(arr3[0:1, 0:2, 0:])"
                  ]
            },
            {
                  "cell_type": "markdown",
                  "id": "9c99005b-814f-49d9-a353-cf13f41e7766",
                  "metadata": {},
                  "source": [
                        "## Client-Side NDArray Arithmetic Operation"
                  ]
            },
            {
                  "cell_type": "code",
                  "execution_count": 53,
                  "id": "e8f78089-b1d0-4221-9154-6290abe5bac1",
                  "metadata": {
                        "execution": {
                              "iopub.execute_input": "2025-02-28T17:30:08.380322Z",
                              "iopub.status.busy": "2025-02-28T17:30:08.379953Z",
                              "iopub.status.idle": "2025-02-28T17:30:08.418732Z",
                              "shell.execute_reply": "2025-02-28T17:30:08.418240Z",
                              "shell.execute_reply.started": "2025-02-28T17:30:08.380279Z"
                        }
                  },
                  "outputs": [
                        {
                              "name": "stdout",
                              "output_type": "stream",
                              "text": [
                                    "arr4.shape= (15, 15, 15, 15, 15)\n",
                                    "arr4 last 2 dim preview:\n",
                                    "[[[[[1.67276356 0.72842547 1.46317259 1.58954122 0.40468566 1.72984036\n",
                                    "     1.65855387 0.97477921 1.32692352 0.31344234 1.33008242 0.77705215\n",
                                    "     1.40043132 1.00696402 1.60237723]\n",
                                    "    [0.90825579 1.19891486 0.66797073 0.94695388 0.70435623 0.9572272\n",
                                    "     0.75059636 0.29072587 1.01466608 1.15664786 1.39241259 1.0254928\n",
                                    "     1.34153333 0.51529275 1.7138899 ]]]]]\n"
                              ]
                        }
                  ],
                  "source": [
                        "arr4 = bkc.polymorphic_add(rd1, rd2)\n",
                        "\n",
                        "print(\"arr4.shape=\", arr4.shape)\n",
                        "print(\"arr4 last 2 dim preview:\")\n",
                        "print(arr4[0:1, 0:1, 0:1, 0:2, 0:])"
                  ]
            },
            {
                  "cell_type": "markdown",
                  "id": "23e46f92-f17f-424f-a17a-541501d73ce4",
                  "metadata": {},
                  "source": [
                        "## Remote Array Slicing"
                  ]
            },
            {
                  "cell_type": "code",
                  "execution_count": 54,
                  "id": "4b65e224-b51a-453f-8f53-53f71b99670a",
                  "metadata": {
                        "execution": {
                              "iopub.execute_input": "2025-02-28T17:30:11.992171Z",
                              "iopub.status.busy": "2025-02-28T17:30:11.991774Z",
                              "iopub.status.idle": "2025-02-28T17:30:11.997090Z",
                              "shell.execute_reply": "2025-02-28T17:30:11.996558Z",
                              "shell.execute_reply.started": "2025-02-28T17:30:11.992138Z"
                        }
                  },
                  "outputs": [
                        {
                              "name": "stdout",
                              "output_type": "stream",
                              "text": [
                                    "arr5.shape= (1, 1, 1, 2, 5)\n",
                                    "arr5 last 2 dim preview:\n",
                                    "[[[[[0.31344234 0.97477921 1.72984036 1.58954122 0.72842547]\n",
                                    "    [1.15664786 0.29072587 0.9572272  0.94695388 1.19891486]]]]]\n"
                              ]
                        }
                  ],
                  "source": [
                        "arr5 = bkc.array_slicing(\n",
                        "    arr4, [slice(0, 1), slice(0, 1), slice(0, 1), slice(0, 2), slice(0, 10, -2)]\n",
                        ")\n",
                        "\n",
                        "print(\"arr5.shape=\", arr5.shape)\n",
                        "print(\"arr5 last 2 dim preview:\")\n",
                        "print(arr5[0:1, 0:1, 0:1, 0:2, 0:])"
                  ]
            },
            {
                  "cell_type": "markdown",
                  "id": "927e1606-6fe9-4ce5-bff7-d2abb03ab922",
                  "metadata": {},
                  "source": [
                        "## Remote Array Arithmetic Operation"
                  ]
            },
            {
                  "cell_type": "code",
                  "execution_count": 55,
                  "id": "90ce6f0b-cbd1-43ef-b84e-23e8716225af",
                  "metadata": {
                        "execution": {
                              "iopub.execute_input": "2025-02-28T17:30:26.198069Z",
                              "iopub.status.busy": "2025-02-28T17:30:26.197595Z",
                              "iopub.status.idle": "2025-02-28T17:30:26.209466Z",
                              "shell.execute_reply": "2025-02-28T17:30:26.209081Z",
                              "shell.execute_reply.started": "2025-02-28T17:30:26.198037Z"
                        }
                  },
                  "outputs": [
                        {
                              "name": "stdout",
                              "output_type": "stream",
                              "text": [
                                    "arr6.shape= (1, 1, 1, 2, 5)\n",
                                    "arr6:\n",
                                    "[[[[[0.62688468 1.94955841 3.45968071 3.17908244 1.45685094]\n",
                                    "    [2.31329573 0.58145174 1.91445441 1.89390777 2.39782972]]]]]\n"
                              ]
                        }
                  ],
                  "source": [
                        "arr6 = bkc.times_two(arr5)\n",
                        "\n",
                        "print(\"arr6.shape=\", arr6.shape)\n",
                        "print(\"arr6:\")\n",
                        "print(arr6)"
                  ]
            },
            {
                  "cell_type": "markdown",
                  "id": "10a687f2-e5f3-47fb-b8c0-a2f1a0bc3413",
                  "metadata": {},
                  "source": [
                        "## Creating Object with Multiple NDArrays\n",
                        "\n",
                        "1. You can attach a series of metadata attributes directly to the object you are creating\n",
                        "2. You can attach a series of NDArrays directly to the object you are creating along with the metadata attributes of these NDArrays.\n",
                        "3. Each of these NDArrays will become a sub-object of the main object you are creating."
                  ]
            },
            {
                  "cell_type": "code",
                  "execution_count": 56,
                  "id": "f5fe543f-9a9e-4688-96aa-1201d570ac7f",
                  "metadata": {
                        "execution": {
                              "iopub.execute_input": "2025-02-28T17:32:13.125162Z",
                              "iopub.status.busy": "2025-02-28T17:32:13.124843Z",
                              "iopub.status.idle": "2025-02-28T17:32:21.843102Z",
                              "shell.execute_reply": "2025-02-28T17:32:21.842802Z",
                              "shell.execute_reply.started": "2025-02-28T17:32:13.125135Z"
                        }
                  },
                  "outputs": [
                        {
                              "name": "stdout",
                              "output_type": "stream",
                              "text": [
                                    "[32120020439695301487090392415755557, 32120020439695412167554838968032549, 32120020439695670421971875196722469, 32120020439695817995924469168102693, 32120020439704856900520591143361829, 32120020439705170495169848500706597, 32120020439707052063065371169938725]\n"
                              ]
                        }
                  ],
                  "source": [
                        "# Create an 3D array\n",
                        "\n",
                        "name_id = str(np.random.rand(1)[0] * 1000000)[0:6]\n",
                        "\n",
                        "gnn_arr1 = np.random.rand(100000, 2)\n",
                        "gnn_arr2 = np.random.rand(1, 100000)\n",
                        "\n",
                        "obj_ids = bkc.create_objects(\n",
                        "    obj_name_key=\"name\",\n",
                        "    parent_id=None,\n",
                        "    metadata={\n",
                        "        \"name\": \"container\",\n",
                        "        \"type\": \"container\",\n",
                        "        \"keys\": [\n",
                        "            \"{}/arr6\".format(name_id),\n",
                        "            \"{}/arr5\".format(name_id),\n",
                        "            \"{}/arr4\".format(name_id),\n",
                        "            \"{}/arr3\".format(name_id),\n",
                        "            \"{}/gnn_arr1\".format(name_id),\n",
                        "            \"{}/gnn_arr2\".format(name_id),\n",
                        "        ],\n",
                        "        \"ranges\": [(1, 100), (100, 200)],\n",
                        "        \"part_num\": 1,\n",
                        "        \"part_size\": 100,\n",
                        "    },\n",
                        "    data=arr3,\n",
                        "    array_meta_list=[\n",
                        "        {\n",
                        "            \"name\": \"{}/arr6\".format(name_id),\n",
                        "            \"type\": \"array\",\n",
                        "            \"shape\": arr6.shape,\n",
                        "            \"vcount\": 100,\n",
                        "            \"voffset\": 0,\n",
                        "            \"vdim\": 0,\n",
                        "        },\n",
                        "        {\n",
                        "            \"name\": \"{}/arr5\".format(name_id),\n",
                        "            \"type\": \"array\",\n",
                        "            \"shape\": arr6.shape,\n",
                        "            \"vcount\": 100,\n",
                        "            \"voffset\": 0,\n",
                        "            \"vdim\": 0,\n",
                        "        },\n",
                        "        {\n",
                        "            \"name\": \"{}/arr4\".format(name_id),\n",
                        "            \"type\": \"array\",\n",
                        "            \"shape\": arr4.shape,\n",
                        "            \"vcount\": 100,\n",
                        "            \"voffset\": 0,\n",
                        "            \"vdim\": 0,\n",
                        "        },\n",
                        "        {\n",
                        "            \"name\": \"{}/arr3\".format(name_id),\n",
                        "            \"type\": \"array\",\n",
                        "            \"shape\": arr3.shape,\n",
                        "            \"vcount\": 100,\n",
                        "            \"voffset\": 0,\n",
                        "            \"vdim\": 0,\n",
                        "        },\n",
                        "        {\n",
                        "            \"name\": \"{}/gnn_arr1\".format(name_id),\n",
                        "            \"type\": \"array\",\n",
                        "            \"shape\": gnn_arr1.shape,\n",
                        "            \"vcount\": 100,\n",
                        "            \"voffset\": 0,\n",
                        "            \"vdim\": 0,\n",
                        "        },\n",
                        "        {\n",
                        "            \"name\": \"{}/gnn_arr2\".format(name_id),\n",
                        "            \"type\": \"array\",\n",
                        "            \"shape\": gnn_arr2.shape,\n",
                        "            \"vcount\": 100,\n",
                        "            \"voffset\": 0,\n",
                        "            \"vdim\": 0,\n",
                        "        },\n",
                        "    ],\n",
                        "    array_data_list=[arr6, arr5, arr4, arr3, gnn_arr1, gnn_arr2],\n",
                        ")\n",
                        "print(obj_ids)"
                  ]
            },
            {
                  "cell_type": "code",
                  "execution_count": 57,
                  "id": "55bfc47e",
                  "metadata": {},
                  "outputs": [
                        {
                              "name": "stdout",
                              "output_type": "stream",
                              "text": [
                                    "870785\n"
                              ]
                        }
                  ],
                  "source": [
                        "print(f\"{name_id}\")"
                  ]
            },
            {
                  "cell_type": "markdown",
                  "id": "9c85aad5-fc35-406a-9a76-d8635eecf9a3",
                  "metadata": {},
                  "source": [
                        "## Retrieve Metadata"
                  ]
            },
            {
                  "cell_type": "markdown",
                  "id": "16c77e70-32c0-472e-90c9-a44bd51d2f19",
                  "metadata": {},
                  "source": [
                        "### Retrieve a single metadata attributes from a single object\n",
                        "\n",
                        "\n",
                        "In HydraGNN, we need to retrieve a series of metadata attributes from a container. \n",
                        "\n",
                        "If every single metadata retrieval requires a single request, that would be too much overhead.\n",
                        "\n",
                        "MetaPS is a new metric we designed to calculate the number of metadata attributes we can retrieve from one object within a second.\n"
                  ]
            },
            {
                  "cell_type": "code",
                  "execution_count": 58,
                  "id": "d325e370-6cc5-4ab0-ba22-55591a8ed391",
                  "metadata": {
                        "execution": {
                              "iopub.execute_input": "2025-02-28T17:33:11.141541Z",
                              "iopub.status.busy": "2025-02-28T17:33:11.141143Z",
                              "iopub.status.idle": "2025-02-28T17:33:11.998396Z",
                              "shell.execute_reply": "2025-02-28T17:33:11.998045Z",
                              "shell.execute_reply.started": "2025-02-28T17:33:11.141506Z"
                        }
                  },
                  "outputs": [
                        {
                              "name": "stdout",
                              "output_type": "stream",
                              "text": [
                                    "{'obj_id': 32120020439695301487090392415755557, 'metadata': {'type': 'container'}, 'sub_obj_metadata': None}\n",
                                    "{'obj_id': 32120020439695301487090392415755557, 'metadata': {'keys': ['870785/arr6', '870785/arr5', '870785/arr4', '870785/arr3', '870785/gnn_arr1', '870785/gnn_arr2']}, 'sub_obj_metadata': None}\n",
                                    "{'obj_id': 32120020439695301487090392415755557, 'metadata': {'ranges': [(1, 100), (100, 200)]}, 'sub_obj_metadata': None}\n",
                                    "{'obj_id': 32120020439695301487090392415755557, 'metadata': {'name': 'container'}, 'sub_obj_metadata': None}\n",
                                    "{'obj_id': 32120020439695301487090392415755557, 'metadata': {'part_num': 1}, 'sub_obj_metadata': None}\n",
                                    "{'obj_id': 32120020439695301487090392415755557, 'metadata': {'part_size': 100}, 'sub_obj_metadata': None}\n",
                                    "{'obj_id': 32120020439695301487090392415755557, 'metadata': {}, 'sub_obj_metadata': None}\n",
                                    "Single Metadata retrieval of single object : TPS = 1323.148916651761 MetaPS: 1323.1472470342546\n"
                              ]
                        }
                  ],
                  "source": [
                        "meta_keys = [\"type\", \"keys\", \"ranges\", \"name\", \"part_num\", \"part_size\", \"title\"]\n",
                        "\n",
                        "start = time.time()\n",
                        "for i in range(1000):\n",
                        "    k = i % len(meta_keys)\n",
                        "    result = bkc.get_object_metadata(\n",
                        "        obj_ids[0],\n",
                        "        meta_keys=[meta_keys[k]],  # retreiving SINGLE!!!\n",
                        "    )\n",
                        "    if i < len(meta_keys):\n",
                        "        print(result)\n",
                        "\n",
                        "print(\n",
                        "    \"Single Metadata retrieval of single object : TPS = {} MetaPS: {}\".format(\n",
                        "        1000 / (time.time() - start), 1000 / (time.time() - start)\n",
                        "    )\n",
                        ")"
                  ]
            },
            {
                  "cell_type": "code",
                  "execution_count": 59,
                  "id": "f92537e2",
                  "metadata": {},
                  "outputs": [
                        {
                              "name": "stdout",
                              "output_type": "stream",
                              "text": [
                                    "{'obj_id': 32120020439695301487090392415755557, 'metadata': {'type': 'container'}, 'sub_obj_metadata': None}\n",
                                    "{'obj_id': 32120020439695301487090392415755557, 'metadata': {'keys': ['870785/arr6', '870785/arr5', '870785/arr4', '870785/arr3', '870785/gnn_arr1', '870785/gnn_arr2']}, 'sub_obj_metadata': None}\n",
                                    "{'obj_id': 32120020439695301487090392415755557, 'metadata': {'ranges': [(1, 100), (100, 200)]}, 'sub_obj_metadata': None}\n",
                                    "{'obj_id': 32120020439695301487090392415755557, 'metadata': {'name': 'container'}, 'sub_obj_metadata': None}\n",
                                    "{'obj_id': 32120020439695301487090392415755557, 'metadata': {'part_num': 1}, 'sub_obj_metadata': None}\n",
                                    "{'obj_id': 32120020439695301487090392415755557, 'metadata': {'part_size': 100}, 'sub_obj_metadata': None}\n",
                                    "{'obj_id': 32120020439695301487090392415755557, 'metadata': {}, 'sub_obj_metadata': None}\n",
                                    "Single Metadata retrieval of single object : TPS = 1265.5455602605255 MetaPS: 1265.5425054477143\n"
                              ]
                        }
                  ],
                  "source": [
                        "meta_keys = [\"type\", \"keys\", \"ranges\", \"name\", \"part_num\", \"part_size\", \"title\"]\n",
                        "\n",
                        "start = time.time()\n",
                        "for i in range(1000):\n",
                        "    k = i % len(meta_keys)\n",
                        "    result = bkc.get_object_metadata(\n",
                        "        obj_id=\"container\",\n",
                        "        meta_keys=[meta_keys[k]],  # retreiving SINGLE!!!\n",
                        "    )\n",
                        "    if i < len(meta_keys):\n",
                        "        print(result)\n",
                        "\n",
                        "print(\n",
                        "    \"Single Metadata retrieval of single object : TPS = {} MetaPS: {}\".format(\n",
                        "        1000 / (time.time() - start), 1000 / (time.time() - start)\n",
                        "    )\n",
                        ")"
                  ]
            },
            {
                  "cell_type": "markdown",
                  "id": "69da6ac0-2c99-4151-96eb-3c45862756ff",
                  "metadata": {},
                  "source": [
                        "### Retrieving multiple metadata attributes from a single object\n",
                        "\n",
                        "Now we can combine the metadata retrieval of a single container into one single request. \n",
                        "\n",
                        "MetaPS is a new metric we designed to calculate the number of metadata attributes we can retrieve from one object within a second.\n",
                        "\n",
                        "Slight drop on TPS but MEGA IMPROVEMENT for MetaPS"
                  ]
            },
            {
                  "cell_type": "code",
                  "execution_count": 60,
                  "id": "b53c2db0-d736-4798-9b27-f01c2a6cb7c5",
                  "metadata": {
                        "execution": {
                              "iopub.execute_input": "2025-02-28T17:34:05.716855Z",
                              "iopub.status.busy": "2025-02-28T17:34:05.716532Z",
                              "iopub.status.idle": "2025-02-28T17:34:06.677678Z",
                              "shell.execute_reply": "2025-02-28T17:34:06.677208Z",
                              "shell.execute_reply.started": "2025-02-28T17:34:05.716829Z"
                        }
                  },
                  "outputs": [
                        {
                              "name": "stdout",
                              "output_type": "stream",
                              "text": [
                                    "{'metadata': {'keys': ['870785/arr6',\n",
                                    "                       '870785/arr5',\n",
                                    "                       '870785/arr4',\n",
                                    "                       '870785/arr3',\n",
                                    "                       '870785/gnn_arr1',\n",
                                    "                       '870785/gnn_arr2'],\n",
                                    "              'name': 'container',\n",
                                    "              'part_num': 1,\n",
                                    "              'part_size': 100,\n",
                                    "              'ranges': [(1, 100), (100, 200)],\n",
                                    "              'type': 'container'},\n",
                                    " 'obj_id': 32120020439695301487090392415755557,\n",
                                    " 'sub_obj_metadata': None}\n",
                                    "\n",
                                    " Multiple Metadata retrieval of single object : TPS=1203.0017220550392, MetaPS: 7217.993770328177 \n"
                              ]
                        }
                  ],
                  "source": [
                        "meta_keys = [\"type\", \"keys\", \"ranges\", \"name\", \"part_num\", \"part_size\"]\n",
                        "\n",
                        "start = time.time()\n",
                        "for i in range(1000):\n",
                        "    result = bkc.get_object_metadata(\n",
                        "        obj_ids[0],\n",
                        "        meta_keys=meta_keys,  # retrieving MULTIPLE!!!\n",
                        "    )\n",
                        "pprint(result)\n",
                        "print(\n",
                        "    \"\\n Multiple Metadata retrieval of single object : TPS={}, MetaPS: {} \".format(\n",
                        "        1000 / (time.time() - start), 1000 * len(meta_keys) / (time.time() - start)\n",
                        "    )\n",
                        ")"
                  ]
            },
            {
                  "cell_type": "markdown",
                  "id": "57075ab8-80e7-4eca-8a15-d0fb94ea83ad",
                  "metadata": {},
                  "source": [
                        "### Retrieving single attributes from a single sub-object"
                  ]
            },
            {
                  "cell_type": "code",
                  "execution_count": 61,
                  "id": "8d111feb-792d-48a9-9c7b-9919d6322eb2",
                  "metadata": {
                        "execution": {
                              "iopub.execute_input": "2025-02-28T17:34:54.022362Z",
                              "iopub.status.busy": "2025-02-28T17:34:54.021993Z",
                              "iopub.status.idle": "2025-02-28T17:34:54.871747Z",
                              "shell.execute_reply": "2025-02-28T17:34:54.871383Z",
                              "shell.execute_reply.started": "2025-02-28T17:34:54.022301Z"
                        }
                  },
                  "outputs": [
                        {
                              "name": "stdout",
                              "output_type": "stream",
                              "text": [
                                    "{'obj_id': 32120020439695412167554838968032549, 'metadata': {'name': '870785/arr6'}, 'sub_obj_metadata': None}\n",
                                    "{'obj_id': 32120020439695412167554838968032549, 'metadata': {'type': 'array'}, 'sub_obj_metadata': None}\n",
                                    "{'obj_id': 32120020439695412167554838968032549, 'metadata': {'shape': [1, 1, 1, 2, 5]}, 'sub_obj_metadata': None}\n",
                                    "{'obj_id': 32120020439695412167554838968032549, 'metadata': {'vcount': 100}, 'sub_obj_metadata': None}\n",
                                    "{'obj_id': 32120020439695412167554838968032549, 'metadata': {'voffset': 0}, 'sub_obj_metadata': None}\n",
                                    "{'obj_id': 32120020439695412167554838968032549, 'metadata': {'vdim': 0}, 'sub_obj_metadata': None}\n",
                                    "Single Metadata retrieval of a single sub-object : TPS=1366.3425231722258, MetaPS: 1366.3402976672912\n"
                              ]
                        }
                  ],
                  "source": [
                        "meta_keys = [\"name\", \"type\", \"shape\", \"vcount\", \"voffset\", \"vdim\"]\n",
                        "\n",
                        "start = time.time()\n",
                        "for i in range(1000):\n",
                        "    k = i % len(meta_keys)\n",
                        "    result = bkc.get_object_metadata(\n",
                        "        obj_id=obj_ids[1],\n",
                        "        meta_keys=[meta_keys[k]],  # retreiving SINGLE!!!\n",
                        "    )\n",
                        "    if i < len(meta_keys):\n",
                        "        print(result)\n",
                        "\n",
                        "print(\n",
                        "    \"Single Metadata retrieval of a single sub-object : TPS={}, MetaPS: {}\".format(\n",
                        "        1000 / (time.time() - start), 1000 / (time.time() - start)\n",
                        "    )\n",
                        ")"
                  ]
            },
            {
                  "cell_type": "markdown",
                  "id": "918cd7d4-7f43-4770-8e16-5e8926f354e6",
                  "metadata": {},
                  "source": [
                        "### Retrieving multiple attributes from single sub-objects"
                  ]
            },
            {
                  "cell_type": "code",
                  "execution_count": 62,
                  "id": "ada9cdc5-c928-4052-82d2-b74b4ef6ff55",
                  "metadata": {
                        "execution": {
                              "iopub.execute_input": "2025-02-28T17:35:00.569728Z",
                              "iopub.status.busy": "2025-02-28T17:35:00.569391Z",
                              "iopub.status.idle": "2025-02-28T17:35:01.476518Z",
                              "shell.execute_reply": "2025-02-28T17:35:01.476058Z",
                              "shell.execute_reply.started": "2025-02-28T17:35:00.569697Z"
                        }
                  },
                  "outputs": [
                        {
                              "name": "stdout",
                              "output_type": "stream",
                              "text": [
                                    "{'metadata': {'name': '870785/arr6',\n",
                                    "              'shape': [1, 1, 1, 2, 5],\n",
                                    "              'type': 'array',\n",
                                    "              'vcount': 100,\n",
                                    "              'vdim': 0,\n",
                                    "              'voffset': 0},\n",
                                    " 'obj_id': 32120020439695412167554838968032549,\n",
                                    " 'sub_obj_metadata': None}\n",
                                    "\n",
                                    " Multiple Metadata retrieval of a single sub-object : TPS=1269.7737641492013, MetaPS: 7618.631052662649\n"
                              ]
                        }
                  ],
                  "source": [
                        "meta_keys = [\"name\", \"type\", \"shape\", \"vcount\", \"voffset\", \"vdim\"]\n",
                        "\n",
                        "start = time.time()\n",
                        "for i in range(1000):\n",
                        "    result = bkc.get_object_metadata(\n",
                        "        obj_ids[1],\n",
                        "        meta_keys=meta_keys,  # retreiving SINGLE!!!\n",
                        "    )\n",
                        "\n",
                        "pprint(result)\n",
                        "print(\n",
                        "    \"\\n Multiple Metadata retrieval of a single sub-object : TPS={}, MetaPS: {}\".format(\n",
                        "        1000 / (time.time() - start), 1000 * len(meta_keys) / (time.time() - start)\n",
                        "    )\n",
                        ")"
                  ]
            },
            {
                  "cell_type": "markdown",
                  "id": "9650adfc-e1d8-4004-9ea1-82b88722888f",
                  "metadata": {},
                  "source": [
                        "### Retrieving multiple attributes from multiple sub-objects"
                  ]
            },
            {
                  "cell_type": "code",
                  "execution_count": 63,
                  "id": "c487bb76-44b8-48e4-a96e-6e7f1eccdfcf",
                  "metadata": {
                        "execution": {
                              "iopub.execute_input": "2025-02-28T17:35:48.879748Z",
                              "iopub.status.busy": "2025-02-28T17:35:48.879363Z",
                              "iopub.status.idle": "2025-02-28T17:35:50.123068Z",
                              "shell.execute_reply": "2025-02-28T17:35:50.122756Z",
                              "shell.execute_reply.started": "2025-02-28T17:35:48.879718Z"
                        }
                  },
                  "outputs": [
                        {
                              "name": "stdout",
                              "output_type": "stream",
                              "text": [
                                    "{'metadata': {},\n",
                                    " 'obj_id': 32120020439695301487090392415755557,\n",
                                    " 'sub_obj_metadata': [{'metadata': {'name': '870785/arr3',\n",
                                    "                                    'shape': [15, 15, 15],\n",
                                    "                                    'type': 'array',\n",
                                    "                                    'vcount': 100,\n",
                                    "                                    'vdim': 0,\n",
                                    "                                    'voffset': 0},\n",
                                    "                       'name': '870785/arr3',\n",
                                    "                       'obj_id': 32120020439704856900520591143361829},\n",
                                    "                      {'metadata': {'name': '870785/gnn_arr2',\n",
                                    "                                    'shape': [1, 100000],\n",
                                    "                                    'type': 'array',\n",
                                    "                                    'vcount': 100,\n",
                                    "                                    'vdim': 0,\n",
                                    "                                    'voffset': 0},\n",
                                    "                       'name': '870785/gnn_arr2',\n",
                                    "                       'obj_id': 32120020439707052063065371169938725},\n",
                                    "                      {'metadata': {'name': '870785/arr6',\n",
                                    "                                    'shape': [1, 1, 1, 2, 5],\n",
                                    "                                    'type': 'array',\n",
                                    "                                    'vcount': 100,\n",
                                    "                                    'vdim': 0,\n",
                                    "                                    'voffset': 0},\n",
                                    "                       'name': '870785/arr6',\n",
                                    "                       'obj_id': 32120020439695412167554838968032549},\n",
                                    "                      {'metadata': {'name': '870785/arr5',\n",
                                    "                                    'shape': [1, 1, 1, 2, 5],\n",
                                    "                                    'type': 'array',\n",
                                    "                                    'vcount': 100,\n",
                                    "                                    'vdim': 0,\n",
                                    "                                    'voffset': 0},\n",
                                    "                       'name': '870785/arr5',\n",
                                    "                       'obj_id': 32120020439695670421971875196722469},\n",
                                    "                      {'metadata': {'name': '870785/arr4',\n",
                                    "                                    'shape': [15, 15, 15, 15, 15],\n",
                                    "                                    'type': 'array',\n",
                                    "                                    'vcount': 100,\n",
                                    "                                    'vdim': 0,\n",
                                    "                                    'voffset': 0},\n",
                                    "                       'name': '870785/arr4',\n",
                                    "                       'obj_id': 32120020439695817995924469168102693},\n",
                                    "                      {'metadata': {'name': '870785/gnn_arr1',\n",
                                    "                                    'shape': [100000, 2],\n",
                                    "                                    'type': 'array',\n",
                                    "                                    'vcount': 100,\n",
                                    "                                    'vdim': 0,\n",
                                    "                                    'voffset': 0},\n",
                                    "                       'name': '870785/gnn_arr1',\n",
                                    "                       'obj_id': 32120020439705170495169848500706597}]}\n",
                                    "Multiple Metadata retrieval of a single sub-object : TPS=923.1775607956624, MetaPS: 16617.16683445798\n"
                              ]
                        }
                  ],
                  "source": [
                        "meta_keys = [\"name\", \"type\", \"shape\", \"vcount\", \"voffset\", \"vdim\"]\n",
                        "\n",
                        "start = time.time()\n",
                        "for i in range(1000):\n",
                        "    result = bkc.get_object_metadata(\n",
                        "        obj_ids[0],\n",
                        "        sub_meta_keys=meta_keys,  # retreiving MULTIPLE for every sub-object!!!\n",
                        "    )\n",
                        "\n",
                        "pprint(result)\n",
                        "print(\n",
                        "    \"Multiple Metadata retrieval of a single sub-object : TPS={}, MetaPS: {}\".format(\n",
                        "        1000 / (time.time() - start), 1000 * len(meta_keys) * 3 / (time.time() - start)\n",
                        "    )\n",
                        ")"
                  ]
            },
            {
                  "cell_type": "markdown",
                  "id": "75c83814-e126-4bfd-9adf-e014299ea3f5",
                  "metadata": {},
                  "source": [
                        "### Retrieving different set of attributes from multiple sub-objects"
                  ]
            },
            {
                  "cell_type": "code",
                  "execution_count": 64,
                  "id": "c460b192-f50f-41db-b293-11f505f07d94",
                  "metadata": {
                        "execution": {
                              "iopub.execute_input": "2025-02-28T18:49:37.465235Z",
                              "iopub.status.busy": "2025-02-28T18:49:37.464773Z",
                              "iopub.status.idle": "2025-02-28T18:49:38.297260Z",
                              "shell.execute_reply": "2025-02-28T18:49:38.296976Z",
                              "shell.execute_reply.started": "2025-02-28T18:49:37.465197Z"
                        }
                  },
                  "outputs": [
                        {
                              "name": "stdout",
                              "output_type": "stream",
                              "text": [
                                    "{'metadata': {},\n",
                                    " 'obj_id': 32120020439695301487090392415755557,\n",
                                    " 'sub_obj_metadata': [{'metadata': {'name': '870785/arr5',\n",
                                    "                                    'type': 'array',\n",
                                    "                                    'voffset': 0},\n",
                                    "                       'name': '870785/arr5',\n",
                                    "                       'obj_id': 32120020439695670421971875196722469},\n",
                                    "                      {'metadata': {'type': 'array', 'vcount': 100},\n",
                                    "                       'name': '870785/arr4',\n",
                                    "                       'obj_id': 32120020439695817995924469168102693}]}\n",
                                    "\n",
                                    " Multiple Metadata retrieval of a single sub-object : TPS=1164.6894206159523, MetaPS: 5823.440634783997\n"
                              ]
                        }
                  ],
                  "source": [
                        "# meta_keys=[\"name\",\n",
                        "#             \"type\",\n",
                        "#             \"shape\",\n",
                        "#             \"vcount\",\n",
                        "#             \"voffset\",\n",
                        "#             \"vdim\"]\n",
                        "\n",
                        "start = time.time()\n",
                        "for i in range(1000):\n",
                        "    result = bkc.get_object_metadata(\n",
                        "        obj_ids[0],\n",
                        "        sub_meta_keys={\n",
                        "            \"{}/arr5\".format(name_id): [\"name\", \"type\", \"voffset\"],\n",
                        "            \"{}/arr4\".format(name_id): [\"type\", \"vcount\"],\n",
                        "        },  # retrieving different set of metadata for different sub-objects\n",
                        "    )\n",
                        "\n",
                        "pprint(result)\n",
                        "print(\n",
                        "    \"\\n Multiple Metadata retrieval of a single sub-object : TPS={}, MetaPS: {}\".format(\n",
                        "        1000 / (time.time() - start), 1000 * 5 / (time.time() - start)\n",
                        "    )\n",
                        ")"
                  ]
            },
            {
                  "cell_type": "markdown",
                  "id": "baebe3e4-1d92-4b2b-95f7-138ebe60ef16",
                  "metadata": {},
                  "source": [
                        "### Retrieving array of a single object"
                  ]
            },
            {
                  "cell_type": "code",
                  "execution_count": 65,
                  "id": "86e6c89c-235f-4ac4-bc92-60262a7e4300",
                  "metadata": {
                        "execution": {
                              "iopub.execute_input": "2025-02-28T18:49:42.632784Z",
                              "iopub.status.busy": "2025-02-28T18:49:42.632169Z",
                              "iopub.status.idle": "2025-02-28T18:49:43.493597Z",
                              "shell.execute_reply": "2025-02-28T18:49:43.493244Z",
                              "shell.execute_reply.started": "2025-02-28T18:49:42.632744Z"
                        }
                  },
                  "outputs": [
                        {
                              "name": "stdout",
                              "output_type": "stream",
                              "text": [
                                    "{'array_slice': array([[[0.38815759, 0.21500062]]]), 'sub_obj_slices': []}\n",
                                    "\n",
                                    " retrieving array slice of a single 3D array, TPS=976.0848615649411, Sample/s = 162.6806588267564\n"
                              ]
                        }
                  ],
                  "source": [
                        "start = time.time()\n",
                        "for i in range(1000):\n",
                        "    result = bkc.get_object_data(\n",
                        "        obj_ids[0],\n",
                        "        region=[slice(0, 1), slice(0, 1), slice(0, 2, -1)],\n",
                        "    )\n",
                        "pprint(result)\n",
                        "print(\n",
                        "    \"\\n retrieving array slice of a single 3D array, TPS={}, Sample/s = {}\".format(\n",
                        "        1000 / (time.time() - start), (1000 / 6) / (time.time() - start)\n",
                        "    )\n",
                        ")"
                  ]
            },
            {
                  "cell_type": "code",
                  "execution_count": 66,
                  "id": "898c8bf4",
                  "metadata": {},
                  "outputs": [
                        {
                              "name": "stdout",
                              "output_type": "stream",
                              "text": [
                                    "{'array_slice': array([[[0.13971352, 0.344912  , 0.70589283, 0.12456286, 0.31616676,\n",
                                    "         0.14178969, 0.83472996, 0.10697274, 0.63169268, 0.5869323 ,\n",
                                    "         0.30328417, 0.1337475 , 0.22274836, 0.65543588, 0.7808997 ],\n",
                                    "        [0.86444773, 0.11851404, 0.86942868, 0.39203953, 0.08136141,\n",
                                    "         0.21682425, 0.28476913, 0.86307273, 0.79602988, 0.33951306,\n",
                                    "         0.86460166, 0.00413574, 0.45673864, 0.76562139, 0.59876452],\n",
                                    "        [0.09699953, 0.78196393, 0.39856955, 0.36148485, 0.59131208,\n",
                                    "         0.31240976, 0.03668813, 0.84166418, 0.24085435, 0.73096499,\n",
                                    "         0.58172256, 0.87425856, 0.34585079, 0.96079691, 0.9433824 ],\n",
                                    "        [0.71177256, 0.80332992, 0.14899462, 0.31178127, 0.35485289,\n",
                                    "         0.85309387, 0.2107575 , 0.18355561, 0.40310336, 0.0342445 ,\n",
                                    "         0.66580666, 0.21719523, 0.09868609, 0.0798657 , 0.3653543 ],\n",
                                    "        [0.9182919 , 0.77512651, 0.28366292, 0.7951347 , 0.24686877,\n",
                                    "         0.00644946, 0.56700381, 0.4060698 , 0.18023441, 0.75260158,\n",
                                    "         0.07644745, 0.44070739, 0.31546617, 0.41901452, 0.39357109],\n",
                                    "        [0.21781278, 0.25443063, 0.86053874, 0.50769622, 0.42210229,\n",
                                    "         0.48696159, 0.57247661, 0.87683873, 0.42304384, 0.28735168,\n",
                                    "         0.80870377, 0.1353162 , 0.73872009, 0.30669268, 0.01280341],\n",
                                    "        [0.80081831, 0.94400161, 0.20255339, 0.99593825, 0.76642808,\n",
                                    "         0.81188272, 0.46655194, 0.40293489, 0.92502182, 0.66621461,\n",
                                    "         0.87545998, 0.53534449, 0.53829881, 0.16591357, 0.63777128],\n",
                                    "        [0.70770211, 0.10493561, 0.85519444, 0.89139337, 0.5281177 ,\n",
                                    "         0.27425123, 0.45118524, 0.01226536, 0.61442793, 0.61025184,\n",
                                    "         0.80798737, 0.28686848, 0.24411493, 0.74634334, 0.04526927],\n",
                                    "        [0.53454861, 0.35732185, 0.90357223, 0.77990712, 0.29809322,\n",
                                    "         0.85707737, 0.5075628 , 0.27898449, 0.63786435, 0.53221478,\n",
                                    "         0.62261264, 0.90360032, 0.29717629, 0.9846002 , 0.98511611],\n",
                                    "        [0.38093891, 0.82715997, 0.26458922, 0.24240784, 0.87517494,\n",
                                    "         0.53239185, 0.59805684, 0.95544459, 0.30946559, 0.66996047,\n",
                                    "         0.24727372, 0.0920507 , 0.34319523, 0.24055876, 0.68156278],\n",
                                    "        [0.51731376, 0.72228272, 0.5241177 , 0.93534975, 0.00269323,\n",
                                    "         0.63756299, 0.29607146, 0.92230354, 0.29920424, 0.67608334,\n",
                                    "         0.86438259, 0.05739521, 0.7258929 , 0.40663646, 0.3571366 ],\n",
                                    "        [0.23703675, 0.19420044, 0.93501874, 0.83049032, 0.462125  ,\n",
                                    "         0.04759622, 0.1152069 , 0.15717869, 0.87429687, 0.84742038,\n",
                                    "         0.16216594, 0.72572103, 0.78556099, 0.85388172, 0.76945018],\n",
                                    "        [0.82828888, 0.51853709, 0.06616079, 0.83094435, 0.25899602,\n",
                                    "         0.02195579, 0.15591141, 0.40281203, 0.20932706, 0.92098078,\n",
                                    "         0.04385708, 0.36007453, 0.57378159, 0.48149262, 0.81550178],\n",
                                    "        [0.53028128, 0.55597965, 0.97444948, 0.79834149, 0.97321586,\n",
                                    "         0.44765022, 0.47815824, 0.13062126, 0.36220835, 0.33608881,\n",
                                    "         0.47524731, 0.36811298, 0.72975314, 0.89604224, 0.51186737],\n",
                                    "        [0.01445146, 0.446096  , 0.79143202, 0.16629984, 0.93631302,\n",
                                    "         0.40793401, 0.96903437, 0.74139804, 0.54476032, 0.39249982,\n",
                                    "         0.61732744, 0.54104147, 0.67907716, 0.94878043, 0.72939835]],\n",
                                    "\n",
                                    "       [[0.20005293, 0.72839225, 0.80116981, 0.22167762, 0.20021741,\n",
                                    "         0.23250627, 0.49910129, 0.05983623, 0.12554961, 0.76869054,\n",
                                    "         0.50135194, 0.84815744, 0.76939019, 0.45255793, 0.48941103],\n",
                                    "        [0.55181104, 0.01229772, 0.79302874, 0.61225335, 0.83183108,\n",
                                    "         0.94353094, 0.36820672, 0.67848682, 0.58805675, 0.58226256,\n",
                                    "         0.3652781 , 0.92108321, 0.96145001, 0.57429606, 0.72062088],\n",
                                    "        [0.88990927, 0.12803419, 0.0851442 , 0.79092688, 0.3659075 ,\n",
                                    "         0.23484112, 0.90418008, 0.66867158, 0.52994307, 0.41548612,\n",
                                    "         0.69969087, 0.80305179, 0.07224004, 0.45872828, 0.13089742],\n",
                                    "        [0.31861207, 0.53042535, 0.36551281, 0.51725353, 0.7340198 ,\n",
                                    "         0.17013509, 0.14982524, 0.03607039, 0.05863217, 0.07616107,\n",
                                    "         0.07705959, 0.7351335 , 0.75425062, 0.87629512, 0.20446076],\n",
                                    "        [0.0548209 , 0.192917  , 0.97649177, 0.10033158, 0.15959878,\n",
                                    "         0.13708546, 0.3971201 , 0.0973405 , 0.03321775, 0.90893783,\n",
                                    "         0.63310019, 0.74910729, 0.8796649 , 0.06570629, 0.55798976],\n",
                                    "        [0.91854499, 0.27530323, 0.33321653, 0.96345095, 0.90112831,\n",
                                    "         0.40547743, 0.87061349, 0.06129433, 0.11354071, 0.94784939,\n",
                                    "         0.54672058, 0.19347535, 0.37645427, 0.41546704, 0.22652256],\n",
                                    "        [0.35184836, 0.67639274, 0.56652365, 0.6057381 , 0.9164332 ,\n",
                                    "         0.57102748, 0.36269476, 0.87882532, 0.38800445, 0.36711653,\n",
                                    "         0.38977539, 0.19259494, 0.4132316 , 0.0322432 , 0.80140966],\n",
                                    "        [0.63649828, 0.50993766, 0.95748691, 0.64002522, 0.95228776,\n",
                                    "         0.98325876, 0.30765973, 0.96587211, 0.1864065 , 0.18278551,\n",
                                    "         0.10270318, 0.55159662, 0.66206862, 0.80934194, 0.29584964],\n",
                                    "        [0.91905475, 0.4148862 , 0.32189769, 0.32676107, 0.81768557,\n",
                                    "         0.49980061, 0.71584462, 0.24414722, 0.34197899, 0.30165846,\n",
                                    "         0.14290981, 0.87596782, 0.76686997, 0.42021956, 0.59422645],\n",
                                    "        [0.90594481, 0.35367216, 0.45655138, 0.16340405, 0.86268226,\n",
                                    "         0.13594775, 0.39450043, 0.84462315, 0.84912699, 0.01715844,\n",
                                    "         0.81788814, 0.00350942, 0.76721174, 0.18170034, 0.66699574],\n",
                                    "        [0.78876981, 0.66309057, 0.81772316, 0.06090695, 0.627409  ,\n",
                                    "         0.82646406, 0.57143674, 0.12201433, 0.957361  , 0.82328906,\n",
                                    "         0.85528282, 0.76988479, 0.90793279, 0.21999953, 0.93273999],\n",
                                    "        [0.22598176, 0.5572817 , 0.46508665, 0.46940052, 0.71626448,\n",
                                    "         0.79128342, 0.75799775, 0.32071806, 0.68461269, 0.74267185,\n",
                                    "         0.99979871, 0.70336304, 0.98293611, 0.22907239, 0.10484513],\n",
                                    "        [0.1253037 , 0.23889845, 0.62265214, 0.33367058, 0.83818571,\n",
                                    "         0.99856825, 0.27403027, 0.19543091, 0.26923741, 0.49645604,\n",
                                    "         0.50274856, 0.4124458 , 0.08698496, 0.41222303, 0.52262984],\n",
                                    "        [0.97039514, 0.62658592, 0.30483375, 0.54859391, 0.17434985,\n",
                                    "         0.32785374, 0.99011783, 0.49474027, 0.11893652, 0.31228719,\n",
                                    "         0.69980328, 0.29319653, 0.54654723, 0.05966617, 0.10442666],\n",
                                    "        [0.2224341 , 0.57639248, 0.08721112, 0.31191688, 0.21639578,\n",
                                    "         0.01865693, 0.70008812, 0.2493286 , 0.67725143, 0.22165665,\n",
                                    "         0.14898111, 0.34964513, 0.88593697, 0.73670943, 0.61374539]]]),\n",
                                    " 'sub_obj_slices': []}\n",
                                    "\n",
                                    " retrieving array slice of a single 3D array, TPS=233.6583329368746, Sample/s = 38.94304030327392\n"
                              ]
                        }
                  ],
                  "source": [
                        "start = time.time()\n",
                        "for i in range(1000):\n",
                        "    result = bkc.get_object_data(\n",
                        "        obj_ids[0],\n",
                        "        region=[\n",
                        "            slice(12, 14, None),\n",
                        "            slice(None),\n",
                        "            slice(None),\n",
                        "        ],\n",
                        "    )\n",
                        "pprint(result)\n",
                        "print(\n",
                        "    \"\\n retrieving array slice of a single 3D array, TPS={}, Sample/s = {}\".format(\n",
                        "        1000 / (time.time() - start), (1000 / 6) / (time.time() - start)\n",
                        "    )\n",
                        ")"
                  ]
            },
            {
                  "cell_type": "markdown",
                  "id": "1a5018d9-e2c1-4662-ac5e-76eeb82543c7",
                  "metadata": {},
                  "source": [
                        "### Retrieving array slices of multiple sub-objects (Large subarray included)"
                  ]
            },
            {
                  "cell_type": "code",
                  "execution_count": 67,
                  "id": "047c806e-0851-4f76-8d50-e11516176639",
                  "metadata": {
                        "execution": {
                              "iopub.execute_input": "2025-02-28T18:51:31.199303Z",
                              "iopub.status.busy": "2025-02-28T18:51:31.198773Z",
                              "iopub.status.idle": "2025-02-28T18:51:31.223875Z",
                              "shell.execute_reply": "2025-02-28T18:51:31.223029Z",
                              "shell.execute_reply.started": "2025-02-28T18:51:31.199269Z"
                        }
                  },
                  "outputs": [
                        {
                              "name": "stdout",
                              "output_type": "stream",
                              "text": [
                                    "{'array_slice': array([[[0.38815759, 0.21500062],\n",
                                    "        [0.51290228, 0.34568329]]]),\n",
                                    " 'sub_obj_slices': [{'array': array([[[[[0.97477921, 0.31344234],\n",
                                    "          [0.29072587, 1.15664786]]]]]),\n",
                                    "                     'id': 32120020439695670421971875196722469,\n",
                                    "                     'name': '870785/arr5'},\n",
                                    "                    {'array': array([[[[[0.8097401 , 1.49375079]]]],\n",
                                    "\n",
                                    "\n",
                                    "\n",
                                    "       [[[[0.72842547, 1.67276356]]]]]),\n",
                                    "                     'id': 32120020439695817995924469168102693,\n",
                                    "                     'name': '870785/arr4'},\n",
                                    "                    {'array': array([[[0.88765268, 0.54672274, 0.98673409, 0.42522725, 0.38815759],\n",
                                    "        [0.20896375, 0.81137161, 0.21298959, 0.06669897, 0.51290228]]]),\n",
                                    "                     'id': 32120020439704856900520591143361829,\n",
                                    "                     'name': '870785/arr3'},\n",
                                    "                    {'array': array([[[[[1.94955841, 0.62688468],\n",
                                    "          [0.58145174, 2.31329573]]]]]),\n",
                                    "                     'id': 32120020439695412167554838968032549,\n",
                                    "                     'name': '870785/arr6'}]}\n",
                                    "\n",
                                    " retrieving array slice of a single 3D array, TPS=325.128402457774, Sample/s=487.6924146652456\n"
                              ]
                        }
                  ],
                  "source": [
                        "start = time.time()\n",
                        "for i in range(1000):\n",
                        "    result = bkc.get_object_data(\n",
                        "        obj_ids[0],\n",
                        "        region=[slice(0, 1), slice(0, 2), slice(0, 2, -1)],\n",
                        "        sub_obj_regions=[\n",
                        "            (\n",
                        "                \"{}/arr5\".format(name_id),\n",
                        "                [slice(0, 1), slice(0, 1), slice(0, 1), slice(0, 2), slice(0, 2, -1)],\n",
                        "            ),\n",
                        "            (\n",
                        "                \"{}/arr4\".format(name_id),\n",
                        "                [\n",
                        "                    slice(0, 2, -1),\n",
                        "                    slice(0, 1),\n",
                        "                    slice(0, 1),\n",
                        "                    slice(0, 1),\n",
                        "                    slice(0, 2, -1),\n",
                        "                ],\n",
                        "            ),\n",
                        "            (\n",
                        "                \"{}/arr3\".format(name_id),\n",
                        "                [slice(0, 1), slice(0, 2), slice(0, 10, -2)],\n",
                        "            ),\n",
                        "            (\n",
                        "                \"{}/arr6\".format(name_id),\n",
                        "                [slice(0, 1), slice(0, 1), slice(0, 1), slice(0, 2), slice(0, 2, -1)],\n",
                        "            ),\n",
                        "        ],\n",
                        "    )\n",
                        "pprint(result)\n",
                        "print(\n",
                        "    \"\\n retrieving array slice of a single 3D array, TPS={}, Sample/s={}\".format(\n",
                        "        1000 / (time.time() - start), (1000 / (4 / 6)) / (time.time() - start)\n",
                        "    )\n",
                        ")"
                  ]
            },
            {
                  "cell_type": "markdown",
                  "id": "6eb6151e-4cdf-433a-a19c-e557a7f5bb4e",
                  "metadata": {},
                  "source": [
                        "### Retrieving slices of multiple objects (only GNN arrays)"
                  ]
            },
            {
                  "cell_type": "code",
                  "execution_count": 68,
                  "id": "9b9d4283-2046-4a1a-aae4-7256368a7d7d",
                  "metadata": {
                        "execution": {
                              "iopub.execute_input": "2025-02-28T18:51:24.146014Z",
                              "iopub.status.busy": "2025-02-28T18:51:24.145462Z",
                              "iopub.status.idle": "2025-02-28T18:51:24.169561Z",
                              "shell.execute_reply": "2025-02-28T18:51:24.168797Z",
                              "shell.execute_reply.started": "2025-02-28T18:51:24.145975Z"
                        }
                  },
                  "outputs": [
                        {
                              "name": "stdout",
                              "output_type": "stream",
                              "text": [
                                    "{'array_slice': None,\n",
                                    " 'sub_obj_slices': [{'array': array([[0.16624375],\n",
                                    "       [0.09193581],\n",
                                    "       [0.79017957],\n",
                                    "       [0.19551637],\n",
                                    "       [0.259979  ],\n",
                                    "       [0.28815188],\n",
                                    "       [0.81531725],\n",
                                    "       [0.63885858],\n",
                                    "       [0.72362413],\n",
                                    "       [0.10604527],\n",
                                    "       [0.95976747],\n",
                                    "       [0.83775038],\n",
                                    "       [0.73223697],\n",
                                    "       [0.50949976],\n",
                                    "       [0.91839263],\n",
                                    "       [0.94956843],\n",
                                    "       [0.21504789],\n",
                                    "       [0.06508718],\n",
                                    "       [0.85484235],\n",
                                    "       [0.75350255]]),\n",
                                    "                     'id': 32120020439705170495169848500706597,\n",
                                    "                     'name': '870785/gnn_arr1'},\n",
                                    "                    {'array': array([[0.10604527],\n",
                                    "       [0.72362413],\n",
                                    "       [0.63885858],\n",
                                    "       [0.81531725],\n",
                                    "       [0.28815188],\n",
                                    "       [0.259979  ],\n",
                                    "       [0.19551637],\n",
                                    "       [0.79017957],\n",
                                    "       [0.09193581],\n",
                                    "       [0.16624375]]),\n",
                                    "                     'id': 32120020439705170495169848500706597,\n",
                                    "                     'name': '870785/gnn_arr1'},\n",
                                    "                    {'array': array([[0.91839263, 0.48341915],\n",
                                    "       [0.50949976, 0.44934321],\n",
                                    "       [0.73223697, 0.67185404],\n",
                                    "       [0.83775038, 0.41097704],\n",
                                    "       [0.95976747, 0.98010603],\n",
                                    "       [0.10604527, 0.82693061],\n",
                                    "       [0.72362413, 0.1489166 ],\n",
                                    "       [0.63885858, 0.0024167 ],\n",
                                    "       [0.81531725, 0.89198884],\n",
                                    "       [0.28815188, 0.26663103],\n",
                                    "       [0.259979  , 0.95812729],\n",
                                    "       [0.19551637, 0.05636752],\n",
                                    "       [0.79017957, 0.23285112],\n",
                                    "       [0.09193581, 0.94374339],\n",
                                    "       [0.16624375, 0.37567147]]),\n",
                                    "                     'id': 32120020439705170495169848500706597,\n",
                                    "                     'name': '870785/gnn_arr1'},\n",
                                    "                    {'array': array([[0.39451473, 0.81645229, 0.95249095, 0.5349165 , 0.27035037,\n",
                                    "        0.41889591, 0.70777697, 0.97947292, 0.17458863, 0.31306718,\n",
                                    "        0.00621982, 0.94236275, 0.09031544, 0.95967408, 0.25111808,\n",
                                    "        0.87366395, 0.25739242, 0.68578626, 0.20231131, 0.71737952]]),\n",
                                    "                     'id': 32120020439707052063065371169938725,\n",
                                    "                     'name': '870785/gnn_arr2'},\n",
                                    "                    {'array': array([[0.39451473, 0.81645229, 0.95249095, 0.5349165 , 0.27035037,\n",
                                    "        0.41889591, 0.70777697, 0.97947292, 0.17458863, 0.31306718,\n",
                                    "        0.00621982, 0.94236275, 0.09031544, 0.95967408, 0.25111808,\n",
                                    "        0.87366395, 0.25739242, 0.68578626, 0.20231131, 0.71737952]]),\n",
                                    "                     'id': 32120020439707052063065371169938725,\n",
                                    "                     'name': '870785/gnn_arr2'},\n",
                                    "                    {'array': array([[0.39451473, 0.81645229, 0.95249095, 0.5349165 , 0.27035037,\n",
                                    "        0.41889591, 0.70777697, 0.97947292, 0.17458863, 0.31306718,\n",
                                    "        0.00621982, 0.94236275, 0.09031544, 0.95967408, 0.25111808,\n",
                                    "        0.87366395, 0.25739242, 0.68578626, 0.20231131, 0.71737952]]),\n",
                                    "                     'id': 32120020439707052063065371169938725,\n",
                                    "                     'name': '870785/gnn_arr2'}]}\n",
                                    "\n",
                                    " retrieving array slice of a single 3D array, TPS=254.02334980065396, Sample/s=254.02328826210396\n"
                              ]
                        }
                  ],
                  "source": [
                        "start = time.time()\n",
                        "for i in range(1000):\n",
                        "    result = bkc.get_object_data(\n",
                        "        obj_ids[0],\n",
                        "        region=None,\n",
                        "        sub_obj_regions=[\n",
                        "            (\n",
                        "                \"{}/gnn_arr1\".format(name_id),\n",
                        "                [slice(0, 20), slice(0, 1)],\n",
                        "            ),\n",
                        "            (\n",
                        "                \"{}/gnn_arr1\".format(name_id),\n",
                        "                [\n",
                        "                    slice(0, 10, -1),\n",
                        "                    slice(0, 1),\n",
                        "                ],\n",
                        "            ),\n",
                        "            (\n",
                        "                \"{}/gnn_arr1\".format(name_id),\n",
                        "                [\n",
                        "                    slice(0, 15, -1),\n",
                        "                    slice(0, 2),\n",
                        "                ],\n",
                        "            ),\n",
                        "            (\n",
                        "                \"{}/gnn_arr2\".format(name_id),\n",
                        "                [\n",
                        "                    slice(0, 1),\n",
                        "                    slice(0, 20, -1),\n",
                        "                ],\n",
                        "            ),\n",
                        "            (\n",
                        "                \"{}/gnn_arr2\".format(name_id),\n",
                        "                [\n",
                        "                    slice(0, 1),\n",
                        "                    slice(0, 20, -1),\n",
                        "                ],\n",
                        "            ),\n",
                        "            (\n",
                        "                \"{}/gnn_arr2\".format(name_id),\n",
                        "                [\n",
                        "                    slice(0, 1),\n",
                        "                    slice(0, 20, -1),\n",
                        "                ],\n",
                        "            ),\n",
                        "        ],\n",
                        "    )\n",
                        "pprint(result)\n",
                        "print(\n",
                        "    \"\\n retrieving array slice of a single 3D array, TPS={}, Sample/s={}\".format(\n",
                        "        1000 / (time.time() - start), (1000) / (time.time() - start)\n",
                        "    )\n",
                        ")"
                  ]
            },
            {
                  "cell_type": "code",
                  "execution_count": null,
                  "id": "8c55f852-6d95-4cb4-92e9-49440cb8e013",
                  "metadata": {},
                  "outputs": [],
                  "source": []
            },
            {
                  "cell_type": "markdown",
                  "id": "4a5b5176-c08f-497f-9069-f1a79bfa0925",
                  "metadata": {},
                  "source": [
                        "## Closing the Store"
                  ]
            },
            {
                  "cell_type": "code",
                  "execution_count": 69,
                  "id": "271fefa9-b496-4eef-84ab-d8c23ac94362",
                  "metadata": {
                        "execution": {
                              "iopub.execute_input": "2025-02-28T05:41:57.714524Z",
                              "iopub.status.busy": "2025-02-28T05:41:57.714414Z",
                              "iopub.status.idle": "2025-02-28T05:41:57.716271Z",
                              "shell.execute_reply": "2025-02-28T05:41:57.715950Z",
                              "shell.execute_reply.started": "2025-02-28T05:41:57.714510Z"
                        }
                  },
                  "outputs": [],
                  "source": [
                        "# server_process.terminate()\n",
                        "# server_process.wait()\n",
                        "# print(\"Server process terminated.\")"
                  ]
            },
            {
                  "cell_type": "code",
                  "execution_count": null,
                  "id": "b843f7a2-0403-41e4-bc38-1abbbac90df5",
                  "metadata": {},
                  "outputs": [],
                  "source": []
            }
      ],
      "metadata": {
            "kernelspec": {
                  "display_name": "Python (base)",
                  "language": "python",
                  "name": "base"
            },
            "language_info": {
                  "codemirror_mode": {
                        "name": "ipython",
                        "version": 3
                  },
                  "file_extension": ".py",
                  "mimetype": "text/x-python",
                  "name": "python",
                  "nbconvert_exporter": "python",
                  "pygments_lexer": "ipython3",
                  "version": "3.12.2"
            }
      },
      "nbformat": 4,
      "nbformat_minor": 5
}
