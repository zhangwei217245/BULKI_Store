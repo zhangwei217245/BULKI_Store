{
 "cells": [
  {
   "cell_type": "markdown",
   "id": "0affd900-afe5-4c0e-95a5-6bee49e10a28",
   "metadata": {},
   "source": [
    "# BULKI_Store Demo"
   ]
  },
  {
   "cell_type": "markdown",
   "id": "8018064e-9b27-4a40-88fd-c61c86dd232a",
   "metadata": {},
   "source": [
    "## Starting Server"
   ]
  },
  {
   "cell_type": "code",
   "execution_count": 1,
   "id": "bb352f7a-d9a5-477b-9882-7b9cf31b301f",
   "metadata": {},
   "outputs": [
    {
     "name": "stdout",
     "output_type": "stream",
     "text": [
      "Let's start\n"
     ]
    }
   ],
   "source": [
    "print(\"Let's start\")"
   ]
  },
  {
   "cell_type": "code",
   "execution_count": 2,
   "id": "ad28327e-746d-47cf-9e47-e0865bf76b4e",
   "metadata": {},
   "outputs": [],
   "source": [
    "# import subprocess\n",
    "\n",
    "# # Start the server as a background process\n",
    "# server_process = subprocess.Popen(\n",
    "#     ['/opt/homebrew/bin/mpirun', '-np', '4', 'target/debug/bulkistore-server'],\n",
    "#     env={'RUST_LOG': 'debug'},\n",
    "#     stdout=subprocess.PIPE,\n",
    "#     stderr=subprocess.PIPE\n",
    "# )\n",
    "\n",
    "# print(\"Server started with PID:\", server_process.pid)\n"
   ]
  },
  {
   "cell_type": "markdown",
   "id": "02b86998-32fc-4342-ab51-07bcc276f28a",
   "metadata": {},
   "source": [
    "## Creating Arrays"
   ]
  },
  {
   "cell_type": "code",
   "execution_count": 17,
   "id": "e1c65e4b-9eeb-4c4d-a85a-12c7f03a28a0",
   "metadata": {},
   "outputs": [
    {
     "name": "stdout",
     "output_type": "stream",
     "text": [
      "rd1.shape= (30, 30, 30, 30, 30)\n",
      "rd1 last 2 dim preview:\n",
      "[[[[[0.83530762 0.28517054 0.23464052 0.06011267 0.0836561  0.05412838\n",
      "     0.69555836 0.16703058 0.9697215  0.31844473 0.72000673 0.03619856\n",
      "     0.04592782 0.22960481 0.64440281 0.71984227 0.80622524 0.16722018\n",
      "     0.12185155 0.82521495 0.83402022 0.97691937 0.85999834 0.59195939\n",
      "     0.34105782 0.01571436 0.08103747 0.21027425 0.20317027 0.00781364]\n",
      "    [0.18251348 0.45735532 0.02218776 0.88591631 0.08681742 0.19982163\n",
      "     0.35914562 0.61793808 0.03013961 0.47364205 0.21993181 0.1694567\n",
      "     0.49694851 0.1875646  0.641487   0.41077009 0.46888275 0.17514652\n",
      "     0.9691049  0.47537427 0.95080991 0.82295741 0.37539532 0.56620715\n",
      "     0.55042728 0.27133577 0.48690315 0.44867598 0.6475609  0.33409953]]]]]\n",
      "rd2.shape= (30, 30, 30, 30, 30)\n",
      "rd2 last 2 dim preview:\n",
      "[[[[[0.84464395 0.33898458 0.43946686 0.12040771 0.41672283 0.3002843\n",
      "     0.20235488 0.7934037  0.91813889 0.44943142 0.85942041 0.92522227\n",
      "     0.33880773 0.19672126 0.1559222  0.7227935  0.31969399 0.21849161\n",
      "     0.27319728 0.85488305 0.25759128 0.61454005 0.41218736 0.92476769\n",
      "     0.68044296 0.54977394 0.32464107 0.15301549 0.11862446 0.68443105]\n",
      "    [0.67827259 0.15686339 0.9879001  0.01536933 0.27671655 0.52424081\n",
      "     0.89996255 0.38328066 0.84765486 0.17366174 0.99771161 0.71481561\n",
      "     0.37020145 0.79046533 0.74125644 0.34640115 0.02684286 0.74604457\n",
      "     0.46452263 0.73429837 0.40501442 0.61403806 0.9031678  0.14655235\n",
      "     0.0346784  0.79046069 0.57681709 0.2031637  0.20765174 0.48158502]]]]]\n",
      "arr3.shape= (30, 30, 30)\n",
      "arr3 last 2 dim preview:\n",
      "[[[0.66837863 0.33180488 0.077021   0.41403236 0.6175243  0.2717974\n",
      "   0.14394941 0.93970228 0.15085243 0.20209594 0.48557371 0.13689912\n",
      "   0.46873202 0.07332431 0.31446318 0.7837771  0.48068119 0.79681342\n",
      "   0.17603172 0.26324797 0.33731945 0.86848251 0.5857239  0.53001512\n",
      "   0.60654085 0.52245575 0.56403493 0.52869007 0.93780574 0.45595745]\n",
      "  [0.01247853 0.76699683 0.38172449 0.7452657  0.92585653 0.1964168\n",
      "   0.12843642 0.45611316 0.20076045 0.88635934 0.56235071 0.80277036\n",
      "   0.92893762 0.42359744 0.08176945 0.78913666 0.88867606 0.85654672\n",
      "   0.50399358 0.60728345 0.27976087 0.0388133  0.59074457 0.74265329\n",
      "   0.70792854 0.49582393 0.77591997 0.22059539 0.16454832 0.06343172]]]\n"
     ]
    }
   ],
   "source": [
    "import bkstore_client as bkc\n",
    "import numpy as np\n",
    "import time\n",
    "from pprint import pprint\n",
    "\n",
    "\n",
    "bkc.init()\n",
    "dim_size = 30\n",
    "# dim_size = 10\n",
    "rd1 = np.random.rand(dim_size, dim_size, dim_size, dim_size, dim_size)\n",
    "rd2 = np.random.rand(dim_size, dim_size, dim_size, dim_size, dim_size)\n",
    "\n",
    "print(\"rd1.shape=\", rd1.shape)\n",
    "print(\"rd1 last 2 dim preview:\")\n",
    "print(rd1[0:1, 0:1, 0:1, 0:2, 0:])\n",
    "\n",
    "print(\"rd2.shape=\", rd2.shape)\n",
    "print(\"rd2 last 2 dim preview:\")\n",
    "print(rd2[0:1, 0:1, 0:1, 0:2, 0:])\n",
    "\n",
    "arr3 = np.random.rand(dim_size, dim_size, dim_size)\n",
    "print(\"arr3.shape=\", arr3.shape)\n",
    "print(\"arr3 last 2 dim preview:\")\n",
    "print(arr3[0:1, 0:2, 0:])"
   ]
  },
  {
   "cell_type": "markdown",
   "id": "9c99005b-814f-49d9-a353-cf13f41e7766",
   "metadata": {},
   "source": [
    "## Client-Side NDArray Arithmetic Operation"
   ]
  },
  {
   "cell_type": "code",
   "execution_count": 4,
   "id": "e8f78089-b1d0-4221-9154-6290abe5bac1",
   "metadata": {},
   "outputs": [
    {
     "name": "stdout",
     "output_type": "stream",
     "text": [
      "arr4.shape= (30, 30, 30, 30, 30)\n",
      "arr4 last 2 dim preview:\n",
      "[[[[[1.09492056 1.20159122 1.32304836 1.01106636 1.04825856 0.4148741\n",
      "     0.17874274 0.76266214 0.88180429 0.68628156 0.82604549 1.00376194\n",
      "     1.27159142 0.22229415 1.44118707 0.59806031 1.64214536 1.80123525\n",
      "     1.58314885 1.12110157 0.7333863  0.579052   0.48458843 1.16630068\n",
      "     0.94718892 0.04161488 1.28540736 0.44534985 1.61985934 1.27275795]\n",
      "    [1.3132254  1.13735371 1.42087435 0.77321598 0.68810399 0.74854899\n",
      "     1.32760406 1.10101427 1.54294453 0.81768619 1.18200428 1.15514494\n",
      "     1.86438769 1.21553468 0.76245323 0.66014381 1.08310199 0.68496096\n",
      "     0.86835896 0.38612682 1.34512293 0.37782284 1.46907158 0.98186061\n",
      "     0.50412889 1.36099875 1.91018734 1.05592587 1.42160073 1.46950945]]]]]\n"
     ]
    }
   ],
   "source": [
    "arr4 = bkc.polymorphic_add(rd1, rd2)\n",
    "\n",
    "print(\"arr4.shape=\", arr4.shape)\n",
    "print(\"arr4 last 2 dim preview:\")\n",
    "print(arr4[0:1, 0:1, 0:1, 0:2, 0:])\n",
    "\n"
   ]
  },
  {
   "cell_type": "markdown",
   "id": "23e46f92-f17f-424f-a17a-541501d73ce4",
   "metadata": {},
   "source": [
    "## Remote Array Slicing"
   ]
  },
  {
   "cell_type": "code",
   "execution_count": 5,
   "id": "4b65e224-b51a-453f-8f53-53f71b99670a",
   "metadata": {},
   "outputs": [
    {
     "name": "stdout",
     "output_type": "stream",
     "text": [
      "arr5.shape= (30, 30, 30, 30, 30)\n",
      "arr5 last 2 dim preview:\n",
      "[[[[[0.68628156 0.76266214 0.4148741  1.01106636 1.20159122]\n",
      "    [0.81768619 1.10101427 0.74854899 0.77321598 1.13735371]]]]]\n"
     ]
    }
   ],
   "source": [
    "arr5 = bkc.array_slicing(arr4, [slice(0, 1), slice(0, 1), slice(0, 1), slice(0, 2), slice(0, 10, -2)])\n",
    "\n",
    "print(\"arr5.shape=\", arr4.shape)\n",
    "print(\"arr5 last 2 dim preview:\")\n",
    "print(arr5[0:1, 0:1, 0:1, 0:2, 0:])\n",
    "\n"
   ]
  },
  {
   "cell_type": "markdown",
   "id": "927e1606-6fe9-4ce5-bff7-d2abb03ab922",
   "metadata": {},
   "source": [
    "## Remote Array Arithmetic Operation"
   ]
  },
  {
   "cell_type": "code",
   "execution_count": 6,
   "id": "90ce6f0b-cbd1-43ef-b84e-23e8716225af",
   "metadata": {},
   "outputs": [
    {
     "name": "stdout",
     "output_type": "stream",
     "text": [
      "arr6.shape= (1, 1, 1, 2, 5)\n",
      "arr6:\n",
      "[[[[[1.37256312 1.52532428 0.8297482  2.02213271 2.40318245]\n",
      "    [1.63537237 2.20202853 1.49709797 1.54643197 2.27470742]]]]]\n"
     ]
    }
   ],
   "source": [
    "arr6 = bkc.times_two(arr5)\n",
    "\n",
    "print(\"arr6.shape=\", arr6.shape)\n",
    "print(\"arr6:\")\n",
    "print(arr6)"
   ]
  },
  {
   "cell_type": "markdown",
   "id": "10a687f2-e5f3-47fb-b8c0-a2f1a0bc3413",
   "metadata": {},
   "source": [
    "## Creating Object with Multiple NDArrays\n",
    "\n",
    "1. You can attach a series of metadata attributes directly to the object you are creating\n",
    "2. You can attach a series of NDArrays directly to the object you are creating along with the metadata attributes of these NDArrays.\n",
    "3. Each of these NDArrays will become a sub-object of the main object you are creating."
   ]
  },
  {
   "cell_type": "code",
   "execution_count": 7,
   "id": "f5fe543f-9a9e-4688-96aa-1201d570ac7f",
   "metadata": {},
   "outputs": [
    {
     "name": "stdout",
     "output_type": "stream",
     "text": [
      "[32110535053899391886048204973740419, 32110535053900111309067083941220739, 32110535053900369563484120169910659, 32110535053900535584180787850842499, 32110535054221656505015928020341123]\n"
     ]
    }
   ],
   "source": [
    "# Create an 3D array\n",
    "\n",
    "name_id=str(np.random.rand(1)[0]*1000000)[0:6]\n",
    "\n",
    "obj_ids = bkc.create_objects(\n",
    "    obj_name_key=\"name\",\n",
    "    parent_id=None,\n",
    "    metadata={\n",
    "        \"name\": \"{}\".format(name_id),\n",
    "        \"type\": \"container\",\n",
    "        \"keys\": [\n",
    "            \"{}/arr6\".format(name_id), \n",
    "            \"{}/arr5\".format(name_id), \n",
    "            \"{}/arr4\".format(name_id)\n",
    "                ],\n",
    "        \"ranges\": [(1, 100), (100, 200)],\n",
    "        \"part_num\": 1,\n",
    "        \"part_size\": 100,\n",
    "    },\n",
    "    data=arr3,\n",
    "    array_meta_list=[\n",
    "        {\n",
    "            \"name\": \"{}/arr6\".format(name_id),\n",
    "            \"type\": \"array\",\n",
    "            \"shape\": arr6.shape,\n",
    "            \"vcount\": 100,\n",
    "            \"voffset\": 0,\n",
    "            \"vdim\": 0,\n",
    "        },\n",
    "        {\n",
    "            \"name\": \"{}/arr5\".format(name_id),\n",
    "            \"type\": \"array\",\n",
    "            \"shape\": arr6.shape,\n",
    "            \"vcount\": 100,\n",
    "            \"voffset\": 0,\n",
    "            \"vdim\": 0,\n",
    "        },\n",
    "        {\n",
    "            \"name\": \"{}/arr4\".format(name_id),\n",
    "            \"type\": \"array\",\n",
    "            \"shape\": arr4.shape,\n",
    "            \"vcount\": 100,\n",
    "            \"voffset\": 0,\n",
    "            \"vdim\": 0,\n",
    "        },\n",
    "        {\n",
    "            \"name\": \"{}/arr3\".format(name_id),\n",
    "            \"type\": \"array\",\n",
    "            \"shape\": arr3.shape,\n",
    "            \"vcount\": 100,\n",
    "            \"voffset\": 0,\n",
    "            \"vdim\": 0,\n",
    "        }\n",
    "    ],\n",
    "    array_data_list=[arr6, arr5, arr4, arr3],\n",
    ")\n",
    "print(obj_ids)"
   ]
  },
  {
   "cell_type": "markdown",
   "id": "9c85aad5-fc35-406a-9a76-d8635eecf9a3",
   "metadata": {},
   "source": [
    "## Retrieve Metadata"
   ]
  },
  {
   "cell_type": "markdown",
   "id": "16c77e70-32c0-472e-90c9-a44bd51d2f19",
   "metadata": {},
   "source": [
    "### Retrieve a single metadata attributes from a single object\n",
    "\n",
    "\n",
    "In HydraGNN, we need to retrieve a series of metadata attributes from a container. \n",
    "\n",
    "If every single metadata retrieval requires a single request, that would be too much overhead.\n",
    "\n",
    "MetaPS is a new metric we designed to calculate the number of metadata attributes we can retrieve from one object within a second.\n"
   ]
  },
  {
   "cell_type": "code",
   "execution_count": 8,
   "id": "d325e370-6cc5-4ab0-ba22-55591a8ed391",
   "metadata": {},
   "outputs": [
    {
     "name": "stdout",
     "output_type": "stream",
     "text": [
      "{'obj_id': 32110535053899391886048204973740419, 'metadata': {'type': 'container'}, 'sub_obj_metadata': None}\n",
      "{'obj_id': 32110535053899391886048204973740419, 'metadata': {'keys': ['558457/arr6', '558457/arr5', '558457/arr4']}, 'sub_obj_metadata': None}\n",
      "{'obj_id': 32110535053899391886048204973740419, 'metadata': {'ranges': [(1, 100), (100, 200)]}, 'sub_obj_metadata': None}\n",
      "{'obj_id': 32110535053899391886048204973740419, 'metadata': {'name': '558457'}, 'sub_obj_metadata': None}\n",
      "{'obj_id': 32110535053899391886048204973740419, 'metadata': {'part_num': 1}, 'sub_obj_metadata': None}\n",
      "{'obj_id': 32110535053899391886048204973740419, 'metadata': {'part_size': 100}, 'sub_obj_metadata': None}\n",
      "Single Metadata retrieval of single object : TPS = 1420.8236182441667 MetaPS: 1420.8216930265205\n"
     ]
    }
   ],
   "source": [
    "meta_keys=[\"type\", \"keys\", \"ranges\", \"name\", \"part_num\", \"part_size\"]\n",
    "\n",
    "start = time.time()\n",
    "for i in range(1000):\n",
    "    k = i % len(meta_keys)\n",
    "    result = bkc.get_object_metadata(\n",
    "        obj_ids[0],\n",
    "        meta_keys=[meta_keys[k]], # retreiving SINGLE!!!\n",
    "        \n",
    "    )\n",
    "    if i < len(meta_keys):\n",
    "        print(result)\n",
    "\n",
    "print(\"Single Metadata retrieval of single object : TPS = {} MetaPS: {}\".format(1000/(time.time()-start), 1000/(time.time()-start)))"
   ]
  },
  {
   "cell_type": "markdown",
   "id": "69da6ac0-2c99-4151-96eb-3c45862756ff",
   "metadata": {},
   "source": [
    "### Retrieving multiple metadata attributes from a single object\n",
    "\n",
    "Now we can combine the metadata retrieval of a single container into one single request. \n",
    "\n",
    "MetaPS is a new metric we designed to calculate the number of metadata attributes we can retrieve from one object within a second.\n",
    "\n",
    "Slight drop on TPS but MEGA IMPROVEMENT for MetaPS"
   ]
  },
  {
   "cell_type": "code",
   "execution_count": 9,
   "id": "b53c2db0-d736-4798-9b27-f01c2a6cb7c5",
   "metadata": {},
   "outputs": [
    {
     "name": "stdout",
     "output_type": "stream",
     "text": [
      "{'metadata': {'keys': ['558457/arr6', '558457/arr5', '558457/arr4'],\n",
      "              'name': '558457',\n",
      "              'part_num': 1,\n",
      "              'part_size': 100,\n",
      "              'ranges': [(1, 100), (100, 200)],\n",
      "              'type': 'container'},\n",
      " 'obj_id': 32110535053899391886048204973740419,\n",
      " 'sub_obj_metadata': None}\n",
      "\n",
      " Multiple Metadata retrieval of single object : TPS=1343.0591863841473, MetaPS: 8058.344796846061 \n"
     ]
    }
   ],
   "source": [
    "meta_keys=[\"type\", \"keys\", \"ranges\", \"name\", \"part_num\", \"part_size\"]\n",
    "\n",
    "start = time.time()\n",
    "for i in range(1000):\n",
    "    result = bkc.get_object_metadata(\n",
    "        obj_ids[0],\n",
    "        meta_keys=meta_keys, # retrieving MULTIPLE!!!\n",
    "    )\n",
    "pprint(result)\n",
    "print(\"\\n Multiple Metadata retrieval of single object : TPS={}, MetaPS: {} \".format(1000/(time.time()-start), 1000*len(meta_keys)/(time.time()-start) ))"
   ]
  },
  {
   "cell_type": "markdown",
   "id": "57075ab8-80e7-4eca-8a15-d0fb94ea83ad",
   "metadata": {},
   "source": [
    "### Retrieving single attributes from a single sub-object"
   ]
  },
  {
   "cell_type": "code",
   "execution_count": 10,
   "id": "8d111feb-792d-48a9-9c7b-9919d6322eb2",
   "metadata": {},
   "outputs": [
    {
     "name": "stdout",
     "output_type": "stream",
     "text": [
      "{'obj_id': 32110535053900111309067083941220739, 'metadata': {'name': '558457/arr6'}, 'sub_obj_metadata': None}\n",
      "{'obj_id': 32110535053900111309067083941220739, 'metadata': {'type': 'array'}, 'sub_obj_metadata': None}\n",
      "{'obj_id': 32110535053900111309067083941220739, 'metadata': {'shape': [1, 1, 1, 2, 5]}, 'sub_obj_metadata': None}\n",
      "{'obj_id': 32110535053900111309067083941220739, 'metadata': {'vcount': 100}, 'sub_obj_metadata': None}\n",
      "{'obj_id': 32110535053900111309067083941220739, 'metadata': {'voffset': 0}, 'sub_obj_metadata': None}\n",
      "{'obj_id': 32110535053900111309067083941220739, 'metadata': {'vdim': 0}, 'sub_obj_metadata': None}\n",
      "Single Metadata retrieval of a single sub-object : TPS=1500.0041127317659, MetaPS: 1500.001966955857\n"
     ]
    }
   ],
   "source": [
    "meta_keys=[\"name\",\n",
    "            \"type\",\n",
    "            \"shape\",\n",
    "            \"vcount\",\n",
    "            \"voffset\",\n",
    "            \"vdim\"]\n",
    "\n",
    "start = time.time()\n",
    "for i in range(1000):\n",
    "    k = i % len(meta_keys)\n",
    "    result = bkc.get_object_metadata(\n",
    "        obj_ids[1],\n",
    "        meta_keys=[meta_keys[k]], # retreiving SINGLE!!!\n",
    "        \n",
    "    )\n",
    "    if i < len(meta_keys):\n",
    "        print(result)\n",
    "\n",
    "print(\"Single Metadata retrieval of a single sub-object : TPS={}, MetaPS: {}\".format(1000/(time.time()-start), 1000/(time.time()-start)))"
   ]
  },
  {
   "cell_type": "markdown",
   "id": "918cd7d4-7f43-4770-8e16-5e8926f354e6",
   "metadata": {},
   "source": [
    "### Retrieving multiple attributes from single sub-objects"
   ]
  },
  {
   "cell_type": "code",
   "execution_count": 11,
   "id": "ada9cdc5-c928-4052-82d2-b74b4ef6ff55",
   "metadata": {},
   "outputs": [
    {
     "name": "stdout",
     "output_type": "stream",
     "text": [
      "{'metadata': {'name': '558457/arr6',\n",
      "              'shape': [1, 1, 1, 2, 5],\n",
      "              'type': 'array',\n",
      "              'vcount': 100,\n",
      "              'vdim': 0,\n",
      "              'voffset': 0},\n",
      " 'obj_id': 32110535053900111309067083941220739,\n",
      " 'sub_obj_metadata': None}\n",
      "\n",
      " Multiple Metadata retrieval of a single sub-object : TPS=1388.2140104131672, MetaPS: 8329.27303532072\n"
     ]
    }
   ],
   "source": [
    "meta_keys=[\"name\",\n",
    "            \"type\",\n",
    "            \"shape\",\n",
    "            \"vcount\",\n",
    "            \"voffset\",\n",
    "            \"vdim\"]\n",
    "\n",
    "start = time.time()\n",
    "for i in range(1000):\n",
    "    result = bkc.get_object_metadata(\n",
    "        obj_ids[1],\n",
    "        meta_keys=meta_keys, # retreiving SINGLE!!!\n",
    "        \n",
    "    )\n",
    "    \n",
    "pprint(result)\n",
    "print(\"\\n Multiple Metadata retrieval of a single sub-object : TPS={}, MetaPS: {}\".format(1000/(time.time()-start), 1000*len(meta_keys)/(time.time()-start)))"
   ]
  },
  {
   "cell_type": "markdown",
   "id": "9650adfc-e1d8-4004-9ea1-82b88722888f",
   "metadata": {},
   "source": [
    "### Retrieving multiple attributes from multiple sub-objects"
   ]
  },
  {
   "cell_type": "code",
   "execution_count": 12,
   "id": "c487bb76-44b8-48e4-a96e-6e7f1eccdfcf",
   "metadata": {},
   "outputs": [
    {
     "name": "stdout",
     "output_type": "stream",
     "text": [
      "{'metadata': {},\n",
      " 'obj_id': 32110535053899391886048204973740419,\n",
      " 'sub_obj_metadata': [{'metadata': {'name': '558457/arr3',\n",
      "                                    'shape': [30, 30, 30],\n",
      "                                    'type': 'array',\n",
      "                                    'vcount': 100,\n",
      "                                    'vdim': 0,\n",
      "                                    'voffset': 0},\n",
      "                       'name': '558457/arr3',\n",
      "                       'obj_id': 32110535054221656505015928020341123},\n",
      "                      {'metadata': {'name': '558457/arr6',\n",
      "                                    'shape': [1, 1, 1, 2, 5],\n",
      "                                    'type': 'array',\n",
      "                                    'vcount': 100,\n",
      "                                    'vdim': 0,\n",
      "                                    'voffset': 0},\n",
      "                       'name': '558457/arr6',\n",
      "                       'obj_id': 32110535053900111309067083941220739},\n",
      "                      {'metadata': {'name': '558457/arr5',\n",
      "                                    'shape': [1, 1, 1, 2, 5],\n",
      "                                    'type': 'array',\n",
      "                                    'vcount': 100,\n",
      "                                    'vdim': 0,\n",
      "                                    'voffset': 0},\n",
      "                       'name': '558457/arr5',\n",
      "                       'obj_id': 32110535053900369563484120169910659},\n",
      "                      {'metadata': {'name': '558457/arr4',\n",
      "                                    'shape': [30, 30, 30, 30, 30],\n",
      "                                    'type': 'array',\n",
      "                                    'vcount': 100,\n",
      "                                    'vdim': 0,\n",
      "                                    'voffset': 0},\n",
      "                       'name': '558457/arr4',\n",
      "                       'obj_id': 32110535053900535584180787850842499}]}\n",
      "Multiple Metadata retrieval of a single sub-object : TPS=1115.9272300032299, MetaPS: 20086.64204219081\n"
     ]
    }
   ],
   "source": [
    "meta_keys=[\"name\",\n",
    "            \"type\",\n",
    "            \"shape\",\n",
    "            \"vcount\",\n",
    "            \"voffset\",\n",
    "            \"vdim\"]\n",
    "\n",
    "start = time.time()\n",
    "for i in range(1000):\n",
    "    result = bkc.get_object_metadata(\n",
    "        obj_ids[0],\n",
    "        sub_meta_keys=meta_keys, # retreiving MULTIPLE for every sub-object!!!     \n",
    "    )\n",
    "\n",
    "pprint(result)\n",
    "print(\"Multiple Metadata retrieval of a single sub-object : TPS={}, MetaPS: {}\".format(1000/(time.time()-start), 1000*len(meta_keys)*3/(time.time()-start)))"
   ]
  },
  {
   "cell_type": "markdown",
   "id": "75c83814-e126-4bfd-9adf-e014299ea3f5",
   "metadata": {},
   "source": [
    "### Retrieving different set of attributes from multiple sub-objects"
   ]
  },
  {
   "cell_type": "code",
   "execution_count": 13,
   "id": "c460b192-f50f-41db-b293-11f505f07d94",
   "metadata": {},
   "outputs": [
    {
     "name": "stdout",
     "output_type": "stream",
     "text": [
      "{'metadata': {},\n",
      " 'obj_id': 32110535053899391886048204973740419,\n",
      " 'sub_obj_metadata': [{'metadata': {'type': 'array', 'vcount': 100},\n",
      "                       'name': '558457/arr4',\n",
      "                       'obj_id': 32110535053900535584180787850842499},\n",
      "                      {'metadata': {'name': '558457/arr5',\n",
      "                                    'type': 'array',\n",
      "                                    'voffset': 0},\n",
      "                       'name': '558457/arr5',\n",
      "                       'obj_id': 32110535053900369563484120169910659}]}\n",
      "\n",
      " Multiple Metadata retrieval of a single sub-object : TPS=1287.5082381969314, MetaPS: 6437.535262673536\n"
     ]
    }
   ],
   "source": [
    "# meta_keys=[\"name\",\n",
    "#             \"type\",\n",
    "#             \"shape\",\n",
    "#             \"vcount\",\n",
    "#             \"voffset\",\n",
    "#             \"vdim\"]\n",
    "\n",
    "start = time.time()\n",
    "for i in range(1000):\n",
    "    result = bkc.get_object_metadata(\n",
    "        obj_ids[0],\n",
    "        sub_meta_keys={\"{}/arr5\".format(name_id):[ \"name\", \"type\", \"voffset\" ],\n",
    "                      \"{}/arr4\".format(name_id):[\"type\", \"vcount\"]}      # retrieving different set of metadata for different sub-objects\n",
    "    )\n",
    "\n",
    "pprint(result)\n",
    "print(\"\\n Multiple Metadata retrieval of a single sub-object : TPS={}, MetaPS: {}\".format(1000/(time.time()-start), 1000*5/(time.time()-start)))"
   ]
  },
  {
   "cell_type": "markdown",
   "id": "baebe3e4-1d92-4b2b-95f7-138ebe60ef16",
   "metadata": {},
   "source": [
    "### Retrieving array of a single object"
   ]
  },
  {
   "cell_type": "code",
   "execution_count": 14,
   "id": "86e6c89c-235f-4ac4-bc92-60262a7e4300",
   "metadata": {},
   "outputs": [
    {
     "name": "stdout",
     "output_type": "stream",
     "text": [
      "{'array_slice': array([[[0.19111042, 0.52209557]]]), 'sub_obj_slices': []}\n",
      "\n",
      " retrieving array slice of a single 3D array, TPS=1294.9859210591314\n"
     ]
    }
   ],
   "source": [
    "start = time.time()\n",
    "for i in range(1000):\n",
    "    result = bkc.get_object_data(\n",
    "        obj_ids[0],\n",
    "        region=[slice(0, 1), slice(0, 1), slice(0, 2, -1)],\n",
    "        \n",
    "    )\n",
    "pprint(result)\n",
    "print(\"\\n retrieving array slice of a single 3D array, TPS={}\".format(1000/(time.time()-start)))"
   ]
  },
  {
   "cell_type": "markdown",
   "id": "1a5018d9-e2c1-4662-ac5e-76eeb82543c7",
   "metadata": {},
   "source": [
    "### Retrieving array slices of multiple sub-objects"
   ]
  },
  {
   "cell_type": "code",
   "execution_count": 15,
   "id": "047c806e-0851-4f76-8d50-e11516176639",
   "metadata": {},
   "outputs": [
    {
     "name": "stdout",
     "output_type": "stream",
     "text": [
      "{'array_slice': array([[[0.19111042, 0.52209557],\n",
      "        [0.2580603 , 0.46225924]]]),\n",
      " 'sub_obj_slices': [{'array': array([[[[[0.76266214, 0.68628156],\n",
      "          [1.10101427, 0.81768619]]]]]),\n",
      "                     'id': 32110535053900369563484120169910659,\n",
      "                     'name': '558457/arr5'},\n",
      "                    {'array': array([[[[[1.20159122, 1.09492056],\n",
      "          [1.13735371, 1.3132254 ]]]]]),\n",
      "                     'id': 32110535053900535584180787850842499,\n",
      "                     'name': '558457/arr4'},\n",
      "                    {'array': array([[[0.70486965, 0.19935725, 0.49362348, 0.39882897, 0.19111042],\n",
      "        [0.26340503, 0.51764171, 0.49076661, 0.81150914, 0.2580603 ]]]),\n",
      "                     'id': 32110535054221656505015928020341123,\n",
      "                     'name': '558457/arr3'},\n",
      "                    {'array': array([[[[[1.52532428, 1.37256312],\n",
      "          [2.20202853, 1.63537237]]]]]),\n",
      "                     'id': 32110535053900111309067083941220739,\n",
      "                     'name': '558457/arr6'}]}\n",
      "\n",
      " retrieving array slice of a single 3D array, TPS=34.029204466141614\n"
     ]
    }
   ],
   "source": [
    "start = time.time()\n",
    "for i in range(1000):\n",
    "    result = bkc.get_object_data(\n",
    "        obj_ids[0],\n",
    "        region=[slice(0, 1), slice(0, 2), slice(0, 2, -1)],\n",
    "        sub_obj_regions=[\n",
    "            (\n",
    "                \"{}/arr5\".format(name_id),\n",
    "                [slice(0, 1), slice(0, 1), slice(0, 1), slice(0, 2), slice(0, 2, -1)],\n",
    "            ),\n",
    "            (\n",
    "                \"{}/arr4\".format(name_id),\n",
    "                [slice(0, 1), slice(0, 1), slice(0, 1), slice(0, 2), slice(0, 2, -1)],\n",
    "            ),\n",
    "            (\n",
    "                \"{}/arr3\".format(name_id),\n",
    "                [slice(0, 1), slice(0, 2), slice(0, 10, -2)],\n",
    "            ),\n",
    "            (\n",
    "                \"{}/arr6\".format(name_id),\n",
    "                [slice(0, 1), slice(0, 1), slice(0, 1), slice(0, 2), slice(0, 2, -1)],\n",
    "            ),\n",
    "        ]\n",
    "    )\n",
    "pprint(result)\n",
    "print(\"\\n retrieving array slice of a single 3D array, TPS={}\".format(1000/(time.time()-start)))"
   ]
  },
  {
   "cell_type": "code",
   "execution_count": null,
   "id": "9b9d4283-2046-4a1a-aae4-7256368a7d7d",
   "metadata": {},
   "outputs": [],
   "source": []
  },
  {
   "cell_type": "code",
   "execution_count": null,
   "id": "8c55f852-6d95-4cb4-92e9-49440cb8e013",
   "metadata": {},
   "outputs": [],
   "source": []
  },
  {
   "cell_type": "markdown",
   "id": "4a5b5176-c08f-497f-9069-f1a79bfa0925",
   "metadata": {},
   "source": [
    "## Closing the Store"
   ]
  },
  {
   "cell_type": "code",
   "execution_count": 16,
   "id": "271fefa9-b496-4eef-84ab-d8c23ac94362",
   "metadata": {},
   "outputs": [],
   "source": [
    "# server_process.terminate()\n",
    "# server_process.wait()\n",
    "# print(\"Server process terminated.\")\n"
   ]
  },
  {
   "cell_type": "code",
   "execution_count": null,
   "id": "b843f7a2-0403-41e4-bc38-1abbbac90df5",
   "metadata": {},
   "outputs": [],
   "source": []
  }
 ],
 "metadata": {
  "kernelspec": {
   "display_name": "Python (base)",
   "language": "python",
   "name": "base"
  },
  "language_info": {
   "codemirror_mode": {
    "name": "ipython",
    "version": 3
   },
   "file_extension": ".py",
   "mimetype": "text/x-python",
   "name": "python",
   "nbconvert_exporter": "python",
   "pygments_lexer": "ipython3",
   "version": "3.12.2"
  }
 },
 "nbformat": 4,
 "nbformat_minor": 5
}
