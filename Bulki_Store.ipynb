{
 "cells": [
  {
   "cell_type": "markdown",
   "id": "0affd900-afe5-4c0e-95a5-6bee49e10a28",
   "metadata": {},
   "source": [
    "# BULKI_Store Demo"
   ]
  },
  {
   "cell_type": "markdown",
   "id": "8018064e-9b27-4a40-88fd-c61c86dd232a",
   "metadata": {},
   "source": [
    "## Starting Server"
   ]
  },
  {
   "cell_type": "code",
   "execution_count": 1,
   "id": "bb352f7a-d9a5-477b-9882-7b9cf31b301f",
   "metadata": {},
   "outputs": [
    {
     "name": "stdout",
     "output_type": "stream",
     "text": [
      "Let's start\n"
     ]
    }
   ],
   "source": [
    "print(\"Let's start\")"
   ]
  },
  {
   "cell_type": "code",
   "execution_count": 2,
   "id": "ad28327e-746d-47cf-9e47-e0865bf76b4e",
   "metadata": {},
   "outputs": [],
   "source": [
    "# import subprocess\n",
    "\n",
    "# # Start the server as a background process\n",
    "# server_process = subprocess.Popen(\n",
    "#     ['/opt/homebrew/bin/mpirun', '-np', '4', 'target/debug/bulkistore-server'],\n",
    "#     env={'RUST_LOG': 'debug'},\n",
    "#     stdout=subprocess.PIPE,\n",
    "#     stderr=subprocess.PIPE\n",
    "# )\n",
    "\n",
    "# print(\"Server started with PID:\", server_process.pid)\n"
   ]
  },
  {
   "cell_type": "markdown",
   "id": "02b86998-32fc-4342-ab51-07bcc276f28a",
   "metadata": {},
   "source": [
    "## Creating Arrays"
   ]
  },
  {
   "cell_type": "code",
   "execution_count": 3,
   "id": "e1c65e4b-9eeb-4c4d-a85a-12c7f03a28a0",
   "metadata": {},
   "outputs": [
    {
     "name": "stdout",
     "output_type": "stream",
     "text": [
      "rd1.shape= (30, 30, 30, 30, 30)\n",
      "rd1 last 2 dim preview:\n",
      "[[[[[0.46824756 0.52435137 0.34284734 0.94868289 0.47485708 0.11313337\n",
      "     0.10332374 0.74568728 0.28901149 0.39103599 0.59401542 0.80641589\n",
      "     0.61866746 0.21317878 0.81903027 0.50948797 0.7221415  0.88455528\n",
      "     0.77714449 0.39918413 0.00893057 0.06479203 0.44213083 0.73410953\n",
      "     0.6823386  0.03578243 0.29209011 0.22092523 0.66835361 0.4355572 ]\n",
      "    [0.68441225 0.49587977 0.92341621 0.68927688 0.60352158 0.21796419\n",
      "     0.4185946  0.24847672 0.95302988 0.04425627 0.33884361 0.91004243\n",
      "     0.89477258 0.35254452 0.33712353 0.44108776 0.44644471 0.08624796\n",
      "     0.46648422 0.31380644 0.79781535 0.16779194 0.62488392 0.37728856\n",
      "     0.10954606 0.88164574 0.93091213 0.16819754 0.50845877 0.54687877]]]]]\n",
      "rd2.shape= (30, 30, 30, 30, 30)\n",
      "rd2 last 2 dim preview:\n",
      "[[[[[0.626673   0.67723986 0.98020102 0.06238347 0.57340148 0.30174072\n",
      "     0.075419   0.01697487 0.5927928  0.29524557 0.23203008 0.19734605\n",
      "     0.65292396 0.00911536 0.6221568  0.08857234 0.92000386 0.91667997\n",
      "     0.80600436 0.72191744 0.72445572 0.51425997 0.0424576  0.43219115\n",
      "     0.26485032 0.00583245 0.99331724 0.22442462 0.95150573 0.83720074]\n",
      "    [0.62881315 0.64147394 0.49745814 0.0839391  0.0845824  0.53058479\n",
      "     0.90900946 0.85253755 0.58991465 0.77342992 0.84316067 0.24510251\n",
      "     0.96961511 0.86299016 0.4253297  0.21905604 0.63665728 0.598713\n",
      "     0.40187473 0.07232038 0.54730758 0.2100309  0.84418767 0.60457205\n",
      "     0.39458283 0.47935301 0.97927521 0.88772833 0.91314196 0.92263068]]]]]\n",
      "arr3.shape= (30, 30, 30)\n",
      "arr3 last 2 dim preview:\n",
      "[[[5.22095567e-01 1.91110424e-01 1.69923382e-01 3.98828969e-01\n",
      "   3.08237225e-01 4.93623479e-01 2.76156018e-04 1.99357248e-01\n",
      "   3.43968266e-01 7.04869649e-01 9.94852869e-01 8.57492837e-01\n",
      "   8.75324655e-01 5.03479232e-01 6.01031684e-01 8.44509206e-01\n",
      "   5.58540707e-01 9.37859250e-01 5.35220287e-01 6.10139397e-01\n",
      "   4.13350461e-01 8.79887808e-02 2.59183650e-01 3.46769581e-01\n",
      "   8.57587633e-01 5.32437713e-01 4.58300301e-01 5.55859397e-01\n",
      "   4.94257765e-01 6.08327982e-01]\n",
      "  [4.62259236e-01 2.58060303e-01 7.24067225e-01 8.11509138e-01\n",
      "   1.59235052e-01 4.90766612e-01 1.61807880e-01 5.17641705e-01\n",
      "   4.23070915e-01 2.63405032e-01 7.80005887e-01 4.71300229e-01\n",
      "   6.81767381e-02 2.96834462e-01 2.21851758e-01 5.60298146e-01\n",
      "   7.19553453e-02 8.38009421e-02 8.27788800e-01 2.08952674e-01\n",
      "   6.98720062e-01 2.54662458e-01 1.01992018e-01 3.25000079e-01\n",
      "   6.27191131e-01 1.20196125e-01 9.21139624e-01 7.51843538e-01\n",
      "   2.86181169e-01 9.45313408e-01]]]\n"
     ]
    }
   ],
   "source": [
    "import bkstore_client as bkc\n",
    "import numpy as np\n",
    "import time\n",
    "from pprint import pprint\n",
    "\n",
    "\n",
    "bkc.init()\n",
    "dim_size = 30\n",
    "# dim_size = 10\n",
    "rd1 = np.random.rand(dim_size, dim_size, dim_size, dim_size, dim_size)\n",
    "rd2 = np.random.rand(dim_size, dim_size, dim_size, dim_size, dim_size)\n",
    "\n",
    "print(\"rd1.shape=\", rd1.shape)\n",
    "print(\"rd1 last 2 dim preview:\")\n",
    "print(rd1[0:1, 0:1, 0:1, 0:2, 0:])\n",
    "\n",
    "print(\"rd2.shape=\", rd2.shape)\n",
    "print(\"rd2 last 2 dim preview:\")\n",
    "print(rd2[0:1, 0:1, 0:1, 0:2, 0:])\n",
    "\n",
    "arr3 = np.random.rand(dim_size, dim_size, dim_size)\n",
    "print(\"arr3.shape=\", arr3.shape)\n",
    "print(\"arr3 last 2 dim preview:\")\n",
    "print(arr3[0:1, 0:2, 0:])"
   ]
  },
  {
   "cell_type": "markdown",
   "id": "9c99005b-814f-49d9-a353-cf13f41e7766",
   "metadata": {},
   "source": [
    "## Client-Side NDArray Arithmetic Operation"
   ]
  },
  {
   "cell_type": "code",
   "execution_count": 4,
   "id": "e8f78089-b1d0-4221-9154-6290abe5bac1",
   "metadata": {},
   "outputs": [
    {
     "name": "stdout",
     "output_type": "stream",
     "text": [
      "arr4.shape= (30, 30, 30, 30, 30)\n",
      "arr4 last 2 dim preview:\n",
      "[[[[[1.09492056 1.20159122 1.32304836 1.01106636 1.04825856 0.4148741\n",
      "     0.17874274 0.76266214 0.88180429 0.68628156 0.82604549 1.00376194\n",
      "     1.27159142 0.22229415 1.44118707 0.59806031 1.64214536 1.80123525\n",
      "     1.58314885 1.12110157 0.7333863  0.579052   0.48458843 1.16630068\n",
      "     0.94718892 0.04161488 1.28540736 0.44534985 1.61985934 1.27275795]\n",
      "    [1.3132254  1.13735371 1.42087435 0.77321598 0.68810399 0.74854899\n",
      "     1.32760406 1.10101427 1.54294453 0.81768619 1.18200428 1.15514494\n",
      "     1.86438769 1.21553468 0.76245323 0.66014381 1.08310199 0.68496096\n",
      "     0.86835896 0.38612682 1.34512293 0.37782284 1.46907158 0.98186061\n",
      "     0.50412889 1.36099875 1.91018734 1.05592587 1.42160073 1.46950945]]]]]\n"
     ]
    }
   ],
   "source": [
    "arr4 = bkc.polymorphic_add(rd1, rd2)\n",
    "\n",
    "print(\"arr4.shape=\", arr4.shape)\n",
    "print(\"arr4 last 2 dim preview:\")\n",
    "print(arr4[0:1, 0:1, 0:1, 0:2, 0:])\n",
    "\n"
   ]
  },
  {
   "cell_type": "markdown",
   "id": "23e46f92-f17f-424f-a17a-541501d73ce4",
   "metadata": {},
   "source": [
    "## Remote Array Slicing"
   ]
  },
  {
   "cell_type": "code",
   "execution_count": 5,
   "id": "4b65e224-b51a-453f-8f53-53f71b99670a",
   "metadata": {},
   "outputs": [
    {
     "name": "stdout",
     "output_type": "stream",
     "text": [
      "arr5.shape= (30, 30, 30, 30, 30)\n",
      "arr5 last 2 dim preview:\n",
      "[[[[[0.68628156 0.76266214 0.4148741  1.01106636 1.20159122]\n",
      "    [0.81768619 1.10101427 0.74854899 0.77321598 1.13735371]]]]]\n"
     ]
    }
   ],
   "source": [
    "arr5 = bkc.array_slicing(arr4, [slice(0, 1), slice(0, 1), slice(0, 1), slice(0, 2), slice(0, 10, -2)])\n",
    "\n",
    "print(\"arr5.shape=\", arr4.shape)\n",
    "print(\"arr5 last 2 dim preview:\")\n",
    "print(arr5[0:1, 0:1, 0:1, 0:2, 0:])\n",
    "\n"
   ]
  },
  {
   "cell_type": "markdown",
   "id": "927e1606-6fe9-4ce5-bff7-d2abb03ab922",
   "metadata": {},
   "source": [
    "## Remote Array Arithmetic Operation"
   ]
  },
  {
   "cell_type": "code",
   "execution_count": 6,
   "id": "90ce6f0b-cbd1-43ef-b84e-23e8716225af",
   "metadata": {},
   "outputs": [
    {
     "name": "stdout",
     "output_type": "stream",
     "text": [
      "arr6.shape= (1, 1, 1, 2, 5)\n",
      "arr6:\n",
      "[[[[[1.37256312 1.52532428 0.8297482  2.02213271 2.40318245]\n",
      "    [1.63537237 2.20202853 1.49709797 1.54643197 2.27470742]]]]]\n"
     ]
    }
   ],
   "source": [
    "arr6 = bkc.times_two(arr5)\n",
    "\n",
    "print(\"arr6.shape=\", arr6.shape)\n",
    "print(\"arr6:\")\n",
    "print(arr6)"
   ]
  },
  {
   "cell_type": "markdown",
   "id": "10a687f2-e5f3-47fb-b8c0-a2f1a0bc3413",
   "metadata": {},
   "source": [
    "## Creating Object with Multiple NDArrays\n",
    "\n",
    "1. You can attach a series of metadata attributes directly to the object you are creating\n",
    "2. You can attach a series of NDArrays directly to the object you are creating along with the metadata attributes of these NDArrays.\n",
    "3. Each of these NDArrays will become a sub-object of the main object you are creating."
   ]
  },
  {
   "cell_type": "code",
   "execution_count": null,
   "id": "f5fe543f-9a9e-4688-96aa-1201d570ac7f",
   "metadata": {},
   "outputs": [],
   "source": [
    "# Create an 3D array\n",
    "\n",
    "name_id=str(np.random.rand(1)[0]*1000000)[0:6]\n",
    "\n",
    "obj_ids = bkc.create_objects(\n",
    "    obj_name_key=\"name\",\n",
    "    parent_id=None,\n",
    "    metadata={\n",
    "        \"name\": \"{}\".format(name_id),\n",
    "        \"type\": \"container\",\n",
    "        \"keys\": [\n",
    "            \"{}/arr6\".format(name_id), \n",
    "            \"{}/arr5\".format(name_id), \n",
    "            \"{}/arr4\".format(name_id)\n",
    "                ],\n",
    "        \"ranges\": [(1, 100), (100, 200)],\n",
    "        \"part_num\": 1,\n",
    "        \"part_size\": 100,\n",
    "    },\n",
    "    data=arr3,\n",
    "    array_meta_list=[\n",
    "        {\n",
    "            \"name\": \"{}/arr6\".format(name_id),\n",
    "            \"type\": \"array\",\n",
    "            \"shape\": arr6.shape,\n",
    "            \"vcount\": 100,\n",
    "            \"voffset\": 0,\n",
    "            \"vdim\": 0,\n",
    "        },\n",
    "        {\n",
    "            \"name\": \"{}/arr5\".format(name_id),\n",
    "            \"type\": \"array\",\n",
    "            \"shape\": arr6.shape,\n",
    "            \"vcount\": 100,\n",
    "            \"voffset\": 0,\n",
    "            \"vdim\": 0,\n",
    "        },\n",
    "        {\n",
    "            \"name\": \"{}/arr4\".format(name_id),\n",
    "            \"type\": \"array\",\n",
    "            \"shape\": arr4.shape,\n",
    "            \"vcount\": 100,\n",
    "            \"voffset\": 0,\n",
    "            \"vdim\": 0,\n",
    "        },\n",
    "        {\n",
    "            \"name\": \"{}/arr3\".format(name_id),\n",
    "            \"type\": \"array\",\n",
    "            \"shape\": arr3.shape,\n",
    "            \"vcount\": 100,\n",
    "            \"voffset\": 0,\n",
    "            \"vdim\": 0,\n",
    "        }\n",
    "    ],\n",
    "    array_data_list=[arr6, arr5, arr4, arr3],\n",
    ")\n",
    "print(obj_ids)"
   ]
  },
  {
   "cell_type": "markdown",
   "id": "9c85aad5-fc35-406a-9a76-d8635eecf9a3",
   "metadata": {},
   "source": [
    "## Retrieve Metadata"
   ]
  },
  {
   "cell_type": "markdown",
   "id": "16c77e70-32c0-472e-90c9-a44bd51d2f19",
   "metadata": {},
   "source": [
    "### Retrieve a single metadata attributes from a single object\n",
    "\n",
    "\n",
    "In HydraGNN, we need to retrieve a series of metadata attributes from a container. \n",
    "\n",
    "If every single metadata retrieval requires a single request, that would be too much overhead.\n",
    "\n",
    "MetaPS is a new metric we designed to calculate the number of metadata attributes we can retrieve from one object within a second.\n"
   ]
  },
  {
   "cell_type": "code",
   "execution_count": null,
   "id": "d325e370-6cc5-4ab0-ba22-55591a8ed391",
   "metadata": {},
   "outputs": [],
   "source": [
    "meta_keys=[\"type\", \"keys\", \"ranges\", \"name\", \"part_num\", \"part_size\"]\n",
    "\n",
    "start = time.time()\n",
    "for i in range(1000):\n",
    "    k = i % len(meta_keys)\n",
    "    result = bkc.get_object_metadata(\n",
    "        obj_ids[0],\n",
    "        meta_keys=[meta_keys[k]], # retreiving SINGLE!!!\n",
    "        \n",
    "    )\n",
    "    if i < len(meta_keys):\n",
    "        print(result)\n",
    "\n",
    "print(\"Single Metadata retrieval of single object : TPS = {} MetaPS: {}\".format(1000/(time.time()-start), 1000/(time.time()-start)))"
   ]
  },
  {
   "cell_type": "markdown",
   "id": "69da6ac0-2c99-4151-96eb-3c45862756ff",
   "metadata": {},
   "source": [
    "### Retrieving multiple metadata attributes from a single object\n",
    "\n",
    "Now we can combine the metadata retrieval of a single container into one single request. \n",
    "\n",
    "MetaPS is a new metric we designed to calculate the number of metadata attributes we can retrieve from one object within a second.\n",
    "\n",
    "Slight drop on TPS but MEGA IMPROVEMENT for MetaPS"
   ]
  },
  {
   "cell_type": "code",
   "execution_count": null,
   "id": "b53c2db0-d736-4798-9b27-f01c2a6cb7c5",
   "metadata": {},
   "outputs": [],
   "source": [
    "meta_keys=[\"type\", \"keys\", \"ranges\", \"name\", \"part_num\", \"part_size\"]\n",
    "\n",
    "start = time.time()\n",
    "for i in range(1000):\n",
    "    result = bkc.get_object_metadata(\n",
    "        obj_ids[0],\n",
    "        meta_keys=meta_keys, # retrieving MULTIPLE!!!\n",
    "    )\n",
    "pprint(result)\n",
    "print(\"\\n Multiple Metadata retrieval of single object : TPS={}, MetaPS: {} \".format(1000/(time.time()-start), 1000*len(meta_keys)/(time.time()-start) ))"
   ]
  },
  {
   "cell_type": "markdown",
   "id": "57075ab8-80e7-4eca-8a15-d0fb94ea83ad",
   "metadata": {},
   "source": [
    "### Retrieving single attributes from a single sub-object"
   ]
  },
  {
   "cell_type": "code",
   "execution_count": null,
   "id": "8d111feb-792d-48a9-9c7b-9919d6322eb2",
   "metadata": {},
   "outputs": [],
   "source": [
    "meta_keys=[\"name\",\n",
    "            \"type\",\n",
    "            \"shape\",\n",
    "            \"vcount\",\n",
    "            \"voffset\",\n",
    "            \"vdim\"]\n",
    "\n",
    "start = time.time()\n",
    "for i in range(1000):\n",
    "    k = i % len(meta_keys)\n",
    "    result = bkc.get_object_metadata(\n",
    "        obj_ids[1],\n",
    "        meta_keys=[meta_keys[k]], # retreiving SINGLE!!!\n",
    "        \n",
    "    )\n",
    "    if i < len(meta_keys):\n",
    "        print(result)\n",
    "\n",
    "print(\"Single Metadata retrieval of a single sub-object : TPS={}, MetaPS: {}\".format(1000/(time.time()-start), 1000/(time.time()-start)))"
   ]
  },
  {
   "cell_type": "markdown",
   "id": "918cd7d4-7f43-4770-8e16-5e8926f354e6",
   "metadata": {},
   "source": [
    "### Retrieving multiple attributes from single sub-objects"
   ]
  },
  {
   "cell_type": "code",
   "execution_count": null,
   "id": "ada9cdc5-c928-4052-82d2-b74b4ef6ff55",
   "metadata": {},
   "outputs": [],
   "source": [
    "meta_keys=[\"name\",\n",
    "            \"type\",\n",
    "            \"shape\",\n",
    "            \"vcount\",\n",
    "            \"voffset\",\n",
    "            \"vdim\"]\n",
    "\n",
    "start = time.time()\n",
    "for i in range(1000):\n",
    "    result = bkc.get_object_metadata(\n",
    "        obj_ids[1],\n",
    "        meta_keys=meta_keys, # retreiving SINGLE!!!\n",
    "        \n",
    "    )\n",
    "    \n",
    "pprint(result)\n",
    "print(\"\\n Multiple Metadata retrieval of a single sub-object : TPS={}, MetaPS: {}\".format(1000/(time.time()-start), 1000*len(meta_keys)/(time.time()-start)))"
   ]
  },
  {
   "cell_type": "markdown",
   "id": "9650adfc-e1d8-4004-9ea1-82b88722888f",
   "metadata": {},
   "source": [
    "### Retrieving multiple attributes from multiple sub-objects"
   ]
  },
  {
   "cell_type": "code",
   "execution_count": null,
   "id": "c487bb76-44b8-48e4-a96e-6e7f1eccdfcf",
   "metadata": {},
   "outputs": [],
   "source": [
    "meta_keys=[\"name\",\n",
    "            \"type\",\n",
    "            \"shape\",\n",
    "            \"vcount\",\n",
    "            \"voffset\",\n",
    "            \"vdim\"]\n",
    "\n",
    "start = time.time()\n",
    "for i in range(1000):\n",
    "    result = bkc.get_object_metadata(\n",
    "        obj_ids[0],\n",
    "        sub_meta_keys=meta_keys, # retreiving MULTIPLE for every sub-object!!!     \n",
    "    )\n",
    "\n",
    "pprint(result)\n",
    "print(\"Multiple Metadata retrieval of a single sub-object : TPS={}, MetaPS: {}\".format(1000/(time.time()-start), 1000*len(meta_keys)*3/(time.time()-start)))"
   ]
  },
  {
   "cell_type": "markdown",
   "id": "75c83814-e126-4bfd-9adf-e014299ea3f5",
   "metadata": {},
   "source": [
    "### Retrieving different set of attributes from multiple sub-objects"
   ]
  },
  {
   "cell_type": "code",
   "execution_count": null,
   "id": "c460b192-f50f-41db-b293-11f505f07d94",
   "metadata": {},
   "outputs": [],
   "source": [
    "# meta_keys=[\"name\",\n",
    "#             \"type\",\n",
    "#             \"shape\",\n",
    "#             \"vcount\",\n",
    "#             \"voffset\",\n",
    "#             \"vdim\"]\n",
    "\n",
    "start = time.time()\n",
    "for i in range(1000):\n",
    "    result = bkc.get_object_metadata(\n",
    "        obj_ids[0],\n",
    "        sub_meta_keys={\"{}/arr5\".format(name_id):[ \"name\", \"type\", \"voffset\" ],\n",
    "                      \"{}/arr4\".format(name_id):[\"type\", \"vcount\"]}      # retrieving different set of metadata for different sub-objects\n",
    "    )\n",
    "\n",
    "pprint(result)\n",
    "print(\"\\n Multiple Metadata retrieval of a single sub-object : TPS={}, MetaPS: {}\".format(1000/(time.time()-start), 1000*5/(time.time()-start)))"
   ]
  },
  {
   "cell_type": "markdown",
   "id": "baebe3e4-1d92-4b2b-95f7-138ebe60ef16",
   "metadata": {},
   "source": [
    "### Retrieving array of a single object"
   ]
  },
  {
   "cell_type": "code",
   "execution_count": null,
   "id": "86e6c89c-235f-4ac4-bc92-60262a7e4300",
   "metadata": {},
   "outputs": [],
   "source": [
    "start = time.time()\n",
    "for i in range(1000):\n",
    "    result = bkc.get_object_data(\n",
    "        obj_ids[0],\n",
    "        region=[slice(0, 1), slice(0, 1), slice(0, 2, -1)],\n",
    "        \n",
    "    )\n",
    "pprint(result)\n",
    "print(\"\\n retrieving array slice of a single 3D array, TPS={}\".format(1000/(time.time()-start)))"
   ]
  },
  {
   "cell_type": "markdown",
   "id": "1a5018d9-e2c1-4662-ac5e-76eeb82543c7",
   "metadata": {},
   "source": [
    "### Retrieving array slices of multiple sub-objects"
   ]
  },
  {
   "cell_type": "code",
   "execution_count": null,
   "id": "047c806e-0851-4f76-8d50-e11516176639",
   "metadata": {},
   "outputs": [],
   "source": [
    "start = time.time()\n",
    "for i in range(1000):\n",
    "    result = bkc.get_object_data(\n",
    "        obj_ids[0],\n",
    "        region=[slice(0, 1), slice(0, 2), slice(0, 2, -1)],\n",
    "        sub_obj_regions=[\n",
    "            (\n",
    "                \"{}/arr5\".format(name_id),\n",
    "                [slice(0, 1), slice(0, 1), slice(0, 1), slice(0, 2), slice(0, 2, -1)],\n",
    "            ),\n",
    "            (\n",
    "                \"{}/arr4\".format(name_id),\n",
    "                [slice(0, 1), slice(0, 1), slice(0, 1), slice(0, 2), slice(0, 2, -1)],\n",
    "            ),\n",
    "            (\n",
    "                \"{}/arr3\".format(name_id),\n",
    "                [slice(0, 1), slice(0, 2), slice(0, 10, -2)],\n",
    "            ),\n",
    "            (\n",
    "                \"{}/arr6\".format(name_id),\n",
    "                [slice(0, 1), slice(0, 1), slice(0, 1), slice(0, 2), slice(0, 2, -1)],\n",
    "            ),\n",
    "        ]\n",
    "    )\n",
    "pprint(result)\n",
    "print(\"\\n retrieving array slice of a single 3D array, TPS={}\".format(1000/(time.time()-start)))"
   ]
  },
  {
   "cell_type": "code",
   "execution_count": null,
   "id": "9b9d4283-2046-4a1a-aae4-7256368a7d7d",
   "metadata": {},
   "outputs": [],
   "source": []
  },
  {
   "cell_type": "code",
   "execution_count": null,
   "id": "8c55f852-6d95-4cb4-92e9-49440cb8e013",
   "metadata": {},
   "outputs": [],
   "source": []
  },
  {
   "cell_type": "markdown",
   "id": "4a5b5176-c08f-497f-9069-f1a79bfa0925",
   "metadata": {},
   "source": [
    "## Closing the Store"
   ]
  },
  {
   "cell_type": "code",
   "execution_count": null,
   "id": "271fefa9-b496-4eef-84ab-d8c23ac94362",
   "metadata": {},
   "outputs": [],
   "source": [
    "# server_process.terminate()\n",
    "# server_process.wait()\n",
    "# print(\"Server process terminated.\")\n"
   ]
  },
  {
   "cell_type": "code",
   "execution_count": null,
   "id": "b843f7a2-0403-41e4-bc38-1abbbac90df5",
   "metadata": {},
   "outputs": [],
   "source": []
  }
 ],
 "metadata": {
  "kernelspec": {
   "display_name": "Python (base)",
   "language": "python",
   "name": "base"
  },
  "language_info": {
   "codemirror_mode": {
    "name": "ipython",
    "version": 3
   },
   "file_extension": ".py",
   "mimetype": "text/x-python",
   "name": "python",
   "nbconvert_exporter": "python",
   "pygments_lexer": "ipython3",
   "version": "3.12.2"
  }
 },
 "nbformat": 4,
 "nbformat_minor": 5
}
