{
      "cells": [
            {
                  "cell_type": "markdown",
                  "id": "0affd900-afe5-4c0e-95a5-6bee49e10a28",
                  "metadata": {},
                  "source": [
                        "# BULKI_Store Demo"
                  ]
            },
            {
                  "cell_type": "markdown",
                  "id": "8018064e-9b27-4a40-88fd-c61c86dd232a",
                  "metadata": {},
                  "source": [
                        "## Starting Server"
                  ]
            },
            {
                  "cell_type": "code",
                  "execution_count": 70,
                  "id": "bb352f7a-d9a5-477b-9882-7b9cf31b301f",
                  "metadata": {
                        "execution": {
                              "iopub.execute_input": "2025-02-28T05:41:39.254010Z",
                              "iopub.status.busy": "2025-02-28T05:41:39.253811Z",
                              "iopub.status.idle": "2025-02-28T05:41:39.258481Z",
                              "shell.execute_reply": "2025-02-28T05:41:39.257538Z",
                              "shell.execute_reply.started": "2025-02-28T05:41:39.253987Z"
                        }
                  },
                  "outputs": [
                        {
                              "name": "stdout",
                              "output_type": "stream",
                              "text": [
                                    "env: RUST_LOG=debug\n",
                                    "env: RUST_LOG=debug\n",
                                    "Let's start\n"
                              ]
                        }
                  ],
                  "source": [
                        "\n",
                        "%env RUST_LOG=debug\n",
                        "\n",
                        "%env RUST_LOG=debug\n",
                        "print(\"Let's start\")"
                  ]
            },
            {
                  "cell_type": "code",
                  "execution_count": 71,
                  "id": "ad28327e-746d-47cf-9e47-e0865bf76b4e",
                  "metadata": {
                        "execution": {
                              "iopub.execute_input": "2025-02-28T05:41:39.261040Z",
                              "iopub.status.busy": "2025-02-28T05:41:39.260843Z",
                              "iopub.status.idle": "2025-02-28T05:41:39.265728Z",
                              "shell.execute_reply": "2025-02-28T05:41:39.265114Z",
                              "shell.execute_reply.started": "2025-02-28T05:41:39.261017Z"
                        }
                  },
                  "outputs": [],
                  "source": [
                        "# import subprocess\n",
                        "\n",
                        "# # Start the server as a background process\n",
                        "# server_process = subprocess.Popen(\n",
                        "#     ['/opt/homebrew/bin/mpirun', '-np', '4', 'target/debug/bulkistore-server'],\n",
                        "#     env={'RUST_LOG': 'debug'},\n",
                        "#     stdout=subprocess.PIPE,\n",
                        "#     stderr=subprocess.PIPE\n",
                        "# )\n",
                        "\n",
                        "# print(\"Server started with PID:\", server_process.pid)"
                  ]
            },
            {
                  "cell_type": "markdown",
                  "id": "02b86998-32fc-4342-ab51-07bcc276f28a",
                  "metadata": {},
                  "source": [
                        "## Creating Arrays"
                  ]
            },
            {
                  "cell_type": "code",
                  "execution_count": 72,
                  "id": "e1c65e4b-9eeb-4c4d-a85a-12c7f03a28a0",
                  "metadata": {
                        "execution": {
                              "iopub.execute_input": "2025-02-28T17:28:28.971028Z",
                              "iopub.status.busy": "2025-02-28T17:28:28.970655Z",
                              "iopub.status.idle": "2025-02-28T17:28:28.983982Z",
                              "shell.execute_reply": "2025-02-28T17:28:28.983587Z",
                              "shell.execute_reply.started": "2025-02-28T17:28:28.970995Z"
                        }
                  },
                  "outputs": [
                        {
                              "name": "stdout",
                              "output_type": "stream",
                              "text": [
                                    "5D array size = 759375 elements\n",
                                    "rd1.shape= (15, 15, 15, 15, 15)\n",
                                    "rd1 last 2 dim preview:\n",
                                    "[[[[[0.08663482 0.59558027 0.62960987 0.4729986  0.57928576 0.5306721\n",
                                    "     0.11848833 0.08423938 0.70638524 0.88690634 0.0719992  0.37613026\n",
                                    "     0.6058457  0.65754648 0.44527922]\n",
                                    "    [0.47236678 0.29346513 0.68435253 0.83908487 0.79930203 0.89991119\n",
                                    "     0.59928692 0.32923729 0.16767291 0.32729862 0.89142215 0.75340056\n",
                                    "     0.19889376 0.37338368 0.04716   ]]]]]\n",
                                    "rd2.shape= (15, 15, 15, 15, 15)\n",
                                    "rd2 last 2 dim preview:\n",
                                    "[[[[[0.91809928 0.72458919 0.40881815 0.03364243 0.70669297 0.14787626\n",
                                    "     0.03583577 0.64764197 0.98465139 0.72900086 0.491693   0.0896528\n",
                                    "     0.02416408 0.94364375 0.0776397 ]\n",
                                    "    [0.79195747 0.07572613 0.64079606 0.31680976 0.29157228 0.71658357\n",
                                    "     0.05995136 0.566793   0.92811117 0.41916363 0.63608706 0.19718589\n",
                                    "     0.09642889 0.41666164 0.06613984]]]]]\n",
                                    "arr3.shape= (15, 15, 15)\n",
                                    "arr3 last 2 dim preview:\n",
                                    "[[[0.23587215 0.62178663 0.06894842 0.97736116 0.75520399 0.08845965\n",
                                    "   0.52007208 0.24204213 0.47244277 0.42087656 0.86170247 0.13394391\n",
                                    "   0.4784685  0.21014161 0.80899874]\n",
                                    "  [0.09865762 0.90618947 0.36234819 0.44410789 0.43790998 0.22977314\n",
                                    "   0.48628338 0.66895578 0.03921692 0.92967152 0.27165782 0.68870897\n",
                                    "   0.18793088 0.90077517 0.63618653]]]\n"
                              ]
                        }
                  ],
                  "source": [
                        "import bkstore_client as bkc\n",
                        "import numpy as np\n",
                        "import time\n",
                        "from pprint import pprint\n",
                        "\n",
                        "\n",
                        "bkc.init()\n",
                        "dim_size = 15\n",
                        "\n",
                        "print(\"5D array size = {} elements\".format(dim_size**5))\n",
                        "\n",
                        "# dim_size = 10\n",
                        "rd1 = np.random.rand(dim_size, dim_size, dim_size, dim_size, dim_size)\n",
                        "rd2 = np.random.rand(dim_size, dim_size, dim_size, dim_size, dim_size)\n",
                        "\n",
                        "print(\"rd1.shape=\", rd1.shape)\n",
                        "print(\"rd1 last 2 dim preview:\")\n",
                        "print(rd1[0:1, 0:1, 0:1, 0:2, 0:])\n",
                        "\n",
                        "print(\"rd2.shape=\", rd2.shape)\n",
                        "print(\"rd2 last 2 dim preview:\")\n",
                        "print(rd2[0:1, 0:1, 0:1, 0:2, 0:])\n",
                        "\n",
                        "arr3 = np.random.rand(dim_size, dim_size, dim_size)\n",
                        "print(\"arr3.shape=\", arr3.shape)\n",
                        "print(\"arr3 last 2 dim preview:\")\n",
                        "print(arr3[0:1, 0:2, 0:])"
                  ]
            },
            {
                  "cell_type": "markdown",
                  "id": "9c99005b-814f-49d9-a353-cf13f41e7766",
                  "metadata": {},
                  "source": [
                        "## Client-Side NDArray Arithmetic Operation"
                  ]
            },
            {
                  "cell_type": "code",
                  "execution_count": 73,
                  "id": "e8f78089-b1d0-4221-9154-6290abe5bac1",
                  "metadata": {
                        "execution": {
                              "iopub.execute_input": "2025-02-28T17:30:08.380322Z",
                              "iopub.status.busy": "2025-02-28T17:30:08.379953Z",
                              "iopub.status.idle": "2025-02-28T17:30:08.418732Z",
                              "shell.execute_reply": "2025-02-28T17:30:08.418240Z",
                              "shell.execute_reply.started": "2025-02-28T17:30:08.380279Z"
                        }
                  },
                  "outputs": [
                        {
                              "name": "stdout",
                              "output_type": "stream",
                              "text": [
                                    "arr4.shape= (15, 15, 15, 15, 15)\n",
                                    "arr4 last 2 dim preview:\n",
                                    "[[[[[1.0047341  1.32016946 1.03842801 0.50664102 1.28597873 0.67854836\n",
                                    "     0.1543241  0.73188135 1.69103663 1.6159072  0.5636922  0.46578306\n",
                                    "     0.63000977 1.60119023 0.52291892]\n",
                                    "    [1.26432425 0.36919126 1.32514859 1.15589463 1.09087431 1.61649476\n",
                                    "     0.65923829 0.89603029 1.09578408 0.74646225 1.52750921 0.95058645\n",
                                    "     0.29532265 0.79004531 0.11329984]]]]]\n"
                              ]
                        }
                  ],
                  "source": [
                        "arr4 = bkc.polymorphic_add(rd1, rd2)\n",
                        "\n",
                        "print(\"arr4.shape=\", arr4.shape)\n",
                        "print(\"arr4 last 2 dim preview:\")\n",
                        "print(arr4[0:1, 0:1, 0:1, 0:2, 0:])"
                  ]
            },
            {
                  "cell_type": "markdown",
                  "id": "23e46f92-f17f-424f-a17a-541501d73ce4",
                  "metadata": {},
                  "source": [
                        "## Remote Array Slicing"
                  ]
            },
            {
                  "cell_type": "code",
                  "execution_count": 74,
                  "id": "4b65e224-b51a-453f-8f53-53f71b99670a",
                  "metadata": {
                        "execution": {
                              "iopub.execute_input": "2025-02-28T17:30:11.992171Z",
                              "iopub.status.busy": "2025-02-28T17:30:11.991774Z",
                              "iopub.status.idle": "2025-02-28T17:30:11.997090Z",
                              "shell.execute_reply": "2025-02-28T17:30:11.996558Z",
                              "shell.execute_reply.started": "2025-02-28T17:30:11.992138Z"
                        }
                  },
                  "outputs": [
                        {
                              "name": "stdout",
                              "output_type": "stream",
                              "text": [
                                    "arr5.shape= (1, 1, 1, 2, 5)\n",
                                    "arr5 last 2 dim preview:\n",
                                    "[[[[[1.6159072  0.73188135 0.67854836 0.50664102 1.32016946]\n",
                                    "    [0.74646225 0.89603029 1.61649476 1.15589463 0.36919126]]]]]\n"
                              ]
                        }
                  ],
                  "source": [
                        "arr5 = bkc.array_slicing(\n",
                        "    arr4, [slice(0, 1), slice(0, 1), slice(0, 1), slice(0, 2), slice(0, 10, -2)]\n",
                        ")\n",
                        "\n",
                        "print(\"arr5.shape=\", arr5.shape)\n",
                        "print(\"arr5 last 2 dim preview:\")\n",
                        "print(arr5[0:1, 0:1, 0:1, 0:2, 0:])"
                  ]
            },
            {
                  "cell_type": "markdown",
                  "id": "927e1606-6fe9-4ce5-bff7-d2abb03ab922",
                  "metadata": {},
                  "source": [
                        "## Remote Array Arithmetic Operation"
                  ]
            },
            {
                  "cell_type": "code",
                  "execution_count": 75,
                  "id": "90ce6f0b-cbd1-43ef-b84e-23e8716225af",
                  "metadata": {
                        "execution": {
                              "iopub.execute_input": "2025-02-28T17:30:26.198069Z",
                              "iopub.status.busy": "2025-02-28T17:30:26.197595Z",
                              "iopub.status.idle": "2025-02-28T17:30:26.209466Z",
                              "shell.execute_reply": "2025-02-28T17:30:26.209081Z",
                              "shell.execute_reply.started": "2025-02-28T17:30:26.198037Z"
                        }
                  },
                  "outputs": [
                        {
                              "name": "stdout",
                              "output_type": "stream",
                              "text": [
                                    "arr6.shape= (1, 1, 1, 2, 5)\n",
                                    "arr6:\n",
                                    "[[[[[3.23181439 1.46376271 1.35709672 1.01328205 2.64033893]\n",
                                    "    [1.49292449 1.79206058 3.23298952 2.31178927 0.73838253]]]]]\n"
                              ]
                        }
                  ],
                  "source": [
                        "arr6 = bkc.times_two(arr5)\n",
                        "\n",
                        "print(\"arr6.shape=\", arr6.shape)\n",
                        "print(\"arr6:\")\n",
                        "print(arr6)"
                  ]
            },
            {
                  "cell_type": "markdown",
                  "id": "10a687f2-e5f3-47fb-b8c0-a2f1a0bc3413",
                  "metadata": {},
                  "source": [
                        "## Creating Object with Multiple NDArrays\n",
                        "\n",
                        "1. You can attach a series of metadata attributes directly to the object you are creating\n",
                        "2. You can attach a series of NDArrays directly to the object you are creating along with the metadata attributes of these NDArrays.\n",
                        "3. Each of these NDArrays will become a sub-object of the main object you are creating."
                  ]
            },
            {
                  "cell_type": "code",
                  "execution_count": 76,
                  "id": "f5fe543f-9a9e-4688-96aa-1201d570ac7f",
                  "metadata": {
                        "execution": {
                              "iopub.execute_input": "2025-02-28T17:32:13.125162Z",
                              "iopub.status.busy": "2025-02-28T17:32:13.124843Z",
                              "iopub.status.idle": "2025-02-28T17:32:21.843102Z",
                              "shell.execute_reply": "2025-02-28T17:32:21.842802Z",
                              "shell.execute_reply.started": "2025-02-28T17:32:13.125135Z"
                        }
                  },
                  "outputs": [
                        {
                              "name": "stdout",
                              "output_type": "stream",
                              "text": [
                                    "[32120029897713095799432405078924581, 32120029897713206479896851631201573, 32120029897713446287569814150339877, 32120029897713593861522408121720101, 32120029897723370635881478479043877, 32120029897723536656578146159975717, 32120029897725658032146627053378853]\n"
                              ]
                        }
                  ],
                  "source": [
                        "# Create an 3D array\n",
                        "\n",
                        "name_id = str(np.random.rand(1)[0] * 1000000)[0:6]\n",
                        "\n",
                        "gnn_arr1 = np.random.rand(100000, 2)\n",
                        "gnn_arr2 = np.random.rand(1, 100000)\n",
                        "\n",
                        "obj_ids = bkc.create_objects(\n",
                        "    obj_name_key=\"name\",\n",
                        "    parent_id=None,\n",
                        "    metadata={\n",
                        "        \"name\": \"container\",\n",
                        "        \"name\": \"container\",\n",
                        "        \"type\": \"container\",\n",
                        "        \"keys\": [\n",
                        "            \"{}/arr6\".format(name_id),\n",
                        "            \"{}/arr5\".format(name_id),\n",
                        "            \"{}/arr4\".format(name_id),\n",
                        "            \"{}/arr3\".format(name_id),\n",
                        "            \"{}/gnn_arr1\".format(name_id),\n",
                        "            \"{}/gnn_arr2\".format(name_id),\n",
                        "        ],\n",
                        "        \"ranges\": [(1, 100), (100, 200)],\n",
                        "        \"part_num\": 1,\n",
                        "        \"part_size\": 100,\n",
                        "    },\n",
                        "    data=arr3,\n",
                        "    array_meta_list=[\n",
                        "        {\n",
                        "            \"name\": \"{}/arr6\".format(name_id),\n",
                        "            \"type\": \"array\",\n",
                        "            \"shape\": arr6.shape,\n",
                        "            \"vcount\": 100,\n",
                        "            \"voffset\": 0,\n",
                        "            \"vdim\": 0,\n",
                        "        },\n",
                        "        {\n",
                        "            \"name\": \"{}/arr5\".format(name_id),\n",
                        "            \"type\": \"array\",\n",
                        "            \"shape\": arr6.shape,\n",
                        "            \"vcount\": 100,\n",
                        "            \"voffset\": 0,\n",
                        "            \"vdim\": 0,\n",
                        "        },\n",
                        "        {\n",
                        "            \"name\": \"{}/arr4\".format(name_id),\n",
                        "            \"type\": \"array\",\n",
                        "            \"shape\": arr4.shape,\n",
                        "            \"vcount\": 100,\n",
                        "            \"voffset\": 0,\n",
                        "            \"vdim\": 0,\n",
                        "        },\n",
                        "        {\n",
                        "            \"name\": \"{}/arr3\".format(name_id),\n",
                        "            \"type\": \"array\",\n",
                        "            \"shape\": arr3.shape,\n",
                        "            \"vcount\": 100,\n",
                        "            \"voffset\": 0,\n",
                        "            \"vdim\": 0,\n",
                        "        },\n",
                        "        {\n",
                        "            \"name\": \"{}/gnn_arr1\".format(name_id),\n",
                        "            \"type\": \"array\",\n",
                        "            \"shape\": gnn_arr1.shape,\n",
                        "            \"vcount\": 100,\n",
                        "            \"voffset\": 0,\n",
                        "            \"vdim\": 0,\n",
                        "        },\n",
                        "        {\n",
                        "            \"name\": \"{}/gnn_arr2\".format(name_id),\n",
                        "            \"type\": \"array\",\n",
                        "            \"shape\": gnn_arr2.shape,\n",
                        "            \"vcount\": 100,\n",
                        "            \"voffset\": 0,\n",
                        "            \"vdim\": 0,\n",
                        "        },\n",
                        "    ],\n",
                        "    array_data_list=[arr6, arr5, arr4, arr3, gnn_arr1, gnn_arr2],\n",
                        ")\n",
                        "print(obj_ids)"
                  ]
            },
            {
                  "cell_type": "code",
                  "execution_count": 77,
                  "id": "55bfc47e",
                  "metadata": {},
                  "outputs": [
                        {
                              "name": "stdout",
                              "output_type": "stream",
                              "text": [
                                    "198490\n"
                              ]
                        }
                  ],
                  "source": [
                        "print(f\"{name_id}\")"
                  ]
            },
            {
                  "cell_type": "markdown",
                  "id": "9c85aad5-fc35-406a-9a76-d8635eecf9a3",
                  "metadata": {},
                  "source": [
                        "## Retrieve Metadata"
                  ]
            },
            {
                  "cell_type": "markdown",
                  "id": "16c77e70-32c0-472e-90c9-a44bd51d2f19",
                  "metadata": {},
                  "source": [
                        "### Retrieve a single metadata attributes from a single object\n",
                        "\n",
                        "\n",
                        "In HydraGNN, we need to retrieve a series of metadata attributes from a container. \n",
                        "\n",
                        "If every single metadata retrieval requires a single request, that would be too much overhead.\n",
                        "\n",
                        "MetaPS is a new metric we designed to calculate the number of metadata attributes we can retrieve from one object within a second.\n"
                  ]
            },
            {
                  "cell_type": "code",
                  "execution_count": 78,
                  "id": "d325e370-6cc5-4ab0-ba22-55591a8ed391",
                  "metadata": {
                        "execution": {
                              "iopub.execute_input": "2025-02-28T17:33:11.141541Z",
                              "iopub.status.busy": "2025-02-28T17:33:11.141143Z",
                              "iopub.status.idle": "2025-02-28T17:33:11.998396Z",
                              "shell.execute_reply": "2025-02-28T17:33:11.998045Z",
                              "shell.execute_reply.started": "2025-02-28T17:33:11.141506Z"
                        }
                  },
                  "outputs": [
                        {
                              "name": "stdout",
                              "output_type": "stream",
                              "text": [
                                    "{'obj_id': 32120029897713095799432405078924581, 'metadata': {'type': 'container'}, 'sub_obj_metadata': None}\n",
                                    "{'obj_id': 32120029897713095799432405078924581, 'metadata': {'keys': ['198490/arr6', '198490/arr5', '198490/arr4', '198490/arr3', '198490/gnn_arr1', '198490/gnn_arr2']}, 'sub_obj_metadata': None}\n",
                                    "{'obj_id': 32120029897713095799432405078924581, 'metadata': {'ranges': [(1, 100), (100, 200)]}, 'sub_obj_metadata': None}\n",
                                    "{'obj_id': 32120029897713095799432405078924581, 'metadata': {'name': 'container'}, 'sub_obj_metadata': None}\n",
                                    "{'obj_id': 32120029897713095799432405078924581, 'metadata': {'part_num': 1}, 'sub_obj_metadata': None}\n",
                                    "{'obj_id': 32120029897713095799432405078924581, 'metadata': {'part_size': 100}, 'sub_obj_metadata': None}\n",
                                    "{'obj_id': 32120029897713095799432405078924581, 'metadata': {}, 'sub_obj_metadata': None}\n",
                                    "Single Metadata retrieval of single object : TPS = 1192.3356059221296 MetaPS: 1192.33425011904\n"
                              ]
                        }
                  ],
                  "source": [
                        "meta_keys = [\"type\", \"keys\", \"ranges\", \"name\", \"part_num\", \"part_size\", \"title\"]\n",
                        "meta_keys = [\"type\", \"keys\", \"ranges\", \"name\", \"part_num\", \"part_size\", \"title\"]\n",
                        "\n",
                        "start = time.time()\n",
                        "for i in range(1000):\n",
                        "    k = i % len(meta_keys)\n",
                        "    result = bkc.get_object_metadata(\n",
                        "        obj_ids[0],\n",
                        "        meta_keys=[meta_keys[k]],  # retreiving SINGLE!!!\n",
                        "    )\n",
                        "    if i < len(meta_keys):\n",
                        "        print(result)\n",
                        "\n",
                        "print(\n",
                        "    \"Single Metadata retrieval of single object : TPS = {} MetaPS: {}\".format(\n",
                        "        1000 / (time.time() - start), 1000 / (time.time() - start)\n",
                        "    )\n",
                        ")"
                  ]
            },
            {
                  "cell_type": "code",
                  "execution_count": 79,
                  "id": "f92537e2",
                  "metadata": {},
                  "outputs": [
                        {
                              "name": "stdout",
                              "output_type": "stream",
                              "text": [
                                    "{'obj_id': 32120029897713095799432405078924581, 'metadata': {'type': 'container'}, 'sub_obj_metadata': None}\n",
                                    "{'obj_id': 32120029897713095799432405078924581, 'metadata': {'keys': ['198490/arr6', '198490/arr5', '198490/arr4', '198490/arr3', '198490/gnn_arr1', '198490/gnn_arr2']}, 'sub_obj_metadata': None}\n",
                                    "{'obj_id': 32120029897713095799432405078924581, 'metadata': {'ranges': [(1, 100), (100, 200)]}, 'sub_obj_metadata': None}\n",
                                    "{'obj_id': 32120029897713095799432405078924581, 'metadata': {'name': 'container'}, 'sub_obj_metadata': None}\n",
                                    "{'obj_id': 32120029897713095799432405078924581, 'metadata': {'part_num': 1}, 'sub_obj_metadata': None}\n",
                                    "{'obj_id': 32120029897713095799432405078924581, 'metadata': {'part_size': 100}, 'sub_obj_metadata': None}\n",
                                    "{'obj_id': 32120029897713095799432405078924581, 'metadata': {}, 'sub_obj_metadata': None}\n",
                                    "Single Metadata retrieval of single object : TPS = 1200.9745686153744 MetaPS: 1200.9718175766122\n"
                              ]
                        }
                  ],
                  "source": [
                        "meta_keys = [\"type\", \"keys\", \"ranges\", \"name\", \"part_num\", \"part_size\", \"title\"]\n",
                        "\n",
                        "start = time.time()\n",
                        "for i in range(1000):\n",
                        "    k = i % len(meta_keys)\n",
                        "    result = bkc.get_object_metadata(\n",
                        "        obj_id=\"container\",\n",
                        "        meta_keys=[meta_keys[k]],  # retreiving SINGLE!!!\n",
                        "    )\n",
                        "    if i < len(meta_keys):\n",
                        "        print(result)\n",
                        "\n",
                        "print(\n",
                        "    \"Single Metadata retrieval of single object : TPS = {} MetaPS: {}\".format(\n",
                        "        1000 / (time.time() - start), 1000 / (time.time() - start)\n",
                        "    )\n",
                        ")"
                  ]
            },
            {
                  "cell_type": "markdown",
                  "id": "69da6ac0-2c99-4151-96eb-3c45862756ff",
                  "metadata": {},
                  "source": [
                        "### Retrieving multiple metadata attributes from a single object\n",
                        "\n",
                        "Now we can combine the metadata retrieval of a single container into one single request. \n",
                        "\n",
                        "MetaPS is a new metric we designed to calculate the number of metadata attributes we can retrieve from one object within a second.\n",
                        "\n",
                        "Slight drop on TPS but MEGA IMPROVEMENT for MetaPS"
                  ]
            },
            {
                  "cell_type": "code",
                  "execution_count": 80,
                  "id": "b53c2db0-d736-4798-9b27-f01c2a6cb7c5",
                  "metadata": {
                        "execution": {
                              "iopub.execute_input": "2025-02-28T17:34:05.716855Z",
                              "iopub.status.busy": "2025-02-28T17:34:05.716532Z",
                              "iopub.status.idle": "2025-02-28T17:34:06.677678Z",
                              "shell.execute_reply": "2025-02-28T17:34:06.677208Z",
                              "shell.execute_reply.started": "2025-02-28T17:34:05.716829Z"
                        }
                  },
                  "outputs": [
                        {
                              "name": "stdout",
                              "output_type": "stream",
                              "text": [
                                    "{'metadata': {'keys': ['198490/arr6',\n",
                                    "                       '198490/arr5',\n",
                                    "                       '198490/arr4',\n",
                                    "                       '198490/arr3',\n",
                                    "                       '198490/gnn_arr1',\n",
                                    "                       '198490/gnn_arr2'],\n",
                                    "              'name': 'container',\n",
                                    "              'part_num': 1,\n",
                                    "              'part_size': 100,\n",
                                    "              'ranges': [(1, 100), (100, 200)],\n",
                                    "              'type': 'container'},\n",
                                    " 'obj_id': 32120029897713095799432405078924581,\n",
                                    " 'sub_obj_metadata': None}\n",
                                    "\n",
                                    " Multiple Metadata retrieval of single object : TPS=1115.1715349300703, MetaPS: 6691.014977651705 \n"
                              ]
                        }
                  ],
                  "source": [
                        "meta_keys = [\"type\", \"keys\", \"ranges\", \"name\", \"part_num\", \"part_size\"]\n",
                        "\n",
                        "start = time.time()\n",
                        "for i in range(1000):\n",
                        "    result = bkc.get_object_metadata(\n",
                        "        obj_ids[0],\n",
                        "        meta_keys=meta_keys,  # retrieving MULTIPLE!!!\n",
                        "    )\n",
                        "pprint(result)\n",
                        "print(\n",
                        "    \"\\n Multiple Metadata retrieval of single object : TPS={}, MetaPS: {} \".format(\n",
                        "        1000 / (time.time() - start), 1000 * len(meta_keys) / (time.time() - start)\n",
                        "    )\n",
                        ")"
                  ]
            },
            {
                  "cell_type": "markdown",
                  "id": "57075ab8-80e7-4eca-8a15-d0fb94ea83ad",
                  "metadata": {},
                  "source": [
                        "### Retrieving single attributes from a single sub-object"
                  ]
            },
            {
                  "cell_type": "code",
                  "execution_count": 81,
                  "id": "8d111feb-792d-48a9-9c7b-9919d6322eb2",
                  "metadata": {
                        "execution": {
                              "iopub.execute_input": "2025-02-28T17:34:54.022362Z",
                              "iopub.status.busy": "2025-02-28T17:34:54.021993Z",
                              "iopub.status.idle": "2025-02-28T17:34:54.871747Z",
                              "shell.execute_reply": "2025-02-28T17:34:54.871383Z",
                              "shell.execute_reply.started": "2025-02-28T17:34:54.022301Z"
                        }
                  },
                  "outputs": [
                        {
                              "name": "stdout",
                              "output_type": "stream",
                              "text": [
                                    "{'obj_id': 32120029897713206479896851631201573, 'metadata': {'name': '198490/arr6'}, 'sub_obj_metadata': None}\n",
                                    "{'obj_id': 32120029897713206479896851631201573, 'metadata': {'type': 'array'}, 'sub_obj_metadata': None}\n",
                                    "{'obj_id': 32120029897713206479896851631201573, 'metadata': {'shape': [1, 1, 1, 2, 5]}, 'sub_obj_metadata': None}\n",
                                    "{'obj_id': 32120029897713206479896851631201573, 'metadata': {'vcount': 100}, 'sub_obj_metadata': None}\n",
                                    "{'obj_id': 32120029897713206479896851631201573, 'metadata': {'voffset': 0}, 'sub_obj_metadata': None}\n",
                                    "{'obj_id': 32120029897713206479896851631201573, 'metadata': {'vdim': 0}, 'sub_obj_metadata': None}\n",
                                    "Single Metadata retrieval of a single sub-object : TPS=1373.1358919694724, MetaPS: 1373.133644279401\n"
                              ]
                        }
                  ],
                  "source": [
                        "meta_keys = [\"name\", \"type\", \"shape\", \"vcount\", \"voffset\", \"vdim\"]\n",
                        "\n",
                        "start = time.time()\n",
                        "for i in range(1000):\n",
                        "    k = i % len(meta_keys)\n",
                        "    result = bkc.get_object_metadata(\n",
                        "        obj_id=obj_ids[1],\n",
                        "        obj_id=obj_ids[1],\n",
                        "        meta_keys=[meta_keys[k]],  # retreiving SINGLE!!!\n",
                        "    )\n",
                        "    if i < len(meta_keys):\n",
                        "        print(result)\n",
                        "\n",
                        "print(\n",
                        "    \"Single Metadata retrieval of a single sub-object : TPS={}, MetaPS: {}\".format(\n",
                        "        1000 / (time.time() - start), 1000 / (time.time() - start)\n",
                        "    )\n",
                        ")"
                  ]
            },
            {
                  "cell_type": "markdown",
                  "id": "918cd7d4-7f43-4770-8e16-5e8926f354e6",
                  "metadata": {},
                  "source": [
                        "### Retrieving multiple attributes from single sub-objects"
                  ]
            },
            {
                  "cell_type": "code",
                  "execution_count": 82,
                  "id": "ada9cdc5-c928-4052-82d2-b74b4ef6ff55",
                  "metadata": {
                        "execution": {
                              "iopub.execute_input": "2025-02-28T17:35:00.569728Z",
                              "iopub.status.busy": "2025-02-28T17:35:00.569391Z",
                              "iopub.status.idle": "2025-02-28T17:35:01.476518Z",
                              "shell.execute_reply": "2025-02-28T17:35:01.476058Z",
                              "shell.execute_reply.started": "2025-02-28T17:35:00.569697Z"
                        }
                  },
                  "outputs": [
                        {
                              "name": "stdout",
                              "output_type": "stream",
                              "text": [
                                    "{'metadata': {'name': '198490/arr6',\n",
                                    "              'shape': [1, 1, 1, 2, 5],\n",
                                    "              'type': 'array',\n",
                                    "              'vcount': 100,\n",
                                    "              'vdim': 0,\n",
                                    "              'voffset': 0},\n",
                                    " 'obj_id': 32120029897713206479896851631201573,\n",
                                    " 'sub_obj_metadata': None}\n",
                                    "\n",
                                    " Multiple Metadata retrieval of a single sub-object : TPS=1294.7532645852923, MetaPS: 7768.50999516587\n"
                              ]
                        }
                  ],
                  "source": [
                        "meta_keys = [\"name\", \"type\", \"shape\", \"vcount\", \"voffset\", \"vdim\"]\n",
                        "\n",
                        "start = time.time()\n",
                        "for i in range(1000):\n",
                        "    result = bkc.get_object_metadata(\n",
                        "        obj_ids[1],\n",
                        "        meta_keys=meta_keys,  # retreiving SINGLE!!!\n",
                        "    )\n",
                        "\n",
                        "pprint(result)\n",
                        "print(\n",
                        "    \"\\n Multiple Metadata retrieval of a single sub-object : TPS={}, MetaPS: {}\".format(\n",
                        "        1000 / (time.time() - start), 1000 * len(meta_keys) / (time.time() - start)\n",
                        "    )\n",
                        ")"
                  ]
            },
            {
                  "cell_type": "markdown",
                  "id": "9650adfc-e1d8-4004-9ea1-82b88722888f",
                  "metadata": {},
                  "source": [
                        "### Retrieving multiple attributes from multiple sub-objects"
                  ]
            },
            {
                  "cell_type": "code",
                  "execution_count": 83,
                  "id": "c487bb76-44b8-48e4-a96e-6e7f1eccdfcf",
                  "metadata": {
                        "execution": {
                              "iopub.execute_input": "2025-02-28T17:35:48.879748Z",
                              "iopub.status.busy": "2025-02-28T17:35:48.879363Z",
                              "iopub.status.idle": "2025-02-28T17:35:50.123068Z",
                              "shell.execute_reply": "2025-02-28T17:35:50.122756Z",
                              "shell.execute_reply.started": "2025-02-28T17:35:48.879718Z"
                        }
                  },
                  "outputs": [
                        {
                              "name": "stdout",
                              "output_type": "stream",
                              "text": [
                                    "{'metadata': {},\n",
                                    " 'obj_id': 32120029897713095799432405078924581,\n",
                                    " 'sub_obj_metadata': [{'metadata': {'name': '198490/arr4',\n",
                                    "                                    'shape': [15, 15, 15, 15, 15],\n",
                                    "                                    'type': 'array',\n",
                                    "                                    'vcount': 100,\n",
                                    "                                    'vdim': 0,\n",
                                    "                                    'voffset': 0},\n",
                                    "                       'name': '198490/arr4',\n",
                                    "                       'obj_id': 32120029897713593861522408121720101},\n",
                                    "                      {'metadata': {'name': '198490/gnn_arr2',\n",
                                    "                                    'shape': [1, 100000],\n",
                                    "                                    'type': 'array',\n",
                                    "                                    'vcount': 100,\n",
                                    "                                    'vdim': 0,\n",
                                    "                                    'voffset': 0},\n",
                                    "                       'name': '198490/gnn_arr2',\n",
                                    "                       'obj_id': 32120029897725658032146627053378853},\n",
                                    "                      {'metadata': {'name': '198490/arr6',\n",
                                    "                                    'shape': [1, 1, 1, 2, 5],\n",
                                    "                                    'type': 'array',\n",
                                    "                                    'vcount': 100,\n",
                                    "                                    'vdim': 0,\n",
                                    "                                    'voffset': 0},\n",
                                    "                       'name': '198490/arr6',\n",
                                    "                       'obj_id': 32120029897713206479896851631201573},\n",
                                    "                      {'metadata': {'name': '198490/arr5',\n",
                                    "                                    'shape': [1, 1, 1, 2, 5],\n",
                                    "                                    'type': 'array',\n",
                                    "                                    'vcount': 100,\n",
                                    "                                    'vdim': 0,\n",
                                    "                                    'voffset': 0},\n",
                                    "                       'name': '198490/arr5',\n",
                                    "                       'obj_id': 32120029897713446287569814150339877},\n",
                                    "                      {'metadata': {'name': '198490/gnn_arr1',\n",
                                    "                                    'shape': [100000, 2],\n",
                                    "                                    'type': 'array',\n",
                                    "                                    'vcount': 100,\n",
                                    "                                    'vdim': 0,\n",
                                    "                                    'voffset': 0},\n",
                                    "                       'name': '198490/gnn_arr1',\n",
                                    "                       'obj_id': 32120029897723536656578146159975717},\n",
                                    "                      {'metadata': {'name': '198490/arr3',\n",
                                    "                                    'shape': [15, 15, 15],\n",
                                    "                                    'type': 'array',\n",
                                    "                                    'vcount': 100,\n",
                                    "                                    'vdim': 0,\n",
                                    "                                    'voffset': 0},\n",
                                    "                       'name': '198490/arr3',\n",
                                    "                       'obj_id': 32120029897723370635881478479043877}]}\n",
                                    "Multiple Metadata retrieval of a single sub-object : TPS=917.5119422127498, MetaPS: 16515.189670726402\n"
                              ]
                        }
                  ],
                  "source": [
                        "meta_keys = [\"name\", \"type\", \"shape\", \"vcount\", \"voffset\", \"vdim\"]\n",
                        "\n",
                        "start = time.time()\n",
                        "for i in range(1000):\n",
                        "    result = bkc.get_object_metadata(\n",
                        "        obj_ids[0],\n",
                        "        sub_meta_keys=meta_keys,  # retreiving MULTIPLE for every sub-object!!!\n",
                        "    )\n",
                        "\n",
                        "pprint(result)\n",
                        "print(\n",
                        "    \"Multiple Metadata retrieval of a single sub-object : TPS={}, MetaPS: {}\".format(\n",
                        "        1000 / (time.time() - start), 1000 * len(meta_keys) * 3 / (time.time() - start)\n",
                        "    )\n",
                        ")"
                  ]
            },
            {
                  "cell_type": "markdown",
                  "id": "75c83814-e126-4bfd-9adf-e014299ea3f5",
                  "metadata": {},
                  "source": [
                        "### Retrieving different set of attributes from multiple sub-objects"
                  ]
            },
            {
                  "cell_type": "code",
                  "execution_count": 84,
                  "id": "c460b192-f50f-41db-b293-11f505f07d94",
                  "metadata": {
                        "execution": {
                              "iopub.execute_input": "2025-02-28T18:49:37.465235Z",
                              "iopub.status.busy": "2025-02-28T18:49:37.464773Z",
                              "iopub.status.idle": "2025-02-28T18:49:38.297260Z",
                              "shell.execute_reply": "2025-02-28T18:49:38.296976Z",
                              "shell.execute_reply.started": "2025-02-28T18:49:37.465197Z"
                        }
                  },
                  "outputs": [
                        {
                              "name": "stdout",
                              "output_type": "stream",
                              "text": [
                                    "{'metadata': {},\n",
                                    " 'obj_id': 32120029897713095799432405078924581,\n",
                                    " 'sub_obj_metadata': [{'metadata': {'name': '198490/arr5',\n",
                                    "                                    'type': 'array',\n",
                                    "                                    'voffset': 0},\n",
                                    "                       'name': '198490/arr5',\n",
                                    "                       'obj_id': 32120029897713446287569814150339877},\n",
                                    "                      {'metadata': {'type': 'array', 'vcount': 100},\n",
                                    "                       'name': '198490/arr4',\n",
                                    "                       'obj_id': 32120029897713593861522408121720101}]}\n",
                                    "\n",
                                    " Multiple Metadata retrieval of a single sub-object : TPS=1226.0655385966338, MetaPS: 6130.320525000366\n"
                              ]
                        }
                  ],
                  "source": [
                        "# meta_keys=[\"name\",\n",
                        "#             \"type\",\n",
                        "#             \"shape\",\n",
                        "#             \"vcount\",\n",
                        "#             \"voffset\",\n",
                        "#             \"vdim\"]\n",
                        "\n",
                        "start = time.time()\n",
                        "for i in range(1000):\n",
                        "    result = bkc.get_object_metadata(\n",
                        "        obj_ids[0],\n",
                        "        sub_meta_keys={\n",
                        "            \"{}/arr5\".format(name_id): [\"name\", \"type\", \"voffset\"],\n",
                        "            \"{}/arr4\".format(name_id): [\"type\", \"vcount\"],\n",
                        "        },  # retrieving different set of metadata for different sub-objects\n",
                        "    )\n",
                        "\n",
                        "pprint(result)\n",
                        "print(\n",
                        "    \"\\n Multiple Metadata retrieval of a single sub-object : TPS={}, MetaPS: {}\".format(\n",
                        "        1000 / (time.time() - start), 1000 * 5 / (time.time() - start)\n",
                        "    )\n",
                        ")"
                  ]
            },
            {
                  "cell_type": "markdown",
                  "id": "baebe3e4-1d92-4b2b-95f7-138ebe60ef16",
                  "metadata": {},
                  "source": [
                        "### Retrieving array of a single object"
                  ]
            },
            {
                  "cell_type": "code",
                  "execution_count": 85,
                  "id": "86e6c89c-235f-4ac4-bc92-60262a7e4300",
                  "metadata": {
                        "execution": {
                              "iopub.execute_input": "2025-02-28T18:49:42.632784Z",
                              "iopub.status.busy": "2025-02-28T18:49:42.632169Z",
                              "iopub.status.idle": "2025-02-28T18:49:43.493597Z",
                              "shell.execute_reply": "2025-02-28T18:49:43.493244Z",
                              "shell.execute_reply.started": "2025-02-28T18:49:42.632744Z"
                        }
                  },
                  "outputs": [
                        {
                              "name": "stdout",
                              "output_type": "stream",
                              "text": [
                                    "{'array_slice': array([[[0.62178663, 0.23587215]]]), 'sub_obj_slices': []}\n",
                                    "\n",
                                    " retrieving array slice of a single 3D array, TPS=1178.3626273165903, Sample/s = 196.39355051743186\n"
                              ]
                        }
                  ],
                  "source": [
                        "start = time.time()\n",
                        "for i in range(1000):\n",
                        "    result = bkc.get_object_data(\n",
                        "        obj_ids[0],\n",
                        "        region=[slice(0, 1), slice(0, 1), slice(0, 2, -1)],\n",
                        "    )\n",
                        "pprint(result)\n",
                        "print(\n",
                        "    \"\\n retrieving array slice of a single 3D array, TPS={}, Sample/s = {}\".format(\n",
                        "        1000 / (time.time() - start), (1000 / 6) / (time.time() - start)\n",
                        "    )\n",
                        ")"
                  ]
            },
            {
                  "cell_type": "code",
                  "execution_count": 86,
                  "id": "898c8bf4",
                  "metadata": {},
                  "outputs": [
                        {
                              "name": "stdout",
                              "output_type": "stream",
                              "text": [
                                    "{'array_slice': array([[[4.11020637e-01, 2.18721105e-01, 3.69594400e-02, 9.59146544e-01,\n",
                                    "         1.05358009e-01, 8.98254096e-02, 3.16815324e-01, 6.37150257e-01,\n",
                                    "         2.68074970e-01, 7.94732376e-01, 6.41883772e-01, 9.49951724e-01,\n",
                                    "         6.03958264e-01, 3.86807641e-04, 5.09058795e-01],\n",
                                    "        [6.14056118e-01, 8.67337888e-01, 9.13021354e-01, 5.70167740e-01,\n",
                                    "         7.38035429e-01, 1.11448307e-01, 7.73436528e-01, 8.79214469e-02,\n",
                                    "         6.39623762e-01, 1.21359554e-01, 9.07317290e-01, 4.96837274e-01,\n",
                                    "         1.18468512e-01, 5.70822556e-01, 7.36446395e-01],\n",
                                    "        [1.45528000e-01, 6.37055115e-01, 1.37736467e-01, 6.43862174e-02,\n",
                                    "         2.39138856e-01, 5.12645938e-01, 7.22607026e-01, 3.85778696e-01,\n",
                                    "         6.40691252e-01, 6.32739595e-02, 1.00037648e-01, 1.64276675e-01,\n",
                                    "         5.52927504e-01, 7.26349769e-04, 8.94497106e-01],\n",
                                    "        [8.47386126e-01, 2.77525059e-01, 4.56280115e-01, 7.82925607e-01,\n",
                                    "         5.22316034e-01, 2.58741240e-01, 4.34871298e-01, 6.81705701e-01,\n",
                                    "         2.92275474e-02, 6.58254155e-01, 9.09543619e-01, 7.25419581e-01,\n",
                                    "         2.21268700e-01, 2.44138164e-01, 4.02657869e-01],\n",
                                    "        [1.79367192e-03, 9.68626085e-01, 1.08637211e-01, 7.62644190e-01,\n",
                                    "         2.30604109e-01, 7.53092183e-01, 8.65388899e-01, 2.38419933e-01,\n",
                                    "         7.34192996e-01, 6.17622612e-01, 2.26993839e-01, 5.23624563e-01,\n",
                                    "         8.22658450e-01, 3.71992058e-01, 5.63091188e-01],\n",
                                    "        [1.29621199e-01, 9.80664263e-01, 2.24223710e-01, 6.70843418e-01,\n",
                                    "         1.72564145e-01, 2.87097025e-01, 7.79518002e-01, 3.78294387e-01,\n",
                                    "         4.60049706e-01, 8.15426923e-01, 9.03773657e-01, 5.47249358e-01,\n",
                                    "         8.76775341e-01, 2.01607660e-01, 3.32572385e-01],\n",
                                    "        [6.58924292e-01, 7.06525350e-01, 3.66664898e-01, 6.16845651e-01,\n",
                                    "         9.60898465e-01, 2.53456282e-01, 2.39904760e-01, 7.46824538e-01,\n",
                                    "         4.71335612e-01, 4.52336041e-01, 3.55866830e-01, 2.12751803e-03,\n",
                                    "         7.23608012e-01, 6.15335124e-01, 1.20780216e-01],\n",
                                    "        [4.19652292e-01, 6.54773876e-01, 5.08128875e-01, 2.52447470e-01,\n",
                                    "         1.58353410e-01, 4.30891072e-01, 5.99615480e-01, 4.07400964e-01,\n",
                                    "         8.21581904e-01, 3.62553055e-01, 7.38122487e-01, 1.49488363e-01,\n",
                                    "         8.45196154e-01, 5.96224686e-01, 9.80106659e-01],\n",
                                    "        [2.82336516e-01, 8.35323575e-01, 2.92691290e-01, 1.02392066e-01,\n",
                                    "         3.44036765e-01, 4.93521165e-01, 6.51054035e-01, 6.84765271e-01,\n",
                                    "         3.15018604e-01, 8.06008333e-01, 6.65510950e-01, 6.74968283e-01,\n",
                                    "         8.40551874e-01, 1.66049194e-01, 6.69984713e-01],\n",
                                    "        [8.75207497e-01, 9.33980869e-01, 7.40985945e-01, 1.01545034e-01,\n",
                                    "         5.86891735e-01, 8.82530231e-02, 5.21846439e-01, 7.60770864e-01,\n",
                                    "         6.99476152e-01, 9.17748452e-01, 8.02979757e-01, 1.88269173e-01,\n",
                                    "         1.92583772e-01, 2.10810357e-01, 1.71093140e-01],\n",
                                    "        [1.33605526e-01, 1.21371990e-01, 6.38051217e-01, 6.21047018e-01,\n",
                                    "         7.65888098e-01, 1.76900126e-01, 6.51105622e-01, 6.74347358e-01,\n",
                                    "         7.82837829e-01, 4.66379363e-01, 9.02558786e-02, 8.47503594e-02,\n",
                                    "         7.14922538e-01, 8.48778429e-01, 7.04606294e-01],\n",
                                    "        [6.19837134e-01, 6.14887384e-02, 4.21911124e-01, 6.37628882e-01,\n",
                                    "         8.60232785e-02, 8.94734794e-02, 8.47036385e-01, 2.11426998e-01,\n",
                                    "         6.16082060e-01, 2.24818638e-01, 9.98379002e-01, 2.06756168e-01,\n",
                                    "         5.59883103e-02, 1.73956495e-01, 3.95549245e-01],\n",
                                    "        [6.09491510e-01, 3.92094240e-01, 9.92624770e-01, 3.66164837e-01,\n",
                                    "         9.93673034e-01, 4.89486864e-01, 6.49375167e-01, 9.86126241e-01,\n",
                                    "         7.17328652e-01, 1.71046226e-01, 6.42401732e-02, 1.43518589e-01,\n",
                                    "         8.38331281e-01, 7.50496267e-01, 3.38981367e-01],\n",
                                    "        [9.77275453e-01, 6.42135949e-02, 7.02437594e-02, 2.02606652e-01,\n",
                                    "         8.23864759e-01, 6.01605289e-01, 5.87764508e-01, 2.78306704e-01,\n",
                                    "         2.12002483e-01, 8.86815896e-01, 3.66852527e-01, 6.79435106e-01,\n",
                                    "         5.84096647e-01, 5.47852176e-01, 4.94176716e-01],\n",
                                    "        [1.86020535e-01, 9.06495625e-01, 5.79603174e-01, 2.30365702e-01,\n",
                                    "         2.34958067e-01, 9.45487627e-01, 7.97909217e-02, 7.46542928e-01,\n",
                                    "         1.38572937e-01, 2.32153125e-01, 5.64158817e-01, 5.35222156e-02,\n",
                                    "         4.71545185e-01, 1.73077281e-01, 5.76596870e-01]],\n",
                                    "\n",
                                    "       [[1.17380911e-01, 2.87362790e-01, 5.46027025e-01, 1.75943229e-01,\n",
                                    "         3.59332035e-03, 2.29260097e-02, 3.39345241e-01, 7.28227540e-02,\n",
                                    "         6.01100217e-01, 6.48607233e-01, 3.03994485e-01, 3.86814692e-01,\n",
                                    "         5.91784594e-01, 3.19695775e-01, 5.14444207e-01],\n",
                                    "        [6.27156651e-01, 2.40711147e-01, 6.44008645e-01, 3.01259135e-02,\n",
                                    "         7.20426976e-01, 7.04090763e-01, 2.65043226e-01, 5.83128539e-01,\n",
                                    "         2.02149594e-01, 3.60156081e-01, 2.34011379e-01, 1.17646608e-01,\n",
                                    "         4.21946806e-01, 4.41845400e-01, 9.38636679e-01],\n",
                                    "        [2.54113931e-01, 9.37940359e-01, 7.96969837e-01, 5.15321824e-02,\n",
                                    "         8.42435485e-01, 5.62282470e-01, 7.59163904e-01, 5.27780201e-01,\n",
                                    "         4.84754767e-01, 7.91065683e-01, 9.22688957e-01, 4.12849672e-01,\n",
                                    "         7.42156769e-02, 3.44135448e-01, 7.43098165e-03],\n",
                                    "        [7.56591325e-01, 7.98933257e-01, 6.90343596e-01, 4.33871385e-01,\n",
                                    "         7.13803213e-01, 4.92085004e-01, 1.28317448e-02, 6.84059426e-01,\n",
                                    "         9.49088722e-01, 3.42958725e-01, 9.93438991e-02, 5.39456065e-01,\n",
                                    "         5.28167929e-01, 1.10089037e-01, 7.21068608e-01],\n",
                                    "        [5.87094366e-01, 4.61235084e-01, 5.38364138e-01, 1.30497056e-01,\n",
                                    "         7.57356703e-01, 2.82359110e-01, 6.04631215e-01, 7.43094061e-01,\n",
                                    "         4.97473087e-02, 2.87066399e-01, 1.19031783e-01, 1.84241620e-02,\n",
                                    "         5.55279381e-01, 2.12688623e-01, 9.85031751e-01],\n",
                                    "        [6.73489331e-01, 6.85927042e-02, 3.62339596e-01, 7.74687552e-01,\n",
                                    "         2.86221402e-01, 3.53749843e-01, 4.65371991e-01, 1.14773763e-01,\n",
                                    "         6.94276172e-01, 9.32817371e-01, 9.51464270e-01, 8.33495682e-01,\n",
                                    "         4.40392736e-01, 9.73101330e-01, 5.53973625e-01],\n",
                                    "        [6.18254181e-01, 5.13729999e-01, 2.05196495e-01, 8.68551468e-01,\n",
                                    "         2.75061970e-01, 6.74037420e-01, 5.69776430e-01, 1.95151588e-03,\n",
                                    "         4.27885976e-01, 4.92631325e-01, 3.14561790e-01, 2.28672594e-01,\n",
                                    "         5.73844249e-02, 2.64910796e-01, 1.00883023e-01],\n",
                                    "        [4.24777865e-01, 2.87861808e-01, 7.98737930e-01, 6.05033640e-02,\n",
                                    "         4.68032967e-01, 8.72313745e-01, 1.77571199e-01, 9.45740201e-01,\n",
                                    "         7.08806996e-01, 4.79675389e-01, 9.82103900e-01, 6.83167659e-01,\n",
                                    "         4.70497361e-01, 7.04938573e-01, 5.06784425e-01],\n",
                                    "        [7.29051350e-02, 5.00283099e-01, 9.50916259e-01, 1.28219146e-01,\n",
                                    "         6.01631157e-01, 6.89581167e-01, 5.57708077e-01, 3.36339017e-01,\n",
                                    "         1.19990137e-01, 9.56441831e-01, 5.06568391e-02, 9.16729775e-01,\n",
                                    "         9.58358019e-01, 4.40815153e-02, 8.33116597e-02],\n",
                                    "        [8.74015526e-01, 1.64571474e-01, 9.90955764e-01, 2.96145547e-01,\n",
                                    "         3.30771664e-01, 5.45257659e-01, 5.18998284e-01, 8.64964254e-01,\n",
                                    "         8.13635010e-01, 2.35784892e-01, 6.07572025e-01, 4.97968264e-01,\n",
                                    "         9.58173708e-01, 2.47423587e-01, 8.90956203e-01],\n",
                                    "        [6.77113744e-01, 2.24026101e-01, 5.19750681e-01, 8.01955055e-01,\n",
                                    "         3.50142013e-01, 3.71853336e-01, 8.26652229e-01, 8.77010510e-01,\n",
                                    "         5.43846245e-01, 9.78442849e-01, 7.87233041e-01, 4.92200010e-01,\n",
                                    "         7.55951992e-01, 2.50864154e-01, 4.73010430e-01],\n",
                                    "        [5.54248954e-01, 9.59202296e-01, 4.74314812e-02, 2.47122770e-01,\n",
                                    "         7.25659581e-01, 2.06673308e-01, 7.51318343e-01, 4.49161656e-01,\n",
                                    "         8.13807618e-01, 8.64018799e-01, 4.23558002e-02, 2.05947979e-01,\n",
                                    "         5.52125845e-01, 9.08602182e-01, 9.80388942e-01],\n",
                                    "        [7.73114011e-01, 5.69371005e-01, 6.19727135e-01, 1.90122509e-01,\n",
                                    "         4.56806431e-01, 6.75787181e-02, 6.66575423e-01, 3.07651871e-01,\n",
                                    "         4.07440984e-01, 1.77914720e-01, 2.89625455e-01, 4.71948458e-01,\n",
                                    "         9.28163982e-01, 4.22658637e-01, 2.18419868e-01],\n",
                                    "        [2.95654757e-01, 6.70471602e-01, 9.64860305e-01, 5.41108001e-01,\n",
                                    "         9.13337926e-01, 3.45234945e-01, 8.97439614e-01, 9.36563751e-01,\n",
                                    "         1.65220766e-01, 6.12567656e-01, 2.70199366e-01, 6.32831451e-02,\n",
                                    "         9.96371807e-01, 4.50736690e-01, 9.64229881e-01],\n",
                                    "        [8.45699995e-01, 3.37215867e-01, 8.62596192e-01, 3.13300216e-02,\n",
                                    "         5.71333842e-01, 6.01579908e-01, 1.98959100e-01, 9.50294636e-01,\n",
                                    "         1.43977051e-01, 2.99699553e-01, 1.47569047e-01, 5.45201684e-03,\n",
                                    "         1.07391324e-01, 6.73158693e-01, 2.73067451e-01]]]),\n",
                                    " 'sub_obj_slices': []}\n",
                                    "\n",
                                    " retrieving array slice of a single 3D array, TPS=539.6916774740863, Sample/s = 89.94855504281017\n"
                              ]
                        }
                  ],
                  "source": [
                        "start = time.time()\n",
                        "for i in range(1000):\n",
                        "    result = bkc.get_object_data(\n",
                        "        obj_ids[0],\n",
                        "        region=[\n",
                        "            slice(12, 14, None),\n",
                        "            slice(None),\n",
                        "            slice(None),\n",
                        "        ],\n",
                        "    )\n",
                        "pprint(result)\n",
                        "print(\n",
                        "    \"\\n retrieving array slice of a single 3D array, TPS={}, Sample/s = {}\".format(\n",
                        "        1000 / (time.time() - start), (1000 / 6) / (time.time() - start)\n",
                        "    )\n",
                        ")"
                  ]
            },
            {
                  "cell_type": "markdown",
                  "id": "1a5018d9-e2c1-4662-ac5e-76eeb82543c7",
                  "metadata": {},
                  "source": [
                        "### Retrieving array slices of multiple sub-objects (Large subarray included)"
                  ]
            },
            {
                  "cell_type": "code",
                  "execution_count": 87,
                  "id": "047c806e-0851-4f76-8d50-e11516176639",
                  "metadata": {
                        "execution": {
                              "iopub.execute_input": "2025-02-28T18:51:31.199303Z",
                              "iopub.status.busy": "2025-02-28T18:51:31.198773Z",
                              "iopub.status.idle": "2025-02-28T18:51:31.223875Z",
                              "shell.execute_reply": "2025-02-28T18:51:31.223029Z",
                              "shell.execute_reply.started": "2025-02-28T18:51:31.199269Z"
                        }
                  },
                  "outputs": [
                        {
                              "name": "stdout",
                              "output_type": "stream",
                              "text": [
                                    "{'array_slice': array([[[0.62178663, 0.23587215],\n",
                                    "        [0.90618947, 0.09865762]]]),\n",
                                    " 'sub_obj_slices': [{'array': array([[[[[0.73188135, 1.6159072 ],\n",
                                    "          [0.89603029, 0.74646225]]]]]),\n",
                                    "                     'id': 32120029897713446287569814150339877,\n",
                                    "                     'name': '198490/arr5'},\n",
                                    "                    {'array': array([[[[[0.18758013, 0.32419016]]]],\n",
                                    "\n",
                                    "\n",
                                    "\n",
                                    "       [[[[1.32016946, 1.0047341 ]]]]]),\n",
                                    "                     'id': 32120029897713593861522408121720101,\n",
                                    "                     'name': '198490/arr4'},\n",
                                    "                    {'array': array([[[0.42087656, 0.24204213, 0.08845965, 0.97736116, 0.62178663],\n",
                                    "        [0.92967152, 0.66895578, 0.22977314, 0.44410789, 0.90618947]]]),\n",
                                    "                     'id': 32120029897723370635881478479043877,\n",
                                    "                     'name': '198490/arr3'},\n",
                                    "                    {'array': array([[[[[1.46376271, 3.23181439],\n",
                                    "          [1.79206058, 1.49292449]]]]]),\n",
                                    "                     'id': 32120029897713206479896851631201573,\n",
                                    "                     'name': '198490/arr6'}]}\n",
                                    "\n",
                                    " retrieving array slice of a single 3D array, TPS=433.68295668861464, Sample/s=650.5241659811377\n"
                              ]
                        }
                  ],
                  "source": [
                        "start = time.time()\n",
                        "for i in range(1000):\n",
                        "    result = bkc.get_object_data(\n",
                        "        obj_ids[0],\n",
                        "        region=[slice(0, 1), slice(0, 2), slice(0, 2, -1)],\n",
                        "        sub_obj_regions=[\n",
                        "            (\n",
                        "                \"{}/arr5\".format(name_id),\n",
                        "                [slice(0, 1), slice(0, 1), slice(0, 1), slice(0, 2), slice(0, 2, -1)],\n",
                        "            ),\n",
                        "            (\n",
                        "                \"{}/arr4\".format(name_id),\n",
                        "                [\n",
                        "                    slice(0, 2, -1),\n",
                        "                    slice(0, 1),\n",
                        "                    slice(0, 1),\n",
                        "                    slice(0, 1),\n",
                        "                    slice(0, 2, -1),\n",
                        "                ],\n",
                        "            ),\n",
                        "            (\n",
                        "                \"{}/arr3\".format(name_id),\n",
                        "                [slice(0, 1), slice(0, 2), slice(0, 10, -2)],\n",
                        "            ),\n",
                        "            (\n",
                        "                \"{}/arr6\".format(name_id),\n",
                        "                [slice(0, 1), slice(0, 1), slice(0, 1), slice(0, 2), slice(0, 2, -1)],\n",
                        "            ),\n",
                        "        ],\n",
                        "    )\n",
                        "pprint(result)\n",
                        "print(\n",
                        "    \"\\n retrieving array slice of a single 3D array, TPS={}, Sample/s={}\".format(\n",
                        "        1000 / (time.time() - start), (1000 / (4 / 6)) / (time.time() - start)\n",
                        "    )\n",
                        ")"
                  ]
            },
            {
                  "cell_type": "markdown",
                  "id": "6eb6151e-4cdf-433a-a19c-e557a7f5bb4e",
                  "metadata": {},
                  "source": [
                        "### Retrieving slices of multiple objects (only GNN arrays)"
                  ]
            },
            {
                  "cell_type": "code",
                  "execution_count": 90,
                  "id": "9b9d4283-2046-4a1a-aae4-7256368a7d7d",
                  "metadata": {
                        "execution": {
                              "iopub.execute_input": "2025-02-28T18:51:24.146014Z",
                              "iopub.status.busy": "2025-02-28T18:51:24.145462Z",
                              "iopub.status.idle": "2025-02-28T18:51:24.169561Z",
                              "shell.execute_reply": "2025-02-28T18:51:24.168797Z",
                              "shell.execute_reply.started": "2025-02-28T18:51:24.145975Z"
                        }
                  },
                  "outputs": [
                        {
                              "name": "stdout",
                              "output_type": "stream",
                              "text": [
                                    "{'array_slice': None,\n",
                                    " 'sub_obj_slices': [{'array': array([[0.02016286],\n",
                                    "       [0.36533791],\n",
                                    "       [0.42570238],\n",
                                    "       [0.49772483],\n",
                                    "       [0.06137669],\n",
                                    "       [0.96256167],\n",
                                    "       [0.38264972],\n",
                                    "       [0.02212991],\n",
                                    "       [0.82519936],\n",
                                    "       [0.52947522],\n",
                                    "       [0.28570145],\n",
                                    "       [0.36036936],\n",
                                    "       [0.46524358],\n",
                                    "       [0.45217778],\n",
                                    "       [0.57512953],\n",
                                    "       [0.93579813],\n",
                                    "       [0.48243052],\n",
                                    "       [0.49472767],\n",
                                    "       [0.60397132],\n",
                                    "       [0.73038836]]),\n",
                                    "                     'id': 32120029897723536656578146159975717,\n",
                                    "                     'name': '198490/gnn_arr1'},\n",
                                    "                    {'array': array([[0.52947522],\n",
                                    "       [0.82519936],\n",
                                    "       [0.02212991],\n",
                                    "       [0.38264972],\n",
                                    "       [0.96256167],\n",
                                    "       [0.06137669],\n",
                                    "       [0.49772483],\n",
                                    "       [0.42570238],\n",
                                    "       [0.36533791],\n",
                                    "       [0.02016286]]),\n",
                                    "                     'id': 32120029897723536656578146159975717,\n",
                                    "                     'name': '198490/gnn_arr1'},\n",
                                    "                    {'array': array([[0.57512953, 0.43494299],\n",
                                    "       [0.45217778, 0.74705795],\n",
                                    "       [0.46524358, 0.89390778],\n",
                                    "       [0.36036936, 0.7642082 ],\n",
                                    "       [0.28570145, 0.96862832],\n",
                                    "       [0.52947522, 0.19514473],\n",
                                    "       [0.82519936, 0.65787584],\n",
                                    "       [0.02212991, 0.74175878],\n",
                                    "       [0.38264972, 0.75391447],\n",
                                    "       [0.96256167, 0.82862002],\n",
                                    "       [0.06137669, 0.35371296],\n",
                                    "       [0.49772483, 0.18354999],\n",
                                    "       [0.42570238, 0.30710279],\n",
                                    "       [0.36533791, 0.42290351],\n",
                                    "       [0.02016286, 0.05028724]]),\n",
                                    "                     'id': 32120029897723536656578146159975717,\n",
                                    "                     'name': '198490/gnn_arr1'},\n",
                                    "                    {'array': array([[0.62485208, 0.9614236 , 0.60419284, 0.07971875, 0.74704165,\n",
                                    "        0.74120327, 0.87990429, 0.27012729, 0.27225668, 0.954191  ,\n",
                                    "        0.22878717, 0.82282632, 0.08941815, 0.22611322, 0.94446898,\n",
                                    "        0.25145119, 0.80095038, 0.91389834, 0.65248978, 0.53567413]]),\n",
                                    "                     'id': 32120029897725658032146627053378853,\n",
                                    "                     'name': '198490/gnn_arr2'},\n",
                                    "                    {'array': array([[0.62485208, 0.9614236 , 0.60419284, 0.07971875, 0.74704165,\n",
                                    "        0.74120327, 0.87990429, 0.27012729, 0.27225668, 0.954191  ,\n",
                                    "        0.22878717, 0.82282632, 0.08941815, 0.22611322, 0.94446898,\n",
                                    "        0.25145119, 0.80095038, 0.91389834, 0.65248978, 0.53567413]]),\n",
                                    "                     'id': 32120029897725658032146627053378853,\n",
                                    "                     'name': '198490/gnn_arr2'},\n",
                                    "                    {'array': array([[0.62485208, 0.9614236 , 0.60419284, 0.07971875, 0.74704165,\n",
                                    "        0.74120327, 0.87990429, 0.27012729, 0.27225668, 0.954191  ,\n",
                                    "        0.22878717, 0.82282632, 0.08941815, 0.22611322, 0.94446898,\n",
                                    "        0.25145119, 0.80095038, 0.91389834, 0.65248978, 0.53567413]]),\n",
                                    "                     'id': 32120029897725658032146627053378853,\n",
                                    "                     'name': '198490/gnn_arr2'}]}\n",
                                    "\n",
                                    " retrieving array slice of a single 3D array, TPS=368.99456269527735, Sample/s=368.99443284590126\n"
                              ]
                        }
                  ],
                  "source": [
                        "start = time.time()\n",
                        "for i in range(1000):\n",
                        "    result = bkc.get_object_data(\n",
                        "        obj_ids[0],\n",
                        "        region=None,\n",
                        "        sub_obj_regions=[\n",
                        "            (\n",
                        "                \"{}/gnn_arr1\".format(name_id),\n",
                        "                [slice(0, 20), slice(0, 1)],\n",
                        "            ),\n",
                        "            (\n",
                        "                \"{}/gnn_arr1\".format(name_id),\n",
                        "                [\n",
                        "                    slice(0, 10, -1),\n",
                        "                    slice(0, 1),\n",
                        "                ],\n",
                        "            ),\n",
                        "            (\n",
                        "                \"{}/gnn_arr1\".format(name_id),\n",
                        "                [\n",
                        "                    slice(0, 15, -1),\n",
                        "                    slice(0, 2),\n",
                        "                ],\n",
                        "            ),\n",
                        "            (\n",
                        "                \"{}/gnn_arr2\".format(name_id),\n",
                        "                [\n",
                        "                    slice(0, 1),\n",
                        "                    slice(0, 20, -1),\n",
                        "                ],\n",
                        "            ),\n",
                        "            (\n",
                        "                \"{}/gnn_arr2\".format(name_id),\n",
                        "                [\n",
                        "                    slice(0, 1),\n",
                        "                    slice(0, 20, -1),\n",
                        "                ],\n",
                        "            ),\n",
                        "            (\n",
                        "                \"{}/gnn_arr2\".format(name_id),\n",
                        "                [\n",
                        "                    slice(0, 1),\n",
                        "                    slice(0, 20, -1),\n",
                        "                ],\n",
                        "            ),\n",
                        "        ],\n",
                        "    )\n",
                        "pprint(result)\n",
                        "print(\n",
                        "    \"\\n retrieving array slice of a single 3D array, TPS={}, Sample/s={}\".format(\n",
                        "        1000 / (time.time() - start), (1000) / (time.time() - start)\n",
                        "    )\n",
                        ")"
                  ]
            },
            {
                  "cell_type": "code",
                  "execution_count": null,
                  "id": "8c55f852-6d95-4cb4-92e9-49440cb8e013",
                  "metadata": {},
                  "outputs": [],
                  "source": []
            },
            {
                  "cell_type": "markdown",
                  "id": "4a5b5176-c08f-497f-9069-f1a79bfa0925",
                  "metadata": {},
                  "source": [
                        "## Closing the Store"
                  ]
            },
            {
                  "cell_type": "code",
                  "execution_count": 89,
                  "id": "271fefa9-b496-4eef-84ab-d8c23ac94362",
                  "metadata": {
                        "execution": {
                              "iopub.execute_input": "2025-02-28T05:41:57.714524Z",
                              "iopub.status.busy": "2025-02-28T05:41:57.714414Z",
                              "iopub.status.idle": "2025-02-28T05:41:57.716271Z",
                              "shell.execute_reply": "2025-02-28T05:41:57.715950Z",
                              "shell.execute_reply.started": "2025-02-28T05:41:57.714510Z"
                        }
                  },
                  "outputs": [],
                  "source": [
                        "# server_process.terminate()\n",
                        "# server_process.wait()\n",
                        "# print(\"Server process terminated.\")"
                  ]
            },
            {
                  "cell_type": "code",
                  "execution_count": null,
                  "id": "b843f7a2-0403-41e4-bc38-1abbbac90df5",
                  "metadata": {},
                  "outputs": [],
                  "source": []
            }
      ],
      "metadata": {
            "kernelspec": {
                  "display_name": "Python (base)",
                  "language": "python",
                  "name": "base"
            },
            "language_info": {
                  "codemirror_mode": {
                        "name": "ipython",
                        "version": 3
                  },
                  "file_extension": ".py",
                  "mimetype": "text/x-python",
                  "name": "python",
                  "nbconvert_exporter": "python",
                  "pygments_lexer": "ipython3",
                  "version": "3.12.2"
            }
      },
      "nbformat": 4,
      "nbformat_minor": 5
}